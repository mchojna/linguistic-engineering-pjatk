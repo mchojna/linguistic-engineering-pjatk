{
 "cells": [
  {
   "cell_type": "markdown",
   "metadata": {
    "id": "32s2BT904GEe"
   },
   "source": [
    "# Ćwiczenia 2\n",
    "\n",
    "Ponownie zaimportuj pakiet nltk (natural language toolkit)\n",
    "\n",
    "\n",
    "\n"
   ]
  },
  {
   "cell_type": "code",
   "execution_count": 2,
   "metadata": {
    "id": "3aqFlDVd4OLl"
   },
   "outputs": [
    {
     "name": "stderr",
     "output_type": "stream",
     "text": [
      "[nltk_data] Downloading package punkt to /Users/mchojna/nltk_data...\n",
      "[nltk_data]   Package punkt is already up-to-date!\n",
      "[nltk_data] Error loading stop: Package 'stop' not found in index\n",
      "[nltk_data] Downloading package stopwords to\n",
      "[nltk_data]     /Users/mchojna/nltk_data...\n",
      "[nltk_data]   Package stopwords is already up-to-date!\n"
     ]
    },
    {
     "data": {
      "text/plain": [
       "True"
      ]
     },
     "execution_count": 2,
     "metadata": {},
     "output_type": "execute_result"
    }
   ],
   "source": [
    "#pip install nltk\n",
    "#w colabie zbędne\n",
    "import nltk\n",
    "# nltk.download() \n",
    "nltk.download('punkt')\n",
    "nltk.download('stop')\n",
    "nltk.download('stopwords')"
   ]
  },
  {
   "cell_type": "markdown",
   "metadata": {
    "id": "m22byVdnsMQZ"
   },
   "source": [
    "# Tokenizacja na większe części\n",
    "\n",
    "Teraz podzielmy tekst na zdania.\n",
    "\n",
    "Każdy pakiet ma zaszyty sposób podziału, na przykład to czy kropka wchodzi w zdanie czy nie, czy spacja przed czy po, a może w ogóle bez.\n",
    "\n",
    "Te decyzje wydaja się błahe ale niewłaściwy podział może bardzo przeszkadzać w  dalszej pracy z tekstem"
   ]
  },
  {
   "cell_type": "code",
   "execution_count": 3,
   "metadata": {
    "colab": {
     "base_uri": "https://localhost:8080/"
    },
    "id": "1P6Tzi-8sSZc",
    "outputId": "52a224f4-7a96-4474-b386-48d17198abf3"
   },
   "outputs": [
    {
     "name": "stdout",
     "output_type": "stream",
     "text": [
      "Podział na zdania prezentuje się tak:\n"
     ]
    },
    {
     "data": {
      "text/plain": [
       "['Teraz potrzebuję wiecej niż jedno zdanie.',\n",
       " 'Na przykład dwa.',\n",
       " 'Albo jeszcze lepiej trzy!']"
      ]
     },
     "execution_count": 3,
     "metadata": {},
     "output_type": "execute_result"
    }
   ],
   "source": [
    "text_zdania=(\"Teraz potrzebuję wiecej niż jedno zdanie. Na przykład dwa. Albo jeszcze lepiej trzy!\")\n",
    "print(\"Podział na zdania prezentuje się tak:\")\n",
    "nltk.sent_tokenize(text_zdania)"
   ]
  },
  {
   "cell_type": "markdown",
   "metadata": {
    "id": "bvQlo_Pgsrl0"
   },
   "source": [
    "# Zadanie 1\n",
    "> 'Łazik NASA Curiosity zarejestrował na Marsie zjawisko wiru pyłowego, zwane też \"diabłem pyłowym\". Wir, który udało się nagrać jest półprzezroczysty, jednak dobrze widoczny w kamerze łazika, badającego krater Gale. Zjawisko powstaje nad suchym obszarem w wyniku silnej konwekcji. Jest częste na Ziemi, tworzy się także na Marsie. Półkula południowa Czerwonej Planety nagrzewa się, szykując na marsjańskie lato. To prowadzi właśnie do konwekcji i wirów. Silne diabły są w stanie wysoko wnosić kurz i piach, tworząc potężne wiry pyłowe. Na Marsie są one jednak krótkotrwałe i dość ograniczone w obserwacji. Pierwszy raz to zjawisko na Czerwonej Planecie odkryto w latach 70. XX w., w trakcie misji sond Viking.'\n",
    "\n",
    "* Tekst podzielić na zdania. \n",
    "\n",
    "* Policzyć wyrazy w kazdym zdaniu\n",
    "\n",
    "* Wyświetlić najkrótsze i najdłuższe zdanie\n",
    "\n",
    "* Porównać wynik przed i po eliminacji stopwordsów (można uzyc dowolnej listy) oraz po usunięciu interpunkcji"
   ]
  },
  {
   "cell_type": "markdown",
   "metadata": {},
   "source": [
    "## Zadanie 1\n"
   ]
  },
  {
   "cell_type": "code",
   "execution_count": 4,
   "metadata": {
    "id": "2rUMFXcJuaPy"
   },
   "outputs": [],
   "source": [
    "#kod do zadania 1\n",
    "text = 'Łazik NASA Curiosity zarejestrował na Marsie zjawisko wiru pyłowego, zwane też \"diabłem pyłowym\". Wir, który udało się nagrać jest półprzezroczysty, jednak dobrze widoczny w kamerze łazika, badającego krater Gale. Zjawisko powstaje nad suchym obszarem w wyniku silnej konwekcji. Jest częste na Ziemi, tworzy się także na Marsie. Półkula południowa Czerwonej Planety nagrzewa się, szykując na marsjańskie lato. To prowadzi właśnie do konwekcji i wirów. Silne diabły są w stanie wysoko wnosić kurz i piach, tworząc potężne wiry pyłowe. Na Marsie są one jednak krótkotrwałe i dość ograniczone w obserwacji. Pierwszy raz to zjawisko na Czerwonej Planecie odkryto w latach 70. XX w., w trakcie misji sond Viking.'"
   ]
  },
  {
   "cell_type": "markdown",
   "metadata": {},
   "source": [
    "### Zadanie 1.1"
   ]
  },
  {
   "cell_type": "code",
   "execution_count": 5,
   "metadata": {},
   "outputs": [
    {
     "data": {
      "text/plain": [
       "['Łazik NASA Curiosity zarejestrował na Marsie zjawisko wiru pyłowego, zwane też \"diabłem pyłowym\".',\n",
       " 'Wir, który udało się nagrać jest półprzezroczysty, jednak dobrze widoczny w kamerze łazika, badającego krater Gale.',\n",
       " 'Zjawisko powstaje nad suchym obszarem w wyniku silnej konwekcji.',\n",
       " 'Jest częste na Ziemi, tworzy się także na Marsie.',\n",
       " 'Półkula południowa Czerwonej Planety nagrzewa się, szykując na marsjańskie lato.',\n",
       " 'To prowadzi właśnie do konwekcji i wirów.',\n",
       " 'Silne diabły są w stanie wysoko wnosić kurz i piach, tworząc potężne wiry pyłowe.',\n",
       " 'Na Marsie są one jednak krótkotrwałe i dość ograniczone w obserwacji.',\n",
       " 'Pierwszy raz to zjawisko na Czerwonej Planecie odkryto w latach 70.',\n",
       " 'XX w., w trakcie misji sond Viking.']"
      ]
     },
     "execution_count": 5,
     "metadata": {},
     "output_type": "execute_result"
    }
   ],
   "source": [
    "nltk.sent_tokenize(text)"
   ]
  },
  {
   "cell_type": "markdown",
   "metadata": {},
   "source": [
    "### Zadanie 1.2"
   ]
  },
  {
   "cell_type": "code",
   "execution_count": 6,
   "metadata": {},
   "outputs": [
    {
     "data": {
      "text/plain": [
       "[13, 16, 9, 9, 10, 7, 14, 11, 11, 7]"
      ]
     },
     "execution_count": 6,
     "metadata": {},
     "output_type": "execute_result"
    }
   ],
   "source": [
    "[len(sentence.split(\" \")) for sentence in nltk.sent_tokenize(text)]"
   ]
  },
  {
   "cell_type": "markdown",
   "metadata": {},
   "source": [
    "### Zadanie 1.3"
   ]
  },
  {
   "cell_type": "code",
   "execution_count": 7,
   "metadata": {},
   "outputs": [
    {
     "name": "stdout",
     "output_type": "stream",
     "text": [
      "Łazik NASA Curiosity zarejestrował na Marsie zjawisko wiru pyłowego, zwane też \"diabłem pyłowym\".\n",
      "Jest częste na Ziemi, tworzy się także na Marsie.\n"
     ]
    }
   ],
   "source": [
    "print(max(nltk.sent_tokenize(text)))\n",
    "print(min(nltk.sent_tokenize(text)))"
   ]
  },
  {
   "cell_type": "markdown",
   "metadata": {},
   "source": [
    "### Zadanie 1.4"
   ]
  },
  {
   "cell_type": "code",
   "execution_count": 8,
   "metadata": {},
   "outputs": [],
   "source": [
    "old_tokens = nltk.sent_tokenize(text)"
   ]
  },
  {
   "cell_type": "code",
   "execution_count": 9,
   "metadata": {},
   "outputs": [],
   "source": [
    "stop = [\n",
    "    \"a\", \"aby\", \"ach\", \"acz\", \"aczkolwiek\", \"aj\", \"albo\", \"ale\", \"ależ\", \"ani\", \"aż\", \"bardziej\", \"bardzo\",\n",
    "    \"bez\", \"bo\", \"bowiem\", \"by\", \"byli\", \"bynajmniej\", \"być\", \"był\", \"była\", \"było\", \"były\",\n",
    "    \"będzie\", \"będą\", \"cali\", \"cała\", \"cały\", \"ci\", \"cię\", \"ciebie\", \"co\", \"cokolwiek\", \"coś\", \"czasami\", \"czasem\",\n",
    "    \"czemu\", \"czy\", \"czyli\", \"daleko\", \"dla\", \"dlaczego\", \"dlatego\", \"do\", \"dobrze\", \"dokąd\", \"dość\",\n",
    "    \"dużo\", \"dwa\", \"dwaj\", \"dwie\", \"dwoje\", \"dzisiaj\", \"dziś\", \"gdy\", \"gdyby\", \"gdyż\", \"gdzie\", \"gdziekolwiek\",\n",
    "    \"gdzieś\", \"go\", \"i\", \"ich\", \"ile\", \"im\", \"inna\", \"inne\", \"inny\", \"innych\", \"iż\", \"ja\", \"ją\", \"jak\", \"jakby\",\n",
    "    \"jaki\", \"jakichś\", \"jakie\", \"jakiś\", \"jakiż\", \"jakkolwiek\", \"jako\", \"jakże\", \"je\", \"jeden\", \"jedna\", \"jednak\",\n",
    "    \"jednakże\", \"jedno\", \"jego\", \"jej\", \"jemu\", \"jest\", \"jestem\", \"jeszcze\", \"jeśli\", \"jeżeli\", \"już\", \"kiedy\",\n",
    "    \"kilka\", \"kimś\", \"kto\", \"ktokolwiek\", \"ktoś\", \"która\", \"które\", \"którego\", \"której\", \"który\", \"których\",\n",
    "    \"którym\", \"którymi\", \"któż\", \"ku\", \"lat\", \"lecz\", \"lub\", \"ma\", \"mają\", \"mam\", \"mi\", \"mimo\", \"mnie\", \"mogą\",\n",
    "    \"moim\", \"może\", \"możliwe\", \"mu\", \"na\", \"nad\", \"nam\", \"nami\", \"nas\", \"nasi\", \"nasz\", \"nasza\", \"nasze\",\n",
    "    \"naszego\", \"naszych\", \"natomiast\", \"nawet\", \"nią\", \"nic\", \"nich\", \"nie\", \"niech\", \"niego\", \"niej\", \"niemu\",\n",
    "    \"nigdy\", \"nim\", \"nimi\", \"niż\", \"no\", \"o\", \"obok\", \"od\", \"około\", \"on\", \"ona\", \"one\", \"oni\", \"ono\", \"oraz\",\n",
    "    \"oto\", \"owszem\", \"pan\", \"pana\", \"pani\", \"po\", \"pod\", \"podczas\", \"pomimo\", \"ponieważ\", \"ponownie\", \"poprzez\",\n",
    "    \"poza\", \"prawie\", \"przecież\", \"przed\", \"przede\", \"przedtem\", \"przez\", \"przy\", \"roku\", \"również\", \"sam\",\n",
    "    \"sama\", \"są\", \"się\", \"skąd\", \"sobie\", \"sposób\", \"swoje\", \"ta\", \"tak\", \"taka\", \"taki\", \"takich\", \"takie\",\n",
    "    \"także\", \"tam\", \"te\", \"tego\", \"tej\", \"ten\", \"teraz\", \"też\", \"to\", \"tobą\", \"tobie\", \"toteż\", \"trzeba\",\n",
    "    \"tu\", \"tutaj\", \"twoim\", \"twój\", \"twym\", \"ty\", \"tych\", \"tylko\", \"tym\", \"u\", \"w\", \"we\", \"więc\", \"więcej\",\n",
    "    \"wszyscy\", \"wszystkich\", \"wszystkie\", \"wszystkim\", \"wszystko\", \"wtedy\", \"www\", \"za\", \"zawsze\", \"ze\", \"zł\",\n",
    "    \"znowu\", \"znów\", \"został\", \"żaden\", \"żadna\", \"żadne\", \"żadnych\", \"że\", \"żeby\"\n",
    "]\n",
    "new_text = \" \".join([word for word in text.split(\" \") if word.lower() not in stop])"
   ]
  },
  {
   "cell_type": "code",
   "execution_count": 10,
   "metadata": {},
   "outputs": [],
   "source": [
    "new_tokens = nltk.sent_tokenize(new_text)"
   ]
  },
  {
   "cell_type": "code",
   "execution_count": 11,
   "metadata": {},
   "outputs": [
    {
     "name": "stdout",
     "output_type": "stream",
     "text": [
      "['Łazik NASA Curiosity zarejestrował na Marsie zjawisko wiru pyłowego, zwane też \"diabłem pyłowym\".', 'Wir, który udało się nagrać jest półprzezroczysty, jednak dobrze widoczny w kamerze łazika, badającego krater Gale.', 'Zjawisko powstaje nad suchym obszarem w wyniku silnej konwekcji.', 'Jest częste na Ziemi, tworzy się także na Marsie.', 'Półkula południowa Czerwonej Planety nagrzewa się, szykując na marsjańskie lato.', 'To prowadzi właśnie do konwekcji i wirów.', 'Silne diabły są w stanie wysoko wnosić kurz i piach, tworząc potężne wiry pyłowe.', 'Na Marsie są one jednak krótkotrwałe i dość ograniczone w obserwacji.', 'Pierwszy raz to zjawisko na Czerwonej Planecie odkryto w latach 70.', 'XX w., w trakcie misji sond Viking.']\n",
      "['Łazik NASA Curiosity zarejestrował Marsie zjawisko wiru pyłowego, zwane \"diabłem pyłowym\".', 'Wir, udało nagrać półprzezroczysty, widoczny kamerze łazika, badającego krater Gale.', 'Zjawisko powstaje suchym obszarem wyniku silnej konwekcji.', 'częste Ziemi, tworzy Marsie.', 'Półkula południowa Czerwonej Planety nagrzewa się, szykując marsjańskie lato.', 'prowadzi właśnie konwekcji wirów.', 'Silne diabły stanie wysoko wnosić kurz piach, tworząc potężne wiry pyłowe.', 'Marsie krótkotrwałe ograniczone obserwacji.', 'Pierwszy raz zjawisko Czerwonej Planecie odkryto latach 70.', 'XX w., trakcie misji sond Viking.']\n"
     ]
    }
   ],
   "source": [
    "print(old_tokens)\n",
    "print(new_tokens)"
   ]
  },
  {
   "cell_type": "markdown",
   "metadata": {
    "id": "ct7diz-2lKJ7"
   },
   "source": [
    "Możemy też użyć bliblioteki do obsługi wyrażeń regularnych, przykłąd użycia poniżej"
   ]
  },
  {
   "cell_type": "code",
   "execution_count": 12,
   "metadata": {
    "colab": {
     "base_uri": "https://localhost:8080/"
    },
    "id": "Vz5_1iSS4sNH",
    "outputId": "d4752f0e-faa7-4375-8071-346d092df6b2"
   },
   "outputs": [
    {
     "name": "stdout",
     "output_type": "stream",
     "text": [
      " ma dwa ko\n"
     ]
    }
   ],
   "source": [
    "import re\n",
    "s=\"Ala ma dwa koty. \"\n",
    "m=re.search(\"a(.*)t\",s) #jest pomiędzya a i t\n",
    "print(m.group(1))"
   ]
  },
  {
   "cell_type": "code",
   "execution_count": 13,
   "metadata": {
    "colab": {
     "base_uri": "https://localhost:8080/"
    },
    "id": "W-p3oIVSlaKQ",
    "outputId": "17e30b04-ca07-46c4-f97f-659f2f7d1d52"
   },
   "outputs": [
    {
     "name": "stdout",
     "output_type": "stream",
     "text": [
      "la ma dwa ko\n"
     ]
    }
   ],
   "source": [
    "#uwzględniamy mała i wielką literę\n",
    "m=re.match(\"a(.*)t\",s)\n",
    "if m: print(m.group(1))\n",
    "m=re.match(\"A(.*)t\",s)\n",
    "if m: print(m.group(1))"
   ]
  },
  {
   "cell_type": "markdown",
   "metadata": {},
   "source": [
    "# Zadanie 2\n",
    "\n",
    "Wracamy do słów jako tokenów.\n",
    "Podziel tekst na tokeny przy użyciu innych narzędzi z pakietu NLTK: \n",
    "\n",
    "* tokenizer oparty o interpunkcje np.print(wordpunct_tokenize(text)\n",
    "* tokenizer oparty o korpus(drzewo) np. TreebankWordTokenizer()\n",
    "* tokenizer dla tweetów : TweetTokenizer()\n",
    "* tokenizer rozpoznajacy związki wyrazowe (Multi-word expression tokenizer, działa po angielsku, ale można spróbowac na polskim) : MWETokenizer()\n",
    " \n",
    "\n",
    "Nie musisz wybierać tych które zostały wymienione, ale tak będzie najłatwiej.\n",
    " \n",
    "  Jest jeden wyjątek!!! Dzisiaj NIE używamy pakietu spacy :-)"
   ]
  },
  {
   "cell_type": "markdown",
   "metadata": {},
   "source": [
    "### podpunkty dla chętnych: \n",
    "\n",
    "* tokenizator z bilblioteki Gensim ( dla dużych zbiorów danych) : from gensim.utils import tokenize \n",
    "* tokenizator z biblioteki Keras (from keras.preprocessing.text import Tokenizer ) "
   ]
  },
  {
   "cell_type": "code",
   "execution_count": 2,
   "metadata": {},
   "outputs": [],
   "source": [
    "# Kod do zadania 2\n",
    "text_zdania=(\"Teraz potrzebuję wiecej niż jedno zdanie. Na przykład dwa. Albo jeszcze lepiej trzy! I dodatkowe z nazwą Counter Strike :-) . A  my favourite prezydent to F.D, Roosvelt, bo ma ciekawe midlle name.\")\n",
    "import nltk \n",
    "# nltk.download('punkt')"
   ]
  },
  {
   "cell_type": "markdown",
   "metadata": {},
   "source": [
    "## Zadanie 2"
   ]
  },
  {
   "cell_type": "markdown",
   "metadata": {},
   "source": [
    "### Zadanie 2.1"
   ]
  },
  {
   "cell_type": "code",
   "execution_count": 15,
   "metadata": {},
   "outputs": [
    {
     "name": "stdout",
     "output_type": "stream",
     "text": [
      "['Teraz', 'potrzebuję', 'wiecej', 'niż', 'jedno', 'zdanie', '.', 'Na', 'przykład', 'dwa', '.', 'Albo', 'jeszcze', 'lepiej', 'trzy', '!', 'I', 'dodatkowe', 'z', 'nazwą', 'Counter', 'Strike', ':-)', '.', 'A', 'my', 'favourite', 'prezydent', 'to', 'F', '.', 'D', ',', 'Roosvelt', ',', 'bo', 'ma', 'ciekawe', 'midlle', 'name', '.']\n"
     ]
    }
   ],
   "source": [
    "wordpunct = nltk.wordpunct_tokenize(text_zdania)\n",
    "print(wordpunct)"
   ]
  },
  {
   "cell_type": "markdown",
   "metadata": {},
   "source": [
    "### Zadanie 2.2"
   ]
  },
  {
   "cell_type": "code",
   "execution_count": 16,
   "metadata": {},
   "outputs": [
    {
     "name": "stdout",
     "output_type": "stream",
     "text": [
      "['Teraz', 'potrzebuję', 'wiecej', 'niż', 'jedno', 'zdanie.', 'Na', 'przykład', 'dwa.', 'Albo', 'jeszcze', 'lepiej', 'trzy', '!', 'I', 'dodatkowe', 'z', 'nazwą', 'Counter', 'Strike', ':', '-', ')', '.', 'A', 'my', 'favourite', 'prezydent', 'to', 'F.D', ',', 'Roosvelt', ',', 'bo', 'ma', 'ciekawe', 'midlle', 'name', '.']\n",
      "Teraz potrzebuję wiecej niż jedno zdanie. Na przykład dwa. Albo jeszcze lepiej trzy! I dodatkowe z nazwą Counter Strike: -). A my favourite prezydent to F.D, Roosvelt, bo ma ciekawe midlle name.\n"
     ]
    }
   ],
   "source": [
    "treebank = nltk.TreebankWordTokenizer().tokenize(text_zdania)\n",
    "print(treebank)\n",
    "\n",
    "detreebank = nltk.TreebankWordDetokenizer().detokenize(treebank)\n",
    "print(detreebank)"
   ]
  },
  {
   "cell_type": "markdown",
   "metadata": {},
   "source": [
    "### Zadanie 2.3"
   ]
  },
  {
   "cell_type": "code",
   "execution_count": 17,
   "metadata": {},
   "outputs": [
    {
     "name": "stdout",
     "output_type": "stream",
     "text": [
      "['Teraz', 'potrzebuję', 'wiecej', 'niż', 'jedno', 'zdanie', '.', 'Na', 'przykład', 'dwa', '.', 'Albo', 'jeszcze', 'lepiej', 'trzy', '!', 'I', 'dodatkowe', 'z', 'nazwą', 'Counter', 'Strike', ':-)', '.', 'A', 'my', 'favourite', 'prezydent', 'to', 'F', '.', 'D', ',', 'Roosvelt', ',', 'bo', 'ma', 'ciekawe', 'midlle', 'name', '.']\n"
     ]
    }
   ],
   "source": [
    "tweet = nltk.TweetTokenizer().tokenize(text_zdania)\n",
    "print(tweet)"
   ]
  },
  {
   "cell_type": "markdown",
   "metadata": {},
   "source": [
    "### Zadanie 2.4"
   ]
  },
  {
   "cell_type": "code",
   "execution_count": 18,
   "metadata": {},
   "outputs": [
    {
     "name": "stdout",
     "output_type": "stream",
     "text": [
      "['Teraz', 'potrzebuję', 'wiecej', 'niż', 'jedno', 'zdanie.', 'Na', 'przykład', 'dwa.', 'Albo', 'jeszcze', 'lepiej', 'trzy!', 'I', 'dodatkowe', 'z', 'nazwą', 'Counter', 'Strike', ':-)', '.', 'A', 'my', 'favourite', 'prezydent', 'to', 'F.D,', 'Roosvelt,', 'bo', 'ma', 'ciekawe', 'midlle', 'name.']\n",
      "['This', 'is', 'some', 'kind', 'of', 'english', 'sentence']\n"
     ]
    }
   ],
   "source": [
    "mwe = nltk.MWETokenizer().tokenize(text_zdania.split())\n",
    "print(mwe)\n",
    "\n",
    "mwe = nltk.MWETokenizer().tokenize(\"This is some kind of english sentence\".split())\n",
    "print(mwe)"
   ]
  },
  {
   "cell_type": "markdown",
   "metadata": {},
   "source": [
    "### Zadanie 2.5"
   ]
  },
  {
   "cell_type": "code",
   "execution_count": 19,
   "metadata": {},
   "outputs": [],
   "source": [
    "# !pip install gensim"
   ]
  },
  {
   "cell_type": "code",
   "execution_count": 20,
   "metadata": {},
   "outputs": [
    {
     "name": "stdout",
     "output_type": "stream",
     "text": [
      "<generator object simple_tokenize at 0x1416492e0>\n"
     ]
    }
   ],
   "source": [
    "from gensim.utils import tokenize\n",
    "tok = tokenize(text_zdania)\n",
    "print(tok)"
   ]
  },
  {
   "cell_type": "markdown",
   "metadata": {},
   "source": [
    "### Zadanie 2.6"
   ]
  },
  {
   "cell_type": "code",
   "execution_count": 9,
   "metadata": {},
   "outputs": [
    {
     "ename": "AttributeError",
     "evalue": "'NoneType' object has no attribute 'word_index'",
     "output_type": "error",
     "traceback": [
      "\u001b[0;31m---------------------------------------------------------------------------\u001b[0m",
      "\u001b[0;31mAttributeError\u001b[0m                            Traceback (most recent call last)",
      "Cell \u001b[0;32mIn[9], line 5\u001b[0m\n\u001b[1;32m      3\u001b[0m \u001b[38;5;28;01mfrom\u001b[39;00m\u001b[38;5;250m \u001b[39m\u001b[38;5;21;01mtensorflow\u001b[39;00m\u001b[38;5;21;01m.\u001b[39;00m\u001b[38;5;21;01mkeras\u001b[39;00m\u001b[38;5;21;01m.\u001b[39;00m\u001b[38;5;21;01mpreprocessing\u001b[39;00m\u001b[38;5;21;01m.\u001b[39;00m\u001b[38;5;21;01mtext\u001b[39;00m\u001b[38;5;250m \u001b[39m\u001b[38;5;28;01mimport\u001b[39;00m Tokenizer\n\u001b[1;32m      4\u001b[0m tok \u001b[38;5;241m=\u001b[39m Tokenizer()\u001b[38;5;241m.\u001b[39mfit_on_texts(text_zdania)\n\u001b[0;32m----> 5\u001b[0m \u001b[38;5;28mprint\u001b[39m(\u001b[43mtok\u001b[49m\u001b[38;5;241;43m.\u001b[39;49m\u001b[43mword_index\u001b[49m)\n",
      "\u001b[0;31mAttributeError\u001b[0m: 'NoneType' object has no attribute 'word_index'"
     ]
    }
   ],
   "source": [
    "import tensorflow as tf\n",
    "from tensorflow import keras\n",
    "from tensorflow.keras.preprocessing.text import Tokenizer\n",
    "tok = Tokenizer().fit_on_texts(text_zdania)\n",
    "print(tok.word_index)"
   ]
  },
  {
   "cell_type": "markdown",
   "metadata": {},
   "source": [
    "# Zadanie 3\n",
    "\n",
    "Poszukaj w dokumentacji charakterystyki działania każdego z użtych tokenizatorów i wymyśl dla jednego z nich zdanie którego nie  podzieli poprawnie. \n",
    "\n",
    "Napisz kod który zilustruje błędny podział.\n",
    "\n",
    "Uzasadnij (komentarzami w kodzie) czemu właśnie takie zdanie zostało wybrane.\n"
   ]
  },
  {
   "cell_type": "code",
   "execution_count": 25,
   "metadata": {},
   "outputs": [
    {
     "name": "stdout",
     "output_type": "stream",
     "text": [
      "['I', 'can', \"'\", 't', 'believe', 'it', \"'\", 's', 'already', '3', ':', '30pm', '!']\n"
     ]
    }
   ],
   "source": [
    "sentence = \"I can't believe it's already 3:30pm!\"\n",
    "# dzieli tekst na slowa i znaki interpunkcyjne jako oddzielne tokeny\n",
    "tokens = nltk.WordPunctTokenizer().tokenize(sentence)\n",
    "print(tokens)\n",
    "\n",
    "# rozdziela skroty z apostrofem (np. \"can't\" -> [\"can\", \"'\", \"t\"]), co jest niepoprawne\n",
    "# rozdziela \"it's\" na [\"it\", \"'\", \"s\"], co jest niepoprawne\n",
    "# niepoprawnie rozbija \"3:30pm\" na [\"3\", \":\", \"30pm\"]\n",
    "# powinien traktowac \"3:30pm\" jako jeden token, ale separator \":\" jest traktowany jako osobny token,\n",
    "# co skutkuje blednym podziałem czasu na liczby i koncowke \"pm\""
   ]
  },
  {
   "cell_type": "markdown",
   "metadata": {
    "id": "yRTWJYdd3Rs1"
   },
   "source": [
    "# Zadanie 4 (cool down)\n",
    "Napisz (można komentarzami) co robi poniższy kod\n",
    "\n",
    "\n"
   ]
  },
  {
   "cell_type": "code",
   "execution_count": 28,
   "metadata": {
    "colab": {
     "base_uri": "https://localhost:8080/",
     "height": 633
    },
    "id": "KQCYfOQHm8US",
    "outputId": "640e6284-d4bf-4bd9-82d5-a5c19f063feb"
   },
   "outputs": [
    {
     "name": "stdout",
     "output_type": "stream",
     "text": [
      "['Abkhaz-Cyrillic+Abkh', 'Abkhaz-UTF8', 'Achehnese-Latin1', 'Achuar-Shiwiar-Latin1', 'Adja-UTF8', 'Afaan_Oromo_Oromiffa-Latin1', 'Afrikaans-Latin1', 'Aguaruna-Latin1', 'Akuapem_Twi-UTF8', 'Albanian_Shqip-Latin1', 'Amahuaca', 'Amahuaca-Latin1', 'Amarakaeri-Latin1', 'Amuesha-Yanesha-UTF8', 'Arabela-Latin1', 'Arabic_Alarabia-Arabic', 'Asante-UTF8', 'Ashaninca-Latin1', 'Asheninca-Latin1', 'Asturian_Bable-Latin1', 'Aymara-Latin1', 'Balinese-Latin1', 'Bambara-UTF8', 'Baoule-UTF8', 'Basque_Euskara-Latin1', 'Batonu_Bariba-UTF8', 'Belorus_Belaruski-Cyrillic', 'Belorus_Belaruski-UTF8', 'Bemba-Latin1', 'Bengali-UTF8', 'Beti-UTF8', 'Bichelamar-Latin1', 'Bikol_Bicolano-Latin1', 'Bora-Latin1', 'Bosnian_Bosanski-Cyrillic', 'Bosnian_Bosanski-Latin2', 'Bosnian_Bosanski-UTF8', 'Breton-Latin1', 'Bugisnese-Latin1', 'Bulgarian_Balgarski-Cyrillic', 'Bulgarian_Balgarski-UTF8', 'Cakchiquel-Latin1', 'Campa_Pajonalino-Latin1', 'Candoshi-Shapra-Latin1', 'Caquinte-Latin1', 'Cashibo-Cacataibo-Latin1', 'Cashinahua-Latin1', 'Catalan-Latin1', 'Catalan_Catala-Latin1', 'Cebuano-Latin1', 'Chamorro-Latin1', 'Chayahuita-Latin1', 'Chechewa_Nyanja-Latin1', 'Chickasaw-Latin1', 'Chinanteco-Ajitlan-Latin1', 'Chinanteco-UTF8', 'Chinese_Mandarin-GB2312', 'Chuuk_Trukese-Latin1', 'Cokwe-Latin1', 'Corsican-Latin1', 'Croatian_Hrvatski-Latin2', 'Czech-Latin2', 'Czech-UTF8', 'Czech_Cesky-Latin2', 'Czech_Cesky-UTF8', 'Dagaare-UTF8', 'Dagbani-UTF8', 'Dangme-UTF8', 'Danish_Dansk-Latin1', 'Dendi-UTF8', 'Ditammari-UTF8', 'Dutch_Nederlands-Latin1', 'Edo-Latin1', 'English-Latin1', 'Esperanto-UTF8', 'Estonian_Eesti-Latin1', 'Ewe_Eve-UTF8', 'Fante-UTF8', 'Faroese-Latin1', 'Farsi_Persian-UTF8', 'Farsi_Persian-v2-UTF8', 'Fijian-Latin1', 'Filipino_Tagalog-Latin1', 'Finnish_Suomi-Latin1', 'Fon-UTF8', 'French_Francais-Latin1', 'Frisian-Latin1', 'Friulian_Friulano-Latin1', 'Ga-UTF8', 'Gagauz_Gagauzi-UTF8', 'Galician_Galego-Latin1', 'Garifuna_Garifuna-Latin1', 'German_Deutsch-Latin1', 'Gonja-UTF8', 'Greek_Ellinika-Greek', 'Greek_Ellinika-UTF8', 'Greenlandic_Inuktikut-Latin1', 'Guarani-Latin1', 'Guen_Mina-UTF8', 'HaitianCreole_Kreyol-Latin1', 'HaitianCreole_Popular-Latin1', 'Hani-Latin1', 'Hausa_Haoussa-Latin1', 'Hawaiian-UTF8', 'Hebrew_Ivrit-Hebrew', 'Hebrew_Ivrit-UTF8', 'Hiligaynon-Latin1', 'Hindi-UTF8', 'Hindi_web-UTF8', 'Hmong_Miao-Sichuan-Guizhou-Yunnan-Latin1', 'Hmong_Miao-SouthernEast-Guizhou-Latin1', 'Hmong_Miao_Northern-East-Guizhou-Latin1', 'Hrvatski_Croatian-Latin2', 'Huasteco-Latin1', 'Huitoto_Murui-Latin1', 'Hungarian_Magyar-Latin1', 'Hungarian_Magyar-Latin2', 'Hungarian_Magyar-UTF8', 'Ibibio_Efik-Latin1', 'Icelandic_Yslenska-Latin1', 'Ido-Latin1', 'Igbo-UTF8', 'Iloko_Ilocano-Latin1', 'Indonesian-Latin1', 'Interlingua-Latin1', 'Inuktikut_Greenlandic-Latin1', 'IrishGaelic_Gaeilge-Latin1', 'Italian-Latin1', 'Italian_Italiano-Latin1', 'Japanese_Nihongo-EUC', 'Japanese_Nihongo-SJIS', 'Japanese_Nihongo-UTF8', 'Javanese-Latin1', 'Jola-Fogny_Diola-UTF8', 'Kabye-UTF8', 'Kannada-UTF8', 'Kaonde-Latin1', 'Kapampangan-Latin1', 'Kasem-UTF8', 'Kazakh-Cyrillic', 'Kazakh-UTF8', 'Kiche_Quiche-Latin1', 'Kicongo-Latin1', 'Kimbundu_Mbundu-Latin1', 'Kinyamwezi_Nyamwezi-Latin1', 'Kinyarwanda-Latin1', 'Kituba-Latin1', 'Korean_Hankuko-UTF8', 'Kpelewo-UTF8', 'Krio-UTF8', 'Kurdish-UTF8', 'Lamnso_Lam-nso-UTF8', 'Latin_Latina-Latin1', 'Latin_Latina-v2-Latin1', 'Latvian-Latin1', 'Limba-UTF8', 'Lingala-Latin1', 'Lithuanian_Lietuviskai-Baltic', 'Lozi-Latin1', 'Luba-Kasai_Tshiluba-Latin1', 'Luganda_Ganda-Latin1', 'Lunda_Chokwe-lunda-Latin1', 'Luvale-Latin1', 'Luxembourgish_Letzebuergeusch-Latin1', 'Macedonian-UTF8', 'Madurese-Latin1', 'Makonde-Latin1', 'Malagasy-Latin1', 'Malay_BahasaMelayu-Latin1', 'Maltese-UTF8', 'Mam-Latin1', 'Maninka-UTF8', 'Maori-Latin1', 'Mapudungun_Mapuzgun-Latin1', 'Mapudungun_Mapuzgun-UTF8', 'Marshallese-Latin1', 'Matses-Latin1', 'Mayan_Yucateco-Latin1', 'Mazahua_Jnatrjo-UTF8', 'Mazateco-Latin1', 'Mende-UTF8', 'Mikmaq_Micmac-Mikmaq-Latin1', 'Minangkabau-Latin1', 'Miskito_Miskito-Latin1', 'Mixteco-Latin1', 'Mongolian_Khalkha-Cyrillic', 'Mongolian_Khalkha-UTF8', 'Moore_More-UTF8', 'Nahuatl-Latin1', 'Ndebele-Latin1', 'Nepali-UTF8', 'Ngangela_Nyemba-Latin1', 'NigerianPidginEnglish-Latin1', 'Nomatsiguenga-Latin1', 'NorthernSotho_Pedi-Sepedi-Latin1', 'Norwegian-Latin1', 'Norwegian_Norsk-Bokmal-Latin1', 'Norwegian_Norsk-Nynorsk-Latin1', 'Nyanja_Chechewa-Latin1', 'Nyanja_Chinyanja-Latin1', 'Nzema-UTF8', 'OccitanAuvergnat-Latin1', 'OccitanLanguedocien-Latin1', 'Oromiffa_AfaanOromo-Latin1', 'Osetin_Ossetian-UTF8', 'Oshiwambo_Ndonga-Latin1', 'Otomi_Nahnu-Latin1', 'Paez-Latin1', 'Palauan-Latin1', 'Peuhl-UTF8', 'Picard-Latin1', 'Pipil-Latin1', 'Polish-Latin2', 'Polish_Polski-Latin2', 'Ponapean-Latin1', 'Portuguese_Portugues-Latin1', 'Pulaar-UTF8', 'Punjabi_Panjabi-UTF8', 'Purhepecha-UTF8', 'Qechi_Kekchi-Latin1', 'Quechua-Latin1', 'Quichua-Latin1', 'Rarotongan_MaoriCookIslands-Latin1', 'Rhaeto-Romance_Rumantsch-Latin1', 'Romani-Latin1', 'Romani-UTF8', 'Romanian-Latin2', 'Romanian_Romana-Latin2', 'Rukonzo_Konjo-Latin1', 'Rundi_Kirundi-Latin1', 'Runyankore-rukiga_Nkore-kiga-Latin1', 'Russian-Cyrillic', 'Russian-UTF8', 'Russian_Russky-Cyrillic', 'Russian_Russky-UTF8', 'Sami_Lappish-UTF8', 'Sammarinese-Latin1', 'Samoan-Latin1', 'Sango_Sangho-Latin1', 'Sanskrit-UTF8', 'Saraiki-UTF8', 'Sardinian-Latin1', 'ScottishGaelic_GaidhligAlbanach-Latin1', 'Seereer-UTF8', 'Serbian_Srpski-Cyrillic', 'Serbian_Srpski-Latin2', 'Serbian_Srpski-UTF8', 'Sharanahua-Latin1', 'Shipibo-Conibo-Latin1', 'Shona-Latin1', 'Sinhala-UTF8', 'Siswati-Latin1', 'Slovak-Latin2', 'Slovak_Slovencina-Latin2', 'Slovenian_Slovenscina-Latin2', 'SolomonsPidgin_Pijin-Latin1', 'Somali-Latin1', 'Soninke_Soninkanxaane-UTF8', 'Sorbian-Latin2', 'SouthernSotho_Sotho-Sesotho-Sutu-Sesutu-Latin1', 'Spanish-Latin1', 'Spanish_Espanol-Latin1', 'Sukuma-Latin1', 'Sundanese-Latin1', 'Sussu_Soussou-Sosso-Soso-Susu-UTF8', 'Swaheli-Latin1', 'Swahili_Kiswahili-Latin1', 'Swedish_Svenska-Latin1', 'Tahitian-UTF8', 'Tenek_Huasteco-Latin1', 'Tetum-Latin1', 'Themne_Temne-UTF8', 'Tiv-Latin1', 'Toba-UTF8', 'Tojol-abal-Latin1', 'TokPisin-Latin1', 'Tonga-Latin1', 'Tongan_Tonga-Latin1', 'Totonaco-Latin1', 'Trukese_Chuuk-Latin1', 'Turkish_Turkce-Turkish', 'Turkish_Turkce-UTF8', 'Tzeltal-Latin1', 'Tzotzil-Latin1', 'Uighur_Uyghur-Latin1', 'Uighur_Uyghur-UTF8', 'Ukrainian-Cyrillic', 'Ukrainian-UTF8', 'Umbundu-Latin1', 'Urarina-Latin1', 'Uzbek-Latin1', 'Vietnamese-ALRN-UTF8', 'Vietnamese-UTF8', 'Vlach-Latin1', 'Walloon_Wallon-Latin1', 'Wama-UTF8', 'Waray-Latin1', 'Wayuu-Latin1', 'Welsh_Cymraeg-Latin1', 'WesternSotho_Tswana-Setswana-Latin1', 'Wolof-Latin1', 'Xhosa-Latin1', 'Yagua-Latin1', 'Yao-Latin1', 'Yapese-Latin1', 'Yoruba-UTF8', 'Zapoteco-Latin1', 'Zapoteco-SanLucasQuiavini-Latin1', 'Zhuang-Latin1', 'Zulu-Latin1']\n",
      "['POWSZECHNA', 'DEKLARACJA', 'PRAW', 'CZŁOWIEKA', '[', 'Preamble', ']', 'Trzecia', 'Sesja', 'Ogólnego', 'Zgromadzenia', 'ONZ', ',', 'obradująca', 'w', 'Paryżu', ',', 'uchwaliła', '10', 'grudnia', '1948', 'roku', 'jednomyślnie', 'Powszechną', 'Deklarację', 'Praw', 'Człowieka', '.', 'Dokument', 'ten', 'stanowi', 'niewątpliwie', 'jedno', 'z', 'największych', 'i', 'najtrwalszych', 'osiągnięć', 'ONZ', '.', 'Przetłumaczona', 'na', 'większość', 'języków', 'świata', 'Powszechna', 'Deklaracja', 'Praw', 'Człowieka', 'zbiera', 'oraz', 'porządkuje', 'osiągnięcia', 'i', 'postulaty', 'człowieka', ',', 'który', 'od', 'wielu', 'setek', 'lat', 'toczy', 'nie', 'skończoną', 'jeszcze', 'walkę', 'o', 'swoją', 'wolność', 'i', 'swoją', 'godność', '.', 'ZWAŻYWSZY', ',', 'że', 'uznanie', 'przyrodzonej', 'godności', 'oraz', 'równych', 'i', 'niezbywalnych', 'praw', 'wszystkich', 'członków', 'wspólnoty', 'ludzkiej', 'jest', 'podstawą', 'wolności', ',', 'sprawiedliwości', 'i', 'pokoju', 'świata', ',', 'ZWAŻYWSZY', ',']\n",
      "? 9999 ? 1528 ? 64\n",
      "? 6\n",
      "? 23\n"
     ]
    },
    {
     "data": {
      "image/png": "[encoded data removed]",
      "text/plain": [
       "<Figure size 640x480 with 1 Axes>"
      ]
     },
     "metadata": {},
     "output_type": "display_data"
    }
   ],
   "source": [
    "from nltk.corpus import udhr\n",
    "import matplotlib.pyplot as plot\n",
    "print(udhr.fileids())\n",
    "up=udhr.words('Polish_Polski-Latin2') \n",
    "print(up[:100])\n",
    "fqup=nltk.FreqDist(up) \n",
    "fqup.plot(30)\n",
    "v=fqup.keys()\n",
    "\n",
    "pnum_chars = len(udhr.raw('Polish_Polski-Latin2'))\n",
    "pnum_words = len(udhr.words('Polish_Polski-Latin2'))\n",
    "pnum_sents = len(udhr.sents('Polish_Polski-Latin2')) \n",
    "print (\"?\", pnum_chars, \"?\", pnum_words, \"?\", pnum_sents) \n",
    "print(\"?\", int(pnum_chars/pnum_words))\n",
    "print( \"?\", int(pnum_words/pnum_sents))"
   ]
  }
 ],
 "metadata": {
  "colab": {
   "provenance": []
  },
  "kernelspec": {
   "display_name": "PY_INL",
   "language": "python",
   "name": "python3"
  },
  "language_info": {
   "codemirror_mode": {
    "name": "ipython",
    "version": 3
   },
   "file_extension": ".py",
   "mimetype": "text/x-python",
   "name": "python",
   "nbconvert_exporter": "python",
   "pygments_lexer": "ipython3",
   "version": "3.9.21"
  }
 },
 "nbformat": 4,
 "nbformat_minor": 0
}
