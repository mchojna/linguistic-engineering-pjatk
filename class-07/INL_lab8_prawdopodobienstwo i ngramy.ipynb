{
  "cells": [
    {
      "cell_type": "markdown",
      "metadata": {
        "id": "znpfPi0Ykgvo"
      },
      "source": [
        "# <font color='yellow'>Ćwiczenia 8 </font> \n",
        "\n",
        "# <font color='green'>Prawdopodobieństwo i ngramy </font>\n",
        "Chcemy sprawdzić, które zdanie jest bardziej prawdopodobne w naszym korpusie\n",
        "\n",
        "Oceniamy to licząc proste prawdopodobieństwo wystąpienia krotek-słów (ngramów)\n",
        "\n",
        "\n",
        "P(w) oznacza count(w) / liczba wszystkich słów, czyli liczba wystąpień słowa w dzielona jest przez liczbę wszystkich słów jakie mamy zgromadzone w słowniku.\n",
        "\n",
        "P(w1|w2) natomiast oznacza count(w1 w2 / count(w2)), czyli liczba wystąpień 2-gramu dzielona przez liczbę wystąpień samego słowa\n",
        "\n",
        "Dokładnie to pokazuje slajd z wykładu\n",
        "\n",
        "Mnożymy takie prawdopodobieństwa dla wszystkich słów z zestawu.\n"
      ]
    },
    {
      "cell_type": "markdown",
      "metadata": {},
      "source": [
        "## <font color='orange'>Zadanie 4 (lub 1) </font>\n",
        "W oparciu o dane podane poniżej skonstruuj w pythonie funkcję liczącą prawdopodobieństwo wystąpienia zdania.\n",
        "\n",
        "\n",
        "Ilości poszczególnych słów/kolokacji w korpusie zostały zliczone i podane poniżej. \n",
        "\n",
        "Użyj ich jako danych do wyliczenia prawdopodobieństw:\n",
        "\n",
        "wszystkie słowa\t- 8263493\n",
        "\n",
        "Aneta\t- 66489\n",
        "\n",
        "ma\t- 123618\n",
        "\n",
        "rower\t- 39032\n",
        "\n",
        "dom\t-23456\n",
        "\n",
        "samochód\t- 16273\n",
        "\n",
        "Aneta ma\t- 3543\n",
        "\n",
        "ma rower\t- 32\n",
        "\n",
        "ma dom\t-35\n",
        "\n",
        "ma samochód\t- 8\n",
        "\n",
        "Oblicz prawdopodobieństwo wystąpienia każdego ze zdań (mnożymy  prawdopodobieństwo każdego słowa i bigramów w zdaniu) i na tej podstawie ustal, który trigram (zdanie) ma większą szansę na wystąpienie. \n",
        "\n",
        "Całość sprowadzi się do wyliczenia P(zdanie) , a następnie porównania ich ze sobą i wybrania większej liczby."
      ]
    },
    {
      "cell_type": "code",
      "execution_count": 43,
      "metadata": {
        "id": "qFciYY2Ljn4I"
      },
      "outputs": [],
      "source": [
        "#Kod do zadania 1\n",
        "def calculate_probability(sentence: str) -> float:\n",
        "    count_of_all_words = 8263493\n",
        "    count_of_single_words = {\n",
        "        \"Aneta\": 66489,\n",
        "        \"ma\": 123618,\n",
        "        \"rower\": 39032,\n",
        "        \"dom\": 23456,\n",
        "        \"samochód\": 16273,\n",
        "    }\n",
        "    count_of_double_words = {\n",
        "        \"Aneta ma\": 3543,\n",
        "        \"ma rower\": 32,\n",
        "        \"ma dom\": 35,\n",
        "        \"ma samochód\": 8,\n",
        "    }\n",
        "    \n",
        "    words = sentence.split(\" \")\n",
        "    # print(words)\n",
        "    \n",
        "    tuples_of_words = []\n",
        "    \n",
        "    for i in range(0, len(words) - 1):\n",
        "        tuples_of_words.append(words[i] + \" \" + words[i+1])\n",
        "        # print(tuples_of_words[i])\n",
        "        \n",
        "    probability_of_sentence = 1;    \n",
        "        \n",
        "    for tuple_of_words in tuples_of_words:\n",
        "        count_of_tuple = count_of_double_words.get(tuple_of_words)\n",
        "        count_of_word = count_of_single_words.get(tuple_of_words.split(\" \")[-1])\n",
        "        \n",
        "        probability_of_sentence *= (count_of_tuple / count_of_word)\n",
        "        \n",
        "    # for word in words:\n",
        "    #     count_of_word = count_of_single_words.get(word)\n",
        "        \n",
        "    #     probability_of_sentence *= (count_of_word / count_of_all_words)\n",
        "    \n",
        "    return probability_of_sentence\n",
        "        \n",
        "    # print(\"{}: {:f}\".format(sentence, probability_of_sentence))"
      ]
    },
    {
      "cell_type": "markdown",
      "metadata": {
        "id": "eQDfeASplCgy"
      },
      "source": [
        "\n",
        "\n",
        "Które zdanie ma większą szansę na wystąpienie? \n",
        "\n",
        "<font color='magenta'>Aneta ma rower.</font>\n",
        "\n",
        "<font color='magenta'>Aneta ma dom.</font>\n",
        "\n",
        "<font color='magenta'>Aneta ma samochód.</font>\n"
      ]
    },
    {
      "cell_type": "code",
      "execution_count": 44,
      "metadata": {},
      "outputs": [
        {
          "name": "stdout",
          "output_type": "stream",
          "text": [
            "Aneta ma rower: 0.000023\n",
            "Aneta ma rower: 0.000043\n",
            "Aneta ma rower: 0.000014\n"
          ]
        }
      ],
      "source": [
        "#miejsce na rozwiązanie\n",
        "print(\"{}: {:f}\".format(\"Aneta ma rower\", calculate_probability(\"Aneta ma rower\")))\n",
        "print(\"{}: {:f}\".format(\"Aneta ma rower\", calculate_probability(\"Aneta ma dom\")))\n",
        "print(\"{}: {:f}\".format(\"Aneta ma rower\", calculate_probability(\"Aneta ma samochód\")))"
      ]
    },
    {
      "cell_type": "markdown",
      "metadata": {},
      "source": [
        "5. Co Twoim zdaniem spowodowało taki wynik?\n",
        "\n",
        "6. Jak sprawdzić  jakie jest najbardziej prawdopodobne następne słowo dla poszczególnego zdania\n",
        "\n",
        "7. Jak sprawdzic jakie jest najbardziej prawdopodobne ze wszystkich słów\n"
      ]
    },
    {
      "cell_type": "code",
      "execution_count": null,
      "metadata": {},
      "outputs": [],
      "source": [
        "#Odpowiedzi\n",
        "\n",
        "# 5. Wynik jest wrażliwy na częstotliwość występowania pojedynczych słów i bigramów, niski wynik może wynikać z \n",
        "# rzadkości niektórych bigramów\n",
        "\n",
        "# 6. Dla ostatniego słowa zdania obliczyć dla każdego możliwego słowa warunkową wartość \n",
        "# P(następne|ostatnie) = count(ostatnie + „ ” + następne) / count(ostatnie)\n",
        "# następnie wybrać słowo o najwyższej tej wartości\n",
        "\n",
        "# 7. należy wyliczyć częstość występowania każdego słowa w korpusie jako P(w) = count(w) / liczba wszystkich słów \n",
        "# i wybrać słowo o najwyższej wartości"
      ]
    },
    {
      "cell_type": "markdown",
      "metadata": {},
      "source": [
        "## <font color='orange'>Zadanie 5 (lub 2) </font>\n",
        "* Znajdź i napisz czym jest preplexity\n",
        "\n",
        "\n",
        "<font color='lightgreen'> \n",
        "Odpowiedź studenta: to miara, która określa, jak dobrze model językowy przewiduje przykładową sekwencję słów. Im niższa wartość perplexity, tym lepiej model potrafi oszacować dane.\n",
        "</font>\n",
        "\n",
        "\n",
        "* Policz preplexity dla danych z zadania 1"
      ]
    },
    {
      "cell_type": "code",
      "execution_count": 45,
      "metadata": {
        "colab": {
          "base_uri": "https://localhost:8080/"
        },
        "id": "gQNwteo6kFgu",
        "outputId": "48706a68-30d6-4858-c585-0401d9df323e"
      },
      "outputs": [],
      "source": [
        "#kod do zadania 2\n",
        "def calculate_perplexity(sentence: str) -> float:\n",
        "    probability = calculate_probability(sentence)\n",
        "    num_of_words = len(sentence.split(\" \"))\n",
        "    \n",
        "    perplexity = (1/probability)**(1/num_of_words)\n",
        "    \n",
        "    return perplexity"
      ]
    },
    {
      "cell_type": "code",
      "execution_count": 46,
      "metadata": {},
      "outputs": [
        {
          "name": "stdout",
          "output_type": "stream",
          "text": [
            "Aneta ma rower: 34.913533\n",
            "Aneta ma rower: 28.595574\n",
            "Aneta ma rower: 41.402770\n"
          ]
        }
      ],
      "source": [
        "print(\"{}: {:f}\".format(\"Aneta ma rower\", calculate_perplexity(\"Aneta ma rower\")))\n",
        "print(\"{}: {:f}\".format(\"Aneta ma rower\", calculate_perplexity(\"Aneta ma dom\")))\n",
        "print(\"{}: {:f}\".format(\"Aneta ma rower\", calculate_perplexity(\"Aneta ma samochód\")))"
      ]
    }
  ],
  "metadata": {
    "colab": {
      "provenance": []
    },
    "kernel_info": {
      "name": "python"
    },
    "kernelspec": {
      "display_name": ".venv",
      "language": "python",
      "name": "python3"
    },
    "language_info": {
      "codemirror_mode": {
        "name": "ipython",
        "version": 3
      },
      "file_extension": ".py",
      "mimetype": "text/x-python",
      "name": "python",
      "nbconvert_exporter": "python",
      "pygments_lexer": "ipython3",
      "version": "3.9.21"
    },
    "nteract": {
      "version": "nteract-front-end@1.0.0"
    }
  },
  "nbformat": 4,
  "nbformat_minor": 0
}
