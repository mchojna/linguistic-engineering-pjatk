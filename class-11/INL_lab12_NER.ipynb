{
 "cells": [
  {
   "cell_type": "markdown",
   "metadata": {
    "id": "6uf8cdFvlUm1"
   },
   "source": [
    "## <span style=\"color: green\">**Ćwiczenia 12**</span> 🫡 \n",
    "\n",
    "# <span style=\"color: yellow\">***NER***</span>\n",
    "\n",
    "Rozpoznawanie nazwanych bytów (NER) to zadanie w przetwarzaniu języka naturalnego (NLP), które polega na identyfikacji i klasyfikacji nazwanych bytów w tekście na określone kategorie, takie jak \n",
    "* osoby\n",
    "* organizacje\n",
    "* lokalizacje\n",
    "* daty itp. \n",
    "\n",
    "NER jest kluczowym elementem wielu aplikacji NLP, w tym wyszukiwarek, systemów rekomendacji i analizy tekstu.\n",
    "\n",
    "W pakietach językowych są wbudowane części oznaczające jednostki nazewnicze\n",
    "\n",
    "\n",
    "W tym notatniku porównamy dwa podejścia do rozpoznawania nazwanych bytów (NER):\n",
    "- Klasyczny model NER w spaCy\n",
    "- Model neuronowy\n",
    "\n",
    "\n"
   ]
  },
  {
   "cell_type": "markdown",
   "metadata": {},
   "source": [
    "## <span style=\"color: #D5C3FF\">Podejście klasyczne</span> 🐜\n",
    "\n",
    "### Przykład 🌕\n",
    "\n",
    "Rozpoznawanie jednostek nazewniczych z NLTK (bardzo prosty przykład)\n",
    "Najpierw wczytujemy modele "
   ]
  },
  {
   "cell_type": "code",
   "execution_count": 32,
   "metadata": {},
   "outputs": [
    {
     "name": "stderr",
     "output_type": "stream",
     "text": [
      "[nltk_data] Downloading collection 'popular'\n",
      "[nltk_data]    | \n",
      "[nltk_data]    | Downloading package cmudict to\n",
      "[nltk_data]    |     /Users/mchojna/nltk_data...\n",
      "[nltk_data]    |   Package cmudict is already up-to-date!\n",
      "[nltk_data]    | Downloading package gazetteers to\n",
      "[nltk_data]    |     /Users/mchojna/nltk_data...\n",
      "[nltk_data]    |   Package gazetteers is already up-to-date!\n",
      "[nltk_data]    | Downloading package genesis to\n",
      "[nltk_data]    |     /Users/mchojna/nltk_data...\n",
      "[nltk_data]    |   Package genesis is already up-to-date!\n",
      "[nltk_data]    | Downloading package gutenberg to\n",
      "[nltk_data]    |     /Users/mchojna/nltk_data...\n",
      "[nltk_data]    |   Package gutenberg is already up-to-date!\n",
      "[nltk_data]    | Downloading package inaugural to\n",
      "[nltk_data]    |     /Users/mchojna/nltk_data...\n",
      "[nltk_data]    |   Package inaugural is already up-to-date!\n",
      "[nltk_data]    | Downloading package movie_reviews to\n",
      "[nltk_data]    |     /Users/mchojna/nltk_data...\n",
      "[nltk_data]    |   Package movie_reviews is already up-to-date!\n",
      "[nltk_data]    | Downloading package names to\n",
      "[nltk_data]    |     /Users/mchojna/nltk_data...\n",
      "[nltk_data]    |   Package names is already up-to-date!\n",
      "[nltk_data]    | Downloading package shakespeare to\n",
      "[nltk_data]    |     /Users/mchojna/nltk_data...\n",
      "[nltk_data]    |   Package shakespeare is already up-to-date!\n",
      "[nltk_data]    | Downloading package stopwords to\n",
      "[nltk_data]    |     /Users/mchojna/nltk_data...\n",
      "[nltk_data]    |   Package stopwords is already up-to-date!\n",
      "[nltk_data]    | Downloading package treebank to\n",
      "[nltk_data]    |     /Users/mchojna/nltk_data...\n",
      "[nltk_data]    |   Package treebank is already up-to-date!\n",
      "[nltk_data]    | Downloading package twitter_samples to\n",
      "[nltk_data]    |     /Users/mchojna/nltk_data...\n",
      "[nltk_data]    |   Package twitter_samples is already up-to-date!\n",
      "[nltk_data]    | Downloading package omw to\n",
      "[nltk_data]    |     /Users/mchojna/nltk_data...\n",
      "[nltk_data]    |   Package omw is already up-to-date!\n",
      "[nltk_data]    | Downloading package omw-1.4 to\n",
      "[nltk_data]    |     /Users/mchojna/nltk_data...\n",
      "[nltk_data]    |   Package omw-1.4 is already up-to-date!\n",
      "[nltk_data]    | Downloading package wordnet to\n",
      "[nltk_data]    |     /Users/mchojna/nltk_data...\n",
      "[nltk_data]    |   Package wordnet is already up-to-date!\n",
      "[nltk_data]    | Downloading package wordnet2021 to\n",
      "[nltk_data]    |     /Users/mchojna/nltk_data...\n",
      "[nltk_data]    |   Package wordnet2021 is already up-to-date!\n",
      "[nltk_data]    | Downloading package wordnet31 to\n",
      "[nltk_data]    |     /Users/mchojna/nltk_data...\n",
      "[nltk_data]    |   Package wordnet31 is already up-to-date!\n",
      "[nltk_data]    | Downloading package wordnet_ic to\n",
      "[nltk_data]    |     /Users/mchojna/nltk_data...\n",
      "[nltk_data]    |   Package wordnet_ic is already up-to-date!\n",
      "[nltk_data]    | Downloading package words to\n",
      "[nltk_data]    |     /Users/mchojna/nltk_data...\n",
      "[nltk_data]    |   Package words is already up-to-date!\n",
      "[nltk_data]    | Downloading package maxent_ne_chunker to\n",
      "[nltk_data]    |     /Users/mchojna/nltk_data...\n",
      "[nltk_data]    |   Package maxent_ne_chunker is already up-to-date!\n",
      "[nltk_data]    | Downloading package punkt to\n",
      "[nltk_data]    |     /Users/mchojna/nltk_data...\n",
      "[nltk_data]    |   Package punkt is already up-to-date!\n",
      "[nltk_data]    | Downloading package snowball_data to\n",
      "[nltk_data]    |     /Users/mchojna/nltk_data...\n",
      "[nltk_data]    |   Package snowball_data is already up-to-date!\n",
      "[nltk_data]    | Downloading package averaged_perceptron_tagger to\n",
      "[nltk_data]    |     /Users/mchojna/nltk_data...\n",
      "[nltk_data]    |   Package averaged_perceptron_tagger is already up-\n",
      "[nltk_data]    |       to-date!\n",
      "[nltk_data]    | \n",
      "[nltk_data]  Done downloading collection popular\n",
      "[nltk_data] Downloading package conll2002 to\n",
      "[nltk_data]     /Users/mchojna/nltk_data...\n",
      "[nltk_data]   Package conll2002 is already up-to-date!\n",
      "[nltk_data] Downloading package punkt to /Users/mchojna/nltk_data...\n",
      "[nltk_data]   Package punkt is already up-to-date!\n",
      "[nltk_data] Downloading package maxent_ne_chunker to\n",
      "[nltk_data]     /Users/mchojna/nltk_data...\n",
      "[nltk_data]   Package maxent_ne_chunker is already up-to-date!\n",
      "[nltk_data] Downloading package words to /Users/mchojna/nltk_data...\n",
      "[nltk_data]   Package words is already up-to-date!\n",
      "[nltk_data] Downloading package averaged_perceptron_tagger to\n",
      "[nltk_data]     /Users/mchojna/nltk_data...\n",
      "[nltk_data]   Package averaged_perceptron_tagger is already up-to-\n",
      "[nltk_data]       date!\n",
      "[nltk_data] Downloading package maxent_ne_chunker_tab to\n",
      "[nltk_data]     /Users/mchojna/nltk_data...\n",
      "[nltk_data]   Package maxent_ne_chunker_tab is already up-to-date!\n"
     ]
    },
    {
     "data": {
      "text/plain": [
       "True"
      ]
     },
     "execution_count": 32,
     "metadata": {},
     "output_type": "execute_result"
    }
   ],
   "source": [
    "#NER NLTK\n",
    "import nltk\n",
    "nltk.download('popular')\n",
    "nltk.download('conll2002')\n",
    "nltk.download('punkt')\n",
    "nltk.download('maxent_ne_chunker')\n",
    "nltk.download('words')\n",
    "nltk.download('averaged_perceptron_tagger')\n",
    "nltk.download('maxent_ne_chunker_tab')"
   ]
  },
  {
   "cell_type": "markdown",
   "metadata": {},
   "source": [
    "Zanim zaczniemy poszukiwanie jednostek nazewniczych musimy podzielić tekst na podstawowe cześci\n",
    "\n",
    "tokenizacja 🌜\n"
   ]
  },
  {
   "cell_type": "code",
   "execution_count": 33,
   "metadata": {},
   "outputs": [
    {
     "name": "stdout",
     "output_type": "stream",
     "text": [
      "['Todays', 'laboratory', 'is', 'about', 'Name', 'Entity', 'Recognition', '.']\n"
     ]
    }
   ],
   "source": [
    "from nltk.tokenize import word_tokenize\n",
    "\n",
    "text = \"Todays laboratory is about Name Entity Recognition.\"\n",
    "tokens = word_tokenize(text)\n",
    "print(tokens)"
   ]
  },
  {
   "cell_type": "markdown",
   "metadata": {},
   "source": [
    "Używamy funkcji ne_chunk która jako dane wejsciowe przyjmuje słowa (pooznaczane częściami mowy),\n",
    "\n",
    " a na wyjściu zwraca jednostki nazewnicze pogrupowane w formie drzewa 🌝"
   ]
  },
  {
   "cell_type": "code",
   "execution_count": 34,
   "metadata": {},
   "outputs": [
    {
     "name": "stdout",
     "output_type": "stream",
     "text": [
      "(S\n",
      "  (GPE Todays/NNP)\n",
      "  laboratory/NN\n",
      "  is/VBZ\n",
      "  about/IN\n",
      "  (PERSON Name/NNP Entity/NNP)\n",
      "  Recognition/NNP\n",
      "  ./.)\n"
     ]
    }
   ],
   "source": [
    "from nltk import pos_tag, ne_chunk\n",
    "\n",
    "tagged_words = pos_tag(tokens)\n",
    "named_entities = ne_chunk(tagged_words)\n",
    "print(named_entities)"
   ]
  },
  {
   "cell_type": "markdown",
   "metadata": {},
   "source": [
    "\n",
    "### <span style=\"color: orange\">Zadanie 1</span>  🔩\n",
    "\n",
    "\n",
    "Uzywając NLTK oznacz jednostki nazewnicze w poniższych tekstach ( wersja polska i angielska), \n",
    "\n",
    "zacznij od angielskiej"
   ]
  },
  {
   "cell_type": "code",
   "execution_count": null,
   "metadata": {},
   "outputs": [],
   "source": [
    "#miejsce na kod\n",
    "text1 = \"The Polish Japanese Academy of Information Technology is a private university. It is located in the center of Warsaw at Koszykowa Street. The quality of education is better than at the Warsaw University of Technology. And the proximity of the Warsaw central station allows you to quickly go home for the weekend. \"\n",
    "text2 = \"Polsko-Japońska Akademia Technik Komputerowych to uczelnia mająca swoją siedzibę w centrum Warszawy. Jest to wiodąca uczelnia niepubliczna, a jakośc kształcenia jest lepsza niż na Politechnice Warszawskiej. Bliskość dworca Warszawa Centralna pozwala łatwo dotrzec do domu na weekend.\""
   ]
  },
  {
   "cell_type": "code",
   "execution_count": 37,
   "metadata": {},
   "outputs": [],
   "source": [
    "def get_tags(text: str):\n",
    "    tokens = word_tokenize(text)\n",
    "    tagged_words = pos_tag(tokens)\n",
    "    named_entities = ne_chunk(tagged_words)\n",
    "    return named_entities"
   ]
  },
  {
   "cell_type": "code",
   "execution_count": 38,
   "metadata": {},
   "outputs": [
    {
     "name": "stdout",
     "output_type": "stream",
     "text": [
      "(S\n",
      "  (PERSON Walter/NNP)\n",
      "  was/VBD\n",
      "  arrested/VBN\n",
      "  yesterday/NN\n",
      "  at/IN\n",
      "  (GPE Brooklyn/NNP)\n",
      "  for/IN\n",
      "  murder/NN\n",
      "  ./.\n",
      "  The/DT\n",
      "  suspicions/NNS\n",
      "  and/CC\n",
      "  fingerprints/NNS\n",
      "  pointed/VBD\n",
      "  to/TO\n",
      "  (PERSON Walter/NNP)\n",
      "  and/CC\n",
      "  his/PRP$\n",
      "  friend/NN\n",
      "  (PERSON Pinkman/NNP)\n",
      "  ./.\n",
      "  The/DT\n",
      "  arrest/NN\n",
      "  was/VBD\n",
      "  made/VBN\n",
      "  by/IN\n",
      "  inspector/NN\n",
      "  (PERSON Hank/NNP))\n"
     ]
    }
   ],
   "source": [
    "tags_1 = get_tags(text1)\n",
    "print(tags_1)"
   ]
  },
  {
   "cell_type": "code",
   "execution_count": 39,
   "metadata": {},
   "outputs": [
    {
     "name": "stdout",
     "output_type": "stream",
     "text": [
      "(S\n",
      "  Polsko-Japońska/NNP\n",
      "  Akademia/NNP\n",
      "  Technik/NNP\n",
      "  Komputerowych/NNP\n",
      "  to/TO\n",
      "  uczelnia/VB\n",
      "  mająca/NN\n",
      "  swoją/NN\n",
      "  siedzibę/NN\n",
      "  w/NN\n",
      "  centrum/NN\n",
      "  Warszawy/NNP\n",
      "  ./.\n",
      "  (PERSON Jest/NNP)\n",
      "  to/TO\n",
      "  wiodąca/VB\n",
      "  uczelnia/JJ\n",
      "  niepubliczna/NN\n",
      "  ,/,\n",
      "  a/DT\n",
      "  jakośc/NN\n",
      "  kształcenia/NN\n",
      "  jest/NN\n",
      "  lepsza/NN\n",
      "  niż/FW\n",
      "  na/JJ\n",
      "  Politechnice/NNP\n",
      "  Warszawskiej/NNP\n",
      "  ./.\n",
      "  (PERSON Bliskość/NNP)\n",
      "  dworca/JJ\n",
      "  Warszawa/NNP\n",
      "  Centralna/NNP\n",
      "  pozwala/NN\n",
      "  łatwo/NNP\n",
      "  dotrzec/NN\n",
      "  do/VBP\n",
      "  domu/VB\n",
      "  na/TO\n",
      "  weekend/NN\n",
      "  ./.)\n"
     ]
    }
   ],
   "source": [
    "tags_2 = get_tags(text2)\n",
    "print(tags_2)"
   ]
  },
  {
   "cell_type": "markdown",
   "metadata": {},
   "source": [
    "### <span style=\"color: magenta\">Zadanie 2</span> ⚙️\n",
    "Zidentyfikuj dane osobowe i zanonimizuj dokument zastepując je ciągiem [UNKNOWN]\n",
    "\n",
    "Użyj identyfikacji kategorii PERSON\n",
    "\n",
    "Oczekiwany efekt:\n",
    "\n",
    "'  UNKNOWN was arrested yesterday at Brooklyn for murder . The suspicions and fingerprints pointed to UNKNOWN   and his friend   UNKNOWN . The arrest was made by inspector UNKNOWN'"
   ]
  },
  {
   "cell_type": "code",
   "execution_count": 41,
   "metadata": {},
   "outputs": [],
   "source": [
    "# Miejsce na kod\n",
    "import spacy\n",
    "\n",
    "text1 =\" Walter was arrested yesterday at Brooklyn for murder. The suspicions and fingerprints pointed to Walter  and his friend  Pinkman . The arrest was made by inspector Hank\""
   ]
  },
  {
   "cell_type": "code",
   "execution_count": 42,
   "metadata": {},
   "outputs": [],
   "source": [
    "def anonimize_text(text: str, model: str, label: str):\n",
    "    nlp = spacy.load(model)\n",
    "    doc = nlp(text)\n",
    "    \n",
    "    anonimize_text = text\n",
    "    for ent in doc.ents:\n",
    "        if ent.label_ == label:\n",
    "            anonimize_text = anonimize_text.replace(ent.text, \"[UNKNOWN]\")\n",
    "    return anonimize_text"
   ]
  },
  {
   "cell_type": "code",
   "execution_count": 44,
   "metadata": {},
   "outputs": [
    {
     "name": "stdout",
     "output_type": "stream",
     "text": [
      " [UNKNOWN] was arrested yesterday at Brooklyn for murder. The suspicions and fingerprints pointed to [UNKNOWN]  and his friend  Pinkman . The arrest was made by inspector [UNKNOWN]\n"
     ]
    }
   ],
   "source": [
    "anonimized_text_en = anonimize_text(text1, \"en_core_web_sm\", \"PERSON\")\n",
    "print(anonimized_text_en)"
   ]
  },
  {
   "cell_type": "code",
   "execution_count": 46,
   "metadata": {},
   "outputs": [
    {
     "name": "stdout",
     "output_type": "stream",
     "text": [
      " [UNKNOWN] was arrested yesterday at Brooklyn for murder. The suspicions [UNKNOWN] pointed to [UNKNOWN]  and his friend  [UNKNOWN] . The arrest was made by inspector [UNKNOWN]\n"
     ]
    }
   ],
   "source": [
    "anonimized_text_pl = anonimize_text(text1, \"pl_core_news_sm\", \"persName\")\n",
    "print(anonimized_text_pl)"
   ]
  },
  {
   "cell_type": "markdown",
   "metadata": {},
   "source": [
    "### <span style=\"color: lime\">Przykład NER w Spacy</span> 🪛"
   ]
  },
  {
   "cell_type": "code",
   "execution_count": 47,
   "metadata": {},
   "outputs": [
    {
     "name": "stdout",
     "output_type": "stream",
     "text": [
      "John Smith PERSON\n",
      "New York GPE\n",
      "ABC Corp. ORG\n"
     ]
    }
   ],
   "source": [
    "import spacy\n",
    "\n",
    "nlp = spacy.load(\"en_core_web_sm\")\n",
    "\n",
    "text = \"John Smith lives in New York and works for ABC Corp.\"\n",
    "\n",
    "doc = nlp(text)\n",
    "\n",
    "for ent in doc.ents:\n",
    "    print(ent.text, ent.label_)"
   ]
  },
  {
   "cell_type": "markdown",
   "metadata": {},
   "source": [
    "### <span style=\"color: pink\">Zadanie 3</span> 🔦\n",
    "\n",
    "Użyj biblioteki spaCy do rozpoznawania nazwanych bytów w poniższym tekście w języku polskim:\n",
    "\n",
    "\"\"Jan Kowalski mieszka w Warszawie i pracuje dla firmy ABC Corp. Jego żona jest Maria Nowak, która odwiedziła Kraków i spotkała się z przedstawicielami firmy Santander.\"\n",
    "\n",
    "Użyj polskiego małego modelu, który już znasz z kilku poprzednich ćwiczeń\n"
   ]
  },
  {
   "cell_type": "code",
   "execution_count": 48,
   "metadata": {},
   "outputs": [],
   "source": [
    "# kod zadania 3\n",
    "text = \"Jan Kowalski mieszka w Warszawie i pracuje dla firmy ABC Corp. Jego żona jest Maria Nowak, która odwiedziła Kraków i spotkała się z przedstawicielami firmy Santander.\""
   ]
  },
  {
   "cell_type": "code",
   "execution_count": 49,
   "metadata": {},
   "outputs": [],
   "source": [
    "def identify_entities(text: str, model: str):\n",
    "    nlp = spacy.load(model)\n",
    "    doc = nlp(text)\n",
    "    for ent in doc.ents:\n",
    "        print(ent.text, ent.label_)"
   ]
  },
  {
   "cell_type": "code",
   "execution_count": 50,
   "metadata": {},
   "outputs": [
    {
     "name": "stdout",
     "output_type": "stream",
     "text": [
      "Jan Kowalski PERSON\n",
      "ABC Corp. ORG\n",
      "Jego PERSON\n",
      "Maria Nowak PERSON\n",
      "Kraków PERSON\n",
      "Santander PRODUCT\n",
      "None\n"
     ]
    }
   ],
   "source": [
    "entities_en = identify_entities(text, \"en_core_web_sm\")\n",
    "print(entities_en)"
   ]
  },
  {
   "cell_type": "code",
   "execution_count": 51,
   "metadata": {},
   "outputs": [
    {
     "name": "stdout",
     "output_type": "stream",
     "text": [
      "Jan Kowalski persName\n",
      "Warszawie placeName\n",
      "ABC Corp orgName\n",
      "Maria Nowak persName\n",
      "Kraków placeName\n",
      "Santander orgName\n",
      "None\n"
     ]
    }
   ],
   "source": [
    "entities_en = identify_entities(text, \"pl_core_news_sm\")\n",
    "print(entities_en)"
   ]
  },
  {
   "attachments": {
    "image-2.png": {
     "image/png": "[encoded data removed]"
    },
    "image.png": {
     "image/png": "[encoded data removed]"
    }
   },
   "cell_type": "markdown",
   "metadata": {},
   "source": [
    "## <span style=\"color: #D5C3FF\">Podejście neuronowe, model Transformer</span> 🪂\n",
    "\n",
    "Będziemy pracowac na tekście angielskim ponieważ małe polskie modele neuronowe są  trudniej dostępne (duże również)\n",
    "\n",
    "### <span style=\"color: aqua\">Zadanie 4</span> 🛝\n",
    "\n",
    "Porównanie klasycznego i neuronowego NER\n",
    "\n",
    "Dla tekstu :\n",
    "\n",
    "*Elon Musk, the CEO of SpaceX and Tesla, announced a new rocket launch scheduled for next month at the Kennedy Space Center in Florida. Meanwhile, Apple Inc. is planning a major product release in California. Angela Merkel, former Chancellor of Germany, recently visited the United States to discuss climate change policies.*\n",
    "\n",
    "przeprowadzic analizę NER przy użyciu spacy (mały model angielski) i modelu neuronowego (np. *dslim/bert-base-NER* z HuggingFace)\n",
    "* Zidentyfikuj różnice w wykrywanych bytach i typach \n",
    "    - które byty zostały znalezione przez obie metody, a które tylko przez jeden z nich?\n",
    "    - Czy typy znalezione w obu podejściach sa takie same?\n",
    "* Zastanów się które podejście działa w jakich przypadkach i dlaczego\n",
    "\n",
    "Biblioteki:\n",
    "\n",
    "spaCy \n",
    "\n",
    "transformers\n",
    "\n",
    "pipeline z modelem `dslim/bert-base-NER` \n",
    "\n",
    "\n",
    "Zwróć uwagę na różnice w formatowaniu wyników obu modeli — może być potrzebne dostosowanie wyświetlania\n",
    "\n",
    "\n",
    "\n",
    "\n",
    "![image.png](attachment:image.png)\n",
    "\n",
    "\n",
    "Wyświetl wyniki neuronowe z użyciem kolorów (np inny kolor dla innego typu)\n",
    "\n",
    "\n",
    "![image-2.png](attachment:image-2.png)\n",
    "\n",
    "\n",
    "\n",
    "\n",
    "\n",
    "\n"
   ]
  },
  {
   "cell_type": "code",
   "execution_count": 17,
   "metadata": {},
   "outputs": [],
   "source": [
    "# kod zadania 4\n",
    "text = \"Elon Musk, the CEO of SpaceX and Tesla, announced a new rocket launch scheduled for next month at the Kennedy Space Center in Florida. Meanwhile, Apple Inc. is planning a major product release in California. Angela Merkel, former Chancellor of Germany, recently visited the United States to discuss climate change policies\""
   ]
  },
  {
   "cell_type": "code",
   "execution_count": 52,
   "metadata": {},
   "outputs": [],
   "source": [
    "import pandas\n",
    "import torch\n",
    "import spacy\n",
    "from transformers import pipeline\n",
    "from collections import defaultdict\n",
    "import pandas as pd\n",
    "\n",
    "class Colors:\n",
    "    PERSON = '\\033[91m'\n",
    "    ORG = '\\033[92m'\n",
    "    GPE = '\\033[93m'\n",
    "    LOC = '\\033[94m'\n",
    "    MISC = '\\033[95m'\n",
    "    DATE = '\\033[96m'\n",
    "    ENDC = '\\033[0m'\n",
    "    BOLD = '\\033[1m'\n",
    "    \n",
    "def get_models():\n",
    "    nlp = spacy.load(\"en_core_web_sm\")\n",
    "    bert = pipeline(\"ner\", model=\"dslim/bert-base-NER\", aggregation_strategy=\"simple\")\n",
    "    return nlp, bert\n",
    "\n",
    "def analyse_spacy_ner(text, nlp):\n",
    "    doc = nlp(text)\n",
    "    entities = []\n",
    "    \n",
    "    for ent in doc.ents:\n",
    "        entities.append({\n",
    "            'text': ent.text,\n",
    "            'label': ent.label_,\n",
    "            'start': ent.start_char,\n",
    "            'end': ent.end_char,\n",
    "            'description': spacy.explain(ent.label_)\n",
    "        })\n",
    "    \n",
    "    return entities\n",
    "\n",
    "def analyse_bert_ner(text, bert):\n",
    "    results = bert(text)\n",
    "    entities = []\n",
    "    \n",
    "    for entity in results:\n",
    "        entities.append({\n",
    "            'text': entity['word'],\n",
    "            'label': entity['entity_group'],\n",
    "            'start': entity['start'],\n",
    "            'end': entity['end'],\n",
    "            'confidence': entity['score']\n",
    "        })\n",
    "    \n",
    "    return entities\n",
    "\n",
    "def get_color_for_label(label):\n",
    "    color_map = {\n",
    "        'PERSON': Colors.PERSON,\n",
    "        'PER': Colors.PERSON,\n",
    "        'ORG': Colors.ORG,\n",
    "        'GPE': Colors.GPE,\n",
    "        'LOC': Colors.LOC,\n",
    "        'MISC': Colors.MISC,\n",
    "        'DATE': Colors.DATE,\n",
    "        'TIME': Colors.DATE,\n",
    "        'MONEY': Colors.MISC,\n",
    "        'PERCENT': Colors.MISC,\n",
    "        'CARDINAL': Colors.MISC,\n",
    "        'ORDINAL': Colors.MISC\n",
    "    }\n",
    "    return color_map.get(label.upper(), Colors.MISC)\n",
    "\n",
    "def display_results(text, entities, model_name):\n",
    "    entities_sorted = sorted(entities, key=lambda x: x['start'])\n",
    "    \n",
    "    colored_text = text\n",
    "    offset = 0\n",
    "    \n",
    "    for entity in entities_sorted:\n",
    "        start = entity['start'] + offset\n",
    "        end = entity['end'] + offset\n",
    "        label = entity['label']\n",
    "        color = get_color_for_label(label)\n",
    "        \n",
    "        colored_part = f\"{color}{colored_text[start:end]}({label}){Colors.ENDC}\"\n",
    "        colored_text = colored_text[:start] + colored_part + colored_text[end:]\n",
    "        offset += len(f\"{color}({label}){Colors.ENDC}\")\n",
    "    \n",
    "    print(colored_text)\n",
    "\n",
    "def display_entities(entities, model_name):\n",
    "    table_data = []\n",
    "    for entity in entities:\n",
    "        row = {\n",
    "            'Tekst': entity['text'],\n",
    "            'Typ': entity['label'],\n",
    "            'Pozycja': f\"{entity['start']}-{entity['end']}\"\n",
    "        }\n",
    "        if 'confidence' in entity:\n",
    "            row['Pewność'] = f\"{entity['confidence']:.3f}\"\n",
    "        if 'description' in entity:\n",
    "            row['Opis'] = entity['description']\n",
    "        table_data.append(row)\n",
    "    \n",
    "    df = pd.DataFrame(table_data)\n",
    "    print(df.to_string(index=False))"
   ]
  },
  {
   "cell_type": "code",
   "execution_count": 53,
   "metadata": {},
   "outputs": [
    {
     "name": "stdout",
     "output_type": "stream",
     "text": [
      "Elon Musk, the CEO of SpaceX and Tesla, announced a new rocket launch scheduled for next month at the Kennedy Space Center in Florida. Meanwhile, Apple Inc. is planning a major product release in California. Angela Merkel, former Chancellor of Germany, recently visited the United States to discuss climate change policies.\n"
     ]
    },
    {
     "name": "stderr",
     "output_type": "stream",
     "text": [
      "Some weights of the model checkpoint at dslim/bert-base-NER were not used when initializing BertForTokenClassification: ['bert.pooler.dense.bias', 'bert.pooler.dense.weight']\n",
      "- This IS expected if you are initializing BertForTokenClassification from the checkpoint of a model trained on another task or with another architecture (e.g. initializing a BertForSequenceClassification model from a BertForPreTraining model).\n",
      "- This IS NOT expected if you are initializing BertForTokenClassification from the checkpoint of a model that you expect to be exactly identical (initializing a BertForSequenceClassification model from a BertForSequenceClassification model).\n",
      "Device set to use mps:0\n"
     ]
    },
    {
     "name": "stdout",
     "output_type": "stream",
     "text": [
      "\n",
      "\u001b[1mSpaCy\u001b[0m\n",
      "\u001b[91mElon Musk(PERSON)\u001b[0m, the CEO of SpaceX and \u001b[92mTesla(ORG)\u001b[0m, announced a new rocket launch scheduled for \u001b[96mnext month(DATE)\u001b[0m at \u001b[95mthe Kennedy Space Center(FAC)\u001b[0m in \u001b[93mFlorida(GPE)\u001b[0m. Meanwhile, \u001b[92mApple Inc.(ORG)\u001b[0m is planning a major product release in \u001b[93mCalifornia(GPE)\u001b[0m. \u001b[91mAngela Merkel(PERSON)\u001b[0m, former Chancellor of \u001b[93mGermany(GPE)\u001b[0m, recently visited \u001b[93mthe United States(GPE)\u001b[0m to discuss climate change policies.\n",
      "                   Tekst    Typ Pozycja                                         Opis\n",
      "               Elon Musk PERSON     0-9                  People, including fictional\n",
      "                   Tesla    ORG   33-38      Companies, agencies, institutions, etc.\n",
      "              next month   DATE   84-94        Absolute or relative dates or periods\n",
      "the Kennedy Space Center    FAC  98-122 Buildings, airports, highways, bridges, etc.\n",
      "                 Florida    GPE 126-133                    Countries, cities, states\n",
      "              Apple Inc.    ORG 146-156      Companies, agencies, institutions, etc.\n",
      "              California    GPE 196-206                    Countries, cities, states\n",
      "           Angela Merkel PERSON 208-221                  People, including fictional\n",
      "                 Germany    GPE 244-251                    Countries, cities, states\n",
      "       the United States    GPE 270-287                    Countries, cities, states\n",
      "\n",
      "\u001b[1mBERT\u001b[0m\n",
      "\u001b[91mEl(PER)\u001b[0m\u001b[91mon Musk(PER)\u001b[0m, the CEO of \u001b[92mSpaceX(ORG)\u001b[0m and \u001b[92mTesla(ORG)\u001b[0m, announced a new rocket launch scheduled for next month at the \u001b[94mKennedy Space Center(LOC)\u001b[0m in \u001b[94mFlorida(LOC)\u001b[0m. Meanwhile, \u001b[92mApple Inc(ORG)\u001b[0m. is planning a major product release in \u001b[94mCalifornia(LOC)\u001b[0m. \u001b[91mAngela Merkel(PER)\u001b[0m, former Chancellor of \u001b[94mGermany(LOC)\u001b[0m, recently visited the \u001b[94mUnited States(LOC)\u001b[0m to discuss climate change policies.\n",
      "               Tekst Typ Pozycja Pewność\n",
      "                  El PER     0-2   0.985\n",
      "           ##on Musk PER     2-9   0.924\n",
      "              SpaceX ORG   22-28   0.999\n",
      "               Tesla ORG   33-38   0.994\n",
      "Kennedy Space Center LOC 102-122   0.990\n",
      "             Florida LOC 126-133   1.000\n",
      "           Apple Inc ORG 146-155   1.000\n",
      "          California LOC 196-206   1.000\n",
      "       Angela Merkel PER 208-221   0.999\n",
      "             Germany LOC 244-251   1.000\n",
      "       United States LOC 274-287   1.000\n"
     ]
    }
   ],
   "source": [
    "text = (\"Elon Musk, the CEO of SpaceX and Tesla, announced a new rocket launch \"\n",
    "            \"scheduled for next month at the Kennedy Space Center in Florida. \"\n",
    "            \"Meanwhile, Apple Inc. is planning a major product release in California. \"\n",
    "            \"Angela Merkel, former Chancellor of Germany, recently visited the \"\n",
    "            \"United States to discuss climate change policies.\")\n",
    "    \n",
    "print(text)\n",
    "\n",
    "nlp, bert_ner = get_models()\n",
    "\n",
    "print(f\"\\n{Colors.BOLD}SpaCy{Colors.ENDC}\")\n",
    "spacy_entities = analyse_spacy_ner(text, nlp)\n",
    "display_results(text, spacy_entities, \"SpaCy NER\")\n",
    "display_entities(spacy_entities, \"SpaCy\")\n",
    "\n",
    "\n",
    "print(f\"\\n{Colors.BOLD}BERT{Colors.ENDC}\")\n",
    "bert_entities = analyse_bert_ner(text, bert_ner)\n",
    "display_results(text, bert_entities, \"BERT NER\")\n",
    "display_entities(bert_entities, \"BERT\")"
   ]
  },
  {
   "cell_type": "code",
   "execution_count": null,
   "metadata": {},
   "outputs": [
    {
     "name": "stdout",
     "output_type": "stream",
     "text": [
      "Elon Musk, the CEO of SpaceX and Tesla, announced a new rocket launch scheduled for next month at the Kennedy Space Center in Florida. Meanwhile, Apple Inc. is planning a major product release in California. Angela Merkel, former Chancellor of Germany, recently visited the United States to discuss climate change policies.\n"
     ]
    },
    {
     "name": "stderr",
     "output_type": "stream",
     "text": [
      "Some weights of the model checkpoint at dslim/bert-base-NER were not used when initializing BertForTokenClassification: ['bert.pooler.dense.bias', 'bert.pooler.dense.weight']\n",
      "- This IS expected if you are initializing BertForTokenClassification from the checkpoint of a model trained on another task or with another architecture (e.g. initializing a BertForSequenceClassification model from a BertForPreTraining model).\n",
      "- This IS NOT expected if you are initializing BertForTokenClassification from the checkpoint of a model that you expect to be exactly identical (initializing a BertForSequenceClassification model from a BertForSequenceClassification model).\n",
      "Device set to use mps:0\n"
     ]
    },
    {
     "name": "stdout",
     "output_type": "stream",
     "text": [
      "\n",
      "\u001b[1mSpaCy\u001b[0m\n",
      "\u001b[91mElon Musk(PERSON)\u001b[0m, the CEO of SpaceX and \u001b[92mTesla(ORG)\u001b[0m, announced a new rocket launch scheduled for \u001b[96mnext month(DATE)\u001b[0m at \u001b[95mthe Kennedy Space Center(FAC)\u001b[0m in \u001b[93mFlorida(GPE)\u001b[0m. Meanwhile, \u001b[92mApple Inc.(ORG)\u001b[0m is planning a major product release in \u001b[93mCalifornia(GPE)\u001b[0m. \u001b[91mAngela Merkel(PERSON)\u001b[0m, former Chancellor of \u001b[93mGermany(GPE)\u001b[0m, recently visited \u001b[93mthe United States(GPE)\u001b[0m to discuss climate change policies.\n",
      "                   Tekst    Typ Pozycja                                         Opis\n",
      "               Elon Musk PERSON     0-9                  People, including fictional\n",
      "                   Tesla    ORG   33-38      Companies, agencies, institutions, etc.\n",
      "              next month   DATE   84-94        Absolute or relative dates or periods\n",
      "the Kennedy Space Center    FAC  98-122 Buildings, airports, highways, bridges, etc.\n",
      "                 Florida    GPE 126-133                    Countries, cities, states\n",
      "              Apple Inc.    ORG 146-156      Companies, agencies, institutions, etc.\n",
      "              California    GPE 196-206                    Countries, cities, states\n",
      "           Angela Merkel PERSON 208-221                  People, including fictional\n",
      "                 Germany    GPE 244-251                    Countries, cities, states\n",
      "       the United States    GPE 270-287                    Countries, cities, states\n",
      "\n",
      "\u001b[1mBERT\u001b[0m\n",
      "\u001b[91mEl(PER)\u001b[0m\u001b[91mon Musk(PER)\u001b[0m, the CEO of \u001b[92mSpaceX(ORG)\u001b[0m and \u001b[92mTesla(ORG)\u001b[0m, announced a new rocket launch scheduled for next month at the \u001b[94mKennedy Space Center(LOC)\u001b[0m in \u001b[94mFlorida(LOC)\u001b[0m. Meanwhile, \u001b[92mApple Inc(ORG)\u001b[0m. is planning a major product release in \u001b[94mCalifornia(LOC)\u001b[0m. \u001b[91mAngela Merkel(PER)\u001b[0m, former Chancellor of \u001b[94mGermany(LOC)\u001b[0m, recently visited the \u001b[94mUnited States(LOC)\u001b[0m to discuss climate change policies.\n",
      "               Tekst Typ Pozycja Pewność\n",
      "                  El PER     0-2   0.985\n",
      "           ##on Musk PER     2-9   0.924\n",
      "              SpaceX ORG   22-28   0.999\n",
      "               Tesla ORG   33-38   0.994\n",
      "Kennedy Space Center LOC 102-122   0.990\n",
      "             Florida LOC 126-133   1.000\n",
      "           Apple Inc ORG 146-155   1.000\n",
      "          California LOC 196-206   1.000\n",
      "       Angela Merkel PER 208-221   0.999\n",
      "             Germany LOC 244-251   1.000\n",
      "       United States LOC 274-287   1.000\n"
     ]
    }
   ],
   "source": [
    "\n",
    "]\n",
    "    \n",
    "\n",
    "\n",
    "def main():\n",
    "    text = (\"Elon Musk, the CEO of SpaceX and Tesla, announced a new rocket launch \"\n",
    "            \"scheduled for next month at the Kennedy Space Center in Florida. \"\n",
    "            \"Meanwhile, Apple Inc. is planning a major product release in California. \"\n",
    "            \"Angela Merkel, former Chancellor of Germany, recently visited the \"\n",
    "            \"United States to discuss climate change policies.\")\n",
    "    \n",
    "    print(text)\n",
    "    \n",
    "    nlp, bert_ner = setup_models()\n",
    "    if nlp is None:\n",
    "        return\n",
    "    \n",
    "    print(f\"\\n{Colors.BOLD}SpaCy{Colors.ENDC}\")\n",
    "    spacy_entities = spacy_ner_analysis(text, nlp)\n",
    "    display_colored_results(text, spacy_entities, \"SpaCy NER\")\n",
    "    display_entities_table(spacy_entities, \"SpaCy\")\n",
    "    \n",
    "    if bert_ner is not None:\n",
    "        print(f\"\\n{Colors.BOLD}BERT{Colors.ENDC}\")\n",
    "        bert_entities = bert_ner_analysis(text, bert_ner)\n",
    "        display_colored_results(text, bert_entities, \"BERT NER\")\n",
    "        display_entities_table(bert_entities, \"BERT\")\n",
    "        \n",
    "\n",
    "main()"
   ]
  },
  {
   "cell_type": "code",
   "execution_count": null,
   "metadata": {},
   "outputs": [],
   "source": []
  }
 ],
 "metadata": {
  "colab": {
   "provenance": []
  },
  "kernelspec": {
   "display_name": "linguistic-engineering-pjatk (3.9.22)",
   "language": "python",
   "name": "python3"
  },
  "language_info": {
   "codemirror_mode": {
    "name": "ipython",
    "version": 3
   },
   "file_extension": ".py",
   "mimetype": "text/x-python",
   "name": "python",
   "nbconvert_exporter": "python",
   "pygments_lexer": "ipython3",
   "version": "3.9.22"
  },
  "widgets": {
   "application/vnd.jupyter.widget-state+json": {
    "0b9330675d104c51bc56d456217b2edb": {
     "model_module": "@jupyter-widgets/controls",
     "model_module_version": "1.5.0",
     "model_name": "IntSliderModel",
     "state": {
      "_dom_classes": [],
      "_model_module": "@jupyter-widgets/controls",
      "_model_module_version": "1.5.0",
      "_model_name": "IntSliderModel",
      "_view_count": null,
      "_view_module": "@jupyter-widgets/controls",
      "_view_module_version": "1.5.0",
      "_view_name": "IntSliderView",
      "continuous_update": true,
      "description": "digital_data_coocurrences",
      "description_tooltip": null,
      "disabled": false,
      "layout": "IPY_MODEL_3317b2f6dcd14430bdd79f500f03eb14",
      "max": 3,
      "min": -1,
      "orientation": "horizontal",
      "readout": true,
      "readout_format": "d",
      "step": 1,
      "style": "IPY_MODEL_d240ce798af64e57bba5e16c4d73f1e5",
      "value": 2
     }
    },
    "0e11c7e093de4d16b199d7b06280d1d2": {
     "model_module": "@jupyter-widgets/base",
     "model_module_version": "1.2.0",
     "model_name": "LayoutModel",
     "state": {
      "_model_module": "@jupyter-widgets/base",
      "_model_module_version": "1.2.0",
      "_model_name": "LayoutModel",
      "_view_count": null,
      "_view_module": "@jupyter-widgets/base",
      "_view_module_version": "1.2.0",
      "_view_name": "LayoutView",
      "align_content": null,
      "align_items": null,
      "align_self": null,
      "border": null,
      "bottom": null,
      "display": null,
      "flex": null,
      "flex_flow": null,
      "grid_area": null,
      "grid_auto_columns": null,
      "grid_auto_flow": null,
      "grid_auto_rows": null,
      "grid_column": null,
      "grid_gap": null,
      "grid_row": null,
      "grid_template_areas": null,
      "grid_template_columns": null,
      "grid_template_rows": null,
      "height": null,
      "justify_content": null,
      "justify_items": null,
      "left": null,
      "margin": null,
      "max_height": null,
      "max_width": null,
      "min_height": null,
      "min_width": null,
      "object_fit": null,
      "object_position": null,
      "order": null,
      "overflow": null,
      "overflow_x": null,
      "overflow_y": null,
      "padding": null,
      "right": null,
      "top": null,
      "visibility": null,
      "width": null
     }
    },
    "3317b2f6dcd14430bdd79f500f03eb14": {
     "model_module": "@jupyter-widgets/base",
     "model_module_version": "1.2.0",
     "model_name": "LayoutModel",
     "state": {
      "_model_module": "@jupyter-widgets/base",
      "_model_module_version": "1.2.0",
      "_model_name": "LayoutModel",
      "_view_count": null,
      "_view_module": "@jupyter-widgets/base",
      "_view_module_version": "1.2.0",
      "_view_name": "LayoutView",
      "align_content": null,
      "align_items": null,
      "align_self": null,
      "border": null,
      "bottom": null,
      "display": null,
      "flex": null,
      "flex_flow": null,
      "grid_area": null,
      "grid_auto_columns": null,
      "grid_auto_flow": null,
      "grid_auto_rows": null,
      "grid_column": null,
      "grid_gap": null,
      "grid_row": null,
      "grid_template_areas": null,
      "grid_template_columns": null,
      "grid_template_rows": null,
      "height": null,
      "justify_content": null,
      "justify_items": null,
      "left": null,
      "margin": null,
      "max_height": null,
      "max_width": null,
      "min_height": null,
      "min_width": null,
      "object_fit": null,
      "object_position": null,
      "order": null,
      "overflow": null,
      "overflow_x": null,
      "overflow_y": null,
      "padding": null,
      "right": null,
      "top": null,
      "visibility": null,
      "width": null
     }
    },
    "354860765c2f47e2b9e6dc9c232a9518": {
     "model_module": "@jupyter-widgets/output",
     "model_module_version": "1.0.0",
     "model_name": "OutputModel",
     "state": {
      "_dom_classes": [],
      "_model_module": "@jupyter-widgets/output",
      "_model_module_version": "1.0.0",
      "_model_name": "OutputModel",
      "_view_count": null,
      "_view_module": "@jupyter-widgets/output",
      "_view_module_version": "1.0.0",
      "_view_name": "OutputView",
      "layout": "IPY_MODEL_844f37740f434be28c1da606d5411ab8",
      "msg_id": "",
      "outputs": [
       {
        "data": {
         "image/png": "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\n",
         "text/plain": "<Figure size 640x480 with 1 Axes>"
        },
        "metadata": {},
        "output_type": "display_data"
       }
      ]
     }
    },
    "844f37740f434be28c1da606d5411ab8": {
     "model_module": "@jupyter-widgets/base",
     "model_module_version": "1.2.0",
     "model_name": "LayoutModel",
     "state": {
      "_model_module": "@jupyter-widgets/base",
      "_model_module_version": "1.2.0",
      "_model_name": "LayoutModel",
      "_view_count": null,
      "_view_module": "@jupyter-widgets/base",
      "_view_module_version": "1.2.0",
      "_view_name": "LayoutView",
      "align_content": null,
      "align_items": null,
      "align_self": null,
      "border": null,
      "bottom": null,
      "display": null,
      "flex": null,
      "flex_flow": null,
      "grid_area": null,
      "grid_auto_columns": null,
      "grid_auto_flow": null,
      "grid_auto_rows": null,
      "grid_column": null,
      "grid_gap": null,
      "grid_row": null,
      "grid_template_areas": null,
      "grid_template_columns": null,
      "grid_template_rows": null,
      "height": "350px",
      "justify_content": null,
      "justify_items": null,
      "left": null,
      "margin": null,
      "max_height": null,
      "max_width": null,
      "min_height": null,
      "min_width": null,
      "object_fit": null,
      "object_position": null,
      "order": null,
      "overflow": null,
      "overflow_x": null,
      "overflow_y": null,
      "padding": null,
      "right": null,
      "top": null,
      "visibility": null,
      "width": null
     }
    },
    "d240ce798af64e57bba5e16c4d73f1e5": {
     "model_module": "@jupyter-widgets/controls",
     "model_module_version": "1.5.0",
     "model_name": "SliderStyleModel",
     "state": {
      "_model_module": "@jupyter-widgets/controls",
      "_model_module_version": "1.5.0",
      "_model_name": "SliderStyleModel",
      "_view_count": null,
      "_view_module": "@jupyter-widgets/base",
      "_view_module_version": "1.2.0",
      "_view_name": "StyleView",
      "description_width": "",
      "handle_color": null
     }
    },
    "de4c35ddd28543f3b17eb1798bc8abd4": {
     "model_module": "@jupyter-widgets/controls",
     "model_module_version": "1.5.0",
     "model_name": "VBoxModel",
     "state": {
      "_dom_classes": [
       "widget-interact"
      ],
      "_model_module": "@jupyter-widgets/controls",
      "_model_module_version": "1.5.0",
      "_model_name": "VBoxModel",
      "_view_count": null,
      "_view_module": "@jupyter-widgets/controls",
      "_view_module_version": "1.5.0",
      "_view_name": "VBoxView",
      "box_style": "",
      "children": [
       "IPY_MODEL_0b9330675d104c51bc56d456217b2edb",
       "IPY_MODEL_354860765c2f47e2b9e6dc9c232a9518"
      ],
      "layout": "IPY_MODEL_0e11c7e093de4d16b199d7b06280d1d2"
     }
    }
   }
  }
 },
 "nbformat": 4,
 "nbformat_minor": 0
}
