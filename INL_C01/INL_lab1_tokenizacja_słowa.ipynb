{
 "cells": [
  {
   "cell_type": "markdown",
   "metadata": {
    "id": "32s2BT904GEe"
   },
   "source": [
    "# Ćwiczenia 1\n",
    "\n",
    "Import pakietu nltk (natural language toolkit),\n",
    "\n",
    "jednej z bibliotek służacych do przetwarzania danych w języku naturalnym.\n",
    "\n",
    "Sklada się z wielu modułów i świetnie nadaje się do nauki przetwarzania w języku angielskim.\n",
    "\n",
    "Zazwyczaj tej biblioteki uzywamy do początkowych etapów przetwarzania(tokenizacja, parsowanie, tagowanie)"
   ]
  },
  {
   "cell_type": "code",
   "execution_count": 16,
   "metadata": {},
   "outputs": [],
   "source": [
    "# !pip install nltk"
   ]
  },
  {
   "cell_type": "code",
   "execution_count": 17,
   "metadata": {
    "id": "3aqFlDVd4OLl"
   },
   "outputs": [],
   "source": [
    "#pip install nltk\n",
    "#w colabie zbędne\n",
    "import nltk"
   ]
  },
  {
   "cell_type": "markdown",
   "metadata": {
    "id": "sfyYKRYW4yrf"
   },
   "source": [
    "Można pobrać od razu wszystkie pakiety nltk, ale zazwyczaj wszystkich nie potrzebujemy. Więc pobieramy tylko wybrane\n",
    "\n",
    "wszystkie: nltk.download()\n",
    "\n",
    "wybrane: nltk.download('nazwa biblioteki')\n",
    "\n",
    "\n",
    "pobieramy biblioteke punkt, której użyjemy za chwile\n",
    "\n",
    "Funkcje pakietu znajdujemy w dokumentacji do niego, część z nich ma intuicyjne nazwy"
   ]
  },
  {
   "cell_type": "code",
   "execution_count": 18,
   "metadata": {
    "colab": {
     "base_uri": "https://localhost:8080/"
    },
    "id": "vwiDmGOh5SLZ",
    "outputId": "35132954-af0f-4ba3-a078-c565c3239869",
    "scrolled": true
   },
   "outputs": [
    {
     "name": "stderr",
     "output_type": "stream",
     "text": [
      "[nltk_data] Downloading package punkt to /Users/mchojna/nltk_data...\n",
      "[nltk_data]   Package punkt is already up-to-date!\n",
      "[nltk_data] Error loading stop: Package 'stop' not found in index\n",
      "[nltk_data] Downloading package stopwords to\n",
      "[nltk_data]     /Users/mchojna/nltk_data...\n",
      "[nltk_data]   Package stopwords is already up-to-date!\n",
      "[nltk_data] Downloading collection 'book'\n",
      "[nltk_data]    | \n",
      "[nltk_data]    | Downloading package abc to\n",
      "[nltk_data]    |     /Users/mchojna/nltk_data...\n",
      "[nltk_data]    |   Package abc is already up-to-date!\n",
      "[nltk_data]    | Downloading package brown to\n",
      "[nltk_data]    |     /Users/mchojna/nltk_data...\n",
      "[nltk_data]    |   Package brown is already up-to-date!\n",
      "[nltk_data]    | Downloading package chat80 to\n",
      "[nltk_data]    |     /Users/mchojna/nltk_data...\n",
      "[nltk_data]    |   Package chat80 is already up-to-date!\n",
      "[nltk_data]    | Downloading package cmudict to\n",
      "[nltk_data]    |     /Users/mchojna/nltk_data...\n",
      "[nltk_data]    |   Package cmudict is already up-to-date!\n",
      "[nltk_data]    | Downloading package conll2000 to\n",
      "[nltk_data]    |     /Users/mchojna/nltk_data...\n",
      "[nltk_data]    |   Package conll2000 is already up-to-date!\n",
      "[nltk_data]    | Downloading package conll2002 to\n",
      "[nltk_data]    |     /Users/mchojna/nltk_data...\n",
      "[nltk_data]    |   Package conll2002 is already up-to-date!\n",
      "[nltk_data]    | Downloading package dependency_treebank to\n",
      "[nltk_data]    |     /Users/mchojna/nltk_data...\n",
      "[nltk_data]    |   Package dependency_treebank is already up-to-date!\n",
      "[nltk_data]    | Downloading package genesis to\n",
      "[nltk_data]    |     /Users/mchojna/nltk_data...\n",
      "[nltk_data]    |   Package genesis is already up-to-date!\n",
      "[nltk_data]    | Downloading package gutenberg to\n",
      "[nltk_data]    |     /Users/mchojna/nltk_data...\n",
      "[nltk_data]    |   Package gutenberg is already up-to-date!\n",
      "[nltk_data]    | Downloading package ieer to\n",
      "[nltk_data]    |     /Users/mchojna/nltk_data...\n",
      "[nltk_data]    |   Package ieer is already up-to-date!\n",
      "[nltk_data]    | Downloading package inaugural to\n",
      "[nltk_data]    |     /Users/mchojna/nltk_data...\n",
      "[nltk_data]    |   Package inaugural is already up-to-date!\n",
      "[nltk_data]    | Downloading package movie_reviews to\n",
      "[nltk_data]    |     /Users/mchojna/nltk_data...\n",
      "[nltk_data]    |   Unzipping corpora/movie_reviews.zip.\n",
      "[nltk_data]    | Downloading package nps_chat to\n",
      "[nltk_data]    |     /Users/mchojna/nltk_data...\n",
      "[nltk_data]    |   Package nps_chat is already up-to-date!\n",
      "[nltk_data]    | Downloading package names to\n",
      "[nltk_data]    |     /Users/mchojna/nltk_data...\n",
      "[nltk_data]    |   Package names is already up-to-date!\n",
      "[nltk_data]    | Downloading package ppattach to\n",
      "[nltk_data]    |     /Users/mchojna/nltk_data...\n",
      "[nltk_data]    |   Package ppattach is already up-to-date!\n",
      "[nltk_data]    | Downloading package reuters to\n",
      "[nltk_data]    |     /Users/mchojna/nltk_data...\n",
      "[nltk_data]    |   Package reuters is already up-to-date!\n",
      "[nltk_data]    | Downloading package senseval to\n",
      "[nltk_data]    |     /Users/mchojna/nltk_data...\n",
      "[nltk_data]    |   Package senseval is already up-to-date!\n",
      "[nltk_data]    | Downloading package state_union to\n",
      "[nltk_data]    |     /Users/mchojna/nltk_data...\n",
      "[nltk_data]    |   Package state_union is already up-to-date!\n",
      "[nltk_data]    | Downloading package stopwords to\n",
      "[nltk_data]    |     /Users/mchojna/nltk_data...\n",
      "[nltk_data]    |   Package stopwords is already up-to-date!\n",
      "[nltk_data]    | Downloading package swadesh to\n",
      "[nltk_data]    |     /Users/mchojna/nltk_data...\n",
      "[nltk_data]    |   Package swadesh is already up-to-date!\n",
      "[nltk_data]    | Downloading package timit to\n",
      "[nltk_data]    |     /Users/mchojna/nltk_data...\n",
      "[nltk_data]    |   Package timit is already up-to-date!\n",
      "[nltk_data]    | Downloading package treebank to\n",
      "[nltk_data]    |     /Users/mchojna/nltk_data...\n",
      "[nltk_data]    |   Package treebank is already up-to-date!\n",
      "[nltk_data]    | Downloading package toolbox to\n",
      "[nltk_data]    |     /Users/mchojna/nltk_data...\n",
      "[nltk_data]    |   Package toolbox is already up-to-date!\n",
      "[nltk_data]    | Downloading package udhr to\n",
      "[nltk_data]    |     /Users/mchojna/nltk_data...\n",
      "[nltk_data]    |   Package udhr is already up-to-date!\n",
      "[nltk_data]    | Downloading package udhr2 to\n",
      "[nltk_data]    |     /Users/mchojna/nltk_data...\n",
      "[nltk_data]    |   Package udhr2 is already up-to-date!\n",
      "[nltk_data]    | Downloading package unicode_samples to\n",
      "[nltk_data]    |     /Users/mchojna/nltk_data...\n",
      "[nltk_data]    |   Package unicode_samples is already up-to-date!\n",
      "[nltk_data]    | Downloading package webtext to\n",
      "[nltk_data]    |     /Users/mchojna/nltk_data...\n",
      "[nltk_data]    |   Package webtext is already up-to-date!\n",
      "[nltk_data]    | Downloading package wordnet to\n",
      "[nltk_data]    |     /Users/mchojna/nltk_data...\n",
      "[nltk_data]    |   Package wordnet is already up-to-date!\n",
      "[nltk_data]    | Downloading package wordnet_ic to\n",
      "[nltk_data]    |     /Users/mchojna/nltk_data...\n",
      "[nltk_data]    |   Package wordnet_ic is already up-to-date!\n",
      "[nltk_data]    | Downloading package words to\n",
      "[nltk_data]    |     /Users/mchojna/nltk_data...\n",
      "[nltk_data]    |   Package words is already up-to-date!\n",
      "[nltk_data]    | Downloading package maxent_treebank_pos_tagger to\n",
      "[nltk_data]    |     /Users/mchojna/nltk_data...\n",
      "[nltk_data]    |   Package maxent_treebank_pos_tagger is already up-\n",
      "[nltk_data]    |       to-date!\n",
      "[nltk_data]    | Downloading package maxent_ne_chunker to\n",
      "[nltk_data]    |     /Users/mchojna/nltk_data...\n",
      "[nltk_data]    |   Package maxent_ne_chunker is already up-to-date!\n",
      "[nltk_data]    | Downloading package universal_tagset to\n",
      "[nltk_data]    |     /Users/mchojna/nltk_data...\n",
      "[nltk_data]    |   Package universal_tagset is already up-to-date!\n",
      "[nltk_data]    | Downloading package punkt to\n",
      "[nltk_data]    |     /Users/mchojna/nltk_data...\n",
      "[nltk_data]    |   Package punkt is already up-to-date!\n",
      "[nltk_data]    | Downloading package book_grammars to\n",
      "[nltk_data]    |     /Users/mchojna/nltk_data...\n",
      "[nltk_data]    |   Package book_grammars is already up-to-date!\n",
      "[nltk_data]    | Downloading package city_database to\n",
      "[nltk_data]    |     /Users/mchojna/nltk_data...\n",
      "[nltk_data]    |   Package city_database is already up-to-date!\n",
      "[nltk_data]    | Downloading package tagsets to\n",
      "[nltk_data]    |     /Users/mchojna/nltk_data...\n",
      "[nltk_data]    |   Package tagsets is already up-to-date!\n",
      "[nltk_data]    | Downloading package panlex_swadesh to\n",
      "[nltk_data]    |     /Users/mchojna/nltk_data...\n",
      "[nltk_data]    |   Package panlex_swadesh is already up-to-date!\n",
      "[nltk_data]    | Downloading package averaged_perceptron_tagger to\n",
      "[nltk_data]    |     /Users/mchojna/nltk_data...\n",
      "[nltk_data]    |   Package averaged_perceptron_tagger is already up-\n",
      "[nltk_data]    |       to-date!\n",
      "[nltk_data]    | \n",
      "[nltk_data]  Done downloading collection book\n"
     ]
    },
    {
     "data": {
      "text/plain": [
       "True"
      ]
     },
     "execution_count": 18,
     "metadata": {},
     "output_type": "execute_result"
    }
   ],
   "source": [
    "# nltk.download()\n",
    "nltk.download('punkt')\n",
    "nltk.download('stop')\n",
    "nltk.download('stopwords')\n",
    "nltk.download('book')"
   ]
  },
  {
   "cell_type": "markdown",
   "metadata": {
    "id": "VdZ8FDIPd673"
   },
   "source": [
    "Możemy teraz wyświetlić tekst pierwszej książki (pierwsze 100 słow),\n",
    "\n",
    "policzyć występujące w nim słowa\n",
    "\n",
    "i\n",
    "\n",
    " policzyć ilosć wystapień słowa whale w całym tekscie(case sensitive)"
   ]
  },
  {
   "cell_type": "code",
   "execution_count": 19,
   "metadata": {},
   "outputs": [],
   "source": [
    "from nltk import book"
   ]
  },
  {
   "cell_type": "code",
   "execution_count": 20,
   "metadata": {
    "colab": {
     "base_uri": "https://localhost:8080/"
    },
    "id": "TGB92T17eEpc",
    "outputId": "51b89fc1-1fa3-4b95-a634-d8f5224bc6d6"
   },
   "outputs": [
    {
     "name": "stdout",
     "output_type": "stream",
     "text": [
      "['[', 'Moby', 'Dick', 'by', 'Herman', 'Melville', '1851', ']', 'ETYMOLOGY', '.', '(', 'Supplied', 'by', 'a', 'Late', 'Consumptive', 'Usher', 'to', 'a', 'Grammar', 'School', ')', 'The', 'pale', 'Usher', '--', 'threadbare', 'in', 'coat', ',', 'heart', ',', 'body', ',', 'and', 'brain', ';', 'I', 'see', 'him', 'now', '.', 'He', 'was', 'ever', 'dusting', 'his', 'old', 'lexicons', 'and', 'grammars', ',', 'with', 'a', 'queer', 'handkerchief', ',', 'mockingly', 'embellished', 'with', 'all', 'the', 'gay', 'flags', 'of', 'all', 'the', 'known', 'nations', 'of', 'the', 'world', '.', 'He', 'loved', 'to', 'dust', 'his', 'old', 'grammars', ';', 'it', 'somehow', 'mildly', 'reminded', 'him', 'of', 'his', 'mortality', '.', '\"', 'While', 'you', 'take', 'in', 'hand', 'to', 'school', 'others', ',']\n",
      "260819\n",
      "906\n"
     ]
    }
   ],
   "source": [
    "text1 = book.text1\n",
    "print(text1[:100] )\n",
    "print(len(text1))\n",
    "print(text1.count(\"whale\"))"
   ]
  },
  {
   "cell_type": "markdown",
   "metadata": {
    "id": "iZauUo--doy_"
   },
   "source": [
    "Możemy wyświetlić kontekst oraz słowa które najczęsciej występują w kontekscie danego słowa "
   ]
  },
  {
   "cell_type": "code",
   "execution_count": 21,
   "metadata": {
    "colab": {
     "base_uri": "https://localhost:8080/"
    },
    "id": "wav9RyTLbgst",
    "outputId": "2132063a-440f-4647-b131-9fbad4541796"
   },
   "outputs": [
    {
     "name": "stdout",
     "output_type": "stream",
     "text": [
      "Displaying 25 of 1226 matches:\n",
      "s , and to teach them by what name a whale - fish is to be called in our tongue\n",
      "t which is not true .\" -- HACKLUYT \" WHALE . ... Sw . and Dan . HVAL . This ani\n",
      "ulted .\" -- WEBSTER ' S DICTIONARY \" WHALE . ... It is more immediately from th\n",
      "ISH . WAL , DUTCH . HWAL , SWEDISH . WHALE , ICELANDIC . WHALE , ENGLISH . BALE\n",
      "HWAL , SWEDISH . WHALE , ICELANDIC . WHALE , ENGLISH . BALEINE , FRENCH . BALLE\n",
      "least , take the higgledy - piggledy whale statements , however authentic , in \n",
      " dreadful gulf of this monster ' s ( whale ' s ) mouth , are immediately lost a\n",
      " patient Job .\" -- RABELAIS . \" This whale ' s liver was two cartloads .\" -- ST\n",
      " Touching that monstrous bulk of the whale or ork we have received nothing cert\n",
      " of oil will be extracted out of one whale .\" -- IBID . \" HISTORY OF LIFE AND D\n",
      "ise .\" -- KING HENRY . \" Very like a whale .\" -- HAMLET . \" Which to secure , n\n",
      "restless paine , Like as the wounded whale to shore flies thro ' the maine .\" -\n",
      ". OF SPERMA CETI AND THE SPERMA CETI WHALE . VIDE HIS V . E . \" Like Spencer ' \n",
      "t had been a sprat in the mouth of a whale .\" -- PILGRIM ' S PROGRESS . \" That \n",
      "EN ' S ANNUS MIRABILIS . \" While the whale is floating at the stern of the ship\n",
      "e ship called The Jonas - in - the - Whale . ... Some say the whale can ' t ope\n",
      " in - the - Whale . ... Some say the whale can ' t open his mouth , but that is\n",
      " masts to see whether they can see a whale , for the first discoverer has a duc\n",
      " for his pains . ... I was told of a whale taken near Shetland , that had above\n",
      "oneers told me that he caught once a whale in Spitzbergen that was white all ov\n",
      "2 , one eighty feet in length of the whale - bone kind came in , which ( as I w\n",
      "n master and kill this Sperma - ceti whale , for I could never hear of any of t\n",
      " . 1729 . \"... and the breath of the whale is frequendy attended with such an i\n",
      "ed with hoops and armed with ribs of whale .\" -- RAPE OF THE LOCK . \" If we com\n",
      "contemptible in the comparison . The whale is doubtless the largest animal in c\n",
      "--------------------\n",
      "ship boat sea time captain world man deck pequod other whales air\n",
      "water head crew line thing side way body\n"
     ]
    }
   ],
   "source": [
    "text1.concordance(\"whale\")\n",
    "print(\"--------------------\")\n",
    "text1.similar(\"whale\")"
   ]
  },
  {
   "cell_type": "markdown",
   "metadata": {
    "id": "LLJzY5oLfHam"
   },
   "source": [
    "Mozemy też zobrazować rozkład słów  w tekście na wykresie"
   ]
  },
  {
   "cell_type": "code",
   "execution_count": 22,
   "metadata": {
    "scrolled": true
   },
   "outputs": [],
   "source": [
    "# !pip install matplotlib"
   ]
  },
  {
   "cell_type": "code",
   "execution_count": 23,
   "metadata": {
    "colab": {
     "base_uri": "https://localhost:8080/",
     "height": 927
    },
    "id": "SrnWl5uzfMKd",
    "outputId": "a464388f-ce9f-4ec6-c7fa-990f6c65367e"
   },
   "outputs": [
    {
     "data": {
      "image/png": "[encoded data removed]",
      "text/plain": [
       "<Figure size 640x480 with 1 Axes>"
      ]
     },
     "metadata": {},
     "output_type": "display_data"
    },
    {
     "data": {
      "image/png": "[encoded data removed]",
      "text/plain": [
       "<Figure size 640x480 with 1 Axes>"
      ]
     },
     "metadata": {},
     "output_type": "display_data"
    }
   ],
   "source": [
    "book.text1.dispersion_plot([\"sea\",\"boat\",\"whale\",\"orange\",\"sky\"])\n",
    "book.text4.dispersion_plot([\"sea\",\"boat\",\"whale\",\"orange\",\"sky\"])"
   ]
  },
  {
   "cell_type": "markdown",
   "metadata": {
    "id": "RzLfer-egYuF"
   },
   "source": [
    "Możemy też znależć ilosc wystapień konretnego słowa"
   ]
  },
  {
   "cell_type": "code",
   "execution_count": 24,
   "metadata": {},
   "outputs": [],
   "source": [
    "from nltk.probability import FreqDist"
   ]
  },
  {
   "cell_type": "code",
   "execution_count": 25,
   "metadata": {
    "colab": {
     "base_uri": "https://localhost:8080/"
    },
    "id": "GEbX5sDggRPP",
    "outputId": "920491ae-ff62-4ec4-91f1-8be86538434b"
   },
   "outputs": [
    {
     "data": {
      "text/plain": [
       "906"
      ]
     },
     "execution_count": 25,
     "metadata": {},
     "output_type": "execute_result"
    }
   ],
   "source": [
    "fdist1 = FreqDist(text1)\n",
    "fdist1['whale']"
   ]
  },
  {
   "cell_type": "markdown",
   "metadata": {
    "id": "UDvnKasYhUR5"
   },
   "source": [
    "Lub narysować wykres słów od najczęstszych"
   ]
  },
  {
   "cell_type": "code",
   "execution_count": 26,
   "metadata": {
    "colab": {
     "base_uri": "https://localhost:8080/",
     "height": 481
    },
    "id": "DRdlrgP1hYpY",
    "outputId": "40e18f22-a7d8-49c8-8f59-0e4c3a2ad70a"
   },
   "outputs": [
    {
     "data": {
      "text/plain": [
       "<Axes: xlabel='Samples', ylabel='Counts'>"
      ]
     },
     "execution_count": 26,
     "metadata": {},
     "output_type": "execute_result"
    },
    {
     "data": {
      "image/png": "[encoded data removed]",
      "text/plain": [
       "<Figure size 640x480 with 1 Axes>"
      ]
     },
     "metadata": {},
     "output_type": "display_data"
    }
   ],
   "source": [
    "fdist1.plot(15,cumulative=False)"
   ]
  },
  {
   "cell_type": "markdown",
   "metadata": {
    "id": "h7PJPj9Phw4D"
   },
   "source": [
    "Mozna też zliczać słowa kumulatywnie"
   ]
  },
  {
   "cell_type": "code",
   "execution_count": 27,
   "metadata": {
    "colab": {
     "base_uri": "https://localhost:8080/"
    },
    "id": "AdqXVh_ehtAQ",
    "outputId": "281238a0-d5d5-4fe2-d245-18c7bc805d0f"
   },
   "outputs": [
    {
     "name": "stdout",
     "output_type": "stream",
     "text": [
      "   7.17% ,  18713\n",
      "  12.44% the  13721\n",
      "  15.07% .   6862\n",
      "  17.57% of   6536\n",
      "  19.88% and   6024\n",
      "  21.63% a   4569\n",
      "  23.38% to   4542\n",
      "  24.94% ;   4072\n",
      "  26.44% in   3916\n",
      "  27.58% that   2982\n",
      "  28.61% '   2684\n",
      "  29.59% -   2552\n",
      "  30.53% his   2459\n"
     ]
    }
   ],
   "source": [
    "cumulative = 0.0\n",
    "for word,frq in fdist1.most_common():\n",
    "   cumulative += frq * 100 / fdist1.N()\n",
    "   print (\" %6.2f%% %s %6d\" % ( cumulative, word,frq))\n",
    "   if cumulative > 30 : \tbreak"
   ]
  },
  {
   "cell_type": "markdown",
   "metadata": {
    "id": "GxaBTKoAg5el"
   },
   "source": [
    "Pakiet NLTK bardzo ułatwia pracę, mając zdefiniowane funkcje/metody. Poniżej przykład kilku bardzo użytecznych"
   ]
  },
  {
   "cell_type": "code",
   "execution_count": 28,
   "metadata": {
    "colab": {
     "base_uri": "https://localhost:8080/"
    },
    "id": "TelZ45NBiQ_G",
    "outputId": "e946fcb4-3fb5-4e90-e142-2a1fabf03451"
   },
   "outputs": [
    {
     "name": "stdout",
     "output_type": "stream",
     "text": [
      "ALa  starts with  a :  False\n",
      "ALa  ends with  a :  True\n"
     ]
    },
    {
     "data": {
      "text/plain": [
       "False"
      ]
     },
     "execution_count": 28,
     "metadata": {},
     "output_type": "execute_result"
    }
   ],
   "source": [
    "s=\"ALa\"\n",
    "t=\"a\"\n",
    "print(s, \" starts with \", t,\": \",s.startswith(t)) #Test if s starts with t\n",
    "print(s, \" ends with \", t,\": \",s.endswith(t)) #Test if s ends with t\n",
    "t in s #Test if t is contained inside s\n",
    "s.islower() #Test if all cased characters in s are lowercase\n",
    "s.isupper() #Test if all cased characters in s are uppercase\n",
    "s.isalpha() #Test if all characters in s are alphabetic\n",
    "s.isalnum() #Test if all characters in s are alphanumeric\n",
    "s.isdigit() #Test if all characters in s are digits\n",
    "s.istitle() #Test if s is titlecased (all words in s have initial capitals)"
   ]
  },
  {
   "cell_type": "markdown",
   "metadata": {
    "id": "LWN0d6-gtKmp",
    "jp-MarkdownHeadingCollapsed": true
   },
   "source": [
    "# Zadanie 1\n",
    "Zainstalować bibliotekę book z pakietu nltk, zawierające teksty paru książek po angielsku.\n",
    "\n",
    "Będą one stanowiły dobrą bazę do ćwiczeń\n",
    "\n",
    "Następnie:\n",
    "\n",
    "*   Wyświetl ilosc wystąpień słów Their, their w pierwszych 200 z tekstu pierwszej książki z kolekcji book\n",
    "*    Wyświetl długosc całego tekstu szóstej książki oraz posortowane alfabetycznie słowa; użyj len() oraz sorted [wyświetl pierwsze 40 oraz okolice gdzie spodziewasz się prawdziwych słów czyli np miedzy 100 a 130]\n",
    "*   Używająć .concordance wyświetl otoczenie [kontekst] słowa sea w pierwszym tekście\n",
    "*   Wyświetl konteksty wspólne dla par słów (word, whale) oraz (cabin,deck), użyj .similar,\n",
    "*   Wyświetl wykresy rozkładu poniższych słów we wszystkich tekstach z pakietu book. Do którego tekstu pasują najlepiej?\n",
    "> honor, God, efforts, rights, help, work, promise\n",
    "*   Znajdż ilosc wystapien poniższych słów w tekście pierwszej książki i wyświetl zdobyte informacje\n",
    "> sea, president, boat\n",
    "*  Narysuj wykresy najczęstszych 10 słów w tekście 2 i 4. Spróbuj zgadnąć tematykę tekstów\n",
    "*   Poszukaj metody do znajdowania hapaksów [rozszerzenie fdist] (słów które mają tylko jedno wystąpienie) i znajdź takie słowa w tekście 1. Wyświetl je na ekranie\n",
    "\n",
    "\n",
    "\n",
    "\n",
    "\n",
    "\n",
    "\n",
    "\n",
    "\n",
    "\n",
    "\n",
    "\n",
    "\n",
    "\n",
    "\n",
    "\n",
    "\n",
    "\n",
    "\n",
    "\n",
    "\n",
    "\n",
    "\n"
   ]
  },
  {
   "cell_type": "markdown",
   "metadata": {
    "jp-MarkdownHeadingCollapsed": true
   },
   "source": [
    "## Zadanie 1.1"
   ]
  },
  {
   "cell_type": "code",
   "execution_count": 29,
   "metadata": {},
   "outputs": [],
   "source": [
    "text1 = book.text1"
   ]
  },
  {
   "cell_type": "code",
   "execution_count": 30,
   "metadata": {},
   "outputs": [
    {
     "data": {
      "text/plain": [
       "1"
      ]
     },
     "execution_count": 30,
     "metadata": {},
     "output_type": "execute_result"
    }
   ],
   "source": [
    "text1[:2500].count(\"Their\")"
   ]
  },
  {
   "cell_type": "code",
   "execution_count": 31,
   "metadata": {},
   "outputs": [
    {
     "data": {
      "text/plain": [
       "11"
      ]
     },
     "execution_count": 31,
     "metadata": {},
     "output_type": "execute_result"
    }
   ],
   "source": [
    "text1[:2500].count(\"their\")"
   ]
  },
  {
   "cell_type": "markdown",
   "metadata": {
    "jp-MarkdownHeadingCollapsed": true
   },
   "source": [
    "## Zadanie 1.2"
   ]
  },
  {
   "cell_type": "code",
   "execution_count": 32,
   "metadata": {},
   "outputs": [],
   "source": [
    "text6 = book.text6"
   ]
  },
  {
   "cell_type": "code",
   "execution_count": 33,
   "metadata": {},
   "outputs": [
    {
     "data": {
      "text/plain": [
       "16967"
      ]
     },
     "execution_count": 33,
     "metadata": {},
     "output_type": "execute_result"
    }
   ],
   "source": [
    "len(text6)"
   ]
  },
  {
   "cell_type": "code",
   "execution_count": 34,
   "metadata": {
    "scrolled": true
   },
   "outputs": [
    {
     "data": {
      "text/plain": [
       "['!',\n",
       " '!)',\n",
       " '!,',\n",
       " '!]',\n",
       " '#',\n",
       " \"'\",\n",
       " \"'!\",\n",
       " \"',\",\n",
       " \"'.\",\n",
       " \"'...\",\n",
       " \"'?\",\n",
       " '(',\n",
       " ',',\n",
       " \",'\",\n",
       " ',--',\n",
       " '-',\n",
       " '--',\n",
       " '--...',\n",
       " '.',\n",
       " \".'\",\n",
       " '.)',\n",
       " '..',\n",
       " '...',\n",
       " '...?',\n",
       " '...]',\n",
       " '1',\n",
       " '10',\n",
       " '11',\n",
       " '12',\n",
       " '13',\n",
       " '14',\n",
       " '15',\n",
       " '16',\n",
       " '17',\n",
       " '18',\n",
       " '19',\n",
       " '2',\n",
       " '20',\n",
       " '21',\n",
       " '22',\n",
       " '23',\n",
       " '24',\n",
       " '3',\n",
       " '4',\n",
       " '5',\n",
       " '6',\n",
       " '7',\n",
       " '8',\n",
       " '9',\n",
       " ':',\n",
       " ';',\n",
       " '?',\n",
       " '?!',\n",
       " 'A',\n",
       " 'ALL',\n",
       " 'AMAZING',\n",
       " 'ANIMATOR',\n",
       " 'ARMY',\n",
       " 'ARTHUR',\n",
       " 'Aaaaaaaaah',\n",
       " 'Aaaaaaaah',\n",
       " 'Aaaaaah',\n",
       " 'Aaaah',\n",
       " 'Aaaaugh',\n",
       " 'Aaagh',\n",
       " 'Aaah',\n",
       " 'Aaauggh',\n",
       " 'Aaaugh',\n",
       " 'Aaauugh',\n",
       " 'Aagh',\n",
       " 'Aah',\n",
       " 'Aauuggghhh',\n",
       " 'Aauuugh',\n",
       " 'Aauuuuugh',\n",
       " 'Aauuuves',\n",
       " 'Action',\n",
       " 'Actually',\n",
       " 'African',\n",
       " 'Ages',\n",
       " 'Aggh',\n",
       " 'Agh',\n",
       " 'Ah',\n",
       " 'Ahh',\n",
       " 'Alice',\n",
       " 'All',\n",
       " 'Allo',\n",
       " 'Almighty',\n",
       " 'Alright',\n",
       " 'Am',\n",
       " 'Amen',\n",
       " 'An',\n",
       " 'Anarcho',\n",
       " 'And',\n",
       " 'Angnor',\n",
       " 'Anthrax',\n",
       " 'Antioch',\n",
       " 'Anybody',\n",
       " 'Anyway',\n",
       " 'Apples',\n",
       " 'Aramaic',\n",
       " 'Are',\n",
       " 'Arimathea',\n",
       " 'Armaments',\n",
       " 'Arthur',\n",
       " 'As',\n",
       " 'Ask',\n",
       " 'Assyria',\n",
       " 'At',\n",
       " 'Attila',\n",
       " 'Augh',\n",
       " 'Autumn',\n",
       " 'Auuuuuuuugh',\n",
       " 'Away',\n",
       " 'Ay',\n",
       " 'Ayy',\n",
       " 'B',\n",
       " 'BEDEVERE',\n",
       " 'BLACK',\n",
       " 'BORS',\n",
       " 'BRIDE',\n",
       " 'BRIDGEKEEPER',\n",
       " 'BROTHER',\n",
       " 'Back',\n",
       " 'Bad',\n",
       " 'Badon',\n",
       " 'Battle',\n",
       " 'Be',\n",
       " 'Beast',\n",
       " 'Bedevere',\n",
       " 'Bedwere',\n",
       " 'Behold',\n",
       " 'Between',\n",
       " 'Beyond',\n",
       " 'Black',\n",
       " 'Bloody',\n",
       " 'Blue',\n",
       " 'Bon',\n",
       " 'Bones',\n",
       " 'Book',\n",
       " 'Bors',\n",
       " 'Brave',\n",
       " 'Bravely',\n",
       " 'Bravest',\n",
       " 'Bread',\n",
       " 'Bridge',\n",
       " 'Bring',\n",
       " 'Bristol',\n",
       " 'Britain',\n",
       " 'Britons',\n",
       " 'Brother',\n",
       " 'Build',\n",
       " 'Burn',\n",
       " 'But',\n",
       " 'By',\n",
       " 'C',\n",
       " 'CAMERAMAN',\n",
       " 'CART',\n",
       " 'CARTOON',\n",
       " 'CHARACTER',\n",
       " 'CHARACTERS',\n",
       " 'CONCORDE',\n",
       " 'CRAPPER',\n",
       " 'CRASH',\n",
       " 'CRONE',\n",
       " 'CROWD',\n",
       " 'CUSTOMER',\n",
       " 'Caerbannog',\n",
       " 'Camaaaaaargue',\n",
       " 'Camelot',\n",
       " 'Castle',\n",
       " 'Chapter',\n",
       " 'Charge',\n",
       " 'Chaste',\n",
       " 'Cherries',\n",
       " 'Chicken',\n",
       " 'Chickennn',\n",
       " 'Chop',\n",
       " 'Christ',\n",
       " 'Churches',\n",
       " 'Cider',\n",
       " 'Clark',\n",
       " 'Clear',\n",
       " 'Come',\n",
       " 'Concorde',\n",
       " 'Consult',\n",
       " 'Cornwall',\n",
       " 'Could',\n",
       " 'Course',\n",
       " 'Court',\n",
       " 'Crapper',\n",
       " 'Cut',\n",
       " 'DEAD',\n",
       " 'DENNIS',\n",
       " 'DINGO',\n",
       " 'DIRECTOR',\n",
       " 'Dappy',\n",
       " 'Death',\n",
       " 'Defeat',\n",
       " 'Dennis',\n",
       " 'Did',\n",
       " 'Didn',\n",
       " 'Dingo',\n",
       " 'Dis',\n",
       " 'Divine',\n",
       " 'Do',\n",
       " 'Doctor',\n",
       " 'Does',\n",
       " 'Don',\n",
       " 'Dragon',\n",
       " 'Dramatically',\n",
       " 'ENCHANTER',\n",
       " 'Ecky',\n",
       " 'Ector',\n",
       " 'Eee',\n",
       " 'Eh',\n",
       " 'Enchanter',\n",
       " 'England',\n",
       " 'English',\n",
       " 'Erbert',\n",
       " 'Ere',\n",
       " 'Erm',\n",
       " 'Eternal',\n",
       " 'European',\n",
       " 'Even',\n",
       " 'Every',\n",
       " 'Everything',\n",
       " 'Ewing',\n",
       " 'Exactly',\n",
       " 'Excalibur',\n",
       " 'Excuse',\n",
       " 'Explain',\n",
       " 'FATHER',\n",
       " 'FRENCH',\n",
       " 'Far',\n",
       " 'Farewell',\n",
       " 'Father',\n",
       " 'Fetchez',\n",
       " 'Fiends',\n",
       " 'Fine',\n",
       " 'First',\n",
       " 'Firstly',\n",
       " 'Five',\n",
       " 'Follow',\n",
       " 'For',\n",
       " 'Forgive',\n",
       " 'Forward',\n",
       " 'Found',\n",
       " 'Four',\n",
       " 'France',\n",
       " 'Frank',\n",
       " 'French',\n",
       " 'GALAHAD',\n",
       " 'GIRLS',\n",
       " 'GOD',\n",
       " 'GREEN',\n",
       " 'GUARD',\n",
       " 'GUARDS',\n",
       " 'GUEST',\n",
       " 'GUESTS',\n",
       " 'Gable',\n",
       " 'Galahad',\n",
       " 'Gallahad',\n",
       " 'Gawain',\n",
       " 'Get',\n",
       " 'Go',\n",
       " 'God',\n",
       " 'Good',\n",
       " 'Gorge',\n",
       " 'Grail',\n",
       " 'Great',\n",
       " 'Greetings',\n",
       " 'Grenade',\n",
       " 'Guards',\n",
       " 'Guy',\n",
       " 'HEAD',\n",
       " 'HEADS',\n",
       " 'HERBERT',\n",
       " 'HISTORIAN',\n",
       " 'Ha',\n",
       " 'Hah',\n",
       " 'Hallo',\n",
       " 'Halt',\n",
       " 'Hand',\n",
       " 'Hang',\n",
       " 'Have',\n",
       " 'Haw',\n",
       " 'He',\n",
       " 'Hee',\n",
       " 'Heee',\n",
       " 'Heh',\n",
       " 'Hello',\n",
       " 'Help',\n",
       " 'Herbert',\n",
       " 'Here',\n",
       " 'Hey',\n",
       " 'Hic',\n",
       " 'Hill',\n",
       " 'Himself',\n",
       " 'His',\n",
       " 'Hiyaah',\n",
       " 'Hiyah',\n",
       " 'Hiyya',\n",
       " 'Hm',\n",
       " 'Hmm',\n",
       " 'Ho',\n",
       " 'Hoa',\n",
       " 'Hold',\n",
       " 'Holy',\n",
       " 'Honestly',\n",
       " 'Hoo',\n",
       " 'Hooray',\n",
       " 'How',\n",
       " 'Huh',\n",
       " 'Hurry',\n",
       " 'Huy',\n",
       " 'Huyah',\n",
       " 'Hya',\n",
       " 'Hyy',\n",
       " 'I',\n",
       " 'INSPECTOR',\n",
       " 'Idiom',\n",
       " 'Iesu',\n",
       " 'If',\n",
       " 'Iiiiives',\n",
       " 'Iiiives',\n",
       " 'In',\n",
       " 'Is',\n",
       " 'Isn',\n",
       " 'It',\n",
       " 'Ives',\n",
       " 'Jesus',\n",
       " 'Joseph',\n",
       " 'Just',\n",
       " 'KING',\n",
       " 'KNIGHT',\n",
       " 'KNIGHTS',\n",
       " 'Keep',\n",
       " 'King',\n",
       " 'Knight',\n",
       " 'Knights',\n",
       " 'LAUNCELOT',\n",
       " 'LEFT',\n",
       " 'LOVELY',\n",
       " 'LUCKY',\n",
       " 'Lady',\n",
       " 'Lake',\n",
       " 'Lancelot',\n",
       " 'Launcelot',\n",
       " 'Lead',\n",
       " 'Leaving',\n",
       " 'Let',\n",
       " 'Lie',\n",
       " 'Like',\n",
       " 'Listen',\n",
       " 'Loimbard',\n",
       " 'Look',\n",
       " 'Looks',\n",
       " 'Lord',\n",
       " 'Lucky',\n",
       " 'MAN',\n",
       " 'MASTER',\n",
       " 'MAYNARD',\n",
       " 'MIDDLE',\n",
       " 'MIDGET',\n",
       " 'MINSTREL',\n",
       " 'MONKS',\n",
       " 'Make',\n",
       " 'Man',\n",
       " 'May',\n",
       " 'Maynard',\n",
       " 'Meanwhile',\n",
       " 'Mercea',\n",
       " 'Message',\n",
       " 'Midget',\n",
       " 'Mind',\n",
       " 'Mine',\n",
       " 'Mmm',\n",
       " 'Monsieur',\n",
       " 'More',\n",
       " 'Morning',\n",
       " 'Most',\n",
       " 'Mother',\n",
       " 'Mud',\n",
       " 'Must',\n",
       " 'My',\n",
       " 'N',\n",
       " 'NARRATOR',\n",
       " 'NI',\n",
       " 'Nador',\n",
       " 'Nay',\n",
       " 'Neee',\n",
       " 'Never',\n",
       " 'Ni',\n",
       " 'Nine',\n",
       " 'Ninepence',\n",
       " 'No',\n",
       " 'None',\n",
       " 'Not',\n",
       " 'Nothing',\n",
       " 'Now',\n",
       " 'Nu',\n",
       " 'O',\n",
       " 'OF',\n",
       " 'OFFICER',\n",
       " 'OLD',\n",
       " 'OTHER',\n",
       " 'Of',\n",
       " 'Off',\n",
       " 'Oh',\n",
       " 'Ohh',\n",
       " 'Old',\n",
       " 'Olfin',\n",
       " 'On',\n",
       " 'Once',\n",
       " 'One',\n",
       " 'Ooh',\n",
       " 'Oooh',\n",
       " 'Oooo',\n",
       " 'Oooohoohohooo',\n",
       " 'Oooooooh',\n",
       " 'Open',\n",
       " 'Or',\n",
       " 'Order',\n",
       " 'Other',\n",
       " 'Oui',\n",
       " 'Our',\n",
       " 'Over',\n",
       " 'Ow',\n",
       " 'PARTY',\n",
       " 'PATSY',\n",
       " 'PERSON',\n",
       " 'PIGLET',\n",
       " 'PRINCE',\n",
       " 'PRINCESS',\n",
       " 'PRISONER',\n",
       " 'Packing',\n",
       " 'Patsy',\n",
       " 'Pendragon',\n",
       " 'Peng',\n",
       " 'Perhaps',\n",
       " 'Peril',\n",
       " 'Picture',\n",
       " 'Pie',\n",
       " 'Piglet',\n",
       " 'Pin',\n",
       " 'Please',\n",
       " 'Practice',\n",
       " 'Prepare',\n",
       " 'Prince',\n",
       " 'Princess',\n",
       " 'Providence',\n",
       " 'Psalms',\n",
       " 'Pull',\n",
       " 'Pure',\n",
       " 'Put',\n",
       " 'Quick',\n",
       " 'Quickly',\n",
       " 'Quiet',\n",
       " 'Quite',\n",
       " 'Quoi',\n",
       " 'RANDOM',\n",
       " 'RIGHT',\n",
       " 'ROBIN',\n",
       " 'ROGER',\n",
       " 'Rather',\n",
       " 'Really',\n",
       " 'Recently',\n",
       " 'Remove',\n",
       " 'Rheged',\n",
       " 'Ridden',\n",
       " 'Right',\n",
       " 'Riiight',\n",
       " 'Robin',\n",
       " 'Robinson',\n",
       " 'Roger',\n",
       " 'Round',\n",
       " 'Run',\n",
       " 'Running',\n",
       " 'S',\n",
       " 'SCENE',\n",
       " 'SECOND',\n",
       " 'SENTRY',\n",
       " 'SHRUBBER',\n",
       " 'SIR',\n",
       " 'SOLDIER',\n",
       " 'STUNNER',\n",
       " 'SUN',\n",
       " 'Said',\n",
       " 'Saint',\n",
       " 'Saxons',\n",
       " 'Say',\n",
       " 'Schools',\n",
       " 'See',\n",
       " 'Seek',\n",
       " 'Shall',\n",
       " 'She',\n",
       " 'Shh',\n",
       " 'Shrubber',\n",
       " 'Shrubberies',\n",
       " 'Shut',\n",
       " 'Silence',\n",
       " 'Silly',\n",
       " 'Since',\n",
       " 'Sir',\n",
       " 'Skip',\n",
       " 'So',\n",
       " 'Sorry',\n",
       " 'Speak',\n",
       " 'Splendid',\n",
       " 'Spring',\n",
       " 'Stand',\n",
       " 'Stay',\n",
       " 'Steady',\n",
       " 'Stop',\n",
       " 'Summer',\n",
       " 'Supposing',\n",
       " 'Supreme',\n",
       " 'Surely',\n",
       " 'Swamp',\n",
       " 'THE',\n",
       " 'TIM',\n",
       " 'Table',\n",
       " 'Tale',\n",
       " 'Tall',\n",
       " 'Tell',\n",
       " 'Thank',\n",
       " 'That',\n",
       " 'The',\n",
       " 'Thee',\n",
       " 'Then',\n",
       " 'There',\n",
       " 'Therefore',\n",
       " 'They',\n",
       " 'This',\n",
       " 'Those',\n",
       " 'Thou',\n",
       " 'Thpppppt',\n",
       " 'Thppppt',\n",
       " 'Thpppt',\n",
       " 'Thppt',\n",
       " 'Three',\n",
       " 'Throw',\n",
       " 'Thsss',\n",
       " 'Thursday',\n",
       " 'Thy',\n",
       " 'Til',\n",
       " 'Tim',\n",
       " 'Tis',\n",
       " 'To',\n",
       " 'Today',\n",
       " 'Together',\n",
       " 'Too',\n",
       " 'Torment',\n",
       " 'Tower',\n",
       " 'True',\n",
       " 'Try',\n",
       " 'Twenty',\n",
       " 'Two',\n",
       " 'U',\n",
       " 'Uh',\n",
       " 'Uhh',\n",
       " 'Ulk',\n",
       " 'Um',\n",
       " 'Umhm',\n",
       " 'Umm',\n",
       " 'Un',\n",
       " 'Unfortunately',\n",
       " 'Until',\n",
       " 'Use',\n",
       " 'Uther',\n",
       " 'Uugh',\n",
       " 'Uuh',\n",
       " 'VILLAGER',\n",
       " 'VILLAGERS',\n",
       " 'VOICE',\n",
       " 'Very',\n",
       " 'Victory',\n",
       " 'W',\n",
       " 'WIFE',\n",
       " 'WINSTON',\n",
       " 'WITCH',\n",
       " 'WOMAN',\n",
       " 'Waa',\n",
       " 'Wait',\n",
       " 'Walk',\n",
       " 'Wayy',\n",
       " 'We',\n",
       " 'Welcome',\n",
       " 'Well',\n",
       " 'What',\n",
       " 'When',\n",
       " 'Where',\n",
       " 'Which',\n",
       " 'Who',\n",
       " 'Whoa',\n",
       " 'Why',\n",
       " 'Will',\n",
       " 'Winston',\n",
       " 'Winter',\n",
       " 'With',\n",
       " 'Woa',\n",
       " 'Wood',\n",
       " 'Would',\n",
       " 'Y',\n",
       " 'Yapping',\n",
       " 'Yay',\n",
       " 'Yeaaah',\n",
       " 'Yeaah',\n",
       " 'Yeah',\n",
       " 'Yes',\n",
       " 'You',\n",
       " 'Your',\n",
       " 'Yup',\n",
       " 'ZOOT',\n",
       " 'Zoot',\n",
       " '[',\n",
       " '[...',\n",
       " ']',\n",
       " 'a',\n",
       " 'aaaaaah',\n",
       " 'aaaah',\n",
       " 'aaggggh',\n",
       " 'aaugh',\n",
       " 'able',\n",
       " 'about',\n",
       " 'absolutely',\n",
       " 'accent',\n",
       " 'accompanied',\n",
       " 'accomplished',\n",
       " 'act',\n",
       " 'acting',\n",
       " 'actually',\n",
       " 'advancing',\n",
       " 'adversary',\n",
       " 'affairs',\n",
       " 'afoot',\n",
       " 'afraid',\n",
       " 'after',\n",
       " 'again',\n",
       " 'against',\n",
       " 'agree',\n",
       " 'ain',\n",
       " 'air',\n",
       " 'alarm',\n",
       " 'alight',\n",
       " 'alive',\n",
       " 'all',\n",
       " 'allowed',\n",
       " 'almost',\n",
       " 'aloft',\n",
       " 'along',\n",
       " 'already',\n",
       " 'also',\n",
       " 'although',\n",
       " 'always',\n",
       " 'am',\n",
       " 'amazes',\n",
       " 'an',\n",
       " 'anarcho',\n",
       " 'anchovies',\n",
       " 'and',\n",
       " 'angels',\n",
       " 'anging',\n",
       " 'animal',\n",
       " 'animator',\n",
       " 'another',\n",
       " 'answer',\n",
       " 'answers',\n",
       " 'any',\n",
       " 'anyone',\n",
       " 'anything',\n",
       " 'anyway',\n",
       " 'anywhere',\n",
       " 'apart',\n",
       " 'apologise',\n",
       " 'appearing',\n",
       " 'appease',\n",
       " 'approacheth',\n",
       " 'approaching',\n",
       " 'aptly',\n",
       " 'aquatic',\n",
       " 'are',\n",
       " 'aren',\n",
       " 'argue',\n",
       " 'arm',\n",
       " 'armed',\n",
       " 'armor',\n",
       " 'arms',\n",
       " 'around',\n",
       " 'arrange',\n",
       " 'arrows',\n",
       " 'art',\n",
       " 'as',\n",
       " 'aside',\n",
       " 'ask',\n",
       " 'asking',\n",
       " 'asks',\n",
       " 'assault',\n",
       " 'assist',\n",
       " 'at',\n",
       " 'attack',\n",
       " 'attend',\n",
       " 'auntie',\n",
       " 'aunties',\n",
       " 'autocracy',\n",
       " 'automatically',\n",
       " 'autonomous',\n",
       " 'auuuuuuuugh',\n",
       " 'avenged',\n",
       " 'averting',\n",
       " 'awaaaaay',\n",
       " 'awaaay',\n",
       " 'awaits',\n",
       " 'away',\n",
       " 'awfully',\n",
       " 'awhile',\n",
       " 'b',\n",
       " 'baaaa',\n",
       " 'baby',\n",
       " 'back',\n",
       " 'bad',\n",
       " 'badger',\n",
       " 'banana',\n",
       " 'band',\n",
       " 'bang',\n",
       " 'bangin',\n",
       " 'basic',\n",
       " 'basis',\n",
       " 'bastard',\n",
       " 'bastards',\n",
       " 'bathing',\n",
       " 'bats',\n",
       " 'be',\n",
       " 'beacon',\n",
       " 'beat',\n",
       " 'beautiful',\n",
       " 'became',\n",
       " 'because',\n",
       " 'become',\n",
       " 'bed',\n",
       " 'beds',\n",
       " 'been',\n",
       " 'behaviour',\n",
       " 'behind',\n",
       " 'behold',\n",
       " 'being',\n",
       " 'bells',\n",
       " 'bent',\n",
       " 'beside',\n",
       " 'best',\n",
       " 'bet',\n",
       " 'better',\n",
       " 'between',\n",
       " 'beyond',\n",
       " 'bi',\n",
       " 'bicker',\n",
       " 'bid',\n",
       " 'big',\n",
       " 'biggest',\n",
       " 'binding',\n",
       " 'bint',\n",
       " 'bird',\n",
       " 'birds',\n",
       " 'biscuits',\n",
       " 'bit',\n",
       " 'bitching',\n",
       " 'bite',\n",
       " 'biters',\n",
       " 'bits',\n",
       " 'bladders',\n",
       " 'blanket',\n",
       " 'bleed',\n",
       " 'bleeder',\n",
       " 'bless',\n",
       " 'blessing',\n",
       " 'blondes',\n",
       " 'blood',\n",
       " 'bloody',\n",
       " 'blow',\n",
       " 'body',\n",
       " 'boil',\n",
       " 'boing',\n",
       " 'bois',\n",
       " 'bold',\n",
       " 'bond',\n",
       " 'bones',\n",
       " 'bonk',\n",
       " 'boom',\n",
       " 'bosom',\n",
       " 'bother',\n",
       " 'bottom',\n",
       " 'bottoms',\n",
       " 'bowels',\n",
       " 'bows',\n",
       " 'boys',\n",
       " 'brain',\n",
       " 'brained',\n",
       " 'brave',\n",
       " 'bravely',\n",
       " 'bravest',\n",
       " 'breadth',\n",
       " 'breakfast',\n",
       " 'breath',\n",
       " 'bride',\n",
       " 'bridge',\n",
       " 'bridgekeeper',\n",
       " 'bridges',\n",
       " 'bring',\n",
       " 'bringing',\n",
       " 'broken',\n",
       " 'brought',\n",
       " 'brunettes',\n",
       " 'brush',\n",
       " 'bugger',\n",
       " 'buggered',\n",
       " 'buggering',\n",
       " 'build',\n",
       " 'built',\n",
       " 'bum',\n",
       " 'bunny',\n",
       " 'burn',\n",
       " 'burned',\n",
       " 'burst',\n",
       " 'business',\n",
       " 'busy',\n",
       " 'but',\n",
       " 'buy',\n",
       " 'by',\n",
       " 'c',\n",
       " 'cadeau',\n",
       " 'call',\n",
       " 'called',\n",
       " 'can',\n",
       " 'cannot',\n",
       " 'capital',\n",
       " 'carp',\n",
       " 'carried',\n",
       " 'carries',\n",
       " 'carry',\n",
       " 'carrying',\n",
       " 'cart',\n",
       " 'cartoon',\n",
       " 'carve',\n",
       " 'carved',\n",
       " 'carving',\n",
       " 'case',\n",
       " 'cast',\n",
       " 'castanets',\n",
       " 'castle',\n",
       " 'cause',\n",
       " 'cave',\n",
       " 'centuries',\n",
       " 'cereals',\n",
       " 'ceremony',\n",
       " 'certain',\n",
       " 'certainly',\n",
       " 'chance',\n",
       " 'change',\n",
       " 'changed',\n",
       " 'chanting',\n",
       " 'charged',\n",
       " 'chastity',\n",
       " 'cheesy',\n",
       " 'chest',\n",
       " 'chickened',\n",
       " 'chickening',\n",
       " 'chops',\n",
       " 'chord',\n",
       " 'chorus',\n",
       " 'chosen',\n",
       " 'chu',\n",
       " 'clack',\n",
       " 'clad',\n",
       " 'clang',\n",
       " 'clank',\n",
       " 'clap',\n",
       " 'class',\n",
       " 'classes',\n",
       " 'clear',\n",
       " 'clever',\n",
       " 'climes',\n",
       " 'clllank',\n",
       " 'clop',\n",
       " 'closest',\n",
       " 'clue',\n",
       " 'clunk',\n",
       " 'coconut',\n",
       " 'coconuts',\n",
       " 'collective',\n",
       " 'color',\n",
       " 'come',\n",
       " 'comin',\n",
       " 'coming',\n",
       " 'command',\n",
       " 'commands',\n",
       " 'committed',\n",
       " 'commune',\n",
       " 'compared',\n",
       " 'completely',\n",
       " 'conclusion',\n",
       " 'conclusions',\n",
       " 'confuse',\n",
       " 'considerable',\n",
       " 'consulted',\n",
       " 'continue',\n",
       " 'convinced',\n",
       " 'cop',\n",
       " 'cope',\n",
       " 'cost',\n",
       " 'cough',\n",
       " 'could',\n",
       " 'couldn',\n",
       " 'count',\n",
       " 'counting',\n",
       " 'country',\n",
       " 'couple',\n",
       " 'courage',\n",
       " 'course',\n",
       " 'court',\n",
       " 'cover',\n",
       " 'covered',\n",
       " 'crash',\n",
       " 'creak',\n",
       " 'creature',\n",
       " 'creep',\n",
       " 'creeper',\n",
       " 'crone',\n",
       " 'cross',\n",
       " 'crossed',\n",
       " 'cruel',\n",
       " 'cry',\n",
       " 'crying',\n",
       " 'curtains',\n",
       " 'cut',\n",
       " 'd',\n",
       " 'dad',\n",
       " 'daft',\n",
       " 'dance',\n",
       " 'dancing',\n",
       " 'danger',\n",
       " 'dangerous',\n",
       " 'dappy',\n",
       " 'dare',\n",
       " 'daring',\n",
       " 'dark',\n",
       " 'daughter',\n",
       " 'day',\n",
       " 'de',\n",
       " 'dead',\n",
       " 'deal',\n",
       " 'dear',\n",
       " 'death',\n",
       " 'decided',\n",
       " 'decision',\n",
       " 'deeds',\n",
       " 'defeat',\n",
       " 'defeator',\n",
       " 'delirious',\n",
       " 'demand',\n",
       " 'depart',\n",
       " 'depressing',\n",
       " 'derives',\n",
       " 'design',\n",
       " 'diaphragm',\n",
       " 'dictating',\n",
       " 'dictatorship',\n",
       " 'did',\n",
       " 'didn',\n",
       " 'die',\n",
       " 'died',\n",
       " 'differences',\n",
       " 'dine',\n",
       " 'direction',\n",
       " 'dirty',\n",
       " 'discovered',\n",
       " 'discovers',\n",
       " 'disheartened',\n",
       " 'distress',\n",
       " 'distributing',\n",
       " 'do',\n",
       " 'doctors',\n",
       " 'does',\n",
       " 'doesn',\n",
       " 'dogma',\n",
       " 'dogs',\n",
       " 'doing',\n",
       " 'domine',\n",
       " 'don',\n",
       " 'dona',\n",
       " 'donaeis',\n",
       " 'done',\n",
       " 'donkey',\n",
       " 'door',\n",
       " 'doors',\n",
       " 'dorsal',\n",
       " 'doubt',\n",
       " 'down',\n",
       " 'dragging',\n",
       " 'dramatic',\n",
       " 'draw',\n",
       " ...]"
      ]
     },
     "execution_count": 34,
     "metadata": {},
     "output_type": "execute_result"
    }
   ],
   "source": [
    "sorted(set(text6[:]))"
   ]
  },
  {
   "cell_type": "code",
   "execution_count": 35,
   "metadata": {
    "scrolled": true
   },
   "outputs": [
    {
     "data": {
      "text/plain": [
       "['!',\n",
       " '#',\n",
       " \"'\",\n",
       " ',',\n",
       " '.',\n",
       " '1',\n",
       " ':',\n",
       " '?',\n",
       " 'A',\n",
       " 'ARTHUR',\n",
       " 'Are',\n",
       " 'Arthur',\n",
       " 'Camelot',\n",
       " 'Court',\n",
       " 'Found',\n",
       " 'In',\n",
       " 'It',\n",
       " 'Listen',\n",
       " 'Mercea',\n",
       " 'Not',\n",
       " 'SOLDIER',\n",
       " 'The',\n",
       " 'They',\n",
       " 'We',\n",
       " 'Well',\n",
       " 'What',\n",
       " 'Where',\n",
       " 'Will',\n",
       " 'a',\n",
       " 'all',\n",
       " 'and',\n",
       " 'are',\n",
       " 'at',\n",
       " 'be',\n",
       " 'bird',\n",
       " 'by',\n",
       " 'carried',\n",
       " 'carry',\n",
       " 'carrying',\n",
       " 'climes',\n",
       " 'coconut',\n",
       " 'coconuts',\n",
       " 'could',\n",
       " 'd',\n",
       " 'do',\n",
       " 'doesn',\n",
       " 'five',\n",
       " 'fly',\n",
       " 'found',\n",
       " 'from',\n",
       " 'get',\n",
       " 'go',\n",
       " 'grip',\n",
       " 'grips',\n",
       " 'he',\n",
       " 'here',\n",
       " 'house',\n",
       " 'husk',\n",
       " 'in',\n",
       " 'is',\n",
       " 'it',\n",
       " 'land',\n",
       " 'martin',\n",
       " 'master',\n",
       " 'matter',\n",
       " 'may',\n",
       " 'mean',\n",
       " 'migrate',\n",
       " 'not',\n",
       " 'of',\n",
       " 'one',\n",
       " 'or',\n",
       " 'order',\n",
       " 'ounce',\n",
       " 'our',\n",
       " 'plover',\n",
       " 'pound',\n",
       " 'question',\n",
       " 'ratios',\n",
       " 's',\n",
       " 'seek',\n",
       " 'simple',\n",
       " 'south',\n",
       " 'strangers',\n",
       " 'suggesting',\n",
       " 'sun',\n",
       " 'swallow',\n",
       " 't',\n",
       " 'tell',\n",
       " 'temperate',\n",
       " 'that',\n",
       " 'the',\n",
       " 'them',\n",
       " 'these',\n",
       " 'this',\n",
       " 'to',\n",
       " 'tropical',\n",
       " 'warmer',\n",
       " 'weight',\n",
       " 'where',\n",
       " 'winter',\n",
       " 'with',\n",
       " 'yet',\n",
       " 'you',\n",
       " 'your',\n",
       " 'zone']"
      ]
     },
     "execution_count": 35,
     "metadata": {},
     "output_type": "execute_result"
    }
   ],
   "source": [
    "sorted(set(text6[200:400]))"
   ]
  },
  {
   "cell_type": "markdown",
   "metadata": {
    "jp-MarkdownHeadingCollapsed": true
   },
   "source": [
    "## Zadanie 1.3"
   ]
  },
  {
   "cell_type": "code",
   "execution_count": 36,
   "metadata": {},
   "outputs": [],
   "source": [
    "text1 = book.text1"
   ]
  },
  {
   "cell_type": "code",
   "execution_count": 37,
   "metadata": {},
   "outputs": [
    {
     "name": "stdout",
     "output_type": "stream",
     "text": [
      "Displaying 25 of 455 matches:\n",
      " shall slay the dragon that is in the sea .\" -- ISAIAH \" And what thing soever \n",
      " S PLUTARCH ' S MORALS . \" The Indian Sea breedeth the most and the biggest fis\n",
      "cely had we proceeded two days on the sea , when about sunrise a great many Wha\n",
      "many Whales and other monsters of the sea , appeared . Among the former , one w\n",
      " waves on all sides , and beating the sea before him into a foam .\" -- TOOKE ' \n",
      "mediately lost and swallowed up , the sea - gudgeon retires into it in great se\n",
      "e .\" -- PILGRIM ' S PROGRESS . \" That sea beast Leviathan , which God of all hi\n",
      "s in , and at his breath spouts out a sea .\" -- IBID . \" The mighty whales whic\n",
      ". \" The mighty whales which swim in a sea of water , and have a sea of oil swim\n",
      "h swim in a sea of water , and have a sea of oil swimming in them .\" -- FULLLER\n",
      "RANS . A . D . 1668 . \" Whales in the sea God ' s voice obey .\" -- N . E . PRIM\n",
      "ad of some of them , that when out at sea they are afraid to mention even their\n",
      " take any till the first of May , the sea being then covered with them .\" -- CO\n",
      "h than he , Flounders round the Polar Sea .\" -- CHARLES LAMB ' S TRIUMPH OF THE\n",
      "e observed : there -- pointing to the sea -- is a green pasture where our child\n",
      "f the whale , As it floundered in the sea .\" -- ELIZABETH OAKES SMITH . \" The q\n",
      "e thousand persons living here in the sea , adding largely every year to the Na\n",
      " is right , And King of the boundless sea .\" -- WHALE SONG . CHAPTER 1 Loomings\n",
      "en , I account it high time to get to sea as soon as I can . This is my substit\n",
      " at some time or other crazy to go to sea ? Why upon your first voyage as a pas\n",
      "d ? Why did the old Persians hold the sea holy ? Why did the Greeks give it a s\n",
      "ay that I am in the habit of going to sea whenever I begin to grow hazy about t\n",
      "to have it inferred that I ever go to sea as a passenger . For to go as a passe\n",
      "hing in it . Besides , passengers get sea - sick -- grow quarrelsome -- don ' t\n",
      "something of a salt , do I ever go to sea as a Commodore , or a Captain , or a \n"
     ]
    }
   ],
   "source": [
    "text1.concordance(\"sea\")"
   ]
  },
  {
   "cell_type": "markdown",
   "metadata": {
    "jp-MarkdownHeadingCollapsed": true
   },
   "source": [
    "## Zadanie 1.4"
   ]
  },
  {
   "cell_type": "code",
   "execution_count": 38,
   "metadata": {},
   "outputs": [],
   "source": [
    "text1 = book.text1"
   ]
  },
  {
   "cell_type": "code",
   "execution_count": 39,
   "metadata": {},
   "outputs": [
    {
     "name": "stdout",
     "output_type": "stream",
     "text": [
      "the_of a_and the_to the_with a_the the_for the_you the_he a_which\n",
      "the_pull a_or the_rose this_is a_after a_it the_and\n"
     ]
    }
   ],
   "source": [
    "text1.common_contexts([\"word\", \"whale\"], 20)"
   ]
  },
  {
   "cell_type": "code",
   "execution_count": 40,
   "metadata": {},
   "outputs": [
    {
     "name": "stdout",
     "output_type": "stream",
     "text": [
      "the_and the_to the_table the_with s_and the_all the_as the_the the_but\n",
      "the_every the_was the_by the_ahab\n"
     ]
    }
   ],
   "source": [
    "text1.common_contexts([\"cabin\", \"deck\"], 20)"
   ]
  },
  {
   "cell_type": "markdown",
   "metadata": {
    "jp-MarkdownHeadingCollapsed": true
   },
   "source": [
    "## Zadanie 1.5"
   ]
  },
  {
   "cell_type": "code",
   "execution_count": 41,
   "metadata": {},
   "outputs": [
    {
     "data": {
      "image/png": "[encoded data removed]",
      "text/plain": [
       "<Figure size 640x480 with 1 Axes>"
      ]
     },
     "metadata": {},
     "output_type": "display_data"
    }
   ],
   "source": [
    "book.text1.dispersion_plot([\"honor\",\"God\",\"efforts\",\"rights\",\"work\", \"promise\"])"
   ]
  },
  {
   "cell_type": "code",
   "execution_count": 42,
   "metadata": {},
   "outputs": [
    {
     "data": {
      "image/png": "[encoded data removed]",
      "text/plain": [
       "<Figure size 640x480 with 1 Axes>"
      ]
     },
     "metadata": {},
     "output_type": "display_data"
    }
   ],
   "source": [
    "book.text2.dispersion_plot([\"honor\",\"God\",\"efforts\",\"rights\",\"work\", \"promise\"])"
   ]
  },
  {
   "cell_type": "code",
   "execution_count": 43,
   "metadata": {},
   "outputs": [
    {
     "data": {
      "image/png": "[encoded data removed]",
      "text/plain": [
       "<Figure size 640x480 with 1 Axes>"
      ]
     },
     "metadata": {},
     "output_type": "display_data"
    }
   ],
   "source": [
    "book.text3.dispersion_plot([\"honor\",\"God\",\"efforts\",\"rights\",\"work\", \"promise\"])"
   ]
  },
  {
   "cell_type": "code",
   "execution_count": 44,
   "metadata": {},
   "outputs": [
    {
     "data": {
      "image/png": "[encoded data removed]",
      "text/plain": [
       "<Figure size 640x480 with 1 Axes>"
      ]
     },
     "metadata": {},
     "output_type": "display_data"
    }
   ],
   "source": [
    "book.text4.dispersion_plot([\"honor\",\"God\",\"efforts\",\"rights\",\"work\", \"promise\"])"
   ]
  },
  {
   "cell_type": "code",
   "execution_count": 45,
   "metadata": {},
   "outputs": [
    {
     "data": {
      "image/png": "[encoded data removed]",
      "text/plain": [
       "<Figure size 640x480 with 1 Axes>"
      ]
     },
     "metadata": {},
     "output_type": "display_data"
    }
   ],
   "source": [
    "book.text5.dispersion_plot([\"honor\",\"God\",\"efforts\",\"rights\",\"work\", \"promise\"])"
   ]
  },
  {
   "cell_type": "code",
   "execution_count": 46,
   "metadata": {},
   "outputs": [
    {
     "data": {
      "image/png": "[encoded data removed]",
      "text/plain": [
       "<Figure size 640x480 with 1 Axes>"
      ]
     },
     "metadata": {},
     "output_type": "display_data"
    }
   ],
   "source": [
    "book.text6.dispersion_plot([\"honor\",\"God\",\"efforts\",\"rights\",\"work\", \"promise\"])"
   ]
  },
  {
   "cell_type": "code",
   "execution_count": 47,
   "metadata": {},
   "outputs": [
    {
     "data": {
      "image/png": "[encoded data removed]",
      "text/plain": [
       "<Figure size 640x480 with 1 Axes>"
      ]
     },
     "metadata": {},
     "output_type": "display_data"
    }
   ],
   "source": [
    "book.text7.dispersion_plot([\"honor\",\"God\",\"efforts\",\"rights\",\"work\", \"promise\"])"
   ]
  },
  {
   "cell_type": "code",
   "execution_count": 48,
   "metadata": {},
   "outputs": [
    {
     "data": {
      "image/png": "[encoded data removed]",
      "text/plain": [
       "<Figure size 640x480 with 1 Axes>"
      ]
     },
     "metadata": {},
     "output_type": "display_data"
    }
   ],
   "source": [
    "book.text8.dispersion_plot([\"honor\",\"God\",\"efforts\",\"rights\",\"work\", \"promise\"])"
   ]
  },
  {
   "cell_type": "code",
   "execution_count": 49,
   "metadata": {},
   "outputs": [
    {
     "data": {
      "image/png": "[encoded data removed]",
      "text/plain": [
       "<Figure size 640x480 with 1 Axes>"
      ]
     },
     "metadata": {},
     "output_type": "display_data"
    }
   ],
   "source": [
    "book.text9.dispersion_plot([\"honor\",\"God\",\"efforts\",\"rights\",\"work\", \"promise\"])"
   ]
  },
  {
   "cell_type": "markdown",
   "metadata": {
    "jp-MarkdownHeadingCollapsed": true
   },
   "source": [
    "## Zadanie 1.6"
   ]
  },
  {
   "cell_type": "code",
   "execution_count": 50,
   "metadata": {},
   "outputs": [],
   "source": [
    "text1 = book.text1\n",
    "fdist1 = FreqDist(text1)"
   ]
  },
  {
   "cell_type": "code",
   "execution_count": 51,
   "metadata": {},
   "outputs": [
    {
     "data": {
      "text/plain": [
       "433"
      ]
     },
     "execution_count": 51,
     "metadata": {},
     "output_type": "execute_result"
    }
   ],
   "source": [
    "fdist1[\"sea\"]"
   ]
  },
  {
   "cell_type": "code",
   "execution_count": 52,
   "metadata": {},
   "outputs": [
    {
     "data": {
      "text/plain": [
       "1"
      ]
     },
     "execution_count": 52,
     "metadata": {},
     "output_type": "execute_result"
    }
   ],
   "source": [
    "fdist1[\"president\"]"
   ]
  },
  {
   "cell_type": "code",
   "execution_count": 53,
   "metadata": {},
   "outputs": [
    {
     "data": {
      "text/plain": [
       "330"
      ]
     },
     "execution_count": 53,
     "metadata": {},
     "output_type": "execute_result"
    }
   ],
   "source": [
    "fdist1[\"boat\"]"
   ]
  },
  {
   "cell_type": "markdown",
   "metadata": {
    "jp-MarkdownHeadingCollapsed": true
   },
   "source": [
    "## Zadanie 1.7"
   ]
  },
  {
   "cell_type": "code",
   "execution_count": 54,
   "metadata": {},
   "outputs": [
    {
     "data": {
      "text/plain": [
       "<Axes: xlabel='Samples', ylabel='Counts'>"
      ]
     },
     "execution_count": 54,
     "metadata": {},
     "output_type": "execute_result"
    },
    {
     "data": {
      "image/png": "[encoded data removed]",
      "text/plain": [
       "<Figure size 640x480 with 1 Axes>"
      ]
     },
     "metadata": {},
     "output_type": "display_data"
    }
   ],
   "source": [
    "text2 = book.text2\n",
    "fdist2 = FreqDist(text2)\n",
    "fdist2.plot(10, cumulative=False)"
   ]
  },
  {
   "cell_type": "code",
   "execution_count": 55,
   "metadata": {},
   "outputs": [
    {
     "data": {
      "text/plain": [
       "<Axes: xlabel='Samples', ylabel='Counts'>"
      ]
     },
     "execution_count": 55,
     "metadata": {},
     "output_type": "execute_result"
    },
    {
     "data": {
      "image/png": "[encoded data removed]",
      "text/plain": [
       "<Figure size 640x480 with 1 Axes>"
      ]
     },
     "metadata": {},
     "output_type": "display_data"
    }
   ],
   "source": [
    "text4 = book.text4\n",
    "fdist4 = FreqDist(text4)\n",
    "fdist4.plot(10, cumulative=False)"
   ]
  },
  {
   "cell_type": "markdown",
   "metadata": {
    "jp-MarkdownHeadingCollapsed": true
   },
   "source": [
    "## Zadanie 1.8"
   ]
  },
  {
   "cell_type": "code",
   "execution_count": 56,
   "metadata": {
    "id": "hAaBuxKGtXZy",
    "scrolled": true
   },
   "outputs": [
    {
     "data": {
      "text/plain": [
       "['Herman',\n",
       " 'Melville',\n",
       " ']',\n",
       " 'ETYMOLOGY',\n",
       " 'Late',\n",
       " 'Consumptive',\n",
       " 'School',\n",
       " 'threadbare',\n",
       " 'lexicons',\n",
       " 'mockingly',\n",
       " 'flags',\n",
       " 'mortality',\n",
       " 'signification',\n",
       " 'HACKLUYT',\n",
       " 'Sw',\n",
       " 'HVAL',\n",
       " 'roundness',\n",
       " 'Dut',\n",
       " 'Ger',\n",
       " 'WALLEN',\n",
       " 'WALW',\n",
       " 'IAN',\n",
       " 'RICHARDSON',\n",
       " 'KETOS',\n",
       " 'GREEK',\n",
       " 'CETUS',\n",
       " 'LATIN',\n",
       " 'WHOEL',\n",
       " 'ANGLO',\n",
       " 'SAXON',\n",
       " 'WAL',\n",
       " 'HWAL',\n",
       " 'SWEDISH',\n",
       " 'ICELANDIC',\n",
       " 'BALEINE',\n",
       " 'BALLENA',\n",
       " 'FEGEE',\n",
       " 'ERROMANGOAN',\n",
       " 'Librarian',\n",
       " 'painstaking',\n",
       " 'burrower',\n",
       " 'grub',\n",
       " 'Vaticans',\n",
       " 'stalls',\n",
       " 'higgledy',\n",
       " 'piggledy',\n",
       " 'gospel',\n",
       " 'promiscuously',\n",
       " 'commentator',\n",
       " 'belongest',\n",
       " 'sallow',\n",
       " 'Pale',\n",
       " 'Sherry',\n",
       " 'loves',\n",
       " 'bluntly',\n",
       " 'Subs',\n",
       " 'thankless',\n",
       " 'Hampton',\n",
       " 'Court',\n",
       " 'hie',\n",
       " 'refugees',\n",
       " 'pampered',\n",
       " 'Michael',\n",
       " 'Raphael',\n",
       " 'unsplinterable',\n",
       " 'GENESIS',\n",
       " 'JOB',\n",
       " 'JONAH',\n",
       " 'punish',\n",
       " 'ISAIAH',\n",
       " 'soever',\n",
       " 'cometh',\n",
       " 'incontinently',\n",
       " 'perisheth',\n",
       " 'PLUTARCH',\n",
       " 'MORALS',\n",
       " 'breedeth',\n",
       " 'Whirlpooles',\n",
       " 'Balaene',\n",
       " 'arpens',\n",
       " 'PLINY',\n",
       " 'Scarcely',\n",
       " 'TOOKE',\n",
       " 'LUCIAN',\n",
       " 'TRUE',\n",
       " 'catched',\n",
       " 'OCTHER',\n",
       " 'VERBAL',\n",
       " 'TAKEN',\n",
       " 'MOUTH',\n",
       " 'ALFRED',\n",
       " '890',\n",
       " 'gudgeon',\n",
       " 'retires',\n",
       " 'MONTAIGNE',\n",
       " 'APOLOGY',\n",
       " 'RAIMOND',\n",
       " 'SEBOND',\n",
       " 'Nick',\n",
       " 'RABELAIS',\n",
       " 'cartloads',\n",
       " 'STOWE',\n",
       " 'ANNALS',\n",
       " 'LORD',\n",
       " 'BACON',\n",
       " 'Touching',\n",
       " 'ork',\n",
       " 'DEATH',\n",
       " 'sovereignest',\n",
       " 'bruise',\n",
       " 'HAMLET',\n",
       " 'leach',\n",
       " 'Mote',\n",
       " 'availle',\n",
       " 'returne',\n",
       " 'againe',\n",
       " 'worker',\n",
       " 'Dinting',\n",
       " 'paine',\n",
       " 'thro',\n",
       " 'maine',\n",
       " 'FAERIE',\n",
       " 'Immense',\n",
       " 'til',\n",
       " 'DAVENANT',\n",
       " 'PREFACE',\n",
       " 'GONDIBERT',\n",
       " 'spermacetti',\n",
       " 'Hosmannus',\n",
       " 'Nescio',\n",
       " 'VIDE',\n",
       " 'Spencer',\n",
       " 'Talus',\n",
       " 'flail',\n",
       " 'threatens',\n",
       " 'jav',\n",
       " 'lins',\n",
       " 'WALLER',\n",
       " 'SUMMER',\n",
       " 'ISLANDS',\n",
       " 'Commonwealth',\n",
       " 'Civitas',\n",
       " 'OPENING',\n",
       " 'SENTENCE',\n",
       " 'HOBBES',\n",
       " 'LEVIATHAN',\n",
       " 'Silly',\n",
       " 'Mansoul',\n",
       " 'chewing',\n",
       " 'sprat',\n",
       " 'PILGRIM',\n",
       " 'PROGRESS',\n",
       " 'Created',\n",
       " 'PARADISE',\n",
       " 'LOST',\n",
       " '---\"',\n",
       " 'Hugest',\n",
       " 'Stretched',\n",
       " 'Draws',\n",
       " 'FULLLER',\n",
       " 'PROFANE',\n",
       " 'HOLY',\n",
       " 'STATE',\n",
       " 'DRYDEN',\n",
       " 'ANNUS',\n",
       " 'MIRABILIS',\n",
       " 'aground',\n",
       " 'EDGE',\n",
       " 'TEN',\n",
       " 'SPITZBERGEN',\n",
       " 'PURCHAS',\n",
       " 'wantonness',\n",
       " 'fuzzing',\n",
       " 'vents',\n",
       " 'HERBERT',\n",
       " 'INTO',\n",
       " 'ASIA',\n",
       " 'AFRICA',\n",
       " 'SCHOUTEN',\n",
       " 'SIXTH',\n",
       " 'CIRCUMNAVIGATION',\n",
       " 'Elbe',\n",
       " 'ducat',\n",
       " 'herrings',\n",
       " 'GREENLAND',\n",
       " 'Several',\n",
       " 'Fife',\n",
       " 'Anno',\n",
       " '1652',\n",
       " 'Pitferren',\n",
       " 'SIBBALD',\n",
       " 'FIFE',\n",
       " 'KINROSS',\n",
       " 'Myself',\n",
       " 'Sperma',\n",
       " 'ceti',\n",
       " 'fierceness',\n",
       " 'RICHARD',\n",
       " 'STRAFFORD',\n",
       " 'LETTER',\n",
       " 'BERMUDAS',\n",
       " 'PHIL',\n",
       " 'TRANS',\n",
       " '1668',\n",
       " 'PRIMER',\n",
       " 'COWLEY',\n",
       " '1729',\n",
       " '\"...',\n",
       " 'frequendy',\n",
       " 'insupportable',\n",
       " 'disorder',\n",
       " 'ULLOA',\n",
       " 'SOUTH',\n",
       " 'AMERICA',\n",
       " 'sylphs',\n",
       " 'petticoat',\n",
       " 'Oft',\n",
       " 'Tho',\n",
       " 'RAPE',\n",
       " 'LOCK',\n",
       " 'NAT',\n",
       " 'wales',\n",
       " 'JOHNSON',\n",
       " 'COOK',\n",
       " 'dung',\n",
       " 'lime',\n",
       " 'juniper',\n",
       " 'UNO',\n",
       " 'VON',\n",
       " 'TROIL',\n",
       " 'LETTERS',\n",
       " 'BANKS',\n",
       " 'SOLANDER',\n",
       " '1772',\n",
       " 'Nantuckois',\n",
       " 'JEFFERSON',\n",
       " 'MEMORIAL',\n",
       " 'MINISTER',\n",
       " 'REFERENCE',\n",
       " 'PARLIAMENT',\n",
       " 'SOMEWHERE',\n",
       " 'guarding',\n",
       " 'protecting',\n",
       " 'robbers',\n",
       " 'BLACKSTONE',\n",
       " 'Rodmond',\n",
       " 'suspends',\n",
       " 'attends',\n",
       " 'FALCONER',\n",
       " 'Bright',\n",
       " 'roofs',\n",
       " 'domes',\n",
       " 'rockets',\n",
       " 'Around',\n",
       " 'unwieldy',\n",
       " 'COWPER',\n",
       " 'VISIT',\n",
       " 'LONDON',\n",
       " 'HUNTER',\n",
       " 'DISSECTION',\n",
       " 'SMALL',\n",
       " 'SIZED',\n",
       " 'aorta',\n",
       " 'gushing',\n",
       " 'PALEY',\n",
       " 'THEOLOGY',\n",
       " 'mammiferous',\n",
       " 'hind',\n",
       " 'BARON',\n",
       " 'CUVIER',\n",
       " 'COLNETT',\n",
       " 'PURPOSE',\n",
       " 'EXTENDING',\n",
       " 'SPERMACETI',\n",
       " 'Floundered',\n",
       " 'chace',\n",
       " 'peopling',\n",
       " 'Gather',\n",
       " 'Led',\n",
       " 'instincts',\n",
       " 'trackless',\n",
       " 'Assaulted',\n",
       " 'voracious',\n",
       " 'spiral',\n",
       " 'MONTGOMERY',\n",
       " 'WORLD',\n",
       " 'FLOOD',\n",
       " 'Paean',\n",
       " 'fatter',\n",
       " 'Flounders',\n",
       " 'CHARLES',\n",
       " 'LAMB',\n",
       " 'TRIUMPH',\n",
       " '1690',\n",
       " 'OBED',\n",
       " 'Susan',\n",
       " 'HAWTHORNE',\n",
       " 'TWICE',\n",
       " 'bespeak',\n",
       " 'raal',\n",
       " 'COOPER',\n",
       " 'PILOT',\n",
       " 'Berlin',\n",
       " 'Gazette',\n",
       " 'ECKERMANN',\n",
       " 'CONVERSATIONS',\n",
       " 'GOETHE',\n",
       " 'ESSEX',\n",
       " 'WAS',\n",
       " 'ATTACKED',\n",
       " 'FINALLY',\n",
       " 'DESTROYED',\n",
       " 'OWEN',\n",
       " 'CHACE',\n",
       " 'FIRST',\n",
       " 'SAID',\n",
       " 'VESSEL',\n",
       " 'YORK',\n",
       " '1821',\n",
       " 'piping',\n",
       " 'dimmed',\n",
       " 'phospher',\n",
       " 'ELIZABETH',\n",
       " 'OAKES',\n",
       " 'SMITH',\n",
       " 'amounted',\n",
       " '440',\n",
       " 'SCORESBY',\n",
       " 'Mad',\n",
       " 'agonies',\n",
       " 'endures',\n",
       " 'infuriated',\n",
       " 'rears',\n",
       " 'snaps',\n",
       " 'propelled',\n",
       " 'observers',\n",
       " 'opportunities',\n",
       " 'habitudes',\n",
       " 'BEALE',\n",
       " 'offensively',\n",
       " 'artful',\n",
       " 'mischievous',\n",
       " 'FREDERICK',\n",
       " 'DEBELL',\n",
       " '1840',\n",
       " 'October',\n",
       " 'Raise',\n",
       " 'ay',\n",
       " 'THAR',\n",
       " 'bowes',\n",
       " 'os',\n",
       " 'ROSS',\n",
       " 'ETCHINGS',\n",
       " 'CRUIZE',\n",
       " '1846',\n",
       " 'Globe',\n",
       " 'transactions',\n",
       " 'relate',\n",
       " 'HUSSEY',\n",
       " 'SURVIVORS',\n",
       " 'parried',\n",
       " 'MISSIONARY',\n",
       " 'JOURNAL',\n",
       " 'TYERMAN',\n",
       " 'boldest',\n",
       " 'persevering',\n",
       " 'REPORT',\n",
       " 'DANIEL',\n",
       " 'SPEECH',\n",
       " 'SENATE',\n",
       " 'APPLICATION',\n",
       " 'ERECTION',\n",
       " 'BREAKWATER',\n",
       " 'CAPTORS',\n",
       " 'WHALEMAN',\n",
       " 'ADVENTURES',\n",
       " 'BIOGRAPHY',\n",
       " 'GATHERED',\n",
       " 'HOMEWARD',\n",
       " 'COMMODORE',\n",
       " 'PREBLE',\n",
       " 'REV',\n",
       " 'CHEEVER',\n",
       " 'MUTINEER',\n",
       " 'BROTHER',\n",
       " 'ANOTHER',\n",
       " 'MCCULLOCH',\n",
       " 'COMMERCIAL',\n",
       " 'reciprocal',\n",
       " 'clews',\n",
       " 'SOMETHING',\n",
       " 'UNPUBLISHED',\n",
       " 'CURRENTS',\n",
       " 'Pedestrians',\n",
       " 'recollect',\n",
       " 'gateways',\n",
       " 'VOYAGER',\n",
       " 'ARCTIC',\n",
       " 'NEWSPAPER',\n",
       " 'TAKING',\n",
       " 'RETAKING',\n",
       " 'HOBOMACK',\n",
       " 'MIRIAM',\n",
       " 'FISHERMAN',\n",
       " 'appliance',\n",
       " 'RIBS',\n",
       " 'TRUCKS',\n",
       " 'Terra',\n",
       " 'Del',\n",
       " 'Fuego',\n",
       " 'DARWIN',\n",
       " 'NATURALIST',\n",
       " \";--'\",\n",
       " '!\\'\"',\n",
       " 'WHARTON',\n",
       " 'Loomings',\n",
       " 'spleen',\n",
       " 'regulating',\n",
       " 'circulation',\n",
       " 'Whenever',\n",
       " 'drizzly',\n",
       " 'hypos',\n",
       " 'philosophical',\n",
       " 'Cato',\n",
       " 'Manhattoes',\n",
       " 'reefs',\n",
       " 'downtown',\n",
       " 'gazers',\n",
       " 'Circumambulate',\n",
       " 'Corlears',\n",
       " 'Coenties',\n",
       " 'Slip',\n",
       " 'Whitehall',\n",
       " 'Posted',\n",
       " 'sentinels',\n",
       " 'spiles',\n",
       " 'pier',\n",
       " 'lath',\n",
       " 'counters',\n",
       " 'desks',\n",
       " 'loitering',\n",
       " 'shady',\n",
       " 'Inlanders',\n",
       " 'lanes',\n",
       " 'alleys',\n",
       " 'attract',\n",
       " 'dale',\n",
       " 'dreamiest',\n",
       " 'shadiest',\n",
       " 'quietest',\n",
       " 'enchanting',\n",
       " 'Saco',\n",
       " 'crucifix',\n",
       " 'Deep',\n",
       " 'mazy',\n",
       " 'Tiger',\n",
       " 'Tennessee',\n",
       " 'Rockaway',\n",
       " 'Persians',\n",
       " 'deity',\n",
       " 'Narcissus',\n",
       " 'ungraspable',\n",
       " 'hazy',\n",
       " 'quarrelsome',\n",
       " 'offices',\n",
       " 'abominate',\n",
       " 'toils',\n",
       " 'trials',\n",
       " 'barques',\n",
       " 'schooners',\n",
       " 'broiling',\n",
       " 'buttered',\n",
       " 'judgmatically',\n",
       " 'peppered',\n",
       " 'reverentially',\n",
       " 'idolatrous',\n",
       " 'dotings',\n",
       " 'ibis',\n",
       " 'roasted',\n",
       " 'bake',\n",
       " 'plumb',\n",
       " 'Van',\n",
       " 'Rensselaers',\n",
       " 'Randolphs',\n",
       " 'Hardicanutes',\n",
       " 'lording',\n",
       " 'tallest',\n",
       " 'decoction',\n",
       " 'Seneca',\n",
       " 'Stoics',\n",
       " 'Testament',\n",
       " 'promptly',\n",
       " 'rub',\n",
       " 'infliction',\n",
       " 'BEING',\n",
       " 'PAID',\n",
       " 'urbane',\n",
       " 'ills',\n",
       " 'monied',\n",
       " 'consign',\n",
       " 'prevalent',\n",
       " 'violate',\n",
       " 'Pythagorean',\n",
       " 'commonalty',\n",
       " 'police',\n",
       " 'surveillance',\n",
       " 'programme',\n",
       " 'solo',\n",
       " 'CONTESTED',\n",
       " 'ELECTION',\n",
       " 'PRESIDENCY',\n",
       " 'UNITED',\n",
       " 'STATES',\n",
       " 'ISHMAEL',\n",
       " 'BLOODY',\n",
       " 'AFFGHANISTAN',\n",
       " 'managers',\n",
       " 'genteel',\n",
       " 'comedies',\n",
       " 'farces',\n",
       " 'cunningly',\n",
       " 'disguises',\n",
       " 'cajoling',\n",
       " 'unbiased',\n",
       " 'freewill',\n",
       " 'discriminating',\n",
       " 'overwhelming',\n",
       " 'undeliverable',\n",
       " 'itch',\n",
       " 'forbidden',\n",
       " 'ignoring',\n",
       " 'lodges',\n",
       " 'Carpet',\n",
       " 'Bag',\n",
       " 'Manhatto',\n",
       " 'candidates',\n",
       " 'penalties',\n",
       " 'Tyre',\n",
       " 'Carthage',\n",
       " 'imported',\n",
       " 'cobblestones',\n",
       " 'bitingly',\n",
       " 'shouldering',\n",
       " 'price',\n",
       " 'fervent',\n",
       " 'asphaltic',\n",
       " 'pavement',\n",
       " 'flinty',\n",
       " 'projections',\n",
       " 'soles',\n",
       " 'Too',\n",
       " 'cheapest',\n",
       " 'cheeriest',\n",
       " 'invitingly',\n",
       " 'particles',\n",
       " 'peer',\n",
       " 'Angel',\n",
       " 'Doom',\n",
       " 'wailing',\n",
       " 'gnashing',\n",
       " 'Wretched',\n",
       " 'entertainment',\n",
       " 'Moving',\n",
       " 'emigrant',\n",
       " 'poverty',\n",
       " 'creak',\n",
       " 'lodgings',\n",
       " 'zephyr',\n",
       " 'hob',\n",
       " 'toasting',\n",
       " 'observest',\n",
       " 'sashless',\n",
       " 'glazier',\n",
       " 'reasonest',\n",
       " 'chinks',\n",
       " 'crannies',\n",
       " 'lint',\n",
       " 'chattering',\n",
       " 'shiverings',\n",
       " 'cob',\n",
       " 'redder',\n",
       " 'Orion',\n",
       " 'glitters',\n",
       " 'conservatories',\n",
       " 'president',\n",
       " 'temperance',\n",
       " 'blubbering',\n",
       " 'straggling',\n",
       " 'wainscots',\n",
       " 'reminding',\n",
       " 'oilpainting',\n",
       " 'besmoked',\n",
       " 'defaced',\n",
       " 'unequal',\n",
       " 'crosslights',\n",
       " 'hags',\n",
       " 'delineate',\n",
       " 'bewitched',\n",
       " 'ponderings',\n",
       " 'boggy',\n",
       " 'soggy',\n",
       " 'squitchy',\n",
       " 'froze',\n",
       " 'heath',\n",
       " 'icebound',\n",
       " 'represents',\n",
       " 'Horner',\n",
       " 'foundered',\n",
       " 'clubs',\n",
       " 'harvesting',\n",
       " 'hacking',\n",
       " 'horrifying',\n",
       " 'Mixed',\n",
       " 'Nathan',\n",
       " 'Swain',\n",
       " 'corkscrew',\n",
       " 'Blanco',\n",
       " 'sojourning',\n",
       " 'fireplaces',\n",
       " 'duskier',\n",
       " 'cockpits',\n",
       " 'rarities',\n",
       " 'Projecting',\n",
       " 'Within',\n",
       " 'shelves',\n",
       " 'flasks',\n",
       " 'bustles',\n",
       " 'deliriums',\n",
       " 'Abominable',\n",
       " 'tumblers',\n",
       " 'cylinders',\n",
       " 'goggling',\n",
       " 'deceitfully',\n",
       " 'tapered',\n",
       " 'Parallel',\n",
       " 'pecked',\n",
       " 'footpads',\n",
       " 'Fill',\n",
       " 'shilling',\n",
       " 'examining',\n",
       " 'SKRIMSHANDER',\n",
       " 'accommodated',\n",
       " 'unoccupied',\n",
       " 'haint',\n",
       " 'pose',\n",
       " 'whalin',\n",
       " 'decidedly',\n",
       " 'objectionable',\n",
       " 'wander',\n",
       " 'Battery',\n",
       " 'ruminating',\n",
       " 'adorning',\n",
       " 'potatoes',\n",
       " 'sartainty',\n",
       " 'diabolically',\n",
       " 'steaks',\n",
       " 'undress',\n",
       " 'looker',\n",
       " 'rioting',\n",
       " 'Grampus',\n",
       " 'seed',\n",
       " 'Feegees',\n",
       " 'tramping',\n",
       " 'Enveloped',\n",
       " 'bedarned',\n",
       " 'eruption',\n",
       " 'officiating',\n",
       " 'brimmers',\n",
       " 'complained',\n",
       " 'potion',\n",
       " 'colds',\n",
       " 'catarrhs',\n",
       " 'liquor',\n",
       " 'arrantest',\n",
       " 'topers',\n",
       " 'obstreperously',\n",
       " 'aloof',\n",
       " 'desirous',\n",
       " 'hilarity',\n",
       " 'coffer',\n",
       " 'Southerner',\n",
       " 'mountaineers',\n",
       " 'Alleghanian',\n",
       " 'missed',\n",
       " 'supernaturally',\n",
       " 'congratulate',\n",
       " 'multiply',\n",
       " 'bachelor',\n",
       " 'abominated',\n",
       " 'tidiest',\n",
       " 'bedwards',\n",
       " 'shan',\n",
       " 'tablecloth',\n",
       " 'Skrimshander',\n",
       " 'bump',\n",
       " 'spraining',\n",
       " 'eider',\n",
       " 'yoking',\n",
       " 'rickety',\n",
       " 'whirlwinds',\n",
       " 'knockings',\n",
       " 'dismissed',\n",
       " 'popped',\n",
       " 'cherishing',\n",
       " 'chuckled',\n",
       " 'chuckle',\n",
       " 'mightily',\n",
       " 'catches',\n",
       " 'bamboozingly',\n",
       " 'overstocked',\n",
       " 'toothpick',\n",
       " 'rayther',\n",
       " 'BROWN',\n",
       " 'slanderin',\n",
       " 'farrago',\n",
       " 'BROKE',\n",
       " 'Sartain',\n",
       " 'Mt',\n",
       " 'Hecla',\n",
       " 'persist',\n",
       " 'mystifying',\n",
       " 'unsay',\n",
       " 'criminal',\n",
       " 'Wall',\n",
       " 'purty',\n",
       " 'sarmon',\n",
       " 'rips',\n",
       " 'tellin',\n",
       " 'bought',\n",
       " 'balmed',\n",
       " 'curios',\n",
       " 'sellin',\n",
       " 'inions',\n",
       " 'fooling',\n",
       " 'idolators',\n",
       " 'Depend',\n",
       " 'reg',\n",
       " 'lar',\n",
       " 'spliced',\n",
       " 'Johnny',\n",
       " 'sprawling',\n",
       " 'Arter',\n",
       " 'glim',\n",
       " 'jiffy',\n",
       " 'irresolute',\n",
       " 'vum',\n",
       " 'WON',\n",
       " 'Folding',\n",
       " 'scrutiny',\n",
       " 'porcupine',\n",
       " 'moccasin',\n",
       " 'ponchos',\n",
       " 'parade',\n",
       " 'rainy',\n",
       " 'remembering',\n",
       " 'commended',\n",
       " 'cobs',\n",
       " 'Nod',\n",
       " 'footfall',\n",
       " 'unlacing',\n",
       " 'blackish',\n",
       " 'plasters',\n",
       " 'inkling',\n",
       " 'Placing',\n",
       " 'crammed',\n",
       " 'scalp',\n",
       " 'mildewed',\n",
       " 'Ignorance',\n",
       " 'parent',\n",
       " 'nonplussed',\n",
       " 'undressing',\n",
       " 'checkered',\n",
       " 'Thirty',\n",
       " 'frogs',\n",
       " 'quaked',\n",
       " 'wrapall',\n",
       " 'dreadnaught',\n",
       " 'fumbled',\n",
       " 'Remembering',\n",
       " 'manikin',\n",
       " 'tenpin',\n",
       " 'andirons',\n",
       " 'jambs',\n",
       " 'bricks',\n",
       " 'appropriate',\n",
       " 'applying',\n",
       " 'hastier',\n",
       " 'withdrawals',\n",
       " 'antics',\n",
       " 'devotee',\n",
       " 'extinguishing',\n",
       " 'unceremoniously',\n",
       " 'bagged',\n",
       " 'sportsman',\n",
       " 'woodcock',\n",
       " 'uncomfortableness',\n",
       " 'deliberating',\n",
       " 'puffed',\n",
       " 'sang',\n",
       " 'Stammering',\n",
       " 'conjured',\n",
       " 'responses',\n",
       " 'debel',\n",
       " 'flourishing',\n",
       " 'Angels',\n",
       " 'flourishings',\n",
       " 'peddlin',\n",
       " 'sleepe',\n",
       " 'grunted',\n",
       " 'gettee',\n",
       " 'motioning',\n",
       " 'comely',\n",
       " 'insured',\n",
       " 'Counterpane',\n",
       " 'parti',\n",
       " 'triangles',\n",
       " 'interminable',\n",
       " 'caper',\n",
       " 'supperless',\n",
       " '21st',\n",
       " 'hemisphere',\n",
       " 'sigh',\n",
       " 'Sixteen',\n",
       " 'ached',\n",
       " 'coaches',\n",
       " 'stockinged',\n",
       " 'slippering',\n",
       " 'misbehaviour',\n",
       " 'unendurable',\n",
       " 'stepmothers',\n",
       " 'misfortunes',\n",
       " 'steeped',\n",
       " 'shudderingly',\n",
       " 'confounding',\n",
       " 'soberly',\n",
       " 'recurred',\n",
       " 'predicament',\n",
       " 'unlock',\n",
       " 'bridegroom',\n",
       " 'clasp',\n",
       " 'hugged',\n",
       " 'rouse',\n",
       " 'snore',\n",
       " 'scratch',\n",
       " 'Throwing',\n",
       " 'expostulations',\n",
       " 'unbecomingness',\n",
       " 'matrimonial',\n",
       " 'dawning',\n",
       " 'overture',\n",
       " 'innate',\n",
       " 'compliment',\n",
       " 'civility',\n",
       " 'rudeness',\n",
       " 'toilette',\n",
       " 'dressing',\n",
       " 'donning',\n",
       " 'gaspings',\n",
       " 'booting',\n",
       " 'caterpillar',\n",
       " 'outlandishness',\n",
       " 'manners',\n",
       " 'education',\n",
       " 'undergraduate',\n",
       " 'dreamt',\n",
       " 'cowhide',\n",
       " 'pinched',\n",
       " 'curtains',\n",
       " 'indecorous',\n",
       " 'contented',\n",
       " 'restricting',\n",
       " 'donned',\n",
       " 'lathering',\n",
       " 'unsheathes',\n",
       " 'whets',\n",
       " 'Rogers',\n",
       " 'cutlery',\n",
       " 'Afterwards',\n",
       " 'baton',\n",
       " 'Breakfast',\n",
       " 'pleasantly',\n",
       " 'bountifully',\n",
       " 'laughable',\n",
       " 'bosky',\n",
       " 'unshorn',\n",
       " 'gowns',\n",
       " 'toasted',\n",
       " 'lingers',\n",
       " 'tarried',\n",
       " 'barred',\n",
       " 'Grub',\n",
       " 'Park',\n",
       " 'assurance',\n",
       " 'polish',\n",
       " 'occasioned',\n",
       " 'embarrassed',\n",
       " 'bashfulness',\n",
       " 'duelled',\n",
       " 'winking',\n",
       " 'tastes',\n",
       " 'sheepishly',\n",
       " 'bashful',\n",
       " 'icicle',\n",
       " 'admirer',\n",
       " 'cordially',\n",
       " 'grappling',\n",
       " 'genteelly',\n",
       " 'eschewed',\n",
       " 'undivided',\n",
       " '6',\n",
       " 'circulating',\n",
       " 'nondescripts',\n",
       " 'Chestnut',\n",
       " 'jostle',\n",
       " 'Regent',\n",
       " 'Lascars',\n",
       " 'Bombay',\n",
       " 'Apollo',\n",
       " 'Feegeeans',\n",
       " 'Tongatobooarrs',\n",
       " 'Erromanggoans',\n",
       " 'Pannangians',\n",
       " 'Brighggians',\n",
       " 'weekly',\n",
       " 'Vermonters',\n",
       " 'stalwart',\n",
       " 'frames',\n",
       " 'felled',\n",
       " 'strutting',\n",
       " 'wester',\n",
       " 'bombazine',\n",
       " 'cloak',\n",
       " 'mow',\n",
       " 'gloves',\n",
       " 'joins',\n",
       " 'outfit',\n",
       " 'waistcoats',\n",
       " 'Hay',\n",
       " 'Seed',\n",
       " 'tract',\n",
       " 'dearest',\n",
       " 'pave',\n",
       " 'eggs',\n",
       " 'patrician',\n",
       " 'parks',\n",
       " 'scraggy',\n",
       " 'scoria',\n",
       " 'Herr',\n",
       " 'dowers',\n",
       " 'nieces',\n",
       " 'reservoirs',\n",
       " 'maples',\n",
       " 'bountiful',\n",
       " 'proffer',\n",
       " 'passer',\n",
       " 'cones',\n",
       " 'blossoms',\n",
       " 'superinduced',\n",
       " 'carnation',\n",
       " 'Salem',\n",
       " 'sweethearts',\n",
       " 'Puritanic',\n",
       " 'Whaleman',\n",
       " 'Wrapping',\n",
       " 'Each',\n",
       " 'quote',\n",
       " 'TALBOT',\n",
       " 'Near',\n",
       " 'Desolation',\n",
       " '1st',\n",
       " 'SISTER',\n",
       " 'ROBERT',\n",
       " 'WILLIS',\n",
       " 'ELLERY',\n",
       " 'NATHAN',\n",
       " 'COLEMAN',\n",
       " 'WALTER',\n",
       " 'CANNY',\n",
       " 'SETH',\n",
       " 'GLEIG',\n",
       " 'Forming',\n",
       " 'ELIZA',\n",
       " '31st',\n",
       " 'MARBLE',\n",
       " 'SHIPMATES',\n",
       " 'EZEKIEL',\n",
       " 'HARDY',\n",
       " 'AUGUST',\n",
       " '3d',\n",
       " '1833',\n",
       " 'WIDOW',\n",
       " 'Shaking',\n",
       " 'glazed',\n",
       " 'Affected',\n",
       " 'relatives',\n",
       " 'unhealing',\n",
       " 'sympathetically',\n",
       " 'wounds',\n",
       " 'bleed',\n",
       " 'blanks',\n",
       " ...]"
      ]
     },
     "execution_count": 56,
     "metadata": {},
     "output_type": "execute_result"
    }
   ],
   "source": [
    "text1 = book.text1\n",
    "fdist1 = FreqDist(text1)\n",
    "fdist1.hapaxes()"
   ]
  },
  {
   "cell_type": "markdown",
   "metadata": {
    "id": "m5EZlV075UNy"
   },
   "source": [
    "# Tokenizacja (nltk tokenize)\n",
    " czyli podział sekwecji tekstu na części (słowa, słowa kluczowe, zdania, symbole itp)\n",
    "\n",
    " Jak podzielić tekst na słowa: najprościej po spacji.\n",
    "\n",
    " Korzystamy z gotowych metod zawartych w pakiecie.\n",
    "\n",
    " Różne pakiety będą miały zaszyte różne podziały."
   ]
  },
  {
   "cell_type": "markdown",
   "metadata": {
    "id": "VR-tSARIi54P"
   },
   "source": [
    "Zacznijmy od czegoś prostego\n",
    "\n",
    "Z podanego tekstu wyświetlamy pierwsze dziesięć tokenów-słów"
   ]
  },
  {
   "cell_type": "code",
   "execution_count": 57,
   "metadata": {},
   "outputs": [
    {
     "name": "stderr",
     "output_type": "stream",
     "text": [
      "[nltk_data] Downloading package punkt_tab to\n",
      "[nltk_data]     /Users/mchojna/nltk_data...\n",
      "[nltk_data]   Package punkt_tab is already up-to-date!\n"
     ]
    },
    {
     "data": {
      "text/plain": [
       "True"
      ]
     },
     "execution_count": 57,
     "metadata": {},
     "output_type": "execute_result"
    }
   ],
   "source": [
    "nltk.download(\"punkt_tab\")"
   ]
  },
  {
   "cell_type": "code",
   "execution_count": 58,
   "metadata": {
    "colab": {
     "base_uri": "https://localhost:8080/"
    },
    "id": "jlAZ8fA0i8jW",
    "outputId": "bad6d1b1-e678-4bd6-e9fe-038abd852384"
   },
   "outputs": [
    {
     "data": {
      "text/plain": [
       "['Urodziłem',\n",
       " 'się',\n",
       " 'roku',\n",
       " 'Pańskiego',\n",
       " '1632',\n",
       " ',',\n",
       " 'w',\n",
       " 'angielskim',\n",
       " 'mieście',\n",
       " 'Jorku']"
      ]
     },
     "execution_count": 58,
     "metadata": {},
     "output_type": "execute_result"
    }
   ],
   "source": [
    "dane_tekstowe=\"Urodziłem się roku Pańskiego 1632, w angielskim mieście Jorku. Mimo to mógłbym się niemal zwać Niemcem, albowiem ojciec mój pochodził z Bremy i w późnym dopiero wieku osiadł w Anglii. Matka moja, Angielka, nosiła rodowe nazwisko Robinson, ja zaś, obyczajem angielskim, otrzymałem je przy chrzcie św. za imię. Ojciec mój zwał się Kreutzner, przeto i ja byłem właściwie Robinsonem Kreutznerem, ale Anglicy, nie mogąc nigdy wymówić tego wyrazu niemieckiego, zwali mego ojca: Mister Crusoe, tak że w końcu cała rodzina przybrała to nazwisko. W ten sposób zostałem ostatecznie Robinsonem Crusoe. Rodzice moi mieli oprócz mnie jeszcze dwóch synów i jedną córkę. Najstarszy służył jako oficer w jednym z angielskich pułków i zginął pod Dunkierką w bitwie z Hiszpanami. Młodszy brat mój wyruszył na obczyznę i przepadł bez wieści. Mnie, najmłodszego, rodzice starali się jak najdłużej zatrzymać w domu. Ojciec mój był kupcem, ale na starość wycofał się z interesów, a chcąc ze mnie zrobić uczonego, dał mi wykształcenie, jakie tylko osiągnąć było można w naszym mieście. Jednakże nauka nie nęciła mnie wcale. Przeciwnie, rad bym był ruszyć w szeroki świat, napatrzeć się ludziom i krajom oraz zaznać wszelakich przygód. Te moje plany i marzenia sprawiały dużo przykrości ojcu. Był to człek mądry i rozważny, i wiedział lepiej niż ja sam, co dla mnie najlepsze. Pewnego dnia wezwał mnie do siebie i rzekł łagodnie i życzliwie: „Drogi synu, skądże ci się biorą te myśli i dążenia awanturnicze? Czyż mam i ciebie utracić, jak utraciłem braci twoich? Zostań w domu, gdzie ja i matka troszczymy się o ciebie, gdzie masz przyjaciół i znajomych, gotowych do wszelkiej pomocy, którzy cię poprą niezawodnie, gdy raz już obierzesz jakiś zawód, ku własnej korzyści i zaszczytowi oraz ku pożytkowi społeczeństwa i pociesze rodziny. Szczęścia na obczyźnie szukają ci tylko, którzy niczego nie spodziewają się w ojczyźnie albo stracili dobrą opinię u ludzi. Przyznaję, że czasem przedsiębiorczość ducha wygania w szeroki świat młodzieńca, któremu na zagonie rodzinnym za ciasno, i młodzieniec taki ziszcza nieraz ambitne plany swoje. Ale to rzeczy nie dla ciebie, mój synu. Przeznaczeniem twym jest pozostać na szerokim gościńcu życia, który najpewniej wiedzie do szczęścia. Pozostań tedy w kraju i odżywiaj się należycie. Jeśli już nie zostaniesz uczonym, to masz dosyć zdolności, aby być dobrym kupcem, bo chyba nie uznajesz stanu ojca, stanu kupieckiego, za zbyt niski dla siebie”\"\n",
    "tokenizacja = nltk.word_tokenize(dane_tekstowe)\n",
    "tokenizacja[:10]"
   ]
  },
  {
   "cell_type": "markdown",
   "metadata": {},
   "source": [
    "następnie zliczmy: \n",
    "słowa, \n",
    "najczęstsze słowa wraz z liczba wystąpień\n"
   ]
  },
  {
   "cell_type": "code",
   "execution_count": 59,
   "metadata": {
    "colab": {
     "base_uri": "https://localhost:8080/"
    },
    "id": "63UFhqQGjz53",
    "outputId": "8aebd1a1-4608-47c9-f61b-5b629cbc9c2d"
   },
   "outputs": [
    {
     "name": "stdout",
     "output_type": "stream",
     "text": [
      "liczba tokenów:  453\n",
      ", 41\n",
      ". 21\n",
      "i 19\n",
      "w 13\n",
      "się 10\n",
      "nie 6\n",
      "to 5\n",
      "mój 5\n",
      "mnie 5\n",
      "na 5\n",
      "z 4\n",
      "ja 4\n",
      "za 3\n",
      "dla 3\n",
      "do 3\n",
      "ciebie 3\n",
      "częstość względna ('ojciec'): 0.002207505518763797\n"
     ]
    }
   ],
   "source": [
    "tokens = nltk.word_tokenize(dane_tekstowe)\n",
    "fdist=FreqDist(tokens)\n",
    "print('liczba tokenów: ',fdist.N())\n",
    "for i in fdist:\n",
    "  if fdist[i]>2: print(i, fdist[i])\n",
    "print(\"częstość względna ('ojciec'):\", fdist.freq('ojciec'))"
   ]
  },
  {
   "cell_type": "markdown",
   "metadata": {
    "id": "nMMK6fWCjWD5"
   },
   "source": [
    "uogólniajac można:"
   ]
  },
  {
   "cell_type": "code",
   "execution_count": 60,
   "metadata": {
    "colab": {
     "base_uri": "https://localhost:8080/"
    },
    "id": "dize6tMB6e7O",
    "outputId": "31002d33-aae2-4b83-cec2-317b8b2dd73c"
   },
   "outputs": [
    {
     "name": "stdout",
     "output_type": "stream",
     "text": [
      "Wyświetl słowa z których składa się to zdanie\n",
      "['Welcome', 'home', '.']\n"
     ]
    }
   ],
   "source": [
    "#zdefinujmy funkcje\n",
    "def tokenization(text):\n",
    "  token=nltk.word_tokenize(text)\n",
    "  print(\"Wyświetl słowa z których składa się to zdanie\")\n",
    "  print(token)\n",
    "#wywołanie funkcji\n",
    "output=tokenization(\"Welcome home.\")"
   ]
  },
  {
   "cell_type": "code",
   "execution_count": 61,
   "metadata": {
    "colab": {
     "base_uri": "https://localhost:8080/"
    },
    "id": "nhF_oYuxrXnb",
    "outputId": "e91bfb50-1141-4d7c-ce67-2ab968028f4a"
   },
   "outputs": [
    {
     "name": "stdout",
     "output_type": "stream",
     "text": [
      "Zdanie składa się z następujących słów:\n",
      "Welcome\n",
      "home\n",
      "!\n"
     ]
    }
   ],
   "source": [
    "#ALBO\n",
    "#wywołajmy w pętli\n",
    "text_przyklad=\"Welcome home!\"\n",
    "tokens_words=nltk.word_tokenize(text_przyklad)\n",
    "print(\"Zdanie składa się z następujących słów:\")\n",
    "for token_slowo in tokens_words:\n",
    "  print(token_slowo)"
   ]
  },
  {
   "cell_type": "code",
   "execution_count": 62,
   "metadata": {
    "colab": {
     "base_uri": "https://localhost:8080/"
    },
    "id": "glCNr4i5yRer",
    "outputId": "5e6734e1-32c6-497e-cb0a-0846dcd1c09a"
   },
   "outputs": [
    {
     "name": "stdout",
     "output_type": "stream",
     "text": [
      "['To', 'zdanie', 'sklada', 'sie', 'ze', 'słów', '.', 'Słowa', 'mogą', 'sie', 'powtarzać', '!']\n"
     ]
    }
   ],
   "source": [
    "#ALBO\n",
    "#wywołajmy funkcje\n",
    "from nltk.tokenize import word_tokenize\n",
    "text_przyklad1=\"To zdanie sklada sie ze słów. Słowa mogą sie powtarzać!\"\n",
    "print(word_tokenize(text_przyklad1))"
   ]
  },
  {
   "cell_type": "code",
   "execution_count": 63,
   "metadata": {
    "colab": {
     "base_uri": "https://localhost:8080/"
    },
    "id": "eiVDOYKsC3xI",
    "outputId": "56c6817b-4e50-451b-d5ad-da9ac49bb2f0"
   },
   "outputs": [
    {
     "data": {
      "text/plain": [
       "[(' ', 9), ('a', 6), ('o', 4), ('e', 4)]"
      ]
     },
     "execution_count": 63,
     "metadata": {},
     "output_type": "execute_result"
    }
   ],
   "source": [
    "#Częstość tokenów(znaków)\n",
    "from nltk import FreqDist\n",
    "zdanko=\"To zdanie sklada sie ze słów. Słowa mogą sie powtarzać!\"\n",
    "fdist = FreqDist(zdanko)\n",
    "fdist.most_common(4)"
   ]
  },
  {
   "cell_type": "code",
   "execution_count": 64,
   "metadata": {
    "colab": {
     "base_uri": "https://localhost:8080/"
    },
    "id": "0pJIFzgB9KbM",
    "outputId": "a5c3a9d1-1472-4d85-9821-3e4cfbf7defd"
   },
   "outputs": [
    {
     "data": {
      "text/plain": [
       "[('zdanie', 2), (',', 2)]"
      ]
     },
     "execution_count": 64,
     "metadata": {},
     "output_type": "execute_result"
    }
   ],
   "source": [
    "#ALBO\n",
    "#Częstość słów przed tokenizacją\n",
    "from nltk import FreqDist\n",
    "zdanie1=\"Czy zdanie po polsku da rade, powinno, bo przecież to tez zdanie.\"\n",
    "       # fdist=FreqDist(word.lower() for word in word_tokenize(zdanie1))\n",
    "fdist1=FreqDist()\n",
    "\n",
    "for word in word_tokenize(zdanie1):\n",
    "    fdist1[word.lower()]+=1\n",
    "fdist1.most_common(2)"
   ]
  },
  {
   "cell_type": "markdown",
   "metadata": {
    "jp-MarkdownHeadingCollapsed": true
   },
   "source": [
    "# Zadanie 2\n",
    "*   Wyświetl ilośc wszystkich tokenów oraz pierwsze 100 słów w poniższym tekście\n",
    "*   Przestaw graficznie (wykres, najlepiej słupkowy) 10 najczęsniej występujących słów\n",
    "\n",
    "\n",
    "\n",
    "> 'Łazik NASA Curiosity zarejestrował na Marsie zjawisko wiru pyłowego, zwane też \"diabłem pyłowym\". Wir, który udało się nagrać jest półprzezroczysty, jednak dobrze widoczny w kamerze łazika, badającego krater Gale. Zjawisko powstaje nad suchym obszarem w wyniku silnej konwekcji. Jest częste na Ziemi, tworzy się także na Marsie. Półkula południowa Czerwonej Planety nagrzewa się, szykując na marsjańskie lato. To prowadzi właśnie do konwekcji i wirów. Silne diabły są w stanie wysoko wnosić kurz i piach, tworząc potężne wiry pyłowe. Na Marsie są one jednak krótkotrwałe i dość ograniczone w obserwacji. Pierwszy raz to zjawisko na Czerwonej Planecie odkryto w latach 70. XX w., w trakcie misji sond Viking.'"
   ]
  },
  {
   "cell_type": "code",
   "execution_count": 65,
   "metadata": {},
   "outputs": [],
   "source": [
    "text = 'Łazik NASA Curiosity zarejestrował na Marsie zjawisko wiru pyłowego, zwane też \"diabłem pyłowym\". Wir, który udało się nagrać jest półprzezroczysty, jednak dobrze widoczny w kamerze łazika, badającego krater Gale. Zjawisko powstaje nad suchym obszarem w wyniku silnej konwekcji. Jest częste na Ziemi, tworzy się także na Marsie. Półkula południowa Czerwonej Planety nagrzewa się, szykując na marsjańskie lato. To prowadzi właśnie do konwekcji i wirów. Silne diabły są w stanie wysoko wnosić kurz i piach, tworząc potężne wiry pyłowe. Na Marsie są one jednak krótkotrwałe i dość ograniczone w obserwacji. Pierwszy raz to zjawisko na Czerwonej Planecie odkryto w latach 70. XX w., w trakcie misji sond Viking'"
   ]
  },
  {
   "cell_type": "markdown",
   "metadata": {
    "jp-MarkdownHeadingCollapsed": true
   },
   "source": [
    "## Zadanie 2.1"
   ]
  },
  {
   "cell_type": "code",
   "execution_count": 66,
   "metadata": {},
   "outputs": [],
   "source": [
    "tokens = nltk.word_tokenize(text)"
   ]
  },
  {
   "cell_type": "code",
   "execution_count": 67,
   "metadata": {
    "scrolled": true
   },
   "outputs": [
    {
     "data": {
      "text/plain": [
       "['Łazik',\n",
       " 'NASA',\n",
       " 'Curiosity',\n",
       " 'zarejestrował',\n",
       " 'na',\n",
       " 'Marsie',\n",
       " 'zjawisko',\n",
       " 'wiru',\n",
       " 'pyłowego,',\n",
       " 'zwane',\n",
       " 'też',\n",
       " '\"diabłem',\n",
       " 'pyłowym\".',\n",
       " 'Wir,',\n",
       " 'który',\n",
       " 'udało',\n",
       " 'się',\n",
       " 'nagrać',\n",
       " 'jest',\n",
       " 'półprzezroczysty,',\n",
       " 'jednak',\n",
       " 'dobrze',\n",
       " 'widoczny',\n",
       " 'w',\n",
       " 'kamerze',\n",
       " 'łazika,',\n",
       " 'badającego',\n",
       " 'krater',\n",
       " 'Gale.',\n",
       " 'Zjawisko',\n",
       " 'powstaje',\n",
       " 'nad',\n",
       " 'suchym',\n",
       " 'obszarem',\n",
       " 'w',\n",
       " 'wyniku',\n",
       " 'silnej',\n",
       " 'konwekcji.',\n",
       " 'Jest',\n",
       " 'częste',\n",
       " 'na',\n",
       " 'Ziemi,',\n",
       " 'tworzy',\n",
       " 'się',\n",
       " 'także',\n",
       " 'na',\n",
       " 'Marsie.',\n",
       " 'Półkula',\n",
       " 'południowa',\n",
       " 'Czerwonej',\n",
       " 'Planety',\n",
       " 'nagrzewa',\n",
       " 'się,',\n",
       " 'szykując',\n",
       " 'na',\n",
       " 'marsjańskie',\n",
       " 'lato.',\n",
       " 'To',\n",
       " 'prowadzi',\n",
       " 'właśnie',\n",
       " 'do',\n",
       " 'konwekcji',\n",
       " 'i',\n",
       " 'wirów.',\n",
       " 'Silne',\n",
       " 'diabły',\n",
       " 'są',\n",
       " 'w',\n",
       " 'stanie',\n",
       " 'wysoko',\n",
       " 'wnosić',\n",
       " 'kurz',\n",
       " 'i',\n",
       " 'piach,',\n",
       " 'tworząc',\n",
       " 'potężne',\n",
       " 'wiry',\n",
       " 'pyłowe.',\n",
       " 'Na',\n",
       " 'Marsie',\n",
       " 'są',\n",
       " 'one',\n",
       " 'jednak',\n",
       " 'krótkotrwałe',\n",
       " 'i',\n",
       " 'dość',\n",
       " 'ograniczone',\n",
       " 'w',\n",
       " 'obserwacji.',\n",
       " 'Pierwszy',\n",
       " 'raz',\n",
       " 'to',\n",
       " 'zjawisko',\n",
       " 'na',\n",
       " 'Czerwonej',\n",
       " 'Planecie',\n",
       " 'odkryto',\n",
       " 'w',\n",
       " 'latach',\n",
       " '70.',\n",
       " 'XX',\n",
       " 'w.,',\n",
       " 'w',\n",
       " 'trakcie',\n",
       " 'misji',\n",
       " 'sond',\n",
       " 'Viking']"
      ]
     },
     "execution_count": 67,
     "metadata": {},
     "output_type": "execute_result"
    }
   ],
   "source": [
    "text.split()"
   ]
  },
  {
   "cell_type": "code",
   "execution_count": 68,
   "metadata": {
    "scrolled": true
   },
   "outputs": [
    {
     "data": {
      "text/plain": [
       "['Łazik',\n",
       " 'NASA',\n",
       " 'Curiosity',\n",
       " 'zarejestrował',\n",
       " 'na',\n",
       " 'Marsie',\n",
       " 'zjawisko',\n",
       " 'wiru',\n",
       " 'pyłowego',\n",
       " ',',\n",
       " 'zwane',\n",
       " 'też',\n",
       " '``',\n",
       " 'diabłem',\n",
       " 'pyłowym',\n",
       " \"''\",\n",
       " '.',\n",
       " 'Wir',\n",
       " ',',\n",
       " 'który',\n",
       " 'udało',\n",
       " 'się',\n",
       " 'nagrać',\n",
       " 'jest',\n",
       " 'półprzezroczysty',\n",
       " ',',\n",
       " 'jednak',\n",
       " 'dobrze',\n",
       " 'widoczny',\n",
       " 'w',\n",
       " 'kamerze',\n",
       " 'łazika',\n",
       " ',',\n",
       " 'badającego',\n",
       " 'krater',\n",
       " 'Gale',\n",
       " '.',\n",
       " 'Zjawisko',\n",
       " 'powstaje',\n",
       " 'nad',\n",
       " 'suchym',\n",
       " 'obszarem',\n",
       " 'w',\n",
       " 'wyniku',\n",
       " 'silnej',\n",
       " 'konwekcji',\n",
       " '.',\n",
       " 'Jest',\n",
       " 'częste',\n",
       " 'na',\n",
       " 'Ziemi',\n",
       " ',',\n",
       " 'tworzy',\n",
       " 'się',\n",
       " 'także',\n",
       " 'na',\n",
       " 'Marsie',\n",
       " '.',\n",
       " 'Półkula',\n",
       " 'południowa',\n",
       " 'Czerwonej',\n",
       " 'Planety',\n",
       " 'nagrzewa',\n",
       " 'się',\n",
       " ',',\n",
       " 'szykując',\n",
       " 'na',\n",
       " 'marsjańskie',\n",
       " 'lato',\n",
       " '.',\n",
       " 'To',\n",
       " 'prowadzi',\n",
       " 'właśnie',\n",
       " 'do',\n",
       " 'konwekcji',\n",
       " 'i',\n",
       " 'wirów',\n",
       " '.',\n",
       " 'Silne',\n",
       " 'diabły',\n",
       " 'są',\n",
       " 'w',\n",
       " 'stanie',\n",
       " 'wysoko',\n",
       " 'wnosić',\n",
       " 'kurz',\n",
       " 'i',\n",
       " 'piach',\n",
       " ',',\n",
       " 'tworząc',\n",
       " 'potężne',\n",
       " 'wiry',\n",
       " 'pyłowe',\n",
       " '.',\n",
       " 'Na',\n",
       " 'Marsie',\n",
       " 'są',\n",
       " 'one',\n",
       " 'jednak',\n",
       " 'krótkotrwałe',\n",
       " 'i',\n",
       " 'dość',\n",
       " 'ograniczone',\n",
       " 'w',\n",
       " 'obserwacji',\n",
       " '.',\n",
       " 'Pierwszy',\n",
       " 'raz',\n",
       " 'to',\n",
       " 'zjawisko',\n",
       " 'na',\n",
       " 'Czerwonej',\n",
       " 'Planecie',\n",
       " 'odkryto',\n",
       " 'w',\n",
       " 'latach',\n",
       " '70',\n",
       " '.',\n",
       " 'XX',\n",
       " 'w.',\n",
       " ',',\n",
       " 'w',\n",
       " 'trakcie',\n",
       " 'misji',\n",
       " 'sond',\n",
       " 'Viking']"
      ]
     },
     "execution_count": 68,
     "metadata": {},
     "output_type": "execute_result"
    }
   ],
   "source": [
    "tokens"
   ]
  },
  {
   "cell_type": "markdown",
   "metadata": {},
   "source": [
    "## Zadanie 2.2"
   ]
  },
  {
   "cell_type": "code",
   "execution_count": 69,
   "metadata": {},
   "outputs": [
    {
     "data": {
      "text/plain": [
       "<Axes: xlabel='Samples', ylabel='Counts'>"
      ]
     },
     "execution_count": 69,
     "metadata": {},
     "output_type": "execute_result"
    },
    {
     "data": {
      "image/png": "[encoded data removed]",
      "text/plain": [
       "<Figure size 640x480 with 1 Axes>"
      ]
     },
     "metadata": {},
     "output_type": "display_data"
    }
   ],
   "source": [
    "fdist = FreqDist(tokens)\n",
    "fdist.plot(10, cumulative=False)"
   ]
  },
  {
   "cell_type": "markdown",
   "metadata": {
    "id": "5LSfFVLysI5J"
   },
   "source": [
    "# Zadanie 3\n",
    "\n",
    "Wyświetlic pierwsze 200 wyrazów z pierwszej książki z pakietu book, znaleźć 10 najczęsciej wystepujących wyrazów. Wyświetlić je w formie tekstowej i na wykresie\n",
    "\n",
    "Dlaczego takie sie wyświetliły ?\n",
    "\n",
    "Jak to poprawić ?\n",
    "\n",
    "Czy zmiana liter na małe poprawi statystykę? Sprawdż to zmieniając litery na małe\n",
    "\n",
    "Czy jesteśmy w stanie wywnioskować o czym jest książka która przetwarzamy?\n",
    "\n",
    "Proszę pamiętać o odpowiedzi na pytania "
   ]
  },
  {
   "cell_type": "markdown",
   "metadata": {},
   "source": [
    "## Zadanie 3.1"
   ]
  },
  {
   "cell_type": "code",
   "execution_count": 70,
   "metadata": {
    "id": "uMFk2txHsL1J"
   },
   "outputs": [],
   "source": [
    "text3 = book.text3"
   ]
  },
  {
   "cell_type": "code",
   "execution_count": 71,
   "metadata": {
    "scrolled": true
   },
   "outputs": [
    {
     "data": {
      "text/plain": [
       "['In',\n",
       " 'the',\n",
       " 'beginning',\n",
       " 'God',\n",
       " 'created',\n",
       " 'the',\n",
       " 'heaven',\n",
       " 'and',\n",
       " 'the',\n",
       " 'earth',\n",
       " '.',\n",
       " 'And',\n",
       " 'the',\n",
       " 'earth',\n",
       " 'was',\n",
       " 'without',\n",
       " 'form',\n",
       " ',',\n",
       " 'and',\n",
       " 'void',\n",
       " ';',\n",
       " 'and',\n",
       " 'darkness',\n",
       " 'was',\n",
       " 'upon',\n",
       " 'the',\n",
       " 'face',\n",
       " 'of',\n",
       " 'the',\n",
       " 'deep',\n",
       " '.',\n",
       " 'And',\n",
       " 'the',\n",
       " 'Spirit',\n",
       " 'of',\n",
       " 'God',\n",
       " 'moved',\n",
       " 'upon',\n",
       " 'the',\n",
       " 'face',\n",
       " 'of',\n",
       " 'the',\n",
       " 'waters',\n",
       " '.',\n",
       " 'And',\n",
       " 'God',\n",
       " 'said',\n",
       " ',',\n",
       " 'Let',\n",
       " 'there',\n",
       " 'be',\n",
       " 'light',\n",
       " ':',\n",
       " 'and',\n",
       " 'there',\n",
       " 'was',\n",
       " 'light',\n",
       " '.',\n",
       " 'And',\n",
       " 'God',\n",
       " 'saw',\n",
       " 'the',\n",
       " 'light',\n",
       " ',',\n",
       " 'that',\n",
       " 'it',\n",
       " 'was',\n",
       " 'good',\n",
       " ':',\n",
       " 'and',\n",
       " 'God',\n",
       " 'divided',\n",
       " 'the',\n",
       " 'light',\n",
       " 'from',\n",
       " 'the',\n",
       " 'darkness',\n",
       " '.',\n",
       " 'And',\n",
       " 'God',\n",
       " 'called',\n",
       " 'the',\n",
       " 'light',\n",
       " 'Day',\n",
       " ',',\n",
       " 'and',\n",
       " 'the',\n",
       " 'darkness',\n",
       " 'he',\n",
       " 'called',\n",
       " 'Night',\n",
       " '.',\n",
       " 'And',\n",
       " 'the',\n",
       " 'evening',\n",
       " 'and',\n",
       " 'the',\n",
       " 'morning',\n",
       " 'were',\n",
       " 'the',\n",
       " 'first',\n",
       " 'day',\n",
       " '.',\n",
       " 'And',\n",
       " 'God',\n",
       " 'said',\n",
       " ',',\n",
       " 'Let',\n",
       " 'there',\n",
       " 'be',\n",
       " 'a',\n",
       " 'firmament',\n",
       " 'in',\n",
       " 'the',\n",
       " 'midst',\n",
       " 'of',\n",
       " 'the',\n",
       " 'waters',\n",
       " ',',\n",
       " 'and',\n",
       " 'let',\n",
       " 'it',\n",
       " 'divide',\n",
       " 'the',\n",
       " 'waters',\n",
       " 'from',\n",
       " 'the',\n",
       " 'waters',\n",
       " '.',\n",
       " 'And',\n",
       " 'God',\n",
       " 'made',\n",
       " 'the',\n",
       " 'firmament',\n",
       " ',',\n",
       " 'and',\n",
       " 'divided',\n",
       " 'the',\n",
       " 'waters',\n",
       " 'which',\n",
       " 'were',\n",
       " 'under',\n",
       " 'the',\n",
       " 'firmament',\n",
       " 'from',\n",
       " 'the',\n",
       " 'waters',\n",
       " 'which',\n",
       " 'were',\n",
       " 'above',\n",
       " 'the',\n",
       " 'firmame',\n",
       " 'and',\n",
       " 'it',\n",
       " 'was',\n",
       " 'so',\n",
       " '.',\n",
       " 'And',\n",
       " 'God',\n",
       " 'called',\n",
       " 'the',\n",
       " 'firmament',\n",
       " 'Heaven',\n",
       " '.',\n",
       " 'And',\n",
       " 'the',\n",
       " 'evening',\n",
       " 'and',\n",
       " 'the',\n",
       " 'morning',\n",
       " 'were',\n",
       " 'the',\n",
       " 'second',\n",
       " 'day',\n",
       " '.',\n",
       " 'And',\n",
       " 'God',\n",
       " 'said',\n",
       " ',',\n",
       " 'Let',\n",
       " 'the',\n",
       " 'waters',\n",
       " 'under',\n",
       " 'the',\n",
       " 'heaven',\n",
       " 'be',\n",
       " 'gathered',\n",
       " 'together',\n",
       " 'unto',\n",
       " 'one',\n",
       " 'place',\n",
       " ',',\n",
       " 'and',\n",
       " 'let',\n",
       " 'the',\n",
       " 'dry',\n",
       " 'land',\n",
       " 'appe',\n",
       " 'and',\n",
       " 'it']"
      ]
     },
     "execution_count": 71,
     "metadata": {},
     "output_type": "execute_result"
    }
   ],
   "source": [
    "text3[:200]"
   ]
  },
  {
   "cell_type": "code",
   "execution_count": 72,
   "metadata": {},
   "outputs": [],
   "source": [
    "fdist3 = FreqDist(text3)"
   ]
  },
  {
   "cell_type": "code",
   "execution_count": 73,
   "metadata": {},
   "outputs": [
    {
     "data": {
      "text/plain": [
       "[(',', 3681),\n",
       " ('and', 2428),\n",
       " ('the', 2411),\n",
       " ('of', 1358),\n",
       " ('.', 1315),\n",
       " ('And', 1250),\n",
       " ('his', 651),\n",
       " ('he', 648),\n",
       " ('to', 611),\n",
       " (';', 605)]"
      ]
     },
     "execution_count": 73,
     "metadata": {},
     "output_type": "execute_result"
    }
   ],
   "source": [
    "fdist3.most_common(10)"
   ]
  },
  {
   "cell_type": "code",
   "execution_count": 74,
   "metadata": {},
   "outputs": [
    {
     "data": {
      "text/plain": [
       "<Axes: xlabel='Samples', ylabel='Counts'>"
      ]
     },
     "execution_count": 74,
     "metadata": {},
     "output_type": "execute_result"
    },
    {
     "data": {
      "image/png": "[encoded data removed]",
      "text/plain": [
       "<Figure size 640x480 with 1 Axes>"
      ]
     },
     "metadata": {},
     "output_type": "display_data"
    }
   ],
   "source": [
    "fdist3.plot(10, cumulative=False)"
   ]
  },
  {
   "cell_type": "markdown",
   "metadata": {},
   "source": [
    "## Zadanie 3.2"
   ]
  },
  {
   "cell_type": "code",
   "execution_count": 75,
   "metadata": {},
   "outputs": [],
   "source": [
    "text3L = [word.lower() for word in book.text3]"
   ]
  },
  {
   "cell_type": "code",
   "execution_count": 76,
   "metadata": {
    "scrolled": true
   },
   "outputs": [
    {
     "data": {
      "text/plain": [
       "['in',\n",
       " 'the',\n",
       " 'beginning',\n",
       " 'god',\n",
       " 'created',\n",
       " 'the',\n",
       " 'heaven',\n",
       " 'and',\n",
       " 'the',\n",
       " 'earth',\n",
       " '.',\n",
       " 'and',\n",
       " 'the',\n",
       " 'earth',\n",
       " 'was',\n",
       " 'without',\n",
       " 'form',\n",
       " ',',\n",
       " 'and',\n",
       " 'void',\n",
       " ';',\n",
       " 'and',\n",
       " 'darkness',\n",
       " 'was',\n",
       " 'upon',\n",
       " 'the',\n",
       " 'face',\n",
       " 'of',\n",
       " 'the',\n",
       " 'deep',\n",
       " '.',\n",
       " 'and',\n",
       " 'the',\n",
       " 'spirit',\n",
       " 'of',\n",
       " 'god',\n",
       " 'moved',\n",
       " 'upon',\n",
       " 'the',\n",
       " 'face',\n",
       " 'of',\n",
       " 'the',\n",
       " 'waters',\n",
       " '.',\n",
       " 'and',\n",
       " 'god',\n",
       " 'said',\n",
       " ',',\n",
       " 'let',\n",
       " 'there',\n",
       " 'be',\n",
       " 'light',\n",
       " ':',\n",
       " 'and',\n",
       " 'there',\n",
       " 'was',\n",
       " 'light',\n",
       " '.',\n",
       " 'and',\n",
       " 'god',\n",
       " 'saw',\n",
       " 'the',\n",
       " 'light',\n",
       " ',',\n",
       " 'that',\n",
       " 'it',\n",
       " 'was',\n",
       " 'good',\n",
       " ':',\n",
       " 'and',\n",
       " 'god',\n",
       " 'divided',\n",
       " 'the',\n",
       " 'light',\n",
       " 'from',\n",
       " 'the',\n",
       " 'darkness',\n",
       " '.',\n",
       " 'and',\n",
       " 'god',\n",
       " 'called',\n",
       " 'the',\n",
       " 'light',\n",
       " 'day',\n",
       " ',',\n",
       " 'and',\n",
       " 'the',\n",
       " 'darkness',\n",
       " 'he',\n",
       " 'called',\n",
       " 'night',\n",
       " '.',\n",
       " 'and',\n",
       " 'the',\n",
       " 'evening',\n",
       " 'and',\n",
       " 'the',\n",
       " 'morning',\n",
       " 'were',\n",
       " 'the',\n",
       " 'first',\n",
       " 'day',\n",
       " '.',\n",
       " 'and',\n",
       " 'god',\n",
       " 'said',\n",
       " ',',\n",
       " 'let',\n",
       " 'there',\n",
       " 'be',\n",
       " 'a',\n",
       " 'firmament',\n",
       " 'in',\n",
       " 'the',\n",
       " 'midst',\n",
       " 'of',\n",
       " 'the',\n",
       " 'waters',\n",
       " ',',\n",
       " 'and',\n",
       " 'let',\n",
       " 'it',\n",
       " 'divide',\n",
       " 'the',\n",
       " 'waters',\n",
       " 'from',\n",
       " 'the',\n",
       " 'waters',\n",
       " '.',\n",
       " 'and',\n",
       " 'god',\n",
       " 'made',\n",
       " 'the',\n",
       " 'firmament',\n",
       " ',',\n",
       " 'and',\n",
       " 'divided',\n",
       " 'the',\n",
       " 'waters',\n",
       " 'which',\n",
       " 'were',\n",
       " 'under',\n",
       " 'the',\n",
       " 'firmament',\n",
       " 'from',\n",
       " 'the',\n",
       " 'waters',\n",
       " 'which',\n",
       " 'were',\n",
       " 'above',\n",
       " 'the',\n",
       " 'firmame',\n",
       " 'and',\n",
       " 'it',\n",
       " 'was',\n",
       " 'so',\n",
       " '.',\n",
       " 'and',\n",
       " 'god',\n",
       " 'called',\n",
       " 'the',\n",
       " 'firmament',\n",
       " 'heaven',\n",
       " '.',\n",
       " 'and',\n",
       " 'the',\n",
       " 'evening',\n",
       " 'and',\n",
       " 'the',\n",
       " 'morning',\n",
       " 'were',\n",
       " 'the',\n",
       " 'second',\n",
       " 'day',\n",
       " '.',\n",
       " 'and',\n",
       " 'god',\n",
       " 'said',\n",
       " ',',\n",
       " 'let',\n",
       " 'the',\n",
       " 'waters',\n",
       " 'under',\n",
       " 'the',\n",
       " 'heaven',\n",
       " 'be',\n",
       " 'gathered',\n",
       " 'together',\n",
       " 'unto',\n",
       " 'one',\n",
       " 'place',\n",
       " ',',\n",
       " 'and',\n",
       " 'let',\n",
       " 'the',\n",
       " 'dry',\n",
       " 'land',\n",
       " 'appe',\n",
       " 'and',\n",
       " 'it']"
      ]
     },
     "execution_count": 76,
     "metadata": {},
     "output_type": "execute_result"
    }
   ],
   "source": [
    "text3L[:200]"
   ]
  },
  {
   "cell_type": "code",
   "execution_count": 77,
   "metadata": {},
   "outputs": [],
   "source": [
    "fdist3L = FreqDist(text3L)"
   ]
  },
  {
   "cell_type": "code",
   "execution_count": 78,
   "metadata": {},
   "outputs": [
    {
     "data": {
      "text/plain": [
       "[(',', 3681),\n",
       " ('and', 3678),\n",
       " ('the', 2461),\n",
       " ('of', 1364),\n",
       " ('.', 1315),\n",
       " ('he', 655),\n",
       " ('his', 653),\n",
       " ('to', 612),\n",
       " (';', 605),\n",
       " ('in', 600)]"
      ]
     },
     "execution_count": 78,
     "metadata": {},
     "output_type": "execute_result"
    }
   ],
   "source": [
    "fdist3L.most_common(10)"
   ]
  },
  {
   "cell_type": "code",
   "execution_count": 79,
   "metadata": {},
   "outputs": [
    {
     "data": {
      "text/plain": [
       "<Axes: xlabel='Samples', ylabel='Counts'>"
      ]
     },
     "execution_count": 79,
     "metadata": {},
     "output_type": "execute_result"
    },
    {
     "data": {
      "image/png": "[encoded data removed]",
      "text/plain": [
       "<Figure size 640x480 with 1 Axes>"
      ]
     },
     "metadata": {},
     "output_type": "display_data"
    }
   ],
   "source": [
    "fdist3L.plot(10, cumulative=False)"
   ]
  },
  {
   "cell_type": "markdown",
   "metadata": {
    "id": "RDexmwxDuniW"
   },
   "source": [
    "Aby poprawić widoczność informacji w danych można zdefiniować liste słów (znaków) które będą pomijane.\n",
    "\n",
    "Nazywamy ją lista stopwords.\n",
    "\n",
    "Można ją zdefiniować samemu albo użyć ogólnej z pakietu albo z zewnątrz. Jest dużo list stopwordsów, dla kazdego języka będą inne.\n",
    "\n",
    "Czy lista poniżej pasuje do tekstu którego ma dotyczyć?"
   ]
  },
  {
   "cell_type": "code",
   "execution_count": 80,
   "metadata": {
    "colab": {
     "base_uri": "https://localhost:8080/"
    },
    "id": "YqWiVBzGukFN",
    "outputId": "7199f7da-7a4a-4467-b848-76d6036865b9"
   },
   "outputs": [
    {
     "data": {
      "text/plain": [
       "['Ka',\n",
       " 'rine',\n",
       " 'feeling anxious',\n",
       " 'She',\n",
       " 'diagnosed',\n",
       " 'day',\n",
       " 'She probably',\n",
       " 'best person I know',\n",
       " 'I feel sorry',\n",
       " 'her and want',\n",
       " 'help her']"
      ]
     },
     "execution_count": 80,
     "metadata": {},
     "output_type": "execute_result"
    }
   ],
   "source": [
    "text_przyklad_zad2 = \"Katherine was feeling anxious. She was diagnosed today. She probably is the best person I know. I feel sorry for her and want to help her.\"\n",
    "\n",
    "stop_words_and_delims = ['was', 'is', 'the', 'for','to', '.', ',', '-', '!', '?']\n",
    "for r in stop_words_and_delims:\n",
    "    text_przyklad_zad2 = text_przyklad_zad2.replace(r, 'DELIM')\n",
    "\n",
    "words = [text_przyklad_zad2.strip() for text_przyklad_zad2 in text_przyklad_zad2.split('DELIM')]\n",
    "words_filtered = list(filter(lambda a: a not in [''], words))\n",
    "words_filtered"
   ]
  },
  {
   "cell_type": "markdown",
   "metadata": {},
   "source": [
    "Możemy też użyc listy stopwords z pakietu, nie ma w nltk takiej listy po polsku"
   ]
  },
  {
   "cell_type": "code",
   "execution_count": 81,
   "metadata": {
    "colab": {
     "base_uri": "https://localhost:8080/",
     "height": 35
    },
    "id": "_GGh4J5x0mNn",
    "outputId": "23b69abe-5b76-4bec-8b94-d03ab5a92fae"
   },
   "outputs": [
    {
     "data": {
      "text/plain": [
       "'Katherine feeling anxious . She diagnosed today . She probably best person I know . I feel sorry want help .'"
      ]
     },
     "execution_count": 81,
     "metadata": {},
     "output_type": "execute_result"
    }
   ],
   "source": [
    "text_przyklad_zad2_1 = \"Katherine was feeling anxious. She was diagnosed today. She probably is the best person I know. I feel sorry for her and want to help her.\"\n",
    "from nltk.corpus import stopwords\n",
    "my_stopwords=set(stopwords.words('english'))\n",
    "nowe_tokeny=[]\n",
    "\n",
    "# Tokenization using word_tokenize()\n",
    "all_tokeny=nltk.word_tokenize(text_przyklad_zad2_1)\n",
    "\n",
    "for tokeny in all_tokeny:\n",
    "  if tokeny not in my_stopwords:\n",
    "    nowe_tokeny.append(tokeny)\n",
    "\n",
    "\n",
    "\" \".join(nowe_tokeny)"
   ]
  },
  {
   "cell_type": "markdown",
   "metadata": {
    "id": "iWo24qmqwWal"
   },
   "source": [
    "# cd zadanie 3\n",
    "### \"Popraw wynik\"\n",
    "Popraw wynik statystyki najczęstszych słów używajac dowolnej listy stopwords (poszukaj w nltk i w internecie, albo/i wymyśl własną).\n",
    "\n",
    "Przemyśl usunięcie  interpunkcji (sprawdź poniżej)\n",
    "\n",
    "Określ tematykę tekstu na podstawie najczęstszych słów\n",
    "\n",
    "Znajdź listę słów dla jezyka polskiego\n",
    "\n"
   ]
  },
  {
   "cell_type": "code",
   "execution_count": 82,
   "metadata": {
    "id": "Ixzi5B5QwtRT"
   },
   "outputs": [],
   "source": [
    "from nltk.corpus import stopwords\n",
    "text3 = book.text3"
   ]
  },
  {
   "cell_type": "code",
   "execution_count": 83,
   "metadata": {},
   "outputs": [],
   "source": [
    "stop = set(stopwords.words(\"english\"))"
   ]
  },
  {
   "cell_type": "code",
   "execution_count": 84,
   "metadata": {},
   "outputs": [],
   "source": [
    "new_tokens3 = [word for word in nltk.word_tokenize(\" \".join(text3[:])) if word not in stop]"
   ]
  },
  {
   "cell_type": "code",
   "execution_count": 85,
   "metadata": {},
   "outputs": [],
   "source": [
    "fdist = FreqDist(new_tokens3)"
   ]
  },
  {
   "cell_type": "code",
   "execution_count": 86,
   "metadata": {},
   "outputs": [
    {
     "data": {
      "text/plain": [
       "<Axes: xlabel='Samples', ylabel='Counts'>"
      ]
     },
     "execution_count": 86,
     "metadata": {},
     "output_type": "execute_result"
    },
    {
     "data": {
      "image/png": "[encoded data removed]",
      "text/plain": [
       "<Figure size 640x480 with 1 Axes>"
      ]
     },
     "metadata": {},
     "output_type": "display_data"
    }
   ],
   "source": [
    "fdist.plot(10, cumulative=False)"
   ]
  },
  {
   "cell_type": "markdown",
   "metadata": {
    "id": "3NOx5khz3emK"
   },
   "source": [
    "# Removing punctuation\n",
    "Możemy tez usunąć z przetwarzanego tekstu tylko interpunkcję.\n",
    "\n",
    "To kolejny etap czyszczenia danych, zwykle nawet po usunięciu stopwords coś zostaje\n",
    "\n",
    "Użyjemy zaszytej w nltk metody RegexpTokenizer"
   ]
  },
  {
   "cell_type": "code",
   "execution_count": 87,
   "metadata": {
    "colab": {
     "base_uri": "https://localhost:8080/",
     "height": 35
    },
    "id": "nIRFqZWR3ldE",
    "outputId": "84b2bf16-69a9-493a-badf-725c1272267d",
    "scrolled": true
   },
   "outputs": [
    {
     "data": {
      "text/plain": [
       "'now im left with this gay name P PART hey everyone ah well NICK U7 U7 is a gay name ACTION gives U121 a golf clap JOIN hi U59 26 m ky women that are nice please pm me JOIN PART there ya go U7 do n t golf clap me fuck you U121 whats everyone up to PART PART i ll thunder clap your ass PART and i dont even know what that means that sounds painful any ladis wanna chat 29 m 26 m JOIN my cousin drew a messed up pic on my cast PART 24 m boo 26 m and sexy lol U115 boo JOIN PART he drew a girl with legs spread boo hope he didnt draw a penis PART ewwwww lol a head between her legs JOIN JOIN sounds good to me r u serious JOIN PART I ll take one please i have to go to the docs tomorrow ya man I am too Connected to Slip away Fade away Days away I Still feel you Touching me Changing me Considerably killing me heeeey do n t you have a sharpie 26 m you re back U115 U129 yep U115 Any ladies wanna chat with 24 m hurry ladies PART JOIN JOIN not fast enough U116 a bowl i got a blunt an a bong lol JOIN well glad it worked out my chair is too hard Anyone from Tennessee in here hey ladies as am i is U68 back yet PART hey PART JOIN U121 is missing a B in her name and i do n t complain about things being hard very often ok yes U30 fire it up Any women from Nashville in here JOIN PART and an an itch JOIN yo U133 or a ogan are you a male JOIN JOIN show will let s talk PART haha brb opps JOIN PART sho ACTION keeps U115 s place nice and warm hey any guys with cams wanna play ACTION sits on U68 s lap JOIN JOIN any guyz wanna chat hi there boo it s a female hey U126 PART i wonna chat PART 24 f nc single mom where did everyone gooo sure U126 JOIN what did you but on e bay i feel like im in the wrong room yeee haw U30 im considering changing my nickname to ihavehotnips JOIN i do n t want hot pics of a female I can look in a mirror hi U64 wb U139 u should U44 PART PART JOIN single dad here JOIN ty U68 PART JOIN Hi U139 PART JOIN hi U138 HAHAHA yw U139 you should make it iamahotnip U44 alright hi U139 you re fucking hot i thought of that hi U126 its so late lmao ahah iamahotniplickme PART Hi U121 in ny ACTION would lol U121 but appearently she does not like that cya later guys single white male 26 ca n t sleep huh JOIN hi U139 bye U20 well U68 what did u buy yeah i know U136 get the hell outta my freaking PM box Im with my fiance answers for U139 hi U101 I like it when you do it U83 iamahotnipwithpics U20 go plan the wedding P first warning PART JOIN uh huh A gold jeep charm for my necklace U30 make sure u buy a nice ring for U6 lol U7 Hi U115 ACTION isnt falling for that one again U136 get the hell in my freaking PM box I have no fiance right on i have one already U7 yayayayayyy OOooOO how you doin U139 lmaoo U121 iamahotnipwithhotnippics how many kts any single white females off off really Just fine thanks how are you that sounds freakishly like dr seuss wow twice I m impressed PART hiya room lmao im doin alright thanks omg Finger Deep within the borderline Show me that you love me and that we belong together Relax Turn around And take my Hand I just laughed didnt even look hang on finger yay PART that s such a DIRTY word oh its 14 k U141 get outta my PM Box didnt ya hear PART JOIN geeshhh lol U6 PART hes deaf ppl here dont get it U6 hug U115 ACTION watches U6 hug the stuffin outta U115 you can forward the pervs to me ACTION hugs U6 any girls wanna chat with 24 m please behave baby boy I gottsa go now Only for the dirty minded U121 ima behave yes U121 PART aww U6 have fun forwads away from U121 i already wrote what i wanted you to read theres nobody here i wanna misbeahve with lol JOIN so read it thanks U7 Im happy to have my fiance here forwads JOIN 22 m wa any ladies want to chat can i talk to him lol U121 forwards too lol JOIN ALL PErvs redirect to U121 s PM VBox PART I ll take all that I can get JOIN PART who is he U6 i hate it when my devotion to christianity is questioned U121 who honey Depends Hi all 31 m CA U115 is having my babies U20 yep lmao U7 ACTION laughs PART your fiance do you know his handle On what kinda pervs your lookin for what U92 JOIN little jerks jerkettes i love jesus more than ANYONE ELSE lolololll serg handle oh well beeehave and he loves ME the most i love myself JOIN lol U44 how do u know that what jerkettes lmao CO well if we have girls i didnts say anithing wrong i can see it in his eyes lol U20 fiance Jerketts lmao wtf yah I know honey JOIN girl jerk kids awwwwww you guys type too much shut the fuck up girl jerks ACTION gives U68 a nice massage u shut the fuck up PART no i dont want daughters ur annoying ACTION Now Playing Cradle of Filth A Gothic Romance Red Roses For The Devil s Whore JOIN i want daughters U115 U30 gettign cooler by the minute what d I miss lol noo there too much work why not girls are nice honey U116 PART U7 PART there is not heyy U148 i hate you boys are naughtier U92 JOIN bye U148 Hmm you I hate you say Guess what PART i hate you U121 fuck your ugly JOIN if i had a daughter she would regret me bein her dad huh Hmm PART What aw U115 whys that deep inside U121 wants what she hates JOIN ahahah U7 id put caution tape all around her Your phone sexs is the best 27 M UK pic in profile Lmfao dr phil said so I am ugly PART wouldnt let her date Is n t it aww i feel bad now U7 try to arrange your words so they form coherent thoughts PART ACTION sits in the corner JOIN phone U92 hello U84 ACTION sits with U92 hmph i hate you U68 does that mean I want you U6 hello room lol U83 and this has been the grammar lesson of the day courtesy of U84 PART JOIN yes U115 ACTION pokes U116 if your fiance is still here could i talk to him ACTION counter pokes wait i didnt me phone you sheesh now im that phone perv guy lets hope not U121 PART yes U115 of course lets woohoo any girls wanna chat 24 m JOIN I think I am the exception to the rule he s in PM land now though lol ah ok i wont bug em then someone wanna find me a cheap flight to spain i need to go this summer im a HUGE phone perv ok seriously who was the dumbass that signed kev fetterline a rap deal it s an emergency JOIN Ug no shit il get u a cheap flight to hell lmao bbl maybe PART LOL lol U7 it was me U83 hahah U83 8082653953 K Fed got his ass kicked Lol ACTION laughs i got a first class ticket to hell lol U7 JOIN any texas girls in here anyone can be bought if theres enuff money U83 any guys have webcams ACTION re thinks liking U121 JOIN rethinks lmaoooo Aw man whats up U155 i was only kidding lol he s a douchebag Poor U121 i m bored love me pick me choose me ACTION is re thinking the re think U6 nothing much u that was my meredith impression PART PART yes U92 sits with U30 Cum to my shower lol U121 ACTION U1370 watches his nads JOIN asl not a lot where u from choose me too funny You can pick your friends And you can pick your nose But you ca n t pick your friend s nose JOIN ACTION sticks his fingers in U7 s face lmaooo U92 ACTION U1370 watches ur nad with a stick ca u U23 ewwww lol sniffs ewwwwww PART U115 owww splinter PART JOIN ACTION licks U116 s ear PART ughhh does anyone want to talk to me on the phone I do n t charge IL ACTION gagas ACTION hangs head pm me for my phone number gags even Lmfao U121 ACTION licks U92 s neck i do ACTION bites her lip Meep ACTION is resisting ur female right lol U115 beeeeehave Remember the LAst time you did that ACTION smirks innocently no go wash your hands now dude U92 gets around jk JOIN 1 900 anal sex is U121 s number dang it just as i predicted no one pm s me charge that is 1 99 min lol innocent hahah lol yeah LOLOLOLLL U12 thats not nice my neck you asshole U115 can i pm you is like no it s not U12 you shut yo mouth erm free for U68 Lmfao JOIN ACTION goes to wash his hands lmao o I am innocent Lies lmao no U115 Check my record Lol lick em U7 U23 how old r u lol Way to lie mmhmm U20 is very polite calls U30 lmao 24 u yo U115 may i om y ACTION lix ummm lol LOL 22 U109 i dont cyber darlin youre dead to me why he is U6 I m more innocent than anyone on Death Row but i ll call you just in case youre not dead hahaha u got a good catch ACTION covers her neck are u mexican to talk what r u searching for he is not me ummm why else darling lol he wont bite ya U115 yeah u ooo wait yeah PART is he your fiance i m going to bed now i want to have hot sexy dreams about U68 i do bite U6 lmao darling he s a guy ACTION wishes someone would call cause I have free incoming call mins JOIN yes ditto U30 nite lool ya do i know that U23 kina give it away oo ooooook then hey room hey if he wants to call me darlin its ok yeah so did U155 PART and he bites U115 not any more U115 lol guys are idiots go ahead pm me baby U109 get the fuck outta my PM in case you girls did n t know thought y were a girl JOIN for all the early20s hahah baby what do u do in CA ACTION tears up the partial phone U109 s in my pm too U6 any hot guys wanna chat 22 30 u wanna have have hot sext dreams about urself U68 piff so now you dont wanna talk to me o shows i didnt read the profile thats so sexist am a student u dang U30 thats right lazy ppl dont read profiles sounds kinda conceited to me yes PART JOIN thats mean fine hug U20 ACTION watches U6 hug the stuffin outta U20 busy peolpe either I work in construction okay I m off for a bit i dont wanna talk to you either to calm myself down busy busy any one want to chat a bit U84 ACTION crosses arms later maybe geeshh two kids fighting whats ur major i probably sucks in summer too hot I saw my name was gonna dream about U30 PART ACTION sits down and eats chococake JOIN ok lol ACTION hugs U20 aw yum child development lol i want cho co la te U121 how near kc just cheaking PART JOIN PART hell yeah U115 hes taken alright near near P CHOCO CHOCO good night all ACTION smax lmaoo U7 JOIN haha It s only three syllables wow thats near geeshh cho co late hehehe sowwy ppl PART piff so sowwy VVil and U36 JOIN ACTION kisses U68 so Mmm PayPal has free credit alert to hep against identity theft now wont do it again too hot in the summer and too cold in the winter ACTION hands U121 the new cell phone chocolate smooch U30 ACTION walks up to U30 runs their fingers thru the back of U30 s hair closes their eyes and gently kisses U30 on the neck Compliments of U68 wat did u do U6 woohoo paypal yeah i typed choco in caps lol PART sowwy JOIN PART umm U83 PART lol pounce U165 ACTION watches U6 jump up and pounce U165 mmm I missed you baby spank you re not supposed to be here you re over your 20s good pay makes it better yes PART that red color bit my eye man ACTION video tapes hey U20 Im blind now ACTION has left the room hey este U115 spank dat as will PART hahah U121 hey U165 funny Way to chase people out lmao U83 PART watch him U6 P ty U6 hey U6 PART very bored any guys wana chat to a chik from aussie i mean chat as well lol U7 PART u got that right i dont do shit im the supervisor Hello U165 hey U165 how s u ACTION has left the room with U83 your fiance is ignoring me U6 JOIN lol U115 what list should i put him in you wish honey cmon hi U128 nice JOIN not the special list cuz he ignored you PART hey U64 put him in the untouchable list U115 im good U6 lmao U7 how r u U128 hehe hows bout u good to hear U165 no U6 knows i have 2 lists JOIN 27 M London any girls who enjoys roleplay whisper me good and urself PART JOIN wats are they PART yes 2 lists great ty piff i aint tellin you u know the u of I right fighting illin U11 lol lol U11 wb U9 thank you vm lol i had to shut the tv off too much noise about nothing but stupid political ads good grief PART JOIN wb U15 JOIN yeah i lost connection so U11 how was youer day its election season ooo a scorpion like always U7 and yours same well i was off of work today what did u do U11 Uhh Ahh Boyz II Men scorpions rock lol what is ur job me too U11 hehe went to manhattan and back boght some stuff then came back home PART what stuff U11 they can be vindictive earrings and a coat but nice people seriously U2 lol you read too many horror scopes lol nice U11 i am horrified hehe lmao U2 U2 even JOIN well i am going talk later byb bye Hey everyone nite U15 welcome U17 bye U15 Hey U9 what s the flavour of the day U9 i had a very intersting blueberry martini today first time liked it see u all laterssss What kind of consultant are you I m a financial consultant byeeee nite U7 bye U7 gonna eat dinner PART biz U17 Looking Through Patient Eyes PM Dawn last song of the evening LIVE cool is biz going good nite U7 mauh nite mike i keep makin for others so it must be U17 lol U11 sup girl me too always seem to pick the right stocks for everyone else but me lol Hi U4 do n t take your own advice lol do n t be your own client you ll suffer JOIN lmao I do just always 2 days too late after I finish meeting with all my clients hi room hey U18 welcome hi U9 mango is my fav JOIN thank you PART shaken or stirred U18 hi U19 hey U18 good ques U17 always shakin lol strong lmao U18 strait up lol JOIN shakin that s the way I like it oh ya sorry dont drink its k is a smoker me too trying to quit U9 what s your preference always 4 20 at my house ya PART i like mine shook over ice why so mad U19 cali farmer hmmmmmmm harvest good this year brb NICK U10 whoa hb U2 i have teenagers finally U10 lol ha i have one i have 2 18 16 what s the latest boys oh ny gosh 8 6 girls my that is ruff so what are we talkin about tonight PART you re choice U17 mango martinis and teens lol U18 hey U9 you married lol hell no u sex drugs and rock n roll PART lol U19 wooooohoooo with an answer like that nope lol ha maybe not the drugs the rest i can do or the rock and roll definitley the sex lol yeppers ya drugs r bad i sing for the ladies oh no U19 are you from texas any kids U9 no mame nada again U17 u cali guy here mikeeeeeeeeeeeeeeeeeeeeeeeeee ok see my nic little boy ya that s cool kids are cool JOIN welcome U21 adults are cooler lol i chatted with someone recently from texas who said yeppers alot hi JOIN yea my 18 year old plays in my band hi all hi U21 JOIN hey u550436035 NICK U10 i c hi all hey U23 hun hi U9 hi U23 yea its pretty cool nice to see you here hey everyone so how do you unwind U9 hi i m doin it now U17 the hair would suggest you party hard lol what type of music does your band play the hair yep yeah I m ready to party hey U9 what you do for fun she s doin it lol not a loaded quistion U23 I m flattered really with one hand what U11 JOIN hi U24 gentlemen let s be nce there are ladies in the room really U17 geeze I meant nothing by my comments ae you sexy PART are how are you U23 no kidding if we be dumb asses they wont chat with ya ok i guess lmao U19 go figure Finally someone figured out women thanks U19 tries to watch his manners damn U17 lol no problem what was I thinking orgy all around lol orgy lol lmao wow what one word can do for some people easy there U3 lol lol to funny PART JOIN but getting back to the orgy U25 lmao U17 U3 U25 whats up U11 no bye me too U9 PART lets play naked twister ACTION passes a drink to all in the room and a margarita for U11 cyber twister how novel ty U25 hun U9 all around lol thanks U25 right on no cheating now PART JOIN oppsss lol JOIN lol U25 wb 0 U25 if I were you I would ask for a better nickname hi U25 wrong damn button again lol PART bye U21 hey U26 out of the pm please it is all good U17 call me what u like just not late for date or dinner lol lol lol U25 U9 seems to know all the right buttons to push PART lose the fantasy U17 lol ACTION is U10 i thought my name was shit head for a long time ACTION WOW You said shit lost it years ago oooooooooooooonnnnnnnnnnnneeeeeeeeeeeeeeesssssssss ooopppps did not see u there baby sucks being you then huh j k JOIN hey U27 welcome Hi PART JOIN What s happening why d U19 leave not sure JOIN passing around U9 pissed at you i m sure lol hello oopps I meant martini s lmao U17 hey U28 Anyone PM in this room how are ya ll gotta watch my manners or she wo n t psh anymore buttons lol hello everyone yes hey U29 oh you meant your other lover lol lmao U17 go figure you d think that was about you yeah cuz i have so many lmao gotta try so seriously it was n t meant for me lol not sexy but can I stay lol you keep passin me around it s gotta stick sometime lmao lol with party hair like that knockin down the door I bet no prob U29 party hair seriously lmao JOIN thanks sexy is just a bonus at this point in my life lol lol U17 just kidding LOL PART anti sexy hey U30 welcome to the crazy room lol had a girlfriend with hair like you U9 howdy doody and what happened to her U17 can I ask where ya all are from im here in kentucky as I said too wild even for me 34 M Pa canadain ladies pm me hey U9 i m from CO a fellow canadian woohoo JOIN hey U31 welcome cool U31 hello U9 hey U31 U11 hugs are you sexy Hi U17 yo U31 whats up JOIN am i Hi all yo U25 hey U32 welcome is who sexy cause we only accept none sexy people except for U9 thank you U9 whew I think I m sexy as hell she s the exception I have to leave shut up U17 everyone is sexy damn straight sexy in the dark i think i am too U31 lol no U31 do n t leave have n t seen me at six in the morning have you just kidding JOIN does not matter to me waht anyone else thinks about me lol ACTION settles in next to U11 not leaving hi ya U33 hey U33 welcome lol U31 JOIN you passed the test great self esteem Hi U9 hi U31 Hi U25 JOIN hi room hey U35 welcome hi ladies hi U35 hey U34 welcome any Pa people here well if that s what I needed to pass I get a freaking A hi I lived in PA once U35 is that italian lol U31 A I ve been to PA no JOIN PART hey U36 welcome i fly over it before hi U36 I m an over achiever hello whjat nationality are you U35 hello U36 who s horny Is U17 writing a book whjat is not a word U17 lol LOL PART under achiever front and center yes I am lol lol U31 he must be PART JOIN getting the obbts off just got home from work great night LOL It is in my world hi U37 ooppsss BOOTS Well the handsome U37 ACTION is a short bus rider i ca n t keep up its my first time here welcome welcome U36 ACTION hands U17 her bio PART we re not as stupid as we appear lol looking it over carefully He was mad no one was horny LOL oh my lol U31 go figure Or confessed to it I should say We all know we re all horny who was looking for someone horny PART right JOIN PART that perked ya right up U17 lmao the U34 of Steel OK i say if they cant be creative enough to come up with a better line then ya horny they can stay away from me lmao ummm yeah sheepishly dang i didnt even get to shine my boots for that one lol PART I am not a bisexual man but I am seeking some equal opportunity conversation with a male or female capable of sustaining an intelligent chat without any humor A nyone interested do n t boot me either JOIN And you say I m writing the book ACTION looks away from U37 wothough humor U37 you freaked me out nothing personal Omg U37 stop that LOL JOIN somebody slap hiom back to reality hey U28 and U39 welcome him PART U9 i used to live next door in Ut PART PART and you live where now U37 HAHA cute nic there 1 smallfry please do n t say a prison lol I scare everyone I am that pathetic Kentucky lmao U17 dman damn even PART no one is pathetic just human PART that s right PART LOL and horny right U28 right LOL holy crap that took forever What no access to com in prison If I was an ex prisoner would u hate me wb U18 what took forever the crap thanks i added a pic but had to resize and stuff U37 no im an equal oppertunity hater LOL Hi U3 do u ever sleep man am I out in left field tonight sorry U18 lol U28 JOIN O brb no U17 you re in the right field lol Well humanity is terrible these days hi U37 yes i sleep lol U3 When I do n t even know what that means U9 oooooooooooo ghost hunters is on ya all talk to me if i get scared right during the day of course you do n t babe right field wrong park lol j k lmao U25 who s in prison not me i put them in the jail lol never even been arrested lmao my soon to be ex husband U31 still waiting on the pic or at least tell the cops where to go to get the bad guys lol PART U31 you re handing out pictures been cuffed b4 though LOL I was in prison once Or 5 times lol right there U28 lol smile stop doin it then U37 Do u hate me now yeah U37 I put it up for you twice JOIN ACTION hates no one Sure ill hate ya if ya want me to lmao I m not good to look at U17 too much drama JOIN ACTION love everyone cause everyone is special allow me to be the judge thank you very much lol ACTION wanders over to the corner PART Come on down U41 ACTION hogs the couch U17 looks over to sneak a peek at U9 So is U25 girl gonna help me redraft my pro se petition I know she despises ex prisoners Ok I m gonna put it up ONE MORE TIME U37 and this is it O K You re just going to be disappointed that I look like a soccer mom music out here please what about me U31 care to me U17 you inviting JOIN No I had a 220 lb spouse JOIN do n t play a dumbass be gente lol hello ACTION hi hi all LOL my pic would clear this room for real LMAO And I loved her from the heart and soul blush hi U12 lol U28 U42 Hello there i despie no one i like to say if u have done ur time then that is that U42 Ok U37 it s there AGAIN hey U42 i do not like to judge anyone U37 U25 hey O k hey U3 hey U42 what up U41 i am fine JOIN U9 where d you go hi U11 you make it U43 i am here there ya are lol Well it is not destiny hey U43 i m in neverneverland U17 PART No luck hi U17 is the sky purple hello U17 Hi U44 hey U42 it black here brb hb k U28 you need help lol I do sorry PART U25 u an attorney U37 did you see the pic do n t be sorry my therapist fired me blush no a dispatcher U28 depressed him too much hey U31 Anyone else want to see me it s up there for a minute Hey U42 hon U31 it is not up ok i am back lol U31 where s there U31 wb baby ty U42 U deceived me wb U43 ty i did hows that oh for crying out loud I keep putting it in my profile U31 PART not there U43 It is o k my computer is trash ok I m gonna log out and in once PART oh joy tongue U9 you re alive Ms U1 what u research hell yeah of course JOIN JOIN wb U31 still got the hair right w b U31 PART get over the hair U17 lol Sexy lets see therapy I will I promise lol ty and ty ACTION does n t do therapy She escaped quick the hair is forgotten then lmao U17 good job would take an ex con to use words like escaped lol U37 look now LOL PRIVMSG U1 how are u U31 I think you re taking us for a ride PART JOIN WEEEEEEEEEEEEEEEEEE think I amy have offended him I m such a schlep sometimes no everyone in the other room can see it No luck Amy wow revolving doors in her sure make me dizzy lol try F5 PART or Ctrl R PART or give up and realize I m not worth the effort lol Well I am immersed in a f b i conspiracy Oh I thought U17 was talking to me I was U31 You called me Amy O k I see it I ll take your word that you re a hot soccer mama Nice to see u Oh no I did NOT say hot Thank u nope nope nope you re welcome 20 Question A teacher that you had the hots for flirts outrageously with you at your class reunion If single would you hook up with them Yes or No i meant to write the word may I know but it threw me U are Yes the teacher would probably be 80 would n t she Yes i would U12 well let me get have another 12 hr day tomorrow at work LMAO 80 No i am young night U25 hugs U11 have great night U31 hugs where you going U25 awww see ya U25 have a good one U25 bye U25 have to work in the mornign 12 hr day bye U25 U11 see u are still here lol night U17 U37 have good one nite U25 nite nite niteeeeeeeeeeeeeeeeeee Need me to cuddle so U12 did you ask her out or what night U9 hold me lol PART is the lady with no hair still around lol ok brb taking my pic off U11 how is brooklyn it was never there to remove in the frst place Thank u U31 Oh yes U37 saw it it is raining U37 I saw it I like n y Only been there one time I wanna live there someday U28 did you and U9 hook up and are now having a party of your own I like bedford street shut up U17 you wish i here watchin ghost hunters lol such harsh words But expensive tell em U9 1200 for a studio Hi U6 I liked louisianna the best though hey U11 you love it U17 Too humid hi U17 actually i do never liked soft women no shortage of stron women in this room lol you like them rough U3 whaaaaats up in ohio Like whip and crop tough now now U31 we barely know each other lol hi U23 love me like a bomb baby come on get it on hi U23 Pour some sugar on me babe n get see dentist JOIN lol hiya U23 hey U23 bend me shape me any way ya want me hi U27 Hi U23 welcome to room also U27 hey there U27 hiya U27 ACTION never judges a book by it s cover likes to read and see whats on the inside same with people too pour some splenda on me when you need a sugar subsitute JOIN wb U27 hello all this comp is freaing me out lol Greetings U27 lol U9 for sure U11 hi U28 U11 some people have a lot of blank pages Hi U28 welcome to room free your mind thanks U11 lol hey U18 totally agree with you U11 nice U11 free your bosom blank pages mines free gets U27 some un freeze for her puter lol U4 free your bootay they r free well I do n t like Splashing in a Puddle for too long I would rather Swim in an Ocean lol U18 Hard to read a book if you never open the cover weeeeeeeee thanks U19 PART im out in cal now U3 looking at some new bulls to by it s an expression U22 just some categories in my book are blank others are too full lol U20 you really should wear a bra to work euphamisms JOIN lol U9 u may have to much files u need rid U27 JOIN people will start calling your names hi everyone sometimes depending on the book ya just wanna leave that chapter out and make it a mystery PART its my son s wireless laptop hi U30 could be a Virius U27 lol doubt that hi U30 hi U26 hi U30 ACTION back to lurkin keeps losing connection Hi U30 Oh toss it out window U27 hiya U30 hi U11 U29 yawns hi U24 U3 they d just tell me that i left my headlights on hi U30 is watchin the screen you tired U29 or bored hi U16 U20 high beams ouch U20 hi U6 Hi U29 n U24 bored lol and they d all wear sunglasses to work Hi U30 I see PART hi U19 bored man the day is slipping away do something guess he crashed lol JOIN well perhaps you should find something Unboring to do yeah i should toss it lol do you widdle PART Hi U27 welcome all 2 of u ty no but U13 fiddles lol kicks back with coffee how many U27 is there today lol u evil twin left U27 eeek JOIN hi U31 JOIN say what U20 ysssssssss hi U32 lol chatting but in some chats people just simply babble nonsense or are cyberin thru the pm s lol I said you look nice today U13 lol Hi U31 n U32 welcome to room hi U31 U32 U16 tjhe sun is fighting to get out welll excuuuuuuse me hi folks ty burp hi all yep I can see that U9 JOIN babblein nonsense i think now my parrot is misbehaving lol Well if you do n t like the conversation the solution is Simple Change it hey U33 fart hi U33 hi U33 hi U11 U33 JOIN hi U26 hi U34 hi U16 U34 hello U34 hi U9 true lol i just did Hi U20 hi U34 Hi U10 welcome to room as u go shoppin at k mart for new pants helloooo U34 that s y i m here lol PART JOIN hi U11 gm PART um U33 i mean hi U8 hi U33 hi U33 m U34 U8 Hi U33 welcome to room as u go shoppin at k mart for new pants lol hi U19 U34 is on his 10th cup o coffee lol hi U30 heee good day to you U16 j k relax dont do it lol U20 Hi U34 so where from U11 PART your gonna have to peel him off the Ceiling soon lol hi U30 no U9 say never never land ACTION is in Ontario CanEhda PART hi U19 fock JOIN beautiful day here metallica kool just got back from the doc U20 hiya U35 thats great U32 Hi everyone come in sit smoke are kiss having my first cup o the dya hi ya U3 oh what d he do kool with a K is cold up there brb do n t say you were n t warned brb messed up bad how ya doin U34 it s gonna be Kold soon JOIN exit light enter night off to never never land oh no U34 yep cool kool wb U35 that s right i forgot hi U35 U36 lol lol kold lol Yes U11 spring is comin hi U30 well they ve got me going to see a specialist this afternoon at 3 45 for MRIs what about you what is your fascination with the Russion Space Ships sunshine is always nice JOIN good PART lol U11 amen U32 goody PART chuckle U20 lol i m a history buff thanx U9 ahhhh I see what did you do to yourself U34 hi all I like Biographys well i am a hickory nut we go from there i spose mm buffalo wings PART hi U37 it means were getting older lol I figured it out i love american hx plus i wanted a unique nic hi U37 hix hx history was n t interested in them when I was younger because they were all strangers to me LOL JOIN oh now I know these people and it s interesting lol also i m a teacher wb U27 who should change her nic to fallout History Hi U27 who is here n there history by any chance lol his story yep god this grrrrrrrrr his tory ahhhh What a Coincidence i blew out a knee and dislocated my left thumb or worse yesterday U30 i m aok though no worries hertory amazing lol hi U27 fight the powers that be hi story lol heya U35 what grade do you teach r u a teacher 2 JOIN U34 my damn comp is goofy so if I fall out ever date a student and american literature ouch U34 lol there a story of a man name brady who had 12 kids out of wed lock the others were kidnaped OOPS h s I see ACTION kisses U34 s booboo and makes it all better lol U35 U30 none of my teachers would sleep with me lol PART oh that feels so much better already lol gets U27 a pillow JOIN i had this one art teacher ms xxxxxx oooh lala some of these nicnames are very odd lol awwwwwwwwww hugs U19 they are I need fake ID so I can get into an eighth grade classroom with a hot teacher yes U11 like mind rolls her eyes U9 lucky U9 none was like the gayoholic congressman Foley JOIN thows eyes back i have two watches eyes roll by U30 i ve got a brother in Naples i know U11 bet you re thinking how did i ever come up with U30 hugs U27 dad is bed bound with fractured compoud vetrabrate hi U39 JOIN cool U34 thats 90 miles from me hi U11 lol r u a teacher U11 I still wait on ssi ssid hearin none yer or a nurse JOIN PART PART U30 your in the old country yeah we re headed that way in april do some fishin and such I need 2 opr on me U27 as her evil twin enters room PART Naples Florida am gonna shoot this pos thing not italy old country U9 lol smart gal U27 backup yeah U16 lol beautiful there oh it s raining i was thinking sicily a nice change from teh rockies too U16 Florida rained here this morning yep JOIN still think it may need have some temp files remove U27 work better florida is old country too i guess lol U27 has a nice pic but it wo n t be current if she keeps getting booted JOIN PART hi U42 blue hairs U42 hi U43 lol U3 hi U35 hi U43 hi U16 PART Hi U43 welcome to room hi U30 JOIN hi U43 hi U19 and ty hi U30 hi U34 hello all hi U44 nebraska is where its at corn hi U43 poot poop and get in line for the early bird specials huskers hi U44 lol U9 and JOIN hi U35 hello U44 corn hi U45 and well i off now see u all PART huskers soybeans lol PART U3 has an awesome pic hope all is doing great lets go huskers Hiya U43 how have you been rain on the scarecrow blood on the plow backatchya U20 cutie hey U6 no pm ok here U45 thank you for asking how are you problem ACTION If you have a problem with another chatter please do n t take it to the main room see one of your friendly neighborhood ops and they ll handle it for ya Thanks freak solved op MODE 40sPlus o U16 thanks U16 fine here ty JOIN JOIN U20 has an awesome pic too Doing great U43 thanks for asking can you believe this weather Yeah it s fall hi U46 good afternoon oh U3 is so so snort fingers crossed behind my back PART ty U39 hi U34 i think she photshopped it hi U46 and U47 yw too hot huh U45 lol U9 U34 has an awesome pick lol U25 lol JOIN hi U43 U48 LOL U43 typing from the pool its rather nice out today but yesterday was terrible JOIN JOIN U20 speaking of those nice px gm all PART U49 JOIN hi U46 U47 U48 U49 U50 hiya U49 just czeching in before czeching out lol hi U49 hiya U48 hio U9 hi everyone hi U49 hi U9 ryaon so sexy hey U49 hiya U43 U9 hi U43 hi U49 hi U34 hiya U48 hey U16 hi U43 JOIN hiya U49 deop hi U20 hi U3 MODE 40sPlus o U16 hey U49 hi U52 JOIN hi U52 hugs hi U13 wb U52 hi U52 hi U53 hiya U20 hi U3 de tubetop helloooo U52 hiya U53 hiya U43 hug U26 hi U53 hi U53 hiya U13 U52 wow must be lunch time hiya U30 hi U53 I love U52 s pic hey U53 Hi Everyone U18 hugsssss hiy U16 hi U53 U9 PART U53 hi U53 hows everyone just finished lunch oh U26 left lol hiya U46 how are you today Wow full house here on a Friday afternoon VBS fine here and u U50 hi U46 i have to go to work i m fine thnx U45 hey U52 JOIN already good ty hi U16 Hi U54 hi U53 yes U34 hiya U53 hi U52 hi U54 i just started a new job new pic I see U11 the roof the roof the roof is on fire Hello U44 and U3 hi U54 congrat U46 did you attend that Kansas TC get together awesome U46 whatcha doin lol Hi all hey U43 l hi U54 o l hi U11 hey U54 hi U49 sales hi U54 hi U54 PART no U34 I did n t get to go death in the family PART hey U11 good to see you you too U7 u beachhhh hehehe Sorry to hear that U52 My sympathies to you and your family really U52 so sorry oh sorry to hear that U52 was just wondering my sympathies credit card proocessing software hardware ty welll sorry to hear that U52 hugs hon I have n t been in here in quite a while JOIN was my oldest son s dad Hugs for you U52 U47 get lost wb U24 ty U11 an X wowsa PART oh Lord wb U24 uyes thanks U25 oh you do give a damn wo n t you buy me a mercedes benz U52 I just had a death in the family as well bad week hi U47 ty lost maybe forgotten sure why yes I do U24 lol i knw how u feel i just saw Death of a Salesman hey U16 if i had the cash i would U20 yes it sucks U46 hey U47 PART phone brb bye everyone PART hb U34 hi U11 yes it does i was singing lol PART off key did n t ja hear me sing away U20 lol lol hmmmmm JOIN PART hey U25 someone said he was coming up for thanksgiving you should come with him hi U55 U55 hmmmm was she singing Dixie lol Hiya U49 oh wait thats a Whistlin Hello U9 thank god you were singing was gonna call animal welfare thought someone was torturing a cat hi U55 hi U55 lol whisling dixie Hiya U43 yep that was singing thought I had tuned into Martian swamp music hey U55 good to c u Hello U11 lol U3 be nice U3 lol Hey there U25 lol cripes no mercy here JOIN hey there U55 will play nice grrr I see new updated pics from U11 and U52 Hiya U16 hi U56 aww miss U20 it was muzak to my ears lol U3 wait til they beg for Mercy Huh U20 lol ca n t U52 have a family reunion that Saturday lol U3 lol U9 ty U9 thats right U11 ahhhhhh ok who knows if he s really coming up U25 lol yepper nice thought tho defragging my disc drive how LONG does this take Been over an hour now U35 I m a nice guy in real life I wanna be a bandito in chatland but I gotta play nice tongue Wowsa big Sneeze I did n t get anybody did I lol Yikes takes a long time U53 depends how many frags you got where did that come From long time U53 if ya do n t do it regularly later all u never know with him U52 depends on how long its been since you did it last U53 bye U49 depends on how fragged up ya are U53 lol U3 PART U13 My computer has been sluggish Will this speed it up it should prolly lol how well I know already U25 lol removing the porn should lol you re talking to the right guy about sluggish U53 no U11 bless you though lol U9 OK thanks Everyone carry on sorry for the interruption well thank you lol yeah he is sorta like that is n t he worked for someone i know o U20 you are cut off good luck U53 LOL am not ok back are too wb U7 it will work faster if you have other extensions turned off PART ty ty TY U11 At least I can still CHAT while it defrags heeee I would think yea he is he sat and talked to my daughter the other night U25 lol just playin yepper hiya U7 JOIN I just call the computer Guy Fix it Plssss heya U13 cripos ACTION is not a handyMan or a technical one either lol son computer guy yeah he told me he finally called me last night have n t talked to him in almost a week hows your day goin U13 lol U52 lucky back arggghhh my boss from Denver well thank god there s still time before last call U7 wb U34 wb U34 lol ty U52 yw i dont wanna be at work i say leave U7 U11 heal me girl U7 me needer wanna run away i will in an hour lol did you talk to him like you were in a lot of pain U34 ok U3 get your priorities straight U7 quit work JOIN lol JOIN for you U34 hi U58 lol wb U29 hi U29 U13 im down to time now PART Hello U24 welcome to talkcity_adults 4 Please ask in the main room before Private Messaging others You can find our rules at http forums talkcity com tc adults start Thanks for joining us Welcome to talkcity_adults To get your own game control bot see Dawnstar Visit http www shadowbots com OOH DAamn man i m such a sucka whats not to like U15 lol U16 hiYas everything ACTION licks U32 what kinda of sucker bloe pop or a dum dum PART blow U5 out here 4 Reminder Do NOT PM others without first asking permission whooo hooo Dang ppl PART hey there asl please i jus wanna know sumfin really important hiya U32 how r u babe damnit this game is pissing me off ciao they cant read PART U32 guess who was here the other night I m sorry U35 I forgot how many LIX DOES it take to get to the middle who U23 U520 one big lick LoL U32 I d never kick you outta my box hi im good thanks U16 yerself PART interesting question funny i was thinkin thje same thing Oh yeah U520 oh hell yah thats alwys good to know U520 good ole U520 lol U32 aka U520 I think those were the last numbers yes i m great U32 ACTION winks U28 seriously i didnt think he would ever come back to TC You remember Jess U32 he came back lol Yeah he s back great to hear U16 U35 who He s nick is afe numbers or something like that PART U520 U32 LoL JOIN JOIN hi U36 oh LOL yeah typo there LOL ummm yeah i remembah him i remembah hey pp It was a typo wb U36 NICK U23 what a ride JOIN ty ty cheers babes ur the first to follow up with the pseudo concern 0 wb U38 I was shocked when he came in and called me by my name I was like wth who are you even ty U34 yw Im glad he s back awwww U16 i like pseudo concernin smirkZ lmao i was too U35 i was like wtf r you ahhh U23 now i know you lol LoL lol U36 lol U35 yeah i still have him on messenger JOIN JOIN he said i used to op with u in FF i was like huh who r you omg U23 which color of lipstick do you think would look better on me the do me red or the pussy pink JOIN lol lmao U23 hello all pussy pink Really Wow I took him off a long time ago JOIN PART JOIN I didnt think he would come back i just broke up with my gf long term i started experimenting with myspace com i met this local girl She brought her cousin over last night they sucked me boned dry all i had to provide was 49 dollars worth beer PART JOIN rotflmao hiya U40 JOIN U19 PART JOIN lmao U37 Stop flooding the room hon can i get an amen for myspace Hello lovelies a alo U36 ACTION peeks in PART JOIN ACTION pokes U1 JOIN PART what are you talking about U35 JOIN ACTION pokes U1 PART whoopZ slipped well then get Tina in here U23 ACTION be s poked ha ha ha U23 wow are you the U39 Im talkin about all yer typin It s me in the flesh hey everyone pokes U1 did n t want to b left out lol lol I love your flesh How cool are ya U41 19 f ca asl why U35 there r plently ladies in here with pink pussies it s nice soft long time no see type U19 lmao Break it up in sentences single posts instead of typin a paragraph sup U42 put the dildo down U23 stop pokin ppl with it It scrolls the room hon about as cool as Pat Boone singing Metallica too bad you are so far away lmao U35 ooer U1 how r you darlin damn U41 that s cool i hate paragraphs U16 I m ok how are you babe white shoes and all they seem so long LOL ahem lol tired I did n t sleep much last night U28 not white shoes bucks HALO U35 WTF ARE YOU TALKING ABOUT U35 hows u U36 Awww U1 how r you U32 dear U28 oh sorry hola U1 guess you re not so cool What are you doin U28 Dang yer so quiet well tell the bf to stop calling at 5 am too U1 you are so anal PART i m good busy very busy but good you Apparently I m not U41 im good U23 dear How are you U23 winkZ U35 I love that 5 am phone call im good me and eric r back together sry U1 lol U37 Drop yer caps And if you didnt get what I was talking about dont worry about it I ll take big barks over cool any day oOo congrats LOL U34 yes diggin out the battery charger ty LoL yeah well i hope ur doing ok i m dojn fine babe gonna rock up soojn and rob u of all ur candy as long as you are happy I am happy You know i LuverZ YOU im the same busy busy oh ok then U1 nm lol obviously i did n t get it aww i wubs you too Ahh mkay is this moving too fast for ya just loosen up babe Yes U37 Obviously U16 just get your butt out here and get it then P any word from the doctor regarding the sores on your lip U39 what do you need a battery charger for U28 looks like it might be an ok day I m going to take the moped out for a ride I am U37 JOIN i kicked his ass last night U32 we had a spat now he love4s me LOL Oh he said to use the cream LOL moped is that what you call your harley as soon as i m no longer a poor mf er i will ok i m gone again cya later U19 waves the same cream you have for the genital warts LoL moped U28 ohh ur a real man i had a moped once yup hehe U16 thats my moped herpes is herpes babe imma make fun of his moped now you are a total fuddahnut U28 u kicked his ass U23 gees JOIN I know I watch Dr Drew lol U23 yer bedroom stories are hawT how many of you tried myspace for dating i hate to promoter other sites i hate yahoo but now there is alternatives Dr Drew rocks yup i kicked his ass I have the only 10 long moped in town lol I hit that PART I d even ACTION has not tried myspace for dating JOIN JOIN damn U15 mopeds r for old men and gay men right ACTION doesnt even have a myspace Wb U46 U47 sis 9 13 U47 9 hola U47 you d hit Screach U19 hugs hiya U47 muahhhhh yes U27 imhave a fan on U47 huuuuuuuuuuuuuuuuuuuuuuuuuuuuuuuuuuugZ U1 sis ACTION stretches ty U19 Ugh Im so sore Repeatedly with a big stick U41 ACTION smacks U28 back online in msn U35 QQ at U35 hm ya cold lol lol U28 U47 pushes U47 and runs I am cold yes Why big stick Is that a euphemism U32 u cheating on me with U28 like OMG ACTION puts U35 in his leave alone book where are you from U35 U23 ACTION pounces U47 and grabs the fish wooooooooooooohoooooooooooooooo I got it I got it drops it son of a JOIN when u streched i could tell LOL U36 lol Well you know I m a size queen U41 Why U45 naw U23 im cheating on you with Jayse hes hawt too lol LMAO Randy Uh huh hugs everyone lol a queen anyway anyone from TX wahoooooooski wz 95953 ACTION goes to look out the window to check the weather haha www Wunderground com Live Oak California 95953 39 3 N 121 7 W Observed at 53 AM PDT on October 20 2006 Elev 59 ft 18 m Current 57 F 14 C Wind 55 ACTION is back U35 Dew Point 30 00 in 1016 hPa Ceiling Unlimited Record High 41 F 5 C 1980 Wb U30 why are you back Sunrise 21 AM PDT Set 20 PM PDT Length 2 m 26 s shorter wb U30 muahhh wz 99701 ACTION goes to look out the window to check the weather thanks Advisory www wunderground com cgi bin findweather getForecast query 95953 FIR U16 its in your profile i respec that end Live Oak California 95953 weather www Wunderground com Fairbanks Alaska 99701 64 8 N 147 7 W bc you want me Joshy ACTION says That Observed at 55 AM AKDT on October 20 2006 Elev 453 ft 138 m hiYas U30 U32 Current 27 F 3 C Wind 93 t ACTION sighs s nice I dropped it again U47 Dew Point 29 88 in 1012 hPa Ceiling Unlimited P Sunrise 59 AM AKDT Set 10 PM AKDT Length 6 m 43 s shorter hi pfft all PART end Fairbanks Alaska 99701 weather sigh i am 20 boy PART from azerbaijan dang thats cold man i syck who wanna chatr neone i missed U36 pushed me JOIN U45 are you tere I didnt say in my profile to leave me alone I said not to PM me You can talk to me out here U45 suck even yup gonna be a good riding day omg it s horrible yes i am here ohhh U542 sent me a comment lol PART I only talk the ppl I know already in my PM like me wz 57401 ACTION goes to look out the window to check the weather www Wunderground com Aberdeen South Dakota 57401 45 5 N 98 5 W Observed at 27 AM CDT on October 20 2006 Elev 1299 ft 396 m ACTION smirkz and hits U35 up in her pm Current 36 F 2 C Wind 75 maybe Bible chat would be better Dew Point 29 F 2 C Barometer 1900 ft 579 m brb afk no shit Record High 12 F 11 C 1930 Sunrise 56 AM CDT Set 39 PM CDT Length 3 m 1 s shorter hb U34 JOIN LoL U32 You know yer on the list of ppl that I let PM me I only talk to da KoOL ppl bahahahaa Wb U50 end Aberdeen South Dakota 57401 weather i d never leave you alone U35 if i had a choice LMAO U47 i can tell by the moaning Werd lol PART hiYas U50 Rofl U32 hey U35 sup U37 hiya U32 maybe we re too old cya all or too smart or too smart lol tc U36 lmao sea ya U36 yeah well then U47 wont talk to me if she only talks to the kool ppl cus I m a retared moron No such thing as being too smart lol i have a question for you i am totaly straight but i have a strong attraction toward the lead singer of depeche mode i want to do him does that make me gay he is gay chat rooms always make me feel superior Ugh my b day is in 5 days PART LOL U35 no ur nawt yup your gay lmao U37 dang come on back on tuesday I would think that coexistence makes you feel superior U37 umm prolly 30 right U35 LoL yeah awww U35 yer gonna be what 57 right lol your a guy too omg lol U50 You know I was royalty in a past life Yes U32 LoL oh yea definitely hah DING DING DING imma winner i want to make love to him Ima be 27 on Wednesday U32 coexistence JOIN LoL U32 then there is your asnwer I ve had enough okay we are the same age until muh birfday then mmmmk its 30 U32 trust me lol talk to you later love you hi all let s get kicked kiddin U35 baby lol i cant trust you yet i dunno you be offensive lol Love you it s weird thing JOIN good policy are you capab e Oh yeah U3 op U3 U3 U3 MODE talkcity_adults o U15 U15 What s your sign woof how many of you were attracted to the same sex JOIN oh man they just xxxed it muh nose is cold I love it when you take charge U15 not me ever smiles sheesh were attracted or ARE attracted Hello ca n t even get kicked ACTION is hungry gets me all tingly n stuff bye honey bunny damn 19 F Wisconsin ooeer is sum1 gonna ghet fuked up im always hungry yeah U45 i believe it get lol U16 keep up here anyone wanna chat pvt me not even to brad pit U45 PART ACTION gives U16 a skateboard to keep up wif us o no way he is a jerk up in this biyatch PART PART lol tom cruise denzel U52 Out here 4 Reminder Do NOT PM others without first asking permission U35 im sorry U35 i tried to refrain me too U35 takes note U35 but your moanin just got to me my dog did a no no and he s hiding at the top of the stairs lmao i dunno my lingo is like 5 yrs behind I thought you wanted to be the meat in a U28 sammich Yes U53 ACTION fallz offa her chair laffin hard i really like ladies but some guys are to hot to pass by it s about control i guess and it does n t help that i m european omg U28 whoaaaaaaaaaaaa who was that reminder to You too what U28 Hungry most of us cris cross Everyone U53 Ask before you PM anyone tosses U16 a tootsie roll oh c m on U32 tell me you were n t thinking the same thing It s a room rule most of us do NOT criss cross JOIN well blusherZ is gonna make u jump jump oh old school PART U35 is freakin out Ridin is not worth talkin to no shes not U37 Dood yer gay face it And if yer not gay then yer bi You should be old enough to tell the difference already JOIN hiYas U55 2 Welcome to all who just joined us I never freak out BUt I can if you want me to lol U35 tell it like it is hello reallly brrrrrrr LOL U35 wanna bet he likes Jeter and Rothlisburger wb U34 how do you know U35 tell him how u really feel U35 ty U32 muahhh hahah U28 may I every day is tuesday in his world anyone wanna chat i dont like you U28 go play with your meat ACTION huh someone dissing my Ben agaibn haters hi Oh my U15 LoL too late U15 hello U53 agaibn ACTION listenin to Evanescence Lithium lmao may I lol your done with it ACTION pounces on U23 ans wiggleZ all around not quite wanna call me a few more names ACTION touches U32 s weenis dam dont sexcite me like that U32 lmao ACTION moanz LOUD ACTION is listening to Nickelback Figured You Out u need paper twoel LOL U23 lol lol towel even JOIN no I can hit the sink from here hiya U56 PART dang LOL U28 ACTION calls U28 some names Spank me o_0 you know U23 you should look at my msn myspace there and check out the weenis board I put up ok make that the wall ty U35 LOL PART ohhh U32 imma go look LoL yep just bend over U35 i will lol lmao your poor wall JOIN JOIN JOIN nickelback gay 2 Welcome to all who just joined us yeah check out schmoopies butt too while your at it its FINE hiYas U58 U16 they r not gay they are not hiYas U57 U16 PART argh hi everyone ACTION sings fart away oops far omg lmao lol lol JOIN gawd shakes head i m just kidding top keep popular opinion empty hiya U51 ACTION is contemplating a nap nickleback gay ok if they are n t they sure as hell are thinking about it to you hafta eat first U35 heyyyy PART and U28 suggested a sammich haha JOIN PART sings i loved you all along hiYas U59 pfft i dun care if they are gay or not i d do the lead singer P oh yeah U32 the sammich lol U47 hey lol lol U47 c m ear U35 far away is my and erics song anyone seen sweetshybbw lol U47 stand yer ground woman i just saw shaun of the dead so gaaaaaaay quite funny ACTION cums to U28 LMAO LOL PART PART ACTION faints LoL lol U16 thats a good movie whoa now that was some blood loss yawns funny i saw the break up awesome movie ACTION sits on U28 You needed me I still need to see that U23 You liked it geeZe a U28 sammich with one limp piece of bread i wanna rent over the hedge lol i liked it soo funny thats officer limp piece of bread U28 Have you seen U30 U23 lol U47 whats up everybody whoopZ sowwy lol yes U35 at the drive in is U30 any good ACTION loves men in uniform yes U59 it is Drive in I havent been to one of those since I was a kid omg i cant wait til cars come out im gonna buy it aqwesome movie NICK U32 ACTION loves men out of uniform i never saw cars im out of uniform U15 lol LoL U15 Yeah that too nick U28 lol U28 i love ben in and out of his uniform NICK U28 you just love Ben IN AND OUT JOIN lmao ACTION is listening to Rascal Flatts Life Is a Highway hiya U60 i love me in my hubbys uniform hehehee JOIN lol U47 hiya U61 hiYas U61 wb U61 teehee PART Hi all any ladies wanna chat NICK U32 pm me PART im so nodda lady NICK U28 How are is everything i like wearin his boots that leaves me out oOo who U59 Me ACTION is bored Damn anybody ACTION stretches pm me me too U35 me 3 hug U35 ACTION watches U28 wrap there arm around U35 and give them a big ol hug NICK U32 i need coffee bbl you should be othah halfa PART bye U47 PART PART she left real fast JOIN hiYas U62 hey there U32 JOIN how are you NICK U35 im good thanks and yerself JOIN NICK U28 no no no U35 you were tha fillin NICK U32 not so bad thanks PART I cant be the fillin yawnssss You have to be it good to hear and yer welcome how do you change your name PART nut uh you were tha fillin in the U28 sammich tc U9 Tell me why after all this time do you hide do I see you as a sweet surprise hi U8 omg I bet u were upset U28 yikes U28 howdy U8 hi U8 his PM s U10 LOL brb phone again where is U26 he is supposed to answer it oh okikes just kidding JOIN PART hi U30 my kids had a party once one kid almost went into my china closet ok U12 Talk to me tell me true what do you want to do Do we go on one by one gtg lunch break is over okey dokey back to worl PART JOIN bye U11 howdy U31 bye U11 see yah U11 have a good day no the police were fantastic and all injureis either in full casts or half casts awrighty U19 lets get the next rumour started ohh U24 is romantic today hi U31 huggs U16 U21 everyone I m out now got costumes to shop for I am hanging on to your words your love so cmon make me like water to your tongue JOIN JOIN U11 ok U12 I not worry for the rumours Do n t drink and drive Smoochies everyone howdy U32 PART howdy U33 JOIN me either hiya U33 back I need you to heal my soul Hold me now see by me PART wow i come in and everyone leaves is it me grins howdy U34 PART U34 Hi U33 hi U16 hiiii U34 U26 answer the phone hiya U34 ACTION waves hi to room hi U19 U33 ACTION smiles hi U34 hi U14 hugss hey U34 hi U20 Hiya U12 hiya U33 hi U33 hugs JOIN U33 hiiii U26 U26 man where has the U26 man gone hi U35 hi U16 hi U14 howdy U35 hiiii U35 hi U34 PART cant help but bug him lol hey U19 lol i think of macho man i think of the village people lol U35 Hi U35 Hi U20 lmao U21 lol U21 me too U12 bar fighter hehehehe U21 lol hi U20 U24 good to see ya lol ACTION dont thank of men magine that lol Hey Daveeee coonarsee hi U16 PART Heyyy U33 ty ty and hugs rainbow ditto U21 but can you tell if a man is good looking or not U16 ACTION peeks in and says some hellos got da pics U12 awesome hey U27 sure U21 aint no such a thang as a good lookin man lol hi U27 JOIN lmao well cepn fir me of course ty U35 hi U36 well i would disagree with that but hey your entitled lol lookin good fella howdy U36 hi U36 Hi U36 yw me AFK let s ask george clooney well maybe lmao ouch of course gomer george clooney ohhhhhhhhhhhhhhhh shore is lots a purty wimmins tho lol yes dear JOIN haha have u seen Mary hii U37 hiya U37 PART hi U37 JOIN wb U37 mary hi U19 hi U37 hiya U37 hi U37 hi U37 hi U13 hi U6 U12 hiya U37 ACTION blinks the other female that was there beside U172 and kissy hiya U33 howdy U37 lol ty U24 2 welcome yes U19 JOIN oh okies nawp aint seen her lol hi U34 oops howdy U38 nothing only cheking da gal in da green shirt mary hey U16 hehehehe lmao hahahaha more like 7 PART if u see her get her addy and fwd dem pics plz hiya U34 did n t see ya hugggs sho will hi U35 U34 _ hey U27 The sun is shining across long lake and I have come to be with you ol green gal been askin bout yas U12 hahaha hi U6 huggss hi U12 hugss hi U14 hi U10 U24 are you romantic today JOIN U6 U37 is hurting today if you know what I mean ACTION shups an watches kinda JOIN is n t everyone romantic everyday ACTION looks at the guest lists and realises there must be a back room in here howdy U39 waves bye to the room ROOM hi U40 hi U16 yep U19 sigh sigh lol hi U39 and U40 JOIN im so sweet LOL ACTION checks sumpin bye U26 bye U26 U41 byeeeeeeee bye hi U40 bye U10 tc U26 lmao U34 good shhhh do n t tell him I said that lol tc U26 hi U19 bye U33 hi U41 ello bye U26 i think everyone is in the backroom U33 bye U21 wb U41 hi U41 bye U14 I m not in the back room hey U39 hugs that is good U24 ty grrrrrrrr phone lol U6 U1 I thought u were heyy U37 hiya bye U13 bye U28 hii U41 U39 bye U26 ACTION caint find a back room or attic or nuttin lmao secret room Hi U37 is right here hugsssssssss byeee U26 hugs hi U34 Everytime I try to tell you seems the words slip my mind and I fall deeper and deeper hi U12 pssst U16 open your eyes and you might hello U20 PART alzheimers U34 how is U37 hi U28 Hi U41 who has alzheimers lmao U6 was waitin fir ya to lead me lol U24 U16 mite could i do n t recall lmao busy busy busy out in the woods today hahaha lol lol lol U33 U41 JOIN ello hi U42 wb U42 hiya U42 he might not neither U35 lol what s he doing in the woods U34 wb U42 hi U42 out in the woods i hear dueling banjoes lol wb U42 if you re really back lol JOIN lmao U16 pleased to meet you hope you guess my name howdy U43 ty everyone deliverance hi U37 is prolly out there crying cause the Tigers lost last night lol hi U43 sympathy cutting wood to build his new outhouse lol hi U21 may i pm yu lol U41 hi U43 lol lmao U24 U41 do n t like to be romantic because the other day was romantic and at the end he knew was romantic with a man say no lol U34 lol go Cardinals yay good lord U42 how long have you known me lol of course you can you got it U35 really U19 hahahahaaa lol U6 he said this morning he is going to stay away till this painful experience is over U35 even gezzz yep U33 lol lol U6 did U19 just call me gay lmao U41 U19 hahhahahaha noooooooooo U41 who is gay eeeek gay as in happy U41 lol lol actually she called u a gay cat U41 lmao U34 tell him they are gonna lose again was a mistake that s all PART not gay not even happy today he is hoping they win tonight im gay im happy as hell jus aint lol U42 make it quick though i have to go pick robbie up in about five minutes lol U16 a gay p u s s y yikes Cards gonna win lol u bet U6 omg that is just wrong lmao lol omg ACTION dont thank them weird folks orta git the good names like gay JOIN howdy U44 I figured I will cheer for whoever wins its a win win situation for me wb U44 hiya U44 pours U44 some coffee hi U44 hi U44 sell your soul hi U44 hiiii my favorite U25 U44 hi U44 brb tried U41 no one will buy it lol hi everyone has to go for my homeboys U34 lol U13 try ebay always so nice to coem in ol albert pujols iz a hottie like U12 or come haha did no takers damn knows what everyone gets U44 for x mas lol well they were only adoted homeboys for me U6 only lived near st louis for 5 years ACTION goes to find an empty pot and where is my cup again adopted i ll giva ya 1 98 JOIN why didnt ya say so U27 here ya go cup s in da alley U27 hi hi U45 hi U45 hi U45 Hi U45 hi U45 JOIN lived in st louis for a year but Mo all my life until this last year best offer in a while hi U45 howdy U46 hi U46 hi U46 hi U46 hiya U45 hiya U46 gotta go pick up hubby bbs no profile no pm thats my rule does that make you a redneck tc U21 PART good rule JOIN gonna fly here hugss all Hi Everyone How is everyone today hi U46 what if its Tim mcgraw U13 who is albert pujols U35 U41 you calling me a redneck ACTION goes to the corner an plays wif himself er by himself hi U46 PART howdy U47 hi U47 U34 hi U46 no i was errrrr askin who is a redneck hi U16 ball player fer da st louis cardinals lol U41 hi U19 no topless pic no pm i see redneck country hick brb redneck city hick PART oh good U41 I do n t hafta worry about you then looks like we got the bases covered U12 lol gets called a hick everyday by a special person so its ok lol oh queen of da doublewide redneck ACTION comes back from the ally with 1 2 drunk bottle of cheep wine ACTION swats U27 s big toe with a razor sharp mouse pad JOIN you know you re a redneck when howdy U48 hi U48 hi U48 JOIN eeewww U27 you got smacked PART U49 ya find a truck in the yard when ya mowin JOIN U50 U50 U50 MODE 40sPlus o U50 hi all hi U48 and U49 wb U50 hi U48 hi U48 Hi U49 U50 hiii thanks U16 U50 yw lol do know how er why lol hi U50 bar fighter lol hi U19 wb U50 hey U50 hi U14 Hi U50 thanks U6 hahah U12 true story you are U12 hi U35 ask U35 hi U20 ACTION just thinks his was up hi U50 who is U12 hi U49 hi U33 you got in on that fight here in kansas is U12 not me sho enuff iz sure did lol god so confused who is Judy deop biggest bar fight I ever did see U0 U0 U0 MODE 40sPlus o U50 JOIN lol U41 hi U51 howdy U51 hi U51 hii U51 cleared the bar lol hi U51 hi U50 one hi everyone lmao hiya U41 tries to stay out of barfights lol hi U51 Hi U51 it came to me dang it yall quit movin so much ima tryin ta perv here had to call national guard in lol PART lol sheesh not that bad U35 did n t they have a good bouncer lol U16 U16 who you sheesin close but no not dat bad U19 PART bbl cyas yall PART JOIN took care of the bouncers me prolly U13 dont git in much trouble that way lol lol they n ever seen it com ing ok didnt know you were pervin will pay attention U16 hi U52 U52 hey grrl wb U52 PART hii U52 lmao U13 heya U14 U52 U52 U33 heyyyyy wb U52 who s pervin and who they pervin thanks U3 Hi U52 hi U52 never pervs is sorta lost hello U19 i is an you U50 of course cough cough U6 a perv where when the name ME shup U12 thanks U6 lol why shore ca n t keep up to perv lol U19 heya U20 for say hello did I fall asleep or something JOIN PART JOIN I mean wishes U16 would perv in the main room cause I cant read it and a pm tooo lol wb U53 heya U50 wb U53 i was gonna pm me tho an the nic kep a jumpin around welcome back U53 look what the cat dragged in ty U6 hi U54 wb U53 lmao U13 yw ty U20 hi U53 wb U53 hi everyone ty U50 one can you hear me now hi U54 hiya U33 U53 yw hehehehe U3 ty U16 U41 U16 U19 lol hiya U52 JOIN wtf is a U16 will you take over the room pervin fir a minute so s i can try ta git in trouble fir pm n ok U16 Im ready goooooo can you hear me now wb U37 heya U53 1 lmao U13 ya shore ok Im home sick so I baked cookies anyone want a choc chip butterscotch chip oatmeal cookie ohh poorrr U41 nobody pay attention to him wb U37 wb U37 lol lol yup go PART sure put your crap on my shoulders to bear or bare as the case may be hi U28 mmmm oatmel here hi U41 hi U44 PART nooooo they are all mixed together U53 wher you been you jus hopin fir bare handy but i aint that lucky lol and I made peanut butter ones too good lord U50 did ya thrown in some coconuts and a bag of jujubees too awww U41 dont be mad PART yummy doing U16 from another room U13 still here U50 JOIN hahahhahah nope not this time U33 grrrrrrrrrrrrrrrrr waiting for U16 to start tapping her foot hahah U37 hold on to something lol ACTION looks at U13 hands U3 a cookie PART PART shivers U52 where ya been all my life for the last hour whoo hooooo why is U37 grrrrrring ya dint send me that nakie pic yet U13 lol t anks U50 you need naked hiya U53 man U37 one hour ago I said Hello to you nap time cya damn puter i think he bounced well i like it lmao hey there U28 lol yikesssss PART kicks U37 s computer U28 nice to see u at a decent hour lmao U53 lol hi U19 for the 2nd time well just make something up pretend Im naked PART omg did I say that already have U13 lol empty lmao with that apron thingy wow U3 oh yeah forgot about that hello U8 I was a contented homosexual till I met U52 now I doubt my sexuality hahah U33 thank you have taken the comp over to stop the kids getting in touch with friends for the night oh shoot got to run already did that U50 naked who is naked where lol ohhhhhh lol U28 good for you lol all the time lost bye PART that is for to be in the office PART wonders if U16 is full of hot air perv huh JOIN hi U55 office chatting yes tend to get lost U19 or a lil lost or something hi U55 would vote for full of hot air hi U55 lol pay lol U50 hi U28 U3 hi U19 lol hi U14 lol no need to pay hiya U55 I was full of hot air then I passed it ewwwwwww PART g day U6 sits down and waits for the perving to begin la la la la la sprays the lysol the perv is here again JOIN gotta stand up with the apron on U13 uffff hiya U56 hiii U56 PART lol no mystery then U3 quiet in here lol a bit but not much U13 lol hi there everyone crosses her legs paints her toenails la la la hi U1 ACTION watches U13 U56 hi there if anyone ever uses frozen veg to help with bruises and swelling DONT they become great weapons too lol U13 U19 will be there next weekend thinks wow great legs hi U50 i m on lunch whats on the menu today winks at U1 ACTION winks at U13 ok U12 tell the the time PART will send the infor JOIN at what time U50 as an elected official of this room that means ya gotta work for your constituents demand U52 to accept my hand in lust shivers ooooooo ok hiya U57 hugggs hugs U6 ACTION nods U57 hiiii U57 I have a problem with people PMing me to lol JOIN JOIN JOIN PART JOIN JOIN who comes here really just to ask someone where they live and wont stop when i say maybe later not me PART JOIN PART PART JOIN ACTION Liam s 13 cute ass MP3 player This is what I m listening to As I Lay Dying The Truth of My Perception ACTION this song has been played 13 1 times this song lasts 06 minutes seconds it s my Music hi JOIN PART JOIN lol maybe he was a gay rapest hello room whats up no offence against the gay JOIN 19 m canada ladies pm if interested I heart gay people well i guess ill leave PART JOIN But I m not gay lol gay people are cool homophobic HEY U86 INTERESTING NAME PART thank you PART i have nothing against them ether this person kept saying he was male and wanted to know where i lived lol hey ladies I get that alot like that guy PART JOIN hey U86 interesting name bout once a day someone thinks im female by name somebody go and chat with me JOIN PART JOIN PART JOIN PART PART PART thank you once more U85 Your name looks male to me My friend had a horse name U86 lol donno why people think im female JOIN U86 ACTION shrugs i like it anybody in michigan or toledo I do too JOIN PART JOIN what do you like U86 Hey everyone PART ACTION Liam s 13 cute ass MP3 player This is what I m listening to The Offspring Come Out Swinging ACTION this song has been played 13 0 times this song lasts 47 minutes seconds it s my Music Whats going on in this room ACTION sits on the couch but completly misses it and hits the floor reading writing and music specalily love the music JOIN man my spelling sucks today PART mine too music s good dancing s even better My spelling sucks everyday PART Same here PART so dont feel too bad U86 i cant dance im horriable at it lol me too two left feet what kinda music you into PART PART rock mostly but i ll listen to anything if its good Hey has anybody in here seen how Kellogs is giving away free xbox 360 minigames with their cereals PART my splelnig scuk yet you can raed it aynawy heard of sevendust before and has anybody actually played them JOIN I ve never had an xbox lol i think so actually sigur ros The Nothing Song mp3 vMp3 v1 7 4 JOIN JOIN i dont like xbox their huge controll make my hand cramp up PART U66 you dont need to own an xbox they are handheld games any girls wanna chat pm me controllers PART PART PART JOIN JOIN JOIN U96 U96 U96 MODE 14 19teens o U96 Then what do you like U86 I have no handheld games so true JOIN yall wack JOIN JOIN Playstation I like to watch people play games though ACTION Liam s 13 cute ass MP3 player This is what I m listening to Soilwork Like The Average Stalker ACTION this song has been played 13 1 times this song lasts30 30 minutes seconds it s my Music love the playstation no way pc games graphics rule woot for the PS series pc is lacking as a gaming platform JOIN JOIN but there are some good games for it JOIN very true PART Have any of you guys heard of gamefly PART what up doe i have yeah dont know much about it though there are always bugs and glitches it might not work on your hardware blah blah blah pc just was n t made for gaming JOIN thats true nothing like just turning your ps2 on and playing its sort of like netflix but for video games PART oh yea i member now i second that U98 i third it remember what game fly I have no idea what you re talking about JOIN PART haha JOIN its ok U66 i fourth even though i do n t know what your talking about hey that dude i was just talking to that said that he bet i had a nice accent im me ok i got to ask you something PART PART I m technologically impared You guys should definately check it out because on top of the video games kellogs is giving out free 30 day gamefly subscriptions JOIN I ca n t even work the DVD player too complicated PART PART I just got Ico it s kickass great puzzles so basically for 30 days you can rent out as many games as you want for free and for any console you sound like my mom U66 wow that sucks for you shes the same way I m a huge video game nerd It s sad I know no doubt hey people who talk to me i shall return in a bit I make girls watch as I play video games PART At least I can used computers could be worse JOIN use always gets them worked up I like video games to but i have a really hard time finding good games it s like foreplay making a girl watch you own in a video game JOIN I love watching people play games oh but not really JOIN i hate it its so boring exactly id rather be playing U66 are you a girl like Silent Hill Clock Tower and Resident Evil well co op is the best It s like watching a movie for me U86 thats why something like gamefly is so good because you can actually play a full game without buying it JOIN PART JOIN Yeah I m a girl U98 n n to play an atmospheric adventure together it s great I love co op PART nice U66 JOIN PART U98 i could ask you the saME QUESTION Nice what JOIN ACTION Mp3 2Pac Until The End Of Time S M R 3 not enough good co op games around too ACTION slaps U110 around a bit with a large A n a c n a I really must check out game fly then nice your a girl you could U85 PART JOIN PART ACTION pimp slaps U108 JOIN Niceeeee I hope I m a girl or people have been lying to me like in that South park ep o are you PART Niceeee And lying s wrong PART that would suck girls pm me please lol 18 m nyc ACTION hehehe hahaha hehehe snort snort hahahaha The whole world lol I really recomend getting the free subscription if you eat cereals just get a kellogs marked box ACTION Liam s 13 cute ass MP3 player This is what I m listening to Parkway Drive the cruise ACTION this song has been played 13 0 times this song lasts 56 minutes seconds it s my Music Lies can be sweet and little JOIN JOIN its worth a shot i guess white lies ask no questions hear no lies huh snow white or huge and catastrophic JOIN what she does n t know about ca n t hurt her right What PART haaa I believe in discretion never mind Stop confusting the sick girl i do n t whose the sick girl JOIN Me JOIN U66 thats what i though I have a temp of 102 6 go me lol thought JOIN you re so hot U66 U119 JOIN JOIN oh man wish i was you then i wouldnt have to go to work today lol sucks for you im a good 98 6 PART JOIN JOIN No it s sucks JOIN I caught Mono from a friend s drink lol ACTION Liam s 13 cute ass MP3 player This is what I m listening to Zebrahead Bonus Track ACTION this song has been played 13 0 times this song lasts 43 minutes seconds it s my Music Oh well I have to go oh is that how you caught it wut up everyone it was nice talking to all of you wut up U45 PART mono what the heck is that and best of luck JOIN No I made out with the football team PART not much U119 PART JOIN whud up room ahhh ok PART PART I was kidding i m on the football team Go you no you werent U66 PART PART whud up room JOIN U15 U15 U15 MODE 14 19teens o U15 u were serious JOIN No lol hi PART ACTION Mp3 Bone Thugs N Harmony Days Of Our Lives S M R 3 uh ya i agree i saw the whole thing JOIN PART empty JOIN U122 U122 U122 MODE 14 19teens o U122 PART JOIN JOIN JOIN JOIN JOIN Hi U122 U122 U122 MODE 14 19teens o U7 U122 U122 U122 MODE 14 19teens o U54 PART JOIN U54 U54 U54 MODE 14 19teens o U54 PART ah im back PART JOIN U54 U54 U54 MODE 14 19teens o U54 PART PART lol opps JOIN U54 U54 U54 MODE 14 19teens o U54 wb Anyone wanna Whisper PART PART JOIN U54 U54 U54 MODE 14 19teens o U54 The chick I caught it from made out with the football team I did n t realise that by sharing her drink I was sharing the football team JOIN PART no JOIN U54 U54 U54 MODE 14 19teens o U54 lol PART hi JOIN U54 U54 U54 MODE 14 19teens o U54 room that was you U66 PART U122 U122 U122 MODE 14 19teens o U59 U122 U122 U122 MODE 14 19teens o U15 beleive me JOIN U54 U54 U54 MODE 14 19teens o U54 U122 adduser U54 chanop hiya U66 PART PART JOIN U54 U54 U54 MODE 14 19teens o U54 JOIN JOIN U122 U122 U122 MODE 14 19teens o U96 U122 U122 U122 MODE 14 19teens o U72 i knew why did n t you PART Bwhaha U122 U122 U122 MODE 14 19teens o U79 U122 U122 U122 MODE 14 19teens o U54 PART JOIN JOIN U54 U54 U54 MODE 14 19teens o U54 JOIN thats awesome U66 nothing to be ashamed off heh PART You re retarded JOIN but seriously ACTION Liam s 13 cute ass MP3 player This is what I m listening to And the Hero Fails They Came Covered ACTION this song has been played 13 1 times this song lasts 16 minutes seconds it s my Music Added U54 U54 U54 as an op for 14 19teens U96 nah ehh why dont people talk to me anymore oh because ur gay PART PART ACTION U58 Man shouldnt have walked away from the computer now im lost i agree hello too bad What in the hell is U122 doing here Lol That happens alot U74 U74 U74 MODE 14 19teens o U79 PART you happen alot U66 you PART PART U122 adduser U74 chanowner JOIN i agree bi or lez gurls pm me lol Added U74 U74 as an owner for 14 19teens U96 Who are you U119 lol U122 adduser U74 chanowner sick lol i am the one guy here thats hott PART I doupt it lol but not really besides U45 who is my friend PART hes cool too Anyone wanna Cyber U66 PART PART hiya No asking for cyber hfglhs PART Usually the screen names that have Hott or something mean I m really ugly JOIN U15 U15 U15 MODE 14 19teens o U15 Anyone wanna Cyber PART bi or lez gurls pm me PART JOIN U7 U7 U7 MODE 14 19teens o U7 PART whats the obsession with people wanting to freaking cyber They re idiots PART JOIN i seriously freaking agree JOIN PART Same here PART JOIN how come he wasnt booted Hallo cause he left one his own PART PART ohh Hallo Salut bi or lez gurls pm me ACTION Liam s 13 cute ass MP3 player This is what I m listening to Roadrunner United Constitution Down Joey Jordison Sessions ACTION this song has been played 13 0 times this song lasts 05 minutes seconds it s my Music PART PART Now I m confused again JOIN ACTION Mp3 Breaking Benjamin The Diary of Jane S M R 3 JOIN JOIN PART Man im bored My short attention span has long since reached its limits JOIN I feel your pain im bored JOIN JOIN JOIN I think I m hungry again ACTION sorry your hungry i just ate a tv dinner mmmmm I want some chicken tonight They should have a chat for just bored people 18 m tx pic in pro PM me if you like what you see Chickens are evil JOIN PART PART Wow no one talks PART yeah that way there will just be contast people typing im bored PART PART PART hi JOIN People are having trouble deciding whether or not they want to stay in this room PART lol true JOIN anybody wanna chat with the sexiest girl in south carolina PART PART like U58 lol 15 f perth bi any bi girls wanna chat but you see right in out in out PART PART I see it It s sort of annoying JOIN ive never seen so much red JOIN PART JOIN lol the place where I used to work had everything Painted red JOIN EVERYTHING was red talk about an eye sore hii room It was really annoying JOIN i can imagine PART PART PART PART PART JOIN woot im back and original And my boss wore red all the time ACTION Liam s 13 cute ass MP3 player This is what I m listening to In Flames Leeches ACTION this song has been played 13 0 times this song lasts 55 minutes seconds it s my Music JOIN PART JOIN JOIN JOIN and on another note PERVS QUIT PMING ME hey que pasa Same here hi ppl why d your boss always where red Nadda y tu It was her barn colors JOIN She was a bitch too my mom s old boss was a bitch i was going to play a joke U86 but i dont know what you think of me so i didnt JOIN U86 let s cyb3r lol Kick him U86 that d be hot ACTION Mp3 Chingy feat Tyrese Pullin Me Back S M R 3 any f wanna chat Do n t kick him PART I feel like even more coffee Lets not thats disgusting and weird PART JOIN I swear I m the best cyb3r lover you ll ever have baby coffee addict I give it to you good PART hey I need coffee bad 18 m nyc here heyyy U15 lol ahem not heyyy what s up dork heyy sweet girl how r u hey U86 girls guys pm me JOIN nm really how can you give it to someone good when all you do is type and the other just reads lol I ca n t wait to get home seriously ACTION Liam s 13 cute ass MP3 player This is what I m listening to Silverstein When Broken Is Easily Fixed ACTION this song has been played 13 3 times this song lasts 20 minutes seconds it s my Music JOIN thats why i dont cyber whats the point unless you cant get any in person exactly bi or lez gurls pm me plz PART JOIN JOIN yea hey JOIN are u a guy any hot girls wanna chat w a college guy JOIN PART frankly i can but im a decent person and i only do with people im really close with for suree home is the best place to be PART U58 you rule bro hey I m saving myself for marriage there s no place like hom any hot girls wanan chat w a hot college guy hi didnt expect that me I m telling you bro you can like get laid that s awesome U122 is back so ppl can ban props Im with U66 on that one We should have a club I m saving myself for marriage as well awesomee there are clubs for that U66 JOIN lol It s called Christianity i missed U122 JOIN I m a born again virgin im out i lost mine JOIN you can become a born again virgin U58 PART rather not ACTION Mp3 Craig Morgan Almost Home S M R 3 JOIN PART how can you manage that U98 bi or lez gurls pm me the ways i have herd have something to do with religion and im not part of any religion PART JOIN PART noting against religion im just a phylosipher sp Born Again virginity is impossible lol PART PART at least not physically any bi or gay guys here ACTION Liam s 13 cute ass MP3 player This is what I m listening to Trivium Washing Away In The Tide ACTION this song has been played 13 5 times this song lasts 46 minutes seconds it s my Music Man i hate pop up adds they keep blocking the room JOIN lol PART any hot guys frm 14 16 wana chat do n t take away my last hope U66 Im not lying 17 m here jush 4 Cute GrlZ just because I boinked someone does n t mean I ca n t have my innocense You are so not innocent lol my soul is still untouched God told me you sure bout that JOIN and now you hear voices He s a perv I can tell hi 18 f co here all males wanna chat with me pm me ACTION cougs PART haha asl all JOIN PART awwww PART PART ACTION finished his orange juice JOIN Ugh I m so suprised I have n t coughed up my lung yet brb I m getting juice hi all JOIN get ME SOME hello U156 PART dont mind i call you U156 do you hi how are you nah its all good hey Hello U57 welcome to talkcity_adults 4 Please ask in the main room before Private Messaging others You can find our rules at http forums talkcity com tc adults start Thanks for joining us hoi there blah bbs ACTION is listening to Whitesnake Slide It In Welcome to talkcity_adults JTo get your own game bot for your chat room please contact Dawnstar Visit http www shadowbots com who wants to chat tc not PART JOIN JOIN how are u U35 tc other U5 bye U26 JOIN hi U49 ACTION is listening to White Snake Here I Go Again On My Own Poor girl s almost 30 there there JOIN ACTION is listening to White Lion When The Children Cry ACTION is listening to Whitesnake Here I Go Again JOIN but oO U19 is hawt lets make out wtf is wrong with being 30 lol hey you are n t making fun of me are you Me ACTION slaps U5 around a bit with a large trout brat Nooooooooooooooo hi Lol PART aww thanks JOIN hell yeah Nu huh ACTION takes U60 s trout away from him takes the trout he just happens to have in his back pocket and stick one up each of U60 s nostrils you want to chat U49 Older ladies can move their bodies still come on ACTION singing o Down the only road I ve never known As a drifter I was born to walk alone o PART you are a hottie too but who is the chick in the pic my girl _ JOIN Is n t she cutes PART hey all hi U95 hey hey anyone from NC No PART you guys are cute together hey b m 32 here I m from home U53 has a gf p ACTION waves to U42 o O lol o hey PART hi U43 ACTION waves bak lol He broke my heart It s the blowjob face o JOIN hey whats up what you up to sassy lol who s U45 any ladies from va did we lose U88 You broke my heart when I found out you had a bf U60 so pfft you who r u U37 JOIN PART PART aww I did NOT YOU did so JOIN HOW i m U37 P pffft JOIN U99 U99 U99 MODE talkcity_adults o U99 anyway U99 U99 U99 MODE talkcity_adults o U99 I m land U99 ACTION sits and watches PART U53 U99 U99 JOIN haha U99 U99 U99 JOIN hi U99 U60 babes muahzzzz PART hey there U99 MUAH heya U25 JOIN heya U37 oops JOIN sup U5 got bumped out somehow wb U19 ACTION kicks U42 PART JOIN JOIN PART U99 nice bum what did I miss in the 2 3 seconds I was out so what the fawk is goin on tonight u missed me hmm not much PART ima get U26 naked U99 nothing much lol U19 u missed me farting a green cloud of burito dust first time one chat a whole lotta nothing lol ACTION burps eww LOL why did you kick me Welcome back U19 u burpin fool ohhhh U60 i wanna Help pweeze PART JOIN cause I felt like it dangit hmm seth lol wow actually glad I missed that one 3 6 U99 3 I have good timing I guess PART no one ever gets me naked U42 babes Muahz I dont think he can handle two red heads thanks U53 PART JOIN me either U29 lol haha U60 haha PART JOIN lmao not many can no one wants to see me neked U105 hello Heya U105 lolol U99 hi U105 JOIN U105 JOIN hey U25 U105 hi U82 wb U16 So U53 does your gf hang out in here too U37 ACTION tackles U105 and lix her Shaneeeeeeeee last time i got naked sheep started running and killing 14 ppl JOIN ACTION rolls U99 over and lixxx her back hey U107 No hi U107 ACTION wants to see U45 naked lol i wanna piece a that wOOt wOOt anyone wanna chat 33 m pic in profile jw She s smarter then me U19 lol hey U37 U42 my new phone bone buddyyyyyy ACTION is listening to Dokken In My Dreams lol hi U82 lol wel lthen come fine me 3 6 U19 3 alotta ppl are U53 P hey wait a minute ck Ack did i lose U19 PART j p LOL U105 wahoooooooo JOIN PART Like U107 over there all she does is wack me what is that saying abou tthe rest of us teehee or hit me over the head 3 6 U105 3 ha I m saying we re all fawked already _ nope U88 JOIN LOL U53 your easy to beat up true true PART yawn lol ACTION stays in the lost corner all quiet and stuff U42 s voice is hawt mmmmm o PART JOIN my comp is having issues ACTION waves to U5 damn PART JOIN so U88 why no pic ACTION finds U5 in the corner PART ACTION waves to U105 PART where is the fun in that hi U67 any cam hello is there anyone in the maryland area i just got here is the hearthechatters still up PART no ads for cam JOIN JOIN careful U25 im nakey here in the corner oh i see PART should be U37 U5 is nakey o where is everyone from i should put a new one up lol so where is everyone from tennessee here PART maryland pa here U103 JOIN LOL U105 you ai n t heard nothing yet p well e1 needed a laugh U105 lol well ya already said ya saw me nakey so can we be nakey together Even you people that sit there and never say anything ACTION lost here Ohio nj here U35 Ooo promise U42 sue why not lol nakey lol U5 lol who says that lol U105 U42 tried to tell us she was innocent promise where in ohio U19 I m not easy to beat up you just have a wicked right hook U107 no cam innocent lol ok U5 is there any single parents in herE bwahahahahahahahahahaha near Cleveland i use to live there ACTION starting a chant o Hail to the victors valiant hail to the concrete heroes hail hail to Michigan the leaders and best o ACTION chokes no cam U35 KoOL JOIN where you from lmao U105 yeah i m a single parent LOL I am U25 I m from Earth whats up i live in san diego now lmao im watching canada s worst drivers its hilarious hi U112 single parent too ACTION looks at U105 U85 me too she s as innocent as I am virginal U15 wha I could see U107 on that show Lol lmao do n t expect me to lie lol lol U105 im a single parent PART it can be rough 27 male maryland O adjusts her halo its very rough U29 ACTION wants a lil grrl PART U15 I watched a second or two of that show and I so pictured my mother on that yeah it can be lil ACTION sits in the innocent virginal corner all alone and by himself LMAO damn it U105 U64 are you male or female I always wondered Im a single parent to i seem to date boys and im the mama U85 where are you from U88 did we lose ya hello all ACTION sits with U5 lmao U42 girl lol o O true U107 Ok U64 lol yup I got a 4 1 2 year old daughter she s my world Hi U19 U58 JOIN U64 may i talk to you U35 You make a good mother _ how can ya be in the innocent corner alone if we re in the corner naked lol Lets make babiess ok nice to meet you U64 U107 PART JOIN U58 3 PART U1 male or female U105 lol PART hey wait until their teenagers hi kit awwwwwww thanks ya i know i would U37 U58 JOIN not surprised lol PART ACTION wonderin who U105 is lol hi U115 ACTION pinches U53 s bum muahz hun ltnsea U105 omg dude girl I U105 lmao how are ya U58 PART lol JOIN JOIN how s you U58 PART grrr wb U19 JOIN I m ok been busy eeekk frozen screen PART hmmmmmmmm thinks about this lol U64 you d be surprised how many m f questions I get in whisper my comp JOIN grrr I d of wanted to pork U105 if she always was n t proked ya me too busy hey U82 U24 I DONT WHISPER lmao U53 JOIN you can knock me up next time k hey U115 anyone in or near maryland hey U37 U105 even popped lol hey kent whered u go No prrty nic oi oi hiya all I wanted to be the first popper well I had no choice but to let the kid out U24 I do but noooooooooooooo lmao U53 ty any ladies care to chat hit 8 or im me thanks hmm bored gonna go look at profiles anyone have one worth looking at hey U51 well I told you phone boning me once would n t do it urs is cute too Can I just pop your ass aw thanksss 1cos age loc aTerry I DON WHISPre U115 hello yw s o Lol JOIN ACTION sings ass up face downnnnnn lol hi U51 PART hi U119 o the ready face my hands are freeezinggggg 29 Oh thats the way i like to hey U107 On your mark Get set U115 omg U82 hello get set PART why a blue frown U105 omggg U5 Stick em if you got em lol do you like to whisper lmao hands U115 sum mittens LOL you do n t know me do you ca n t wait for these elections to get over with sick of seeing them on tv humm forgot i was here lmao um i dotn think so me too U1 U105 27 gaspppp LOL newp i hate whispers ACTION sits back and watches coggieeee U1 are you a voter JOIN i missed youuu yer in muh new room ACTION hugs U115 JOIN hugsss gee i couldnt tell U107 PART U53 no whispers JOIN This U19 is sure trigger happy JOIN PART Hi U57 where you from still here U35 PART Anyone wanna talk on the phone ha ha ha very funny JOIN never does vote I know I know ya can slap me heh That ll show U107 I do n t know what my issue is tonight or that of my comps ACTION is listening to Eddie Money Shakin JOIN there ai n t no good looking ones to even vote for PART Anyway Ok i have someone in my whisper who is repeating themselvs i think his name is Raymond ya definately Raymond hello from illinois I want to ensure the rights of gays to have abortions hi U120 lol okies I m off JOIN looks around picks nose hi U82 ACTION repeats moans in U107 s whisper NIght U53 waves n stuff Laters all U53 has a big nose not raymond gays needed to be abourted tc U53 U25 U25 U25 MODE talkcity_adults o U25 weird topic U112 PART night U53 hello U25 U25 U25 MODE talkcity_adults o U25 U17 PMSL PART U25 getting all bossy again JOIN JOIN yea U5 PART PART pmsl JOIN PART they pissed their pants laughin PART PART JOIN ohhh sorry lol PART JOIN JOIN JOIN ACTION builds a fire the few the proud the U26 in out in out in out in out JOIN cuz im freeeezinggg wb U26 in U26 PART JOIN PART ty U82 the few the proud the retarded hi all yw ACTION gives U41 a gift PART ACTION gives U115 a blankie hey U41 aw thanks U105 YaY U26 o O PART U60 3333333333333333 the strange the weird and the driveby pmers PART PART ACTION pouts U105 33333333333333333 the few the proud the tongue oot PART lmao U5 i hate u this is a no pouting zone all violators will be spanked JOIN haha I am fulfilling in bed P ACTION curls up in my blankie hello U103 when i didnt answer you in whisper that should have given you the hint U69 U29 left me all maddish PART hi U129 ok im sorry JOIN hi U69 hmmm Hi U105 hello im new here i wanted to see if it worked lol someone actually taking a hint U82 PART JOIN U69 marry me i apoligize how are you U129 hi U129 U60 sure im well ty Ooo can I be the flower girl U60 ACTION kicks the hell outs the comp anyone in maryland hiii U105 btw hi U128 JOIN or at least the stripper at the bachelorette party U130 hey U130 ACTION just wansta get drunk at the receprion oi oi oi U105 hi U82 sup lol U115 PART JOIN how s you U130 open bar eh good how s things U105 busy busy but good hello does anyone wanna chat quiet in here JOIN any lady like to talk JOIN U129 where you from PART PART busy busy is good good lol quiet for all the people that are in here It pisses me off I ca n t find my cam so I can be entertaining JOIN ugh PART lmao U69 Paul PART JOIN wb U37 lol U69 PART 27 male maryland PART U69 too JOIN PART JOIN PART U25 PART U69 JOIN ACTION falls outa da attic PART JOIN U69 too O just send me those nekkies you have and I ll entertain myself U69 P PART PART U105 as soon as you send me yours PART lol lol i m outta here all see ya bye U1 tc U1 PART tc U1 buh bye bye U1 PART JOIN ACTION feels retahhhhded typing U1 JOIN wb U37 lol 29 m nc anyone want to chat wb U37 ty U105 JOIN ty U25 hey wb U37 PART 19 f ny ty U115 yw yw PART JOIN PART ACTION is eating her dinner then goin to bed so she can get up for work in the morning U110 i ll stalk to ya soon also have a good night good u U52 lmao U18 i got fired from dunkin donuts me a good nite pssssh JOIN hello ACTION cries JOIN lol hello U121 that involves havin a good day later do it PART I just finished my shower any ladies want chat single man 35 New York can pm me JOIN brb JOIN PART hey U21 you cry baby lol PART k nana PART PART shut up yooou JOIN I am 29 From tonawanda ny U20 eat me lol JOIN and a female ello U121 i got fired from dunkin donuts spread em LOL PART tongue nice how are ya sweetie muhaha im well and yourself hey U121 anyone want to pm me tonight ima call you U121 JOIN hi U21 U91 JOIN that is ok any ladies wanna chat with a 21 year old virgin male some call me U121 it better be lol i will call you U121 JOIN PART ok fine fine without the yeah that s what im looking for a virgin lol U21 i want a nick name too JOIN heyyyyy U54 back lol humm PART lol U90 PART p wb U110 U20 ill call yoooou fenks baby JOIN hi U104 JOIN PART hello room hey hi guys ya i donno i am a virgin PART lol JOIN Hey U130 i cant think of anythin tdr lol aww its ok td lmaoo U54 4 U121 TRUTH if you had to kill one person who would it be riiiiight PART U20 JOIN hi U40 lol dude stop saying that wanna fuck U104 too many names cant think lol whats that PART U20 Chris so I wouldnt love him anymore love U20 i donno ok la la la nah leave me alone fuck a virgin hmmm lol U110 youre crazy just call me U20 lol hug U21 ACTION watches U110 tell everyone in talkcity 20s that they had a dream hugging U21 all night long lmao yes I am PART lmao JOIN hug U110 heheh ACTION watches as U21 runs over and hugs U110 so tightly that a roaring column of flame streaks out of the heavens WOW PART seen U196 come on give me a chance U104 U196 U196 U196 Last seen 47 minutes ago lol wha you talkin bout me hello ladies hug baby boy ACTION watches U110 hug baby boy and cop a double feel U104 kinda likes that idea wussups any ladies care to chat hug my sexy nana ACTION watches as U21 runs over and hugs my sexy nana so tightly that a roaring column of flame streaks out of the heavens WOW heyyy i mean sesky oooOOOOoooo JOIN lol lol sesky lol Im not stop it dont start i was wondering that s all lmao tongue hey U132 awwwwwwwwww AHAHH JOIN could well at least he ll remember his first fuck lol U110 ACTION sits in her corner reading her book JOIN U21 I m there Any Midwest Ladies Care To Chat scream it biiiatch ok no one forgets that honey LOUDER XXXXXXXXXX can I pm you i got fired from dunkin donuts because i was jacking off in the kitchen lmao U104 lol spin whats black and whitte and red all over l U121 spins the bottle Where it will point nobody knows PART Round and round it goes PART U21 lmaoo slowly comes to a stop pointing at U106 JOIN Now U121 you must get on webcam for U106 an old lady whos been beaten up for her pension ACTION plays with his doodle rapidly newspaper webcam woot woot no ty JOIN OMG U21 ewww lol U21 stop lmao PART heeheeheeheeheehee tongue hey U42 the tongue U42 20 Question Have you ever been skydiving Yes or No my tounge whats pink siver and red nope hug U110 no ACTION watches U42 give U110 a BIG hug and cop a feel td 4 U91 TRUTH What s your worst fear PART a baby with a razor blade being alone JOIN U104 wanna fuck a virgin hug U42 ACTION watches U110 tell everyone in talkcity 20s that they had a dream hugging U42 all night long geessh U54 JOIN be dunno nicer PART JOIN i ll pass do n t worry babe i m not leaving you ACTION jumps on U65 s back JOIN HAHAHA PART awww U91 JOIN Im always here piggy back PART JOIN ACTION is still sleepy whats green and silver ACTION dies I know U110 cus your my wife LOL hey people ACTION cries same baby three monthes later lol yes sup room 20 m nc lookin for a lady freind 26 f ny arizona single white non smoker 38 B chest dont cry baby why ACTION givs U65 cpr who s your wife hahahahahaha who ACTION falls haha come on give a chance please i killeded U65 PART JOIN what goes round and round and burns U110 is my wife U70 seen U219 U219 U219 U219 Last seen 23 hours 33 minutes ago a baby in a microwave i do n t believe it yes I am hey room anyone wanna chat pm me lol ask her when did that happen see dum dum du dummmm pm me if u want to chat lol LOL i need a e husband lol o ya that is horrible U133 U65 is my wife hohohohhohhoo ha yes i am umm what 1 month ago U110 really cool o i agree wtf is they talking about lol lol kawing i am 21 years old and still a virgin male wanna fuck seen a girl with a nice bust I ve never seen a girl you didnt invite me to the ewedding you fucks PART lol cool lol JOIN what does the blind deaf retarded kid get for xmas PART sweeeeeeeeet i am not happy about that marriage though JOIN cancer i dont need my wall no more why not sorry U70 am I not good enuf for U91 haha nope you dont roses wall PART I LoVe YoU 4 3 wall 3 4 Love U21 JOIN lmao U21 oh hell yes you are its been fun some one kick him out and then some this is betrayal No more PmS i m well funny why your off your rag cause i wont get married if that s how they spell it who me yes you no more pms U121 any one got any better jokes yes yes lol haha U21 U70 why do you feel that way come on then you mean your cooter isnt leakin fruit punch wow LOL i am a virgin that is a joke seen agurlwithbigguns U91 settle your love affairs hun I ve never seen agurlwithbigguns ewwwwwww fruit punch hahahaHA lol your profile pics thats the joke well i thought you and I will end up together not that I was aware of eww eeww eeewwwwww HUH hi U121 mmmm yum hell the minute i turn my back you re a lesbo who ate all the pies who ate all the pies im thristy oh boy nasty hello LOL i am shocked how horrible i m outta here what can I say I like pussy i stuck my dick in a pie haha lmaooo U70 nothing ever shocks me in this room LOL haha damn that s fair enough i cant get pussy LOL crazy stuff a kid with downs syndrome walks up to an ice cream van LOL U91 U65 lmaooo stop lyin doll then buy one yessum YOu love my chocha im thirsty go get me a beer yeah i just found some superman stuff on myspace even he orders an ice cream lol i am broke come on now guys LOL you can friend him lex and lois buy U54 a pussy ACTION gives U54 a a pussy Compliments of U121 cold Bud 21 F ACTION brings U21 a beer ok i forgive you U91 geesh there is enough lovin for us all the ice cream guys says what flavour awww you actualy did under one condition im tryina get U110 U54 lol i was waitin for you to cuss me lol nope the downs kid says it do n t matter cause i m gonna drop it anyway smooch U65 i have my hand to satisfie me ok ACTION walks up to U65 runs their fingers thru the back of U65 s hair closes their eyes and gently kisses U65 on the neck Compliments of U21 ACTION sits down to eat chococake ACTION is going to get something to munch on me too U54 anyyyyyyyyyyyyyyyyy guys IN LATE 20S PM ME IF THERE A STALLION AND IF THEY CAN BE A GOOD BOY PM ME why were you standing in the first place rape U21 U114 fuckin bot yes raarrrrrr lol im listening to barbie girl its the thought that counts U31 lol U65 LMAO awww thanks o geez DOWNS SYNDORME hey U31 hey U110 recovering well frm last night U69 hey U31 shut up jajajaaa yes hey U91 you tart lol You dont like my bot U31 lol hahaha hgey doesnt fuck U69 mwahhs U69 what happened last night U69 I mean lol he needs to do hump 20 min to go lol U69 is a gimp yea and sex lol lick U65 youuu can touch you caan play ACTION watches U21 lick U65 drools anything else U133 beer no good me and U110 exchanged fliuds U70 bye lol U65 U54 what did you want bye lovely lol lol love it U69 ACTION remembers the days i used to call U65 U65 U65 lmaooo U69 yeah ifr im gimp your banned lmao ahhhh memories what a dumb nic U54 lol U21 OMG you act like were 80 lol so bye i appologise PART JOIN well omg PART PART JOIN JOIN 1 day we will be PART awww sad U69 are you gonna make the bot hump how are you feeling U69 lol U69 JOIN PART PART how are ya U31 JOIN hahaha this room is goofy good how are you JOIN Maybe U31 hug U69 ACTION watches U110 try to hug U69 but U69 starts kissing U110 right away U104 sweet yeah U69 you have to make a sex or at least molest one good yeah I m alive U91 hump U69 i guess bye everyone your face is goofy PART JOIN you never stay and chat U69 damn lol aww looks for D beer chatting sucks U69 usually lurks if you didnt know yet fenks U69 yw yes U69 i agree lets all just exchange fluids yes I know hmmm cyber sex sucks lol grope U31 ACTION watches U21 grope U31 mmmmm see he smiles mwahhss oh yeah mmmmm thats the spot where is elle tongue U21 stick to at least 3 girls per day please come on barbie lets go party why is everyone askin me ok exchange fluids kinda like a car thing PART yada yada yada boring nd lame folks suck lol lol lol the tongue JOIN i m not exchanging fluids with no one hahaaa she is good on her elbows i miss her U65 hey babe i havent seen u in ages no one here is good enough for my superior fluids Elle went out with her fruity friend to a bar PART JOIN U50 PART how you been U50 and is nd lol oh boy stop shpwing me your nude pics JOIN yeah he may have e herpes 15 min to go good good lmao U21 i dont have nudes you wish hello leave her alone i m sure there is a troll out there for you U21 hey U50 you whore whats up U50 U110 are you good on your elbows like elle lol U91 allo U91 lmaooooo LOL Troll yes elbows its not knees anymore hello hun AHAHHA stop it lol U91 what who shit im missing everything and U31 is a good on her kneez i guess lol im a girl im if im on my kness she has to be on her elbows ACTION looks for some trout PART yeah someone ugly enough for your fluids hahaha ask U91 she knows she s ma wife lol JOIN elbowS uh o yesh I am ive never been on my elbows any nice guyz wanna chat on yer knees U70 be nice to U21 lol U65 OK im really fuckin confused any females want to chat 25 m canada pm me kneess lol i am 21 years old and still a virgin male do u wanna fuck U91 i am being nice AHHAH U21 lmao im serious when did you start using elbows U104 like a clue u miss n alot of that lol PART lol lol U54 damn wind we must have a cyclone coming or something JOIN poor doll LOL 21 and a virgin thats sad no go boy no Reub for real wtf is this talk about elbows knees i just want to be included hahaha lol im so lost thats good to be a virgin who s a virgin possibly there is a 3 people involved here U65 let me help you U21 is standing im on my knees and U110 or elle is on elbows get it Not to worry ladies I have arrived OMG I am not sure how to react its so pathetic me not enough rain for it though the girls here are on heat man im a virgin I am laughing so hard elbows but winds seem to be hitting about 50 60 kmph U114 the pope is lol i have never used elbows im standin where riiiight U31 who PART in mass orgies they dont even use elbows i swear ACTION is a virgin lol brb wtf is goin on nm U91 give me a chance ima cry U50 is needy today lol i swear to god ima cry dont cry babe i m a born again virgin carpet burns you cant dis a tryer will you fuck me if i cry no im just bored u whore truss me lol guess i need to keep up with the new techniques of elbows hmm maybe hey U50 aw shut up bitch JOIN o shit Ummm U54 cut off your balls and swallow mmmkay and please choke if that does not kill you just drink some bleach you will go fast I promise hey U104 whip U50 heyyyy U110 U110 PART lol i dont know if its a technique but it sounded ok in my head whos talkin shit to u JOIN LMAO U91 ACTION dances naked LOL hey U104 hi everyone PART yo U104 bend over id show ya how virgin i am lol yeah baby U91 i never had a girlfriend yess lol no one hiya barbie hi ken I do not care lol U2 me too U7 let s find someone else to pick on lol hi U5 JOIN PART hi U5 hi U29 hey U29 hi U29 JOIN hello U7 and U19 hi U16 hi U30 hi U30 hi U24 JOIN i think U29 wants us too U7 lol JOIN U19 hi U31 hi U31 Ahhhh Just what I like lotsa folks I dont know hi U32 hi U7 hi U32 hi U24 U29 ha it was the first time in my life I had played the game I was getting killed I had to do something wants you to what hi there U7 JOIN hi U33 Hummmm hi U33 hey U7 i think U18 wants us too PART hi U24 hi room wow a duet we can pick on sounds fun hi U7 hello hottie U18 Gosh I swear I dunno anyone hi U20 grins hell ya U7 hi U30 bbiam U24 whatca talkin bout willis PART hi U30 nice to meet you lol U18 ahhh U20 smiles lol JOIN hi U30 Hello U7 hi U30 U30 Hey U33 wb U2 s JOIN i need to perv there pro s first U24 give me something to go on U32 hi hey wuts up in here tonite ty U18 yw Man i know U7 wb U2 U34 ca n t help u there lol PART nothing i understand so i guess since i am stupid i will go ty U20 where r u U30 thinks she d better perv profiles LOL ty anyone else please with the results today bye U29 no U18 Upstate NY U32 upstate ny how did it ever get called perving anyway ya U33 a little frustrating eh yup U7 where pervert U2 ACTION has a naked profile oh wait i filled it out now LOL I dunno U2 Ima goin wid the flow lmao JOIN PART i U35 hi U35 you know its been a great year here first the Cardnials win the World Series and then well last night i know but what s perverted about reading profiles west of Albany can i do a quiz what happened U18 PART kewl i m in saratoga JOIN ahhh just havin a lil fun U2 smiles hi U35 there was an election U2 PART brb JOIN wut U29 cool U7 ok U18 on to next subject lol lol thanks U18 JOIN PART hi U36 hi U36 hey U36 JOIN JOIN hey U37 hi lol sorry U24 hi U37 hi U37 PART wb U35 JOIN PART sighs hi guys JOIN hi U20 U19 U18 hi U37 hi U38 hi wb U35 hi U35 PART hi U24 hey U36 hih U24 too what was al copone s nick name PART al maybe lol PART JOIN PART who cares U34 hi U39 hi ya U2 leave i like to do quizes ok sometimes PART j k U34 JOIN what was his nicname U34 dont see her U30 wb U35 yall U2 leave PART scar face JOIN JOIN ahhh ty U18 hi U40 JOIN hi U41 JOIN hi U23 hi U24 wb U23 goes back to pervin profilrs she has always been so nice to me hate to see her run off profiles lol hi JOIN who ran off hi U42 U2 s U24 PART JOIN PART PART so whats happening JOIN hi U44 PART PART JOIN wb U25 PART hands U25 back the pillow JOIN ty clicked the wrong button U24 what was the name of lincoln s famous speech lol ty U19 ok doggies are all set now PART hi U25 PART U25 the red X is bad say far far away lol hey U0 no wine tonight lol well off to porn sites for release of life lol i know U19 the dreaded red x well enjoy then U38 no wine U7 lol lol U36 hugsss gettysburg address PART well i have a headach anyway thanks U7 i will at least twice tonight U25 lol the gettysburg address Hay Girl lol U38 heyyyyy U30 JOIN wb U45 i never lie U7 smiles hello all JOIN hi U46 JOIN brb hi U7 pleaseeeee U38 PART howdy U46 U40 muahsssssssssssssssssss hi U18 theere hi U45 hi U47 hi U46 hi U24 hi U47 hiya U7 how are u PART PART JOIN hiya U24 how are u doing U48 hugs hun hey yall JOIN U7 good u U47 hi U49 JOIN hi U49 JOIN U24 he U50 U40 hi U50 wb U40 hey hi U40 muahssssssssssssssss baby Hiya U46 hi U47 PART U24 i just remember danny left to recieve his email boy must of been a good one is AFK fer a few hiya U22 how have u been doing U46 ACTION waits paitently for the topic to turn to boobs JOIN ACTION smack U18 makes ya wonder hu U7 lol U6 hiya ACTION sighs at pm shakes head yes it does U51 get a life hands U18 a pr of pasties there party with your own U18 LOL lol ty U6 tabasco hot sauce was made in la right U48 oh ok U7 whhhooooo ridem U48 yw lol we all the same pm lol U48 some guy s prono pming the ladies U20 I think you must have a bed roll in da corner i think so U23 got JOIN are you kiddin me if had a pair of my own like anyone here would even know me hi U52 PART PART lol U48 shrugs U18 hehe Howdy U7 you ring U52 i m getting him banned ty U36 wow mercy mercy me things aint what they used to be hmm hmm hmm ok who sang that anything for u U6 lol U34 It s Rang dont know some guy robert palmer right anyone never mind hm hmm that was that guy Marvin Gay U20 that hall oates guy hows ya doing was it U18 PART PART YES hall and oates when somebody rang the door bell on the show the adams family lurch would say you ring PART JOIN JOIN livin lol nu Marvin hi U53 U54 better than Living hehe TY hi U53 but missin da dawg hi U54 Memory different than mine shoot up early tomorrow nite much love nite U36 K U36 JOIN hugzzzzzzz PART h U55 hi U7 PART JOIN PART hi U56 JOIN florida hi U57 I cant play scrabble worth a crap but I rule at name that tune PART hi PART in how many notes U18 hi U56 lol hi U57 3 U7 lol JOIN ok U18 la la la name that tune PART hi U58 lol all you need is love the beatles U58 got stuck in the door it threw her back out lol i thought you were good U18 Ohh I remember hearing that one U18 who sing the song purple haze jimmy hendrix right who sings bye bye boyfriend JOIN hi U59 lol my grilfriend lol time s up febe dobson Lovely Pic in Prof U7 i bet she does U18 lol thanx U52 hi sorry i ca n t stay just surfing again tonight wc JOIN bye see ya U59 hi U60 PART hi how r u who sang Hey wo n t you play another somebody done somebody wrong song JOIN U18 wb U45 wb U45 bj thomas thanks U7 mac davis JOIN good answer U55 hi U61 thanks U48 Hi PART U7 does that make me old U18 Maybe before your time but Who sang In The Ghetto ok who sang reach 1996 elvis are you kiddin me i m not U18 guess I m impressed with ya U18 PART JOIN wb U47 Hi U47 who wrote the song crazy for patsy cline in 1996 hmmm dont know gloria estefan tks U7 wb U47 JOIN wow PART hi U61 how are u hi U53 hi U53 tks U24 willie nelson hi U6 JOIN PART right U55 willy nelson hi U53 right wrote crazy hi U62 i thing i think hi U7 LOl U62 PART U47 I m fine and thanks for asking who is the bigest turkey in here lol lol JOIN wb U28 JOIN hey U63 PART JOIN hi U63 hi U64 U28 PART ty U7 what was johny cash es nick name and U48 oh i know that one um um um man in black U58 LOL so when Norah Jones sang dont know why I did n t come I just figured how the hell could I know right not U58 boo hoo lol U18 ok easy one who sings bad day what was willie nelson s nick name one eye JOIN lol hi U65 hey U65 red headed stranger Hi U65 JOIN hi U66 right U55 U66 JOIN hi there U7 hiya U7 U19 U61 hi U66 U65 hey U48 hey U66 my answer to my daniel powter hi the U65 ACTION welcomes the U66 hiya U48 hey U28 hiya U66 U66 i see you your not invisible hi U19 whats up girl hey U19 ACTION says thanks to U18 and hello sorry didnt see ya PART JOIN maybe b c I am zzzzzzzz hey U48 how are ya wb U68 PART JOIN ty and hello nice lady k U19 Ty U hi U69 am I suppose to be invisiable U7 huh lol ty U7 JOIN lol U66 hi U70 doing great U48 ty chuckles too U7 JOIN U70 heyyyyyy hi all Kewl U19 hi U70 hey U69 Hi U69 hi y all hi U69 hello all hey U71 hi U48 where from heyyyyyyyy U70 hi U66 PART JOIN Lousiana U69 even U55 yes U48 what song did hank willams sang on monday night football on tv i figured lol U70 where u from I used to know a U70 im just south of NO got me U34 no idea lol all my rowdy friends are coming over tonight and hello hehe U69 smart man you having a party U18 right U18 PART cool U69 are you ready for some football guessing I know hank and hank jr la la la hey jude ok who sang slow hand eric pointer sisters who broke the beattles up conway PART PART good answer U46 yoko yoko lol ty yoko did right U18 lol U7 and U7 ACTION applaudes U46 lol lol yea me go me go me lol JOIN what did yoko say when John got shot lmao hi U73 ono My bad U70 you not the same one oh shit hey there U73 what tv show did the beattles sing om hi U73 heya U7 h shit i get all ur money now fawker ok girl lol JOIN ed sullivan heya U66 hi U74 ed sullivan show U73 right U55 hi U68 hi U46 U46 good evening i am the walrus imagine that hey U68 and U74 U48 hiya U66 I am convinced yoko hired that guy to shoot john bbl you do n t like him U28 lol JOIN and I m the egg man k U24 no way U18 wouldnt suprise me imagine was john U61 lol nite lol U61 see yah U48 you taking off lol nope who is that U66 PART LOL was saying laters ta U24 hehe she ll be back ohhh ok oops U48 just got here I need a minute lol yep who is who U28 its ok U66 I am in the zone again JOIN have a gn U48 U75 heyyyyyyyy you know in the balad of John and Yoko he sings last night the wife said oh boy when your dead you wont take nothing with you but your soul hi U48 hi U75 moochhhhhhhhh U69 not going hehe you are U48 is that a good thing or not LOL i just got here too and i showered so ya ca n t leave yet lol ma bad I think I will stay hassle ya PART thought you looked spiff U65 hey U65 night U24 nawwww not U69 feel free hey U75 JOIN hiya U75 OK Checked in Now checkin out Niters all hey U66 hi U76 seee you U52 ello night U52 lol whou said I idnt like lol nite U52 ACTION straightens my nightie t shirt PART JOIN U66 seems the last few nights I been in here I am like zzzzzzzing that sucks LOL JOIN hi U78 looks down hi U7 well ok LOL sooo Im AFK fer a few more min geesh still in day clothes geesh PART well tonight s a new night U48 get comfy and relax i m in my jammies u poor thing lol im still dressed the sleep over is n t tonight jeans and a pink sweater here PART ugh yeah normy I am comfy hehe good idea U66 busy day yeppers U68 ACTION always comfy in chat yeah U7 we can say it is LOL jeans and short sleeved shirt me too U65 no matter what I m wearing yeppers sounds good U48 heheh U66 perk sleepover lol but jammies sound like heaven right now took off the tennies awhile ago yeah U75 what what U48 huh that tired huh U66 lol U75 bring ur pillow get comfy U70 yep off to bed Night all SLEEP over not sex night simular but not hehe lol U65 put on your jammies U75 k U61 nope U68 thats comfy to me lol U7 oh PART I think sweat pants belong on a shelf at the store LOL I like my jammers JOIN hi U79 yep U66 looks around U69 must be sleepin on da chat couch I wear sweats to bed myself JOIN JOIN U13 welcome to talkcity_adults 4 Please ask in the main room before Private Messaging others You can find our rules at http Thanks for joining us no rain here for a change LOL ACTION rubs her aching belly suppose to be sunny and 75 tomorrow LMAO i love garlic NOTICE U13 to talkcity_adults To get your own game control bot for your chat room please contact Dawnstar Visit http www shadowbots com Paxil is helping me U70 PART this edmonton detroit game is goin to shit HI ROOM my family says it made me skin and bones PART JOIN PART JOIN HOW R U ALL DOING 2DAY may i pm you U7 gawd i need meds that would make me skin and bones LOL sure U69 no need to yell U19 what do you weigh now U70 93 lbs soakin wet really I talked to someone else who says she gained 30 lbs while on paxil Great till you busted caps on mah eyes mang thats good U56 it helped me too U56 but when i didnt take it which is now u cant sleep eat live Paxil danger breathe YES U8 ACTION smewchies U3 s eyes to make him feel better JOIN hi U3 PART Hi U24 hi U3 JOIN thats why im drinking away the withdrawal who did what to your eyes 12 4 U46 12 anyone else from tennesee here ty U35 better SSRI s out there girl PART JOIN well you ve gotta deal with the issues that caused your depression in the first place antidepressants are n t a cure they re just meant to help you while you deal with the real problem awww U3 you know i lubbs ya honey JOIN ohh withdrawl heyyyyyyyyy U78 hey U78 are n t you supposed to wean yourself off i need meds like that now U56 JOIN hiya U35 JOIN hi U30 Paxil yes yea well nobody is gonna bring back my ex who died and those pills cost too much JOIN Paxil can be horrid yeah U35 I just started Paxil JOIN uh oh PART PART did u take it U8 awww U70 i am so sorry honey try Zoloft or Wellbutrin sp PART PART no I had a roomate who did though i tried those too U8 PART just knocked her out OK can someone kick U66 for making obscene suggestions in pm and if u like I ll post it in the room so we can all point and laugh at the moron is not on any meds neysa left bruises on me PART lol how are you U46 chica thats what it DOES Wellbutrin i tried when i quit smoking LMAO i had 3 bouts of hives smoking was the last thing on my mind the itch and the swelling was horrible lol U28 control your woman JOIN u dont want to live at all just sleep naw i do n t wanna JOIN i m not that controlling shut up U39 wow I ve heard so many opposite stories bout Paxil one gained weight another lost it one could n t sleep another slept all the time neither am i just drugs alcohol guess it affects different people very differently JOIN ha just kidding yeah it does they all do always U56 looks to be case by case U56 why U70 JOIN Id read up on it if I were you U56 PART I ve been fine on it so far I ve been sleeping its what makes us individual how long have n t been eating too much PART u r not on meds I am good U3 how you doin tonight ACTION will never take wellbutrin again LOL PART bye U70 PART really U35 Why my tummy is a bit upset but nothing serious I can still eat U56 yea i have slept like 5 hours this week how long have you been taking it U56 holy crap sucks but ill get through it a week now U8 U70 probably looks like death JOIN JOIN yah it will take a few weeks for it to kick in JOIN PRIVMSG U13 how are you doing tonight i m okay just movin files around and shit boring and time consuming anti depressant talk I want in how mean U28 LOL HEY lol U65 LOL U8 i took it for smoking cessation LMAO 2 1 2 weeks later i had 3 bouts of bad hives had to get shots 3 times that week the swelling and itch was so bad didnt see you there it s already working my anxiety is down to near nothing PART life is a trip im leaving well dayum U70 I m on it too yeah real excitin haha hi U65 heyyyyyyyyyy U65 honey smewchies you do n t eat you do n t sleep you live on alcohol what can i say JOIN your HOT hey U35 JOIN Wellbutrin since when is Wellbutrin used for that welcome to da real world ever hear of Zyban Ummm are you taking anything else with it U56 yea i stopped taking paxil a week ago no that s wellbutrin JOIN an people cry when we talk sports ohh yeah talkin bout wantin to kill themself is much betta convo i ll keep you awake for other reasons U70 hi U91 U30 nobody s talkin bout wanting to kill themselves Paxil all antidepressants for that matter take at least a few weeks to work sex take a deep breath think about till you let it go JOIN PART might as well u seriously hurt my feelings U28 hiya U92 honey smewchies PART not you U56 U30 shut up about it talkin bout sports makes me wanna talk about killing myself wanting to talk about killing myself makes me wanna go play sports its a vicious circle Gosh mwahs U35 lmao U3 PART go DETROIT im going through enough trying not to take that crap lmao U3 PART awww U92 blush U30 do I sit in here and complain how bad my life sucks and stuff I m on antidepressants now and I brought up the topic Sorry lol U3 detroit sucks hi U1 U70 i appologize hi cali is better U56 i said not you hi U26 okay scroll up michigan sucks noth sucks PART JOIN nortenos sucks ACTION talks about masturbating while depressed PART thx i guess U28 u try watching your ex die in front of u bitches and complains about how bad her life has been recently but i ll stop now moans for no reason PART I was actually very surprised that so many people have been on these things thats an oxymoron oh wait I know how thats facilitated ACTION snickers umm not gonna happen but then again i do n t know what you re talkin about U70 look at us babi look at us now lol if you wanna yak pm me brb I have midgets to watch im outta here beer where is everyone at chews gum he s 2 feet tall PART ta ta U70 PART every nite i pray i hope that u will stay ACTION is now losted JOIN PART JOIN babi look at us JOIN U95 heyyyyyyyyyyyyyy U95 gurlie hi babycakeses ewww my pm PART PART U1 PART hey U95 im bored U35 U92 PART who are you U59 NICK U65 hey U95 LMAO U65 lol hi U65 is yummylicious PART lol U65 dat guy that smokes that chronic ACTION drools on himself ahh ok ACTION rubs her belly chronic weed sticky icky got it LMAO U65 change it to wee U65 LOL put it in a jar hey U56 JOIN is cuddlicious duh hey U28 the name on my phone has changed JOIN huh that would be mean I just had a U65 moment its not Rick James anymore you know all the things you can do with spit vinyl and thought I d share hahah hey U50 LMAO U65 hey U95 im rich james biatch it makes a great lube is f kalicious in a pinch its now S S Swackhammer JOIN JOIN im rich biatch U30 oh lord why JOIN que mami JOIN PART u want me look at the last name beer jucilicious 12 4 U102 12 U102 hey U101 yeah hey U100 and U99 hey U102 U102 im gold hiya U102 U102 s here U3 hey U3 U95 hi all 12 4 U95 12 hey U30 hey U102 hey U102 hi U35 look at us now 4 6 U3 4 PART what is here lol i couldnt find you in the P s what who hey U1 oh here is a crowded chat room LOL hey U92 JOIN PART anyone guys wanna pm PART Im from east LA im wit da 18ST burps scuse you JOIN lol farts how much it cost eitther the room is slow or im lagging i still see my hellos yeah i is U102 great to see you again did u fart cuz u blew me away lol brb JOIN yep ohhh sexy love PART girl that makes u do JOIN hey U106 PART U101 do n t PM without asking come running back to u sexy love ACTION flops over on the couch and kicks everyone else off JOIN PART ugh thanks U56 lol where are you U59 JOIN ACTION falls on the floor haha im so addicted to her beuty touch U101 I have e herpes PART im listen to dis song boy jumps in the beanbag how is everbody heya U50 catches U1 JOIN was dat a racist comment wb U61 beanbag did U3 give you those U102 PART hi U92 any guys wanna pm a girl like me ACTION thinks she needs to change her pic back to the old one too many damn PMs lol itz a seat eh i dont get around enough to give anyone anything PART lol JOIN PART U66 if i felt a rock hard cock in my mouth i owuldnt be in here oh sexy love ACTION stretches out on the couch and sighs happily U3 did you physically meet neysa a bag full o beans girl take make u do ACTION saunders back in PART make me run to you omg newp Im so off PART making love to you happy birthday shane which lady wants to pm me JOIN SExy love so yeah otay is a beanbag a racist comment you fat mother was supposed to but never happend why shorty like miiiiiinnnnnnnnnneeeeeeee i love oh im jus curious is all i dunno is it PART JOIN me Yeah Zyban I have heard of U35 i need JOIN JOIN cool cool hey U110 someone said it was I thought i desire like dude shane ate one too many cakes today i think shorty lllllllliiiiiiiiiikeee mine JOIN ok i need to put more clothes on JOIN brb miiiiiiiiiiiiinnnnnnnnnnneeeeeeeeee aiiiiiiiiiiiiiiiiiiiiiiii jesus loves you like mmmmmmmmiiiiiiiiinnnnnnnnneeeeeeee JOIN JOIN JESUS LOVES YOU JOIN its 11 hi all woooooooooaaaahhhhhhhhhhhh hi U115 firs time using this site he did and he killed a kitten and said that that would be me if I ever told welcome to my room JOIN 2 Welcome to all who just ed us hello PART JOIN PART everyone JOIN hey U95 JOIN PART hi U113 PART JOIN PART JOIN PART i love each and every one of yall U8 heyyyyyy hello welome to my room lmfao mike PART i would dump you in cookies and cream PART PART with some cherry on toop of yall this song has gotta go PART yawns what song ACTION falls asleep on the couch we w ere just talking about jesus trials throught the desert and the temptations that pursued him goodbye to romance PART U108 this ai n t your room too slow fo me one two three jesus loves me ACTION is backfrontsidewaysandallaroundtheworld is there a chat room here that deals with sports and fitness or not three four Hi all does anyone want to chat with a 23 f from ontario canada he loves you more JOIN sports perk hey U115 PART hi hi U118 ACTION beats herself over the head with a bible make it stop make it stop JOIN lol welcome to my room hey U38 hi U108 U108 we w ere just talking about jesus trials throught the desert and the temptations that pursued him yeah its called prideIsland type prideisland its all about the fitness is a christian but is aggravated at denomination churches LOL U95 JOIN U38 are you in welcome to black paradis make it go away JOIN PART hi U116 why dontcha go and try to find it for him U108 ACTION sets up his altar to summon lucifuge welcome to my room hi U1 LOL U65 fitness my asss thats the part i felt most after that workout lmao U65 we w ere just talking about jesus trials throught the desert and the temptations that pursued him hi again U39 what the shit is lucifuge where you at ACTION eyes the loser that seems to think he paid the registration fee for this room PART LMAO U53 PART lol lucifuge so what have we disocvered my children satan in my home lol JOIN LMAO U65 you mean lucifer hi U120 where is your home welcome to my room in hell JOIN or lucy fur LOL in Iowa i presume JOIN we were just talking about jesus trials throught the desert and the temptations that pursued him ok ugh hello U102 do you not take private messages hey U108 wrong room hi U120 PART P hi U7 lol hi U7 thanks goodness lmao s woooohoooo please do n t beat me with your bible ahhhhhhhhhhhhhh finally ok im back hi again U39 hey U7 front wb U28 PART hey U92 if you dont beat me with your torah PART wb U28 O o Teck n9ne is back homies PART PART dont fck with the torah U3 JOIN chattanooga is an hour from me U7 thanks U7 and U35 dahlin he s the prime minister of hell google it lol U95 OMG U3 i would never do that i do n t chat religion dont fck with the bible U95 kewl U39 JOIN ACTION is never wrong JOIN well JOIN yep JOIN well n othing JOIN HI U56 do any women wanna chat the worst that would happen is id get burned to the stake hey y all PART it goes both ways dear hi U104 JOIN JOIN PART yes it does go both ways JOIN and i know you dont U35 Chica PART PART nice pic U7 ty U39 ACTION snores on the couch i ll dabble in a tad of politics once in awhile but nevah religion it s too touchy a subject JOIN yvw how have u been doing U56 been awhile since chatted JOIN JOIN where ever you go whatever you do ill be here waiting for you very much so practically have to put the room on moderation for that but sports now that s where i get the label hater hmph PART JOIN trance boi yep religion JOIN PART JOIN MODE talkcity_adults o U132 12 4 U132 12 JOIN mmm taste like chicken U132 tatatatnanaantatat 2 Hi U133 Welcome to talkcity_adults hey U132 HI U132 hiya U132 do u PART do or die ACTION swing JOIN mmmmmmmmmmmmm lovely nick there LOL JOIN hey U132 U3 mmmomom how come everything tastes like chicken but sometimes chicken doesnt taste like chcken hey U1 PART hey jeff and U104 and U35 PART seminilla party at silver crib hey U30 PART lol it s the matrix out of wack bring drinks food is such a wonderful thing U12 deop MODE talkcity_adults o U132 PART vodka brb popcorn is ready U132 Are you a man or a woman that depends if neysa s cooking it U102 PART U30 your like the walmart greeter only time i see you type is when someone comes in lol JOIN JOIN packs of ciggareets brb hi U12 you sexy bot JOIN and ill bring da weeeeeeeeeeeeeeeeeeeeeeeeed PART hahaha U28 JOIN haha i love you JOIN nite all should n t dis the future wife love u too i want you PART nite U67 hey U116 2 Hi U31 Welcome to talkcity_adults PART JOIN no drug talk U91 I told her I was gonna teach her how to cook turn her into the perfect lil housewife for ya any females want to chat 25 m canada pm me U59 JOIN 12 4 U138 12 so i hear U56 U1 U12 i want your bot lol ty U1 D U3 yw U3 PART JOIN JOIN wz 73042 Gracemont Oklahoma 9 9 10 PM CST Temp 68 PART JOIN ny fit ladz 16 20 frm uk pm me pic on pro JOIN hola people JOIN and U22 PART hey U115 PART whats going on U22 PART JOIN Justin watching criss angel j aime JOIN What class are you gonna be on U22 xD yea im about to watch futurama no idea whats balck and white and red all over i always liked necromancers JOIN Ahhh okay 18 m pm if u try to chat an old lady whos been beaten up for her pension book 17 m oh here girls any age PM me hahahahahahaha JOIN You could be one PART PART PART That s what Daniel s gonna be too JOIN I m a druid any guys wanna chat pm me JOIN 18 m pm if u try to chat JOIN JOIN JOIN night ya all and there was U119 whats pink silver and red PART PART Biiiiiitch a baby with a razor blade PART hahaha whats green and silver same babay 3 monthes later 16 f hong kong anyone wanna chat pm me PART a beach ball does anybody wanna tok PART damn i like to have a good time and laugh PART PART JOIN what goes round and round and burns i like whiskey and cigars and the occasional murder JOIN U123 U123 U123 MODE 14 19teens o U123 a baby in a microwave JOIN hahahahahahahahahahahahahahahaha damn hey ppl u twizted bro hey guys MY DELIGHTFUL MISHAP corny jokes dude shut up PART whats balck and blue and scared of sex me haha PART PART Oops yawn haha PART PART n e 1 from nz PART he didnt finish his morbidly twisted joke serties 18 m pm if u try to chat That s okay haha yeah Holla at ya gurrrrl playas if u can handle wat I got PART PART praying for love in a lap dance PART haha PART JOIN hey everyone hey heyheyhey hi PART hi hehehe yay wut lol nm PART Any guys from GA wanna chat PM me 19 f GA here JOIN k then who the hell shot kennedy JOIN maybe we shouldve asked jackie PART JOIN PART JOIN PART JOIN PART i did PART i shot kennedy o cool whos kennedy any guys or gurls wanna talk with a really bored f 19 tx PART any guy wanna chat with me any hot sexy guys wanna chat pm me are u kidding PART whos kennedy 17 f tx anyone wanna talk 14 f mass pm me if you want to chat yea wow damn Barbieee PART 15 f cali guys pm me to chat no barbie JOIN U56 PART JOIN if she was real she would have gigantic tits 18 m il girls pm me PART PART o 0 pm my brass knuckles any hot sexy guys wanna chat pm me Hey U108 hey U29 PART pm me Whaaa u aint gonna find washboard abs and a gret smile on the internet ladies damn PART any guys wanna chat with me ok PART match com take it elsewhere ACTION whispers get a life PART JOIN Do n t do that whisper shit JOIN hello all haha how is everyone PART heyheyhey fu ck u dude ACTION whispers what the hell for JOIN _ I meant it U56 who u talkin to PART It s annoying what we talkin about is there a girl who can talk to me 17 F PM me if so You gonna kick me U111 JOIN PART how big are them guns texan I ll do something much worse JOIN ACTION assumes the position Like like one inch ACTION farts in U56 s face JOIN hehehe fart ACTION inhales deeply shell murder anyone u ever talked to hi sean ACTION whispers ur a douche who PART ACTION whispers you eat dog shit and howl at the moon Sorry U56 hahaha who why yall so mean So Lol damn yeah cant we all just get along JOIN Ohio anybody It did n t even go through no STOP ky close PART PART what up clearly we all cannot get along JOIN i like it PART JOIN Take on me JOIN PART You re not an IRC operator Wtf WTF so how are the girls in here tonight JOIN JOIN anyone here listen to z ro dead any guys wanna chat hey everybody wats up what up asl hog bad car accident on the way here any girls wanna chat the information superhiway was all jammed up i am 13 female washington state chat any1 what good with u U137 it suked and u dont know kennedy 13 from washington JOIN JOIN female w cingular cell phone pm me where the girls at u arent allowed in here me thinks lol Haha why cingular here ne bi females wanna chat holla JOIN lol T Mobile nah not t any gurls wana chat 17 m nz pm me G Mobile lol gotaa get at my Gs PART lol well this is fun haha PART i am satan and u r dead damn not me this room is bluer than my balls hey everybody u just dont know lol no ball talk hey PART ill miss whoever the hell he was PART ppl acting green in here im green blooded yeah me too i guess good i got blue blood im bored pm me guys 0 JOIN U141 hello She s still preoccupied 1985 any hot girls wanna chat JOIN U142 U142 U142 MODE 14 19teens o U142 19 m pa PART slam JOIN PART not a damn dating service PART jesus H christ seems like a dating service damn JOIN match com anymore thats why people are here cya all 0 cheers PART for the boredom im here to find victims PART JOIN PART haha U144 hmm you like killing people females pm me mhm who u gonna kill U119 I can seeee youuuu Your brown skin shinnin in the sunnn oh whatever i dont care lol all of em kill all you want hopefully i aint gonna stop you good good wanna help I can tell you my love for you will still be strong after the boys of summer have goneee JOIN I never will forget those nights yea sure why not I wonder if it was a dreammm what pleez dont say boys of summer lets kill these bitches JOIN ever ok what I love this song JOIN You ll live kill em all is there any girl who can just talk to me 17 F PM me please thanks what song am hmmm u eva thought of seeing a psychologist u seem to have an unusual and disturbing fettish for killing U119 JOIN JOIN JOIN lets kill these bitches PART any one here from pine city PART JOIN PART what is unusual about it lets kill em Wb wz 33982 PART PART i didnt come up with any more of a plan no than wanting to kill em with a goddamn hatchet JOIN JOIN White and black the friendly bears of China White and black they rarly reproduce JOIN haha ok JOIN PART JOIN me too wz 33982 JOIN Punta Gorda Florida 10 10 49 PM EST Temp 76 hey a s l JOIN what should we do about these chineese bears what should we do about these friendly bears JOIN die they must die the pandas must die die they must die the pandas must die yay marilyn manson and charlie manson which one PART the world may never know hi everybody anyone wanna chat 17 f here Hey and single girls in here JOIN 18 m il girls PM me nirvana rocks JOIN JOIN PART yeas anyone like screamo PART JOIN what puke yeah JOIN eeeeeeeeewwwwwwww yeah ACTION pukes all over the place JOIN i like to murder yo kids anybody lesbian want to talk blowing chunks any guys wanna talk with f 19 tx PART JOIN cookies Who the crap is that cookies PART chucking spewing goodie pm me haha hurling yes lol damn ACTION Pearl Jam Better Man mp3 vMp3 vi p t waaa the classic vomiting yeas everyone to their own any mexican or black guyz in her im me PART eay some U119 to sober up U145 is looking for a good time PART 19 m pa courtney love haha yeah right U141 is too U145 only wants black men haha JOIN what me too any austin texas area ladies in here and mexicans lol jk JOIN MATCH COM not here what is a fly JOIN hmmm any guys wanna chat with a very nauty girl U119 no urls really ok PART PART heya all why star asl yes i cannot spell url why JOIN JOIN cuz its law JOIN yes wasup room 19 m md my brain screams at me to kill PART JOIN why PART my brain screams at me to sleep goodnight blood on the bandsaw PART anyone wanna chat bodies on the floor yes U119 likes to kill things really PART hangin from the rafters no joke lets pick on him yeah PART any guys wanna chat wit a 16 f from australia hey yall 17 f tx hi everyone i suck PART ACTION Shinedown Save Me mp3 vMp3 vi p t hey u got kids any 1 wanna chat i wont let this build up inside of me any 1 wanna chat JOIN what u suck U119 can i kill em JOIN 18 m il here girls PM me no i suck 45 barrel before pulling trigger JOIN where in il ldskdlsf haha sldfjlsdf sdlfkjsj meeeeeeeeeeeee PART PART el rey U154 JOIN PART teck n9ne is back fellows take yo damn medicine U154 JOIN for one more year norman Hello Room hey mmmmmmmmmmmmmm cooooooooookiiiiiiiiiiiieeeeeeeeeeee yuuuuuuuuuuuummmmmmmmmmmm Anyone want to chat heyheyhey i vuela vuela vuela Yay democrats have taken the house JOIN hello any girl to talk to im female 14 pm eat me please any guys wanna chat i will sue u PART sugar i got Welcome U114 i hate em all i do not descriminate PART wooo woo yes PART eats U154 u look good in them jeans who wants cookies i like it and i am not a ppolitical product of my breeding anygirl to chat pm female here any little hotties wanna get dirty i want your cookie Wtf man ok U67 get out uuuhhh get it here you sick shit wooo i already ate it sori guys where between PART lol jk jk in my house in poooland JOIN jk jk PART eat my gun any girls want to talk dirty poooland cookies JOIN no i only eat cookies PART im not into death yay U139 shush hello room me too u better be any female wanna chat with an 19 m md I love to eat me blah blah boring spot all these freaks and geeks lol jk about the geeks deaths comin 4 ya 18 m pa here 19 m pa hey where in md JOIN any hot sexy guys wanna chat pm me brbbb PART heard of nirvana hello teens i m 26 years old yo get out U169 im 9 im on a fast track to self destruction and homicide if theres time JOIN Yo JOIN U169 your way to old where is everybody JOIN can i talk with you U154 had some crack any cali guys in here yes prolly not PART lol hey teens maybe any pa females in here PART did he get booted or did he leave yes are u pedofile seen U169 U169 U169 U169 was last seen being kicked by U111 only 21 seconds ago JOIN JOIN 18 m il here girls PM me slkfjsldkfjs no hmmm for a 14 19 chat U169 doesnt seem to fit in does he Hey U114 kookies haha nope hi U128 333 JOIN PART 333 whats up was he 56 i want to swim in poooland Long time no chat 26 lol PART yes true dat PART Ha aaaaaaaaaaaaaaaaa I know any females in here from pa poooland Im so bored hmm raaaaaaaaaaaaaaaaaaaaaaaaaaaaa JOIN PART weeeeeeeeeeeeeeee yawn oooooooooooglyyyyyyyy boooooooooooglyyyyyy 0 Anyone want to chat 20 m md wanna sleep PART you coudl write me a poem U128 LoL im like five seconds from ripping into a bottle of jack PART Yes he is how are we all tick tock PART tick tock He s moved on to U80 now though JOIN U101 yes im here JOIN JOIN HELLO ROOM ANYONE WANNA CHAT WITH 23 FEMALE FROM VIRGINIA ohhhh damn i have been cast aside 4 Rule 4 Please do not type in all CAPS it is considered yelling Three warnings Max JOIN Officer U114 on the ball as usual You have anyone want to chat with me 20 Question Favorite junk food besides candy JOIN U31 why arent you employed CHIPS ACTION tips her hat to U60 PART scorpio Scorpio Have you been spending too much time on something that is essentially a lost cause Think about this matter very seriously Is it making your life easier or harder Could you put your energy to better use any girls wana chat with 27 m canada pm me Quarter Pounder PART JOIN lmao I m with you on that U68 virgo I d like to chat cutie beer Hiya everyone Aww you can pm that s hilarious U101 im sorry i said wanna ago i warned him LOL Oh JOIN I missed that anybody from wisconsin lol its ok rooster Rooster If you re single you re going to meet the person of your dreams If your neighbor or a relation looks for a quarrel turn your back This astral climate will enable you to settle important problems concerning the family s belongings or a sensitive matter of inheritance however remain vigilant and even distrustful You ll enter this day in very good physical and moral shape try not to rush too much Tense climate in your home watch out so as not to spark a crisis huh LoL JOIN Nooo I have some really good friends there U23 LOL JOIN there if he isnt bothering you you can play JOIN I am perving ACTION spins Lil Jon f Pastor Troy Let s Go no comprende one in appleton any ladies wana chat with a canadaian hi room PART What the bloody hell happened there PART somebody type perving ACTION plays with U68 like a puppet JOIN lol Hi guys PART JRZ sorry about that U101 like what yeah I get perved often for some reason any females want to chat with norny guy pm me JOIN PART ACTION dances like a fuckin fool I got cut off U105 you ve grown a tail i never get perved JOIN U80 i like you hey i perved ya U59 JOIN Seee U101 lol thanks i think bob and weave bob and weave ok ok im back its always ewwwww what is the conversion about any guide for me I did to U59 What the hell Where did the 2 come from who did LoL lmao smooch room damn it ACTION walks up to room damn it runs their fingers thru the back of room damn it s hair closes their eyes and gently kisses room damn it on the neck Compliments of U34 PART hi 31 f ga im me to chat waddup 20 Question Who do you respect the most me JOIN My mum wz 29803 Aiken South Carolina 6 6 38 PM EST hi Temp 70 wz 92780 PART Anyone who want to chat PART ah good night to have the top down JOIN hey no U126 im just here to look thanks anyways JOIN U80 you like me maybe i should put a new pic up ACTION snuggles U80 ah ok U34 nah your pic is just fine JOIN PART JOIN well i look different now ok Now Im pissed no problemo i dyed my hair and chopped it off See i told you what to do and you just left is n t my fault PART U105 why u pissed JOIN I see i dont know you U31 Did some fucker cut me off No PART JOIN cut you off PART it happens sometimes JOIN 20 Question Hug or a kiss so I guess I should n t use your pic as wallpaper for my laptop lol lol any girls wanna chat PM me Oh just fucking ignore me then i ll get you a more current one o brb hb A fuck would suffice haha PART hi U45 PART propper english its a family tradition lol JOIN JOIN spin U114 spins the bottle PART seen U988 Where it will point nobody knows Round and round it goes slowly comes to a stop pointing at U43 hello darlings Now U114 you must dance with U43 fuck the system hel over the comon man just to dis em believe in t he power of the single man to take the power trippin world in his hand U53 where are you Yeah U34 haha its proper U988 U988 U988 Last seen 6 hours 32 minutes ago Wb U89 kiss U114 my baby ACTION watches as U89 kisses U114 my baby so passionately that the channel shoots a scintillating beam of magical energy no i meant yr propper eng for saying that who wants to play JOIN ACTION dances with U43 rather dance with me U114 if i get stoned im just carrying on a family tradition Yes LOL amen U72 dance U89 hey U114 puff puff pass to U72 ACTION turns up the music as U114 dances with U89 you daft twit scum bag git seen meyooky I ve never seen meyooky 20 Question Would you ever walk downtown without any shoes on your feet hi U134 PART U34 long time no see lover have you seen U53 JOIN hey people any females want to chat to a guy from down under yes darling long time she s not answering her pms kiss U89 ACTION awww come on U89 give U34 a kiss Type kiss U34 o0 what we dancing to U114 me and my widow ready to hit the town pm me frenchkiss U34 ACTION WHOA We got some action baby U89 and U34 are french kissing I think she is afk PART JOIN PART hi to all canadian girls JOIN hope she did n t go to sleep U41 are you down under a table hey room you filthy boy i really gotta talk to her I think she said something about chinese food were are all the ladies at puff puff here you go someone take it toke who wants to learn spanish ribs ahh and she did n t invite me just ask ooh chinese food lol why are you getting xcitable PART PART JOIN grassy ass garciae JOIN PART 20 JOIN Question Eggs Sunny side up or scrambled ACTION spins Lil Wyte I know you Strapped Heyy everyone aloha room Hey U144 scrambled Hi U114 bbl im gonna play a game with my moms Over medium trippy song when ya blazed both ways wid salsa West Little Rock Arkansas here Why are there only two choices Okkkkkk hb U80 well i would be U41 but my table too dam low Heyy U103 28 m hawaii here if n e 1 is interested I m in Arkansas too PART JOIN PART JOIN ok i am gonna go goof off at work some more yay got in PART howz every1 today see ya all later PART c ya U101 27 m canada with cam girls pm me 22 f arizona here my friend studied in little rock for a year hey everyone Hey U144 JOIN hi U146 whats up every1 aloha U146 20 Question Have you ever felt even more stressed after a massage Yes or No it smells down there anyways hey U103 PART hey U142 all my ex s live in texas hey U143 PART Yes in Holland Hi U146 yes my mom massaged my feet they hurt more than they were to being with lol U41 then shut yr mouth smell go away PART what are u up to today U146 how are u doing a good massage relaxes thats why i hang my hat in tennessee U105 do you just come here to play with the bot all my ex s are burried in the back yard She s good with her hands JOIN Well the questions are quite entertaining JOIN PART JOIN 20 ouch close your legs and we ll both be able to breath JOIN I am sure i could think of more entertaining ones PART PART hheeyyy gguyyyzzzz PART U145 I d appreciate it if you d stay out of my PM alohas ignore ooh U114 you vamp you PART LMAO JOIN U41 shut up and make your self use full down there ACTION bares her teeth or get out And unless someone wants to talk music UFC soccer as you Americans call it or politics or history then I dont have anyone to talk to PART PART What part of Ark are you from U144 good evening to everyone up in here JOIN someone play with me not American any naughty guys out there pm Jonesboro U103 hheeyy guyzz i just joined Really JOIN JOIN Nope not japanese or turkish I live in Kent LoL U89 22 f mi i ll need the right drugs to clear up your infection what kind of music i live in the attic JOIN JOIN Whereabouts in kent ACTION passes U41 some yoghurt get in with it i live in hawaii for a few more months seen U989 they never let me out And I can talk about most of the things you stated just not politics U989 U989 U989 Last seen 2 days 18 hours 51 minutes ago on Maidstone my sis lives in maidstone PART walderslade Cool U34 Yea I know it 21 f oklahoma Cool from there originally aloha U156 PART Maidstone You dont happen to have family in Catterick do you I have a good friend that lives there im gonna be ther monday wanna chase some traffic with me U114 HHEEYYYYYYYYYYYYYYYYYYYYYYYYYYYYYYYYYYYYYYYYYYYYYYY aloha hey U156 No I am actually from Norfolk LoL U34 fongul yello high ho high ho it s of to work we go how are u doin PART PART aloha U147 Oh so what about UFC U114 JOIN U41 JOIN alohaaa Hey room 26 m cal JOIN how are u doin JOIN waz up U41 heyy U14 yes U34 Um hey U156 TEXT SIZE JOIN dratts U34 you can go to kent but not wiltou fascist im doing good hey room heyy U114 hello how are you lol PART hey U156 United football club LOL hyy U89 JOIN hey even PART JOIN grettings U156 Heyyyyyyy U156 BYE kent is like 20 mins from me how r u doing Hi U163 ALL i ve got the scuba gear on and going for gold hey everyone Ah ha you said you would converse about the topics I stated lol i am so bored out of my mind i am heyy U144 lmao 22 F 818 CALI hi U114 Only kidding U34 we should hook up hey U34 too good for wiltshire elo elo lmao I thought it was that PART Tell me what it is JOIN 28 m hawaii here And no its Ultimate Fighting ok any girls out there wana chat pm me Oh I ve heard of it U64 are in the room need some sweet loveing OMG that was quite the run any chics here like italians But it s not something I d have a whole convo about wb U53 U114 you work in the bear place in maidstone opposite the coffe placce ty heyy U87 scramble UnScramble biebsa LOL shhhh wb wife love of my life the runs Oh by the way to my American friends Matt Hughes Or Rush St Pierre AWAY SEE LATER babies That s the way U163 munches on rum soaked pineapples You trying to get me stalked U156 you sexy thing alterz U1 Something is making a strange noise i wish i had a stalker llloooozzzzeeerrrrzzzzzzzzzzzzzzzzzzzzzzzzzzzzzzzzzzzzzzzzzzzzzzzzz PART hey folks JOIN i may pop in or just moonie you as i go past one day heyy U34 lol U156 so sweet do u need some sweet love n e 1 wants some rum soaked pineapple hI FOLKS always needs sweet love away I m not at the computer right now if you d like to reach me you can e mail me at U103 AOL COM because I m back and fourth from the computer so much ACTION munches on U114 Ooo NTMN aww i give to ya U156 ill love you 22 f az o0o PART JOIN Kiss me you fool scramble UnScramble armtnpeat howz arizona lick me you fool lol Permenant kisses U34 petanmart HE GN GNG permanent PART apartment You got it U158 scramble UnScramble onuimso JOIN unisom PART JOIN well done U156 wow your so grea t omnious heyyy U168 smooch U156 ACTION walks up to U156 runs their fingers thru the back of U156 s hair closes their eyes and gently kisses U156 on the neck Compliments of U34 U156 how are you hon U156 so how u been sweet thing ominous You got it U163 U168 get of he s mine fine U168 and you hello PART JOIN wha time is it in the mainland wb U168 my dear nobody like me lol aww U156 i m sure someone does ive been fine and you U156 u can throw yourself at me U156 31 f ga im me i am okay i likes you U156 aww ty how r u today y w light up cos i want to appear like so cool ACTION graciously lights U89 s cigarette PART i am now happpy i been good hi JOIN excellent Look guys if u are going to pm me be nice not a jerk or pervert ok period where are you from ms U156 i am like so good PART yepper s oklahoma U156 can i ask you a few questions JOIN home of the sooners ok I really do want to know how a U129 is a female and how does the nick abide by talkcity s rules hug U168 ACTION watches U89 hug the stuffin outta U168 callifornia here but im in hawaii kiss U168 ACTION watches U89 kiss U168 s big toe right yes U34 If I dont know the answers I will make one up HELLO PEOPLE seduce U168 PART cool i am going to hawaii tommorrow PART JOIN awesome U40 JOIN hi U170 whats up guys PART PART PART question number 1 do you like to play with Dolls awesomes which island HELLO ROOM not much u U170 JOIN the moon is up JOIN only blowup dolls JOIN nice pick up U156 i ve been wondering that when he she first came in lol U156 what r u guys doing hi guts chatting guys not bay ones U156 lol hey U175 chatting smoking Oy I m so hungry baby no U34 flirting PART downloading ok Let s try this again one more guy pms me and is a jerk or pervert u are getting ignored period ok do n t like it then do n t pm me hi U156 feeds U144 smooch U89 ACTION walks up to U89 runs their fingers thru the back of U89 s hair closes their eyes and gently kisses U89 on the neck Compliments of U168 drinking beer b4 heading out JOIN o0 Thanks U156 baby U156 question number 2 am i annoying you yet PART JOIN PART i love being kissed on my neck no you re not U34 JOIN do your boobs hang low do they anytime U144 PART __I__ just for you U89 o0 ACTION watches CSI JOIN U175 is pretty U168 flashed me which island are u headed to U40 ok question number 3 How big is yr dik lol not really ar you married o Y o no divorced and it is small lol again for you U89 double o0 0 o 0 o woohoo U168 nice ACTION takes a bow aloha to all U156 question number 4 do you give up seen cool1024 I ve never seen cool1024 any girls wanna chat PM me anybody here know how to play heartbreaker on the electric guitar breaks out a case up rum soaked pineapples this morning when i was going to work i heard that my boss died so went in to work and told my coworkers that he died in a car wrek and nobody belive me ACTION applaudes whilst shouting encore encore yes I give p I told you I suck at guessing hi all i told you sucking is a good thing PART haha lol lol mornign people U34 you dirrrrty girl JOIN morning U87 innit NICK U87 mornin U87 but its night lol aloha U87 PART morning U87 pfft i just got up its morning yes it night aloha morning ciao hello eskimo woman whatever else it is to you people lol im not eskimo Lol U87 lol ANY ONE WANNA CHAT WITH A 23 FEMALE FROM VIRGINIA IM SINGLEEEEEEEE cold tho i know but i just get a cheap thrill from teasing still morning here so morning U87 duh JOIN wz 99703 Fort Wainwright Alaska 3 2 55 PM AKST Temp 6 F 21 C Humidity 85 morning gotta get my kicks where i can aloha U12 wow it got warm soory hi U12 PART i know U89 it got warm ACTION kicks U89 there you go sweet heart ok wz 92129 San Diego California 4 4 03 PM PST Temp 73 17 is warm lol h U17 U4 ya need some root b gone or something U11 hi U3 had mine declawed and fixed at the same time poor cat did n t move for a month root b gone awwwwww would never declaw a cat poor thing what am I missing U18 PART hiy U17 ACTION is fixed but still have my claws U18 or U18 t c all laters hi U19 if the cat was strickly indoor i think I would hey she never goes outside lol U8 JOIN you wear them long U8 PART mine has his claws we have foxes here once in a while hi all hi U32 sowwy U4 i dont remember now she s scared to death to go out hi U11 U32 hiya keep them sharp on the furniture U19 U18 hi i would b too U22 sleeps under my covers but not when I m there lol but seeing as i have all my claws i go where i wanna PART U18 well thanks a lot Now you ve given me a complex hah U18 hmmm U22 hmmmmmmmmmm lol U18 hahahaa U18 well i tried to scroll U4 sorry PART U0 makes note U18 has all her claws oh U18 that could either be scary or a heck of a lot of fun winks U30 noted U30 heheh ya think U22 PART heck yes giggles lol PART scrollin scrollin scrollin keep them words a rollin CHATHIDE ahhh pain pills r working as if you did n t know laffs lmao U18 hahaha U4 JOIN JOIN wb U7 wb U7 wb U7 wb U7 U33 hiya U33 wb U7 hi U33 ACTION lets cat chat hi U19 good for a laugh eh U18 hi ya U33 hey U18 brb need a pop PART cuteness back thanks U19 U18 U30 U11 Hi U33 hiya U22 yoder hey U11 lol hiya U7 wb U7 darlin hi U8 thanks U8 I should change my name hiya U33 has to color her hair tomorrow meant to do it today it was cute BUT now I got that tune rolling rolling rolling stuck in my head sigh brb what color U18 PART hb U4 JOIN light golden brown U22 Hi U34 U34 would like to git a purple color weave hi U34 mmmmmmmmmm hiya U34 hiya U34 ACTION pictures the blues brothers behind that chicken wire screen U34 Hi U7 how are you hi U33 back Hi U19 U34 ok here how have you been Hi U11 burp hiya U34 oops Hi U33 hey U15 scusezzy U30 would give 5 dollars for just 5 min inside U8 s mind U18 is that the natural color wb U30 yes U22 lmao U18 lol doing ok U7 ty good to see you snow outside and cold soda inside what s wrong with this picture winks U8 you too U34 minus the gray ducking Hi U34 Hi U31 omg U18 laughing my ass off here Hi U33 tlak bout an Eticket ride U8 ACTION hands U30 some hot chocolate Hi U31 giggles hehehehe Hi U18 hey U30 Hi U8 some people dont realize what they say and how it affects others t y U7 JOIN U35 Hi U35 uh oh ahem U34 Hi U30 hiya U35 ltnc hi ya U35 hi U35 im just glad mothers day is over with today hi U19 hi U7 U19 h U18 ACTION doesnt take comments in chat too seriously today U31 U30 hi U11 lol U35 im U18 was MsUtah hi U33 PART JOIN U30 U30 U30 of the jungle yes U30 yep today is my payday and thats mothers day this mother gets this that mother gets that and all the other mothers get the rest I thought all those k s would result in a PART JOIN s ok U22 winks haha U31 omg U31 you have a list of mothas Whisper ACTION Whispering Reminder First ask in the room before whispering a chatter unless the person has already ok d the PM Thanks just sayn hello U34 whewwwwww thought I was going to the corner PART sure do lol laffs at U31 yep chattin outta be fun some folks take it too seriously U7 oh sorry U30 Hi how are u Hi U33 would you take a dirty sock seriously here U7 U33 yep hey U34 nevah evah would i take this serious I am cold but good thanks how are you i about wrecked the bike this afternoon was coming down the hill went to stop and hit an oil slick PART ACTION looks at U3 omg U31 i bet its cold where U34 is yeah i was doing the aligator walk believe that is it crusty too ACTION tosses U7 one his sox lol only place i wanna c crust is on a pie omg whats crusty U7 lol minus a lot here and snowy pie U18 lol U19 the sock lol ohwa lol pumpkin U19 ewwww caca you know men and their crusty socks JOIN dont know any U7 tyvm hi U37 hi ya U37 oh and underwear U37 mine s not crusty but they do stans on their own U7 only when we wear them for a week at a time hi U11 stand lol U18 hi U18 lol hey U33 crusty da clown ACTION wears white socks and I change them every day whether or not they need changing luvs pumpkin pie with whuuped cream mmmmmm U18 man i havent had pumpkin pie in a long time i want some U18 have you had pumpkin ice cream mmmmmmmmmm U18 with whipped creme leg pain ACTION like wuuppin cream I used to make pumpkin bagels PART no U22 figure i dont need to learn any new items to love omg U30 yummy lol they were yummy yep whupped U8 PART I have a basket of socks you know the missing sock lol the dreaded missing sock basket i might have yours U7 i always have extras have n t been buying pumpkins recently too much prep after halloween is done when youve given up hope and toss the one sock the other always appears when i find an estra sock the cat or dog gets it as a toy U7 send them here I ll wear them JOIN lol U31 hell i just found out about that Downy ball maybe I could make some from canned pumpkin what an invention um lol U31 my husband asked how does that happen 2 go in the wash one comes out of the dryer JOIN laffs U31 now i m hungry I will e mail you a pumpkin bagel U19 dont know how it works but it does lol hate to tell y all how long its been since i used fabric softener PART ACTION wonders if they sell the mising socks pet stores laundry trolls steal them U7 anyone from cnnecticut U8 lol yep Hi U15 Hi U39 almost U39 u there hi U34 I am sure someone is from CT fabric softner can cause rashes and allergies you know when you do you own laundry when you go out and your back itches and you pull out a fabric sheet Ct huh wheres that Connecticutt JOIN lol lives closes to CT lol hi U40 new england usa U7 it adds wax to ur clothes u think cottons breathe not with wax in them also they collect dirt then sneezed my head off at that new lavendar snuggles hi on the border of CT in RI hi U40 i buy the natural did ya U7 U18 and they are bad for your dryer vent ACTION wears 100 cotton nm true U7 hi U21 tighty whiteys hi U34 just never use fabric softener have to my exwife used to have me buy that femine stuff when i went to the store never knew what flavor to get specially ur towels lol U31 whistles U34 U39 I live in Ct and no I dont want to have an affair u drank it U31 spring mountain or something laffs U30 lol U31 flavors haha U7 lol felt like jerimiah johnson lol U7 me checks out U7 s pic JOIN PART U41 Hi U41 ur gettin pretty savvy there U39 ahhh bummer U41 JOIN hi U41 HI U19 and U34 dyslexic U39 U42 wb U42 U39 wait how much you make a year JOIN like you d have a chance U39 lol Hi U42 Hi U42 hi U43 LMAO U7 PART get the nitty gritty U7 hi U43 its not what you make it is how you make it you have to make more than I can spend well folks i think i hear the bikes coming time to ride take care have a great night talk soon stay safe kiss your kids and pet your dogs later gator Bye U31 tc U31 buh bye PART have to politely disagree with u U39 and say bull is there a time limit on the making and the spending U7 U41 you just brightened up my life with your pic and how do you make it U39 lol blech U39 dear lord my son is almost 19 and having hissy fits over xbox live U30 hmm JOIN laffs U7 hi oh well Hi U44 U43 evening U44 hi U44 men do n t have hissy fits nice try pal caiuse I could work for 10 yrs and you spend it in a week see what I mean PART U39 where in Ct are you from brb U30 a week heck a day and ur problem there U30 Hi U34 hartford so what town are we not having an affari in U39 im right near Foxwoods lol U18 U7 is out on the other coast U39 Hi U15 if he cant get a pro U7 why bother and a real woman never asks been there plenaty of times same there for me U39 U39 me too too many U7 how close are you to Indiantown Road U21 very close I ll pick you up tomorrow night leave the cat home who U39 U39 are you a high roller My sister and b in l live there man refrains from comenting why not PART that means no lol JOIN U21 I saw a Fisher cat over that way U45 JOIN hiya U45 hate those things n Hi U45 hi U46 boing hi U45 Hello U19 U18 U34 JOIN Ive seen two fishercats near here tooooooooooo lol to U19 PART U47 hi U46 Hey there U15 lol hi U47 hey wb U47 what is a fishercat U21 I have seen 3 of them hi U19 I get different nic names but U45 is a first lol how long does it take for a bottle of rum to refill itself back hi U34 wb U30 Hello U30 dang work getting the way of chat thx U15 U22 they are like a tazzmaniane devil long as it takes to go to the store U18 thanks U18 hi U45 hah U18 fire everyone U30 fishercat is really a weasel like animal chit byeeeeeeeeeeeee lol U22 JOIN PART is it a land animal PART PART ACTION doin da misty mountain hop arround the room well it is because I have n t fired them that I have time to chat grin dont suppose anyone here delivers weasel possum we shoot those here lol U15 JOIN wb U2 haha U18 U22 they were bred special to kill the water rats on Fishers island I would U18 but it would be Sat evening before I could get there shrugs Hi U48 sweetie JOIN U22 they vanished for a long time and now they are back drop something on your foot U15 Hi U49 evening guys sighs story of my life U22 JOIN Hi U49 hi U49 U34 Hi honey how are you what can I say lol U18 evening U7 U34 Hi U50 hi U50 hey U15 brb samn sunset in my eyes bright blessings all evening U18 I learn so much in this room it s like national Geographic and Dr Phil all rolled into one I m ok U48 thank you and you ok nuff religion lol Hi U50 petunias and rose pedals evening U50 lol U30 PART I m ok thanks sweetie U30 and Dr Ruth brb LOL U30 good to hear U48 ACTION is out like a republican congressman see ya later Hi U48 dr phil on meds maybe PART JOIN Hi there U7 ltr U8 Hi U51 ok im back U51 JOIN U52 U52 U52 MODE 40sPlus o U52 U52 wb U18 wb U18 U52 U52 U52 U52 MODE 40sPlus o U52 Hi U52 hey U19 Hi ho U52 PART hi U7 see ya U8 hi U7 bye U8 Hi U51 hey U51 evening U27 hey U48 hows the camel hi U51 U52 hi U52 U52 evening U52 wb U47 PART ty U34 U48 evening senor U52 hey U15 hi U52 lil U19 hi everone hey U47 hiya U34 hi U52 PART hi U22 hi U47 U18 hiya he must be stick and tired hi U49 how are you hiya U49 Not so many O s U34 looks like an open mouth and that scares me with U52 around doin good U47 how are you dear sounds kinky U49 rofl U48 PART U18 lol U48 giggles Oh sorry U52 did n t see ya doing great here U49 lol lol oh man its chilly today super hows things holdin up U52 was bout 80 here U52 lol U19 nothing holds up here I can see that U52 and I wo n t tell ya how I can tell chilly its one of our loveliest days in ages here in MD PART only 60 here U18 i had to put a shirt on lmao U48 well i did n t cut that string for ya for nothin PART giggling correction its 59 now well U52 the case of u having to do something is still in the courst should is the ooperative word dang we appreciate 60 degrees here in MD U52 what part of MD U49 sposs tah tug on it lol rofl U49 Eastern Shore U47 at least you did n t say 69 like u U48 I grew up in OC U49 hahaha U18 PART U49 i lived near aberdeen and edgewood for a year caught me giggles lol U48 holy cow nice place to be from U47 O wishes he had something to tug on went to Edgewood Hi School endless summer nights lol U52 JOIN all of hub s family love it there I like it a little further from the beach myself PART ACTION watches Laguna Beach Aberdeen MD and Edgewood MD it really was awesome when I was growing up Too crowded now likes living at least 300 ft above sea level yes U49 wow did n t realize that U47 the houses there are unreal footprints in the sand well i was in the army stationed there LOL JOIN has no clue what the elevation is here we like MD its progressive without being too maniacal They let YOU in the army U52 lol waves slowly rolling up the beach you mean the price of homes U7 ahh that splains it U52 do n t ask do n t tell lol U53 not only did they let me they commanded me i had no choice Hi U53 lol lmao U49 U48 hi U34 U47 that too but on laguna Beach they show the homes these kids live in lol U48 seagulls off in the distance JOIN hello U55 Hi U55 hi U55 blank spaces U3 lived down near the beach when i was in college but prolly lived at least 3 miles from the beach hi U55 yes the space between my ears i feel faint 3 miles U3 sometimes thats the best way U18 at least you can get away from the noise well my daughter is about 700 yards from the beach in san diego now can hear the dam waves at night better rest up U19 nice U52 U49 it was more the traffic that s such a soothing thought U52 JOIN yeah thats the noise I refer to U18 luvs San Diego sighs yes but ya gotta watch out for sea monsters PART all the polllution floating up on shore hi U35 bumper to bumber down there U35 i mena U49 lol sea monsters lol dated a couple U48 ROFL U18 U27 that why we got a pool dressed up like lapd and chp U18 were you into surf music so sad cant even swim in the waters here sand in your bikini true gritt nah not really hahah U3 JOIN JOIN its hard to balance on a board when you are 5 3 and 295 lbs we had a little trailer just on the other side of the coastal highway in Ocean City MD for a few years and every night you had to wear earplugs to fall asleep buses ran right outside our place listening to the sound of brakes going Cheeeez and Vroooom was not much fun PART lol U52 what a visual JOIN only wants to imagine that U52 oh n giggling m lol U18 Hello room wow U49 Hi U56 Hi U28 hi U56 U56 lol U56 suffers from hazy shades of winter lol wow U49 that would have been terrible We were on the bay What street were you on U49 hear the salvation army band thot it was just a haze left over from the 60s U3 are you following me sw is very warm U3 lol yeah I like more peace and quiet than excitement so sex is out sing it U52 I got here first i dont think so good night all they sang some of them beach songs U52 didnt they down by the riverside there s got to be a better ride than what you got planned PART nite U19 shes sick maybe look on the opener i am here first not S G U18 LOL oh on second thought DO N T sing it U52 lmao U48 turns up blue cheer laundry U27 um U18 blue cheer was acid metal HI U7 How are you hmmm U28 ok here You oh never knew that ACTION uses blue cheer in laundry maybe not U56 they were from sf snorts blue cheer ACTION looks at U55 huh lol wisconsin ACTION yawns Hello U45 welcome to talkcity_adults 4 Please ask in the main room before Private Messaging others You can find our rules at http forums talkcity com tc adults start Thanks for joining us I am going to eat no lol PART lol i just thought it was original thanks for the no hello Welcome to talkcity_adults To get your own game control bot for your chat room please contact Dawnstar Visit http www shadowbots com PART JOIN knock in in if so say hi tracey u ok PART lol PART Hey You PART PART 46 f maine the idiots are always on top because their insanity seems to be mostly wide spread U8 you lost me lol U22 i went to akron about 2 years ago and there was horrible construction on 77 JOIN where from U12 double header U29 hahahaha i no so have i my keys r sticking lol lol U24 there s always yucky construction around here somewhere in the u s a lmao lol U8 i wont ask JOIN between the snow plows and the rock salt the roads get trashed in the winter like some contagious diseast ok I m thinking wisconsin no PART JOIN ACTION has a single header built in U12 what you wanna chat about PART what is a diseast PART nothing much in particular JOIN any 1 want cupper hey U53 hey U24 2 cuppers hi room hi 46 f maine dd cuppers i m having a cupper of coffee right now lol lol that s why society still is a stinky husteling mess after teo million years of darwin PART base ball is my favorite sport U29 JOIN darwin is dead sleeping is my favorite sport JOIN hello whats the point in pm then U12 ok lovers I m out sup U54 hi how is everyone tonight see ya ll when the weekend is over PART byes JOIN byeee U32 tc sorry i got distracted PART what were you asking PART so are you U0 withing some decades i forgot lol PART whats up i ca n t wait until 7 am ACTION stares the clock lol lol U22 why whats at 7 am whats the time there PART that s when i get off work but who cares U0 i ve already put in 32 hrs in 3 days this week thats when i have to be in work JOIN going back for 8 more tonight gawd you must love punishment PART PART NICK U29 hi room PART PART NICK U0 I m off tomorrow night then I work 12 on Sat and 12 on Sun hb U29 NICK U0 haha PART i dont like work THAT much you will not be rememberer for your ontrobution to common human sense i do n t either but i do like that 27 hr lol all work and no play JOIN yeah you got a point there lol yow my english typing sux i know darwin did n t contribute anything to common sense his theory is after all still a theory hey U57 JOIN lol U44 hello the sick part is I m an LPN i have to work overtime to make anything near what the RN s make a kitty JOIN JOIN only i dont get 27 per and i see alot of idiots how yer doing love well i work with a bunch of f cktards now on the other hand if i made 27 per that would change my outlook a little U0 did u get that job yet who is making 27 an hour haha PART have n t found out yet U24 they said they have one more person to interview yow U22 sit on my face puhleaze well the only option u have is a newspaper boy lol JOIN JOIN haha I ca n t do newspaper I ca n t throw that far and stairs give me problems JOIN I m physically impaired hey U63 hey U24 wb U63 hi everyone ty lol U0 do u have asthma JOIN just joking U22 just finish yout whereabouts no I have a muscle disease so whats up with all this lame ass chat PART PART oh well we just come here and hang out with our lame asses sit on my face U54 dunno whats up with you U54 JOIN PART lol because we ve been sitting on our asses so of course they feel lame and a bit numb hello PART NICK U0 my Mom is making homeade chinese peppersteak life is good U63 is new brunswick all french mmmm no we dont want to sit on your face thats what we got each other for someone rub em and make the blood flow haha that sounds awsome yow am going to hit thah road mahn goodnite have you ever made it homeade NICK U0 not me no PART JOIN PART omg it s great we make it e v e r y where sounds fantastic im sure you do what s something good to eat haha I have coupons for Burger King especially on a cold day that s all you can smell lol U0 h JOIN JOIN the garlic and soy sauce cooking in the steak mmmm JOIN mmm dam mmm hi no but I lived in the foothills of NC where there are a lot of chicken farms interesting smell anyone here seen the movie called shopgirl 46 f maine JOIN with claire danes no afk a sec PART i see her everyday shopgirl it s a movie im me guys she work at shop nbc PART hi all oh right my bad lol U0 that just reminded me of my trip to deleware when i was a kid it s got steve martin in it to JOIN it was in the summer and at some point we reached a road where there were miles and miles of chicken farms JOIN JOIN PART pppppppppppew WHY WOULD ANY ONE WANNA TALK TO A LONLEY ASS GIRL WHEN THERES TWO HOTT BLONDES RIGHT HERE JOIN I am watching it right now PART morning all it s good soup U54 g evening PART JOIN the time where I live is 6 51 pm PART where u all from in here it seems the msn assholes are here i see i ll take the lonely girl shes more real me too JOIN can one of you not work out how to switch off caps U54 where i live its 9 53 am hey U72 hey i m a former msn asshole tyvm lmao PART who s calling who imaginary U72 x hi U24 sorry U22 not u U11 lol PART mwahs U72 we are getting the cyber msners anyone wanna chat with me PART right back at ya PART PART what you up 2 U72 the short bus here already yeah PART it is lol what an f ing party yeah waiting to go out to dinner U54 got the only tickets yeah U72 it is nice 1 U72 JOIN hey U73 heya U24 ltns PART yeah life you know yeah JOIN i got my nails done today sooo pretty I hope you all are riding the short bus cuz we sure the hell aint JOIN I think I need to marry a man who makes enough so I do n t have to work so hard I ve just decided that PART you re drivin the bus Wow Mine are prittier psh PART no im not drivin a bus I have my own car but thanks for the invite you can have that job i dont need it lol wth a vega lol lol afk hell no lambergini JOIN JOIN right lol tc U72 hey JOIN ACTION has been gone too long does n t recognize many ppl and pigs fly lmao from hot wheels My car is nicer than yours is you were leading the way here bitdh JOIN bitch JOIN crazy bishes and its spelled lamborgini in case you didnt read it on the title JOIN lmao lol so U54 what do you do for a living hi all hi U76 hi everyone PART i dont have to know how to read to drive a nice car anyone see Borat JOIN bbs right lol PART lol long as you can read STOP hi room prolly a stick then JOIN JOIN i wouldnt trust you behind the wheel of a peddle car PART later U73 off to burger king to find me some cheap fast easy food whats up everyone hb U0 And actually it s spelled lamborghini hi poof PART PART PART JOIN thanks U73 sure hey U49 any sexy females want to chat I m good like that JOIN PART i can see that lol JOIN Yeah I ve got a whole perfectionist thing going on grrr i ca n t take it anymore works for me back NICK U22 ACTION hands more to U22 do ya think this nic will work LOL um No just sayin whats up U72 you know from experience LOL i want sum U22 wb U72 lol i mean the pepper steak lol PART it ll prolly drawn them all right to you JOIN you mean like a magnet JOIN PART lol hi U81 PART ty U11 hey U72 hi hmm more like moths to the flame hey U76 anytime lol PART what u up to JOIN PART just chatting PART PART PART JOIN JOIN lol I love it when people in a chatroom ask what you re up to JOIN hehe as if they didnt know lol NICK U22 well you could be multitasking what am i up to about 5 5 true JOIN Hey U86 down here thanks JOIN PART Well there is only so much multitasking one can do while typing PART JOIN lol PART afk unless they are really talented PART like U54 lol talented U54 JOIN JOIN what a combo hehehe JOIN ACTION is listening to Ciara ft Chamillionaire Get Up you could be leaving the computer periodically and only being confused by the conversation when you actually sit down NICK U27 but that would be boring No Nova yet hmmmmmmm ACTION is confused by the conversation even when sitting down damn pmers ah ha JOIN PART hiya U27 nope U27 um yes me too hey U72 it happens JOIN PART lol ACTION sighs mofo JOIN he ll be here soon only i hate to admit it so i wont i know PART lol JOIN im in denial U97 heya ltns hi totally i know his whole schedule yeah well we all are U44 lol did you get trapped in a mouse thingy lol PART JOIN PART uh yeah im controllin like that PART a streetcar named denial P back thats nice to know PART wb wb U22 ty short leash huh oh glorious i dont feel so bad now lol ty ty no im kidding why did you feel bad U44 hahahah JOIN he may like that too much gas problems but i took care of it PART hahaha p PART JOIN Ohhh nice to know U44 oh my lol ACTION moves acros the room i hate being honest JOIN PART Yeah there s a real flaw honesty PART lol shakes head 37 m wv brb PART PART why you moving U73 its smells like roses ACTION thinks gas is a worse flaw JOIN omg Do these pants make my ass look fat No your fat ass makes your ass look fat omg omg omg Holy crap Dustin I m stealing that line Roses Uh nooooo not so much dead roses lol That s a good one JOIN wb U22 you gonna be ok U27 wb U22 JOIN PART JOIN lol yes Yeah well I m good like that too lol thanks U27 and U44 lol PART yw PART U101 PART NICK U29 U29 JOIN sorry what was that about fat asses 3 6 U27 3 JOIN everything is moving to fast hiya U29 U27 3 6 U72 3 U100 what part of wv are you in PART JOIN PART no whisperer i m not married PART JOIN LOL U22 6 3 U29 6 hello roomies better go back to the other nick PART so any females want to chat it didnt help then did it i am thinking so U73 lol U27 guess not lol I love you JOIN PART And i missed you JOIN ACTION sips her coffee beckley I love you too PART they think of it more like an invite JOIN Always remember that no matter where you go there you are I missed you yesterday PART ah ok my dad lives in clay wv I ca n t stay on to late tonight I have homework Females U81 None of those in here Male only room and just your luck it s Fetish night shane JOIN PART told me i couldnt call you i was sad JOIN and here i am Ahhh how I ve missed U16 so full of helpful advice lol U73 How much do you think it is I ll come back to that later LOL Why could n t you call me Sure U16 my internet was down till this morning PART PART PART PART ACTION waits shane told me not too so i didnt JOIN Well I m outta here for now TC everyone i dont have school tomorrow hahahaha anyone in texas night U73 lmao he told you not to call me yesterday its a holiday PART yup yup lol LOL I have clinicals PART JOIN JOIN Well do n t listen to him call me when you want too PART bbl gonna go enjoy a nice fire JOIN i think he was joking My aunt is n t doing well but i didnt chance it lol oh no that sucks hon PART LOL you call me whenever you want too sorry to hear that U29 Yes she not waking up from surgery oh no PART ACTION is scared i hope she wakes up hi evertonr and gets better brb I know to much about stuff like that now and it scares me me too PART JOIN hi coolcat prays fo U29 s aunt ok out here please im back Welcome bacl U50 LMAO U27 p lol you tabbed wrong PART ahhahahaha ACTION trying to keep me spirits up JOIN LOL I know U27 JOIN They want let no body but immediate family back there makes me sad all these people here and hardly anyone talking yo PART i dont pm probably because i ve iggy d so many awww hi U72 im litening to music U72 and watching LOL hi U22 PART i m in IM it s so hard to follow JOIN its cool ACTION is listening to Fergie Fergalicious PART hello aaahhhh omg this song is so gay i had that song stuck in my head today lol and i hhaaaaatttee it lol U27 i just downloaded that to my ringtones last night they are overplaying on the radio lol better than slap that tired of that too JOIN i need to dl some songs for my phone JOIN brb got to go here my songs song smack that by akon yes JOIN lol oops hello everyone idiot lol JOIN PART JOIN whatcha listening to U11 i just listen to it alot lol PART PART PART sup yoll JOIN PART JOIN JOIN hi 11 asl everyone Mooooooooooooooooooooooooooo 17 m irl PART JOIN U114 U114 U114 MODE 14 19teens o U114 PART PART dsklgjsdk ACTION goes boom lovely U60 hgfhgfjgf o D hey any girls won chat I can type cat is on my keyboard too dsklgjsdk d PART fkajslf qwertyuiop 18 M here GIRLS PM ME Hello Richard your cat walks in a perfect line im impressed Sup Joe JOIN hello Yes they do have good Web Images Video News Maps more Books Froogle Groups even more empty empty empty empty o o mature love making is sweet Amy Lee s new shit is crap What the flippin heck lawl PART PART JOIN When did I paste Jesus JOIN PART google s start page lol 18 M here GIRLS PM ME Okay it s really boring in the real world ACTION pokkies U34 o o PART Yeah PART JOIN PART LoL I was checking some results PART I really think I m getting sick and I m scared JOIN Tiff Hey wazz up anybody from tacoma WA Chop off my fingers Hey wazz up anybody from tacoma WA PART Post haste dum de dum JOIN ACTION chops off U34 s fingers ACTION chops U34 s finers AND toes off DAMN JOIN ACTION Fingers What did my toes do any uk girls here TYPR 100 ACTION throws them at U25 Do not poll PART ACTION fries up U34 s fingers and toes then feeds them to U34 im boed JOIN anyhow brb PART yes Dude I wanted some of that m I missing something PART JOIN I m gonna go fix food I ll be back later JOIN ACTION slaps U122 around a bit with a large trout 18 m pm me if u tryin to chat PART PART Does anyone here know U120 PART PART JOIN JOIN i know fraggle rock PART When I show up people leave 18 m pm me if u tryin to chat PART ACTION slaps U122 around a bit with a large trout you both have the same charge does any girls won chat PART JOIN U122 U120 pwns U2 with bare hands i luv life PART you re gay JOIN ah the trout i love life also life is good Very good U120 the real question is are there any real girls in here lol Define real hey U72 u not from england by any chance are ya 18 m pm me if u tryin to chat PART JOIN wheeeeeeeeeeeeeeeeeeeeeeeeeeeeeeeeee PART I hate you U122 girls that dont mind talkiing to us guys and having good fun conversation Define Good and fun Okay Now And I love you when you hate me JOIN JOIN ACTION slaps U122 around a bit with a large trout do we really need to go there lol _ you love me when I tab you 18 m pm me if u tryin to chat like so U122 can you say anything else U121 PART PART guys pm me Hey poeple out there u want 2 talk 2 a hot chick You re still gay who is I want to talk with anybody not a boring zombie PART PART JOIN Food now chat later goodbye P S remember my name PART hey U3 did you see me at your house today 18 m pm me if u tryin to chat Yeh JOIN how come you did n t come into the shower I was in the shower oh well I must be blind cause I did n t see you JOIN JOIN PART ACTION looks for U3 in the shower hi ppl PART I guess we ll have to reschedual JOIN any guys want to chat damn I was looking forward to it to ACTION looks for his feet in the shower hey ACTION kidding PART hi U9 il chat les f uk girls only please pm me PART JOIN you do n t love me no more do you 18 m pm me if u tryin to chat PART JOIN JOIN JOIN JOIN PART JOIN PART PART JOIN JOIN Hey PART 18 m pm me if u tryin to chat oh well I ll talk to you all later bye 16 f tx JOIN any guys wanna talk with a really bored f 19 from tx hey everybody now were all da sexi bois a f atl Chris JOIN hi yea JOIN JOIN k who wants to talk JOIN JOIN JOIN PART hey 19 m fl any fl girls here pm me JOIN JOIN JOIN JOIN JOIN 18 m pm me if u tryin to chat hey wanna chat im me U144 aim com hey im me PART hey ppl no aim lol hey U136 ne one wanna chat pm me PART why U142 OK I DO N T KNOW WHO IS GOING AROUND TELLIN GUYS THAT I HAVE A BIG BOOTY ONE NONE OF YALL AI N T EVEN SEEN MY BOOTY AND NONE OF YOU WILL SEE MY BOOTY SO IF YOU HAVE SOMETHING TO SAY DO N T RUN YOUR MOUTH COME AND SAY IT TO MY FACE CUZ THAT IT JUST SHOWS YOUR NOT MAN OR WOMAN ENOUGH Hey any guy want to talk about what they want to do to me in bes PART bed JOIN U33 has a huge ass Lmao HEY U33 do u hav a big booty lol JOIN It drags the ground as she waddles down the street caps suck Crazy PART Kids PART PART JOIN PART bbbbbyyyyyyyeeeeeeeee PART hey guys PART hello ppl PART PART JOIN It sure is dead in here right now wz 28147 JOIN Salisbury North Carolina 6 6 41 PM EST Temp 59 JOIN this place just bied and burryed it self JOIN who wants to talk to me PART wz 33982 Punta Gorda Florida 6 6 53 PM EST JOIN Temp 65 18 m pm me if u tryin to chat any hot guys wana talk any goths i am a hot girl guys pm me JOIN dont lie U148 wanna talk ill take the first one lol ok i got 1 um ok so sup PART PART JOIN PART JOIN nm u PART nothin at all baord to death JOIN U57 Whats really good room JOIN ur telllin me hey any uk girls her JOIN PART JOIN How come purple cabbage tastes like ear wax Hey yall They do lol do you have msn JOIN U156 there s purple cabbage n e 1 besides me need a drink no Hello U117 Yes there is yap ACTION s U117 oh wow JOIN yo U149 i do ya JOIN JOIN everyone in this room ballin say U153 You must enjoy confusing me cause you do U117 what U35 15 f here anyone wanna chat pm me Lol I do indeed I m leaving at 7 45 so in like 45 minutes NO U153 f u no f u psh no fun my bad PART DJ FreesBee stay U153 I wanna watch football PART JOIN maybe I should become the her PART i will in this thing any1 ever hear of dj sincy JOIN No you ca n t Scott is doing that why not move the tv or computor into the same room U117 Because I ll still only be half way here PART still thats good enough And I need to sit on something soft PART JOIN JOIN then get a cusion JOIN No I m leaving and watching the game who wants to talk to me n e latins n here JOIN whos the game against im latina Rutger vs Louisville any guys wanna have a fun chat pm me now 18 m pm me if u tryin to chat H0rny les with pics any girls want to pm me And why ca n t you read about it in the paper JOIN JOIN Because it s not the same and I like Rutger JOIN ahh hi ppl PART reading watching argh lag Uhhh no You re stubborn PART Reading Finding out about two plays that won the game any hot guys wanna talk to a 18 f tenn im hot so pm me Watching An hour and a half or two of pure bliss watching adreniline boost and shouting at tv like a senseless fool 18 m pm me if u tryin to chat JOIN i know lawl JOIN PART empty JOIN Indeed U156 JOIN wow another one Who is U168 PART JOIN wazz up any one wanna chat too many now Someone who does n t realize it s supposed to be Apocalypse Now Who is Her PART JOIN JOIN anyone girls here over 18 wanna chat Lol U57 PART JOIN PART JOIN any hot girls wanna chat with a hot 19 m usa whisper me ACTION sits on the hammock and rubs her temples U25 hey hey 18 m pm me if u tryin to chat I need Kittie music o_O PART JOIN hi 9 Lime Player 12 Song 224 of 423 ACTION listens to the tv If you broke your ass it was your own fault hey peeps Hahaaaa YES Thats the song I wanted xD PART JOIN if any guys thats only 18 or older im PART who wants to talk to a hot girl any one got myspace JOIN 18 m pm me if u tryin to chat i got mspace myspace is the devil hey how old are u U172 PART No myspace talk well it is evil PART hey JOIN any aussies wanna chat pm me JOIN PART U98 U164 is going around asking for P ussy why not U98 PART I m about to ban all these holocaust names alright so its you me him her now and yum PART what the hell because its THE RULES PART 19 m fl PART whats up with the holocaust names any florida women here yeah but i was currious as to why not JOIN PART 17 f FL pics wanna chat its kinda insuklting JOIN n e hott rocker girls wana chatt with a guitar rocker I wanna know too U150 but its the eroticaust and thats why so many have it JOIN PART JOIN PART JOIN JOIN yea guitar rocker ur kool u lil guitar rocker PART whats eroticaust lmao Something with the word erotic in it o_O well duh PART PART 9 Lime Player 12 Song 99 of 423 hey peoples dont send me a pm unless i say u can plz JOIN JOIN Its the time of sexual things PART JOIN hi JOIN hey U181 can i pm u PART ya JOIN babe asl PART U98 holocaust names look like a attempted flooder dont ya think ne ladies wanna chat to an 18 m england uk pm me hi asl PART im gone PART PART JOIN PART PART PART If anyone removes that wildcard ban i m going to go off on them I ll know who it was too PART JOIN JOIN e wjfghky PART PART PART are there any girls up for it in this room hello everyone PART PART 9 Lime Player 12 Song 280 of 423 PART JOIN JOIN PART JOIN PART PART PART PART 19 m bored gals msg me PART JOIN ACTION is now known as HolocaustYourMom woah xD LoL holy mary mother off god where is all the p ussy tonight lol Daniel 3 p Marlaya 333333333 U104 3 U35 Tisk Tisk JOIN U190 are you out of the drawers eh tisk tisk NICK U3 9 Lime Player 12 Song 246 of 423 About your JOIN Amazingness JOIN oh U104 333333333 3333333 U190 loves U3 3333 o O JOIN D Oh Nevermind lol What happen to Jason U3 Do what now David JOIN any randy girls in her I thought you were married lol what happened to the girl w the same birthday as me any girl wanna chat Cookies n Cream ice cream JOIN brb PART Yarrrr PART JOIN Horace JOIN JOIN JOIN 17 f FL pics wanna chat hey 16 m ny bored Horace is n t in here o o Actually if you d have asked me in uh MSN or something I d tell you But JOIN Booyah Lmao You knew I had Kittie P D Lampert Meh I need someone to talk to 19 female USA PART PART Of Course I knew you had Kittie P U57 I need and want Kittie heya tiff 3333 JOIN U98 U98 U98 MODE 14 19teens o U98 You just want to humple her JOIN Heys U104 33333 JOIN JOIN o o JOIN U197 3 I have cramps omg omg omg Its Its U197 JOIN hi U156 hey U104 PART U197 what up everybody U122 any hot guys wanna chat pm me ACTION 3 s all over U197 9 Lime Player 12 Song 247 of 423 ACTION pms U197 as soon as she finds his name on the list JOIN JOIN ACTION is 3 all ovr JOIN hey whats up room JOIN PART PART how are you ppl PART JOIN 18 m pm me if u tryin to chat JOIN hey I m drinking apple juice howdy I an fantastical lol I m proud of myself mostly it s water lmao PART hhehe JOIN PART PART oh U122 im mad at you any girl wanna chat JOIN U34 U34 U34 MODE 14 19teens o U34 lets chat lisa seen U819 hey U34 U819 U819 U819 Last seen 2 days 1 hour 12 minutes ago U34 33 JOIN PART JOIN Heyyy 33 PART PART JOIN PART JOIN ACTION sighs was up yall JOIN 19 m fl seen U820 U820 U820 U820 Last seen 1 day 3 hours 8 minutes ago U34 is S3x0r Supreme PART PART JOIN U57 knows where it s at 18 m pm me if u tryin to chat 6 6 185 pounds very fot swim everyday 19 m fl short brwn hair pm me In da butt O ACTION coughs ACTION hands U34 some candy and a pie Hahhaa Bloooooooooooood Bloooooooood Bloooooooooood Dipset Birdgang BAAAAALLLLLLLLIIIIIIINNNNNNNNNNN 18 m pm me if u tryin to chat Hi U156 JOIN any fine gurls in hurr pm me to find me out Hi U34 Were you on one of the nicks i kicked out U34 lol hi U3 JOIN Hi U197 Not that I know of U98 Uh'"
      ]
     },
     "execution_count": 87,
     "metadata": {},
     "output_type": "execute_result"
    }
   ],
   "source": [
    "text5 = book.text5\n",
    "tokenizer=nltk.RegexpTokenizer(r\"\\w+\")\n",
    "\n",
    "tokens=tokenizer.tokenize(\" \".join(text5[:]))\n",
    "text6=tokens\n",
    "\" \".join(tokens)"
   ]
  },
  {
   "cell_type": "markdown",
   "metadata": {},
   "source": [
    "# Zadanie 4\n",
    "Z podanego niżej tekstu wyekstrahuj nazwy użytkowników bez reszty adresów mailowych i wyświetl je na ekranie\n",
    "\n",
    "Możesz na przykład użyć wyrażenia regularnego z identyfikatorem @ na email\n",
    "\n",
    "Oczekiwane wyjście:\n",
    "\n",
    "['s123', 'sstudent', 's123456', 'wykladowca', 'dziekanat']\n"
   ]
  },
  {
   "cell_type": "code",
   "execution_count": 88,
   "metadata": {},
   "outputs": [],
   "source": [
    "import re"
   ]
  },
  {
   "cell_type": "code",
   "execution_count": 89,
   "metadata": {},
   "outputs": [],
   "source": [
    "text_emaile= \"Do zespołu zostali dolączeni nastepujący użytkownicy: s123@pja.edu.pl, sstudent@gmail.com , s123456@pjwstk.edu.pl.Osobą do kontaktu w zespole jest wykladowca@studia.com oraz dziekanat@nigdynieodbieraj.pl. \""
   ]
  },
  {
   "cell_type": "code",
   "execution_count": 90,
   "metadata": {},
   "outputs": [],
   "source": [
    "emails = re.findall(\"[a-zA-Z0-9._%+-]+@[a-zA-Z0-9.-]+\\.[a-zA-Z]{2,}\", text_emaile)"
   ]
  },
  {
   "cell_type": "code",
   "execution_count": 91,
   "metadata": {},
   "outputs": [],
   "source": [
    "names = [email.split(\"@\")[0] for email in emails]"
   ]
  },
  {
   "cell_type": "code",
   "execution_count": 92,
   "metadata": {},
   "outputs": [
    {
     "data": {
      "text/plain": [
       "['s123', 'sstudent', 's123456', 'wykladowca', 'dziekanat']"
      ]
     },
     "execution_count": 92,
     "metadata": {},
     "output_type": "execute_result"
    }
   ],
   "source": [
    "names"
   ]
  },
  {
   "cell_type": "markdown",
   "metadata": {},
   "source": [
    "Czy to mozna nazwać przetwarzaniem tekstu naturalnego / lingwistyką komputerową ?"
   ]
  }
 ],
 "metadata": {
  "colab": {
   "provenance": []
  },
  "kernelspec": {
   "display_name": "PY_INL",
   "language": "python",
   "name": "python3"
  },
  "language_info": {
   "codemirror_mode": {
    "name": "ipython",
    "version": 3
   },
   "file_extension": ".py",
   "mimetype": "text/x-python",
   "name": "python",
   "nbconvert_exporter": "python",
   "pygments_lexer": "ipython3",
   "version": "3.10.16"
  }
 },
 "nbformat": 4,
 "nbformat_minor": 4
}
