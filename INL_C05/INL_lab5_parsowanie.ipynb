{
 "cells": [
  {
   "cell_type": "markdown",
   "metadata": {
    "id": "n7tZYrPhJF32"
   },
   "source": [
    "# <font color='yellow'>Ćwiczenia 6</font>\n",
    "\n",
    "\n",
    "# <font color='green'>Parsowanie NLTK</font>\n",
    "\n",
    "NLTK daje możliwosć zdefiniowana własnej gramatyki i przeprowadzenia analizy budowy zdania. \n",
    "\n",
    "Daje to szerokie możliwości zastosowań, bo gramatyka nie musi dotyczyć tylko standardowych przypadków. Może też opisywać bardziej nietypowe sytuacje. \n",
    "\n",
    "\n"
   ]
  },
  {
   "cell_type": "code",
   "execution_count": 5,
   "metadata": {
    "id": "JFI5uVCiJF32"
   },
   "outputs": [],
   "source": [
    "import nltk\n",
    "from nltk import *"
   ]
  },
  {
   "cell_type": "markdown",
   "metadata": {
    "id": "iJg0-kzUJF32"
   },
   "source": [
    "Poniżej zdefiniowana została gramatyka\n",
    "\n",
    "\n",
    "Czy dotyczy ona parsowania zależnościowego czy składnikowego?\n",
    "\n"
   ]
  },
  {
   "cell_type": "code",
   "execution_count": 6,
   "metadata": {
    "id": "IttGZrODJF32"
   },
   "outputs": [],
   "source": [
    "grammar1 = nltk.CFG.fromstring(\"\"\"\n",
    "S -> NP VP\n",
    "VP -> V NP | V NP PP\n",
    "PP -> P NP\n",
    "V -> \"saw\" | \"ate\" | \"walked\"\n",
    "NP -> \"John\" | \"Mary\" | \"Bob\" | Det N | Det N PP\n",
    "Det -> \"a\" | \"an\" | \"the\" | \"my\"\n",
    "N -> \"man\" | \"dog\" | \"cat\" | \"telescope\" | \"park\"\n",
    "P -> \"in\" | \"on\" | \"by\" | \"with\"\n",
    "\"\"\")"
   ]
  },
  {
   "cell_type": "markdown",
   "metadata": {
    "id": "ZlbgYZdyJF32"
   },
   "source": [
    "Możemy zdefiniować gramatykę w parserze przy jego wywoływaniu "
   ]
  },
  {
   "cell_type": "code",
   "execution_count": 7,
   "metadata": {
    "id": "PFaMDZcpJF32"
   },
   "outputs": [],
   "source": [
    "rd_parser = nltk.RecursiveDescentParser(grammar1)"
   ]
  },
  {
   "cell_type": "markdown",
   "metadata": {
    "id": "JgXZpq6OJF32"
   },
   "source": [
    "Wczytujemy zdanie"
   ]
  },
  {
   "cell_type": "code",
   "execution_count": 8,
   "metadata": {
    "id": "D9B30ku2JF32"
   },
   "outputs": [],
   "source": [
    "sent = \"Mary saw Bob\".split()"
   ]
  },
  {
   "cell_type": "markdown",
   "metadata": {
    "id": "QwNLBxhVJF32"
   },
   "source": [
    "Przeprowadzamy analizę zgodnie ze zdefiniowana gramatyką"
   ]
  },
  {
   "cell_type": "code",
   "execution_count": 9,
   "metadata": {
    "id": "G10mSy5vJF32"
   },
   "outputs": [],
   "source": [
    "def pr(sent):\n",
    "    for tree in rd_parser.parse(sent):\n",
    "        print(tree)"
   ]
  },
  {
   "cell_type": "code",
   "execution_count": 10,
   "metadata": {
    "colab": {
     "base_uri": "https://localhost:8080/"
    },
    "id": "H_WE2bx1JF32",
    "outputId": "2e13b9bb-9b7b-4b24-c2be-1041fc702767"
   },
   "outputs": [
    {
     "name": "stdout",
     "output_type": "stream",
     "text": [
      "(S (NP Mary) (VP (V saw) (NP Bob)))\n"
     ]
    }
   ],
   "source": [
    "pr(sent)"
   ]
  },
  {
   "cell_type": "markdown",
   "metadata": {},
   "source": [
    "Czy otrzymana analiza rzeczywiście jest zgodna ze zdefiniowaną gramatyką ?"
   ]
  },
  {
   "cell_type": "markdown",
   "metadata": {
    "id": "T9lyPMW2JF32"
   },
   "source": [
    "## Zadanie 1\n",
    "Pakiet NLTK zawiera więcej niż jeden parser, wyniki analizy mogą wyglądać inaczej dla każdego z nich pomimo korzystania  z tej samej gramatyki.\n",
    "\n",
    "Przeanalizuj wczytane zdanie wczytując grammar1 do innych parserów, mozesz użyc np\n",
    "\n",
    "RecursiveDescentParser\n",
    "\n",
    "ShiftReduceParser\n",
    "\n",
    "ChartParser\n",
    "\n",
    "Wyświetl i porównaj wyniki analizy dla każdego parsera\n",
    "\n",
    "\n",
    "Z czego wynikają różnice w analizie?"
   ]
  },
  {
   "cell_type": "code",
   "execution_count": 11,
   "metadata": {
    "colab": {
     "base_uri": "https://localhost:8080/"
    },
    "id": "hHkc2RdiJF32",
    "outputId": "2ce7461e-6601-4e4f-f46c-777752eebd17"
   },
   "outputs": [],
   "source": [
    "#kod do zadania 1"
   ]
  },
  {
   "cell_type": "code",
   "execution_count": 15,
   "metadata": {},
   "outputs": [],
   "source": [
    "rd_parser = nltk.RecursiveDescentParser(grammar=grammar1)\n",
    "sr_parser = nltk.ShiftReduceParser(grammar=grammar1)\n",
    "ch_parser = nltk.ChartParser(grammar=grammar1)"
   ]
  },
  {
   "cell_type": "code",
   "execution_count": 20,
   "metadata": {},
   "outputs": [],
   "source": [
    "def parse(sent, parser):\n",
    "    for tree in parser.parse(sent):\n",
    "        print(tree)"
   ]
  },
  {
   "cell_type": "code",
   "execution_count": 21,
   "metadata": {},
   "outputs": [
    {
     "name": "stdout",
     "output_type": "stream",
     "text": [
      "(S (NP Mary) (VP (V saw) (NP Bob)))\n"
     ]
    }
   ],
   "source": [
    "parse(sent, rd_parser)"
   ]
  },
  {
   "cell_type": "code",
   "execution_count": 22,
   "metadata": {},
   "outputs": [
    {
     "name": "stdout",
     "output_type": "stream",
     "text": [
      "(S (NP Mary) (VP (V saw) (NP Bob)))\n"
     ]
    }
   ],
   "source": [
    "parse(sent, sr_parser)"
   ]
  },
  {
   "cell_type": "code",
   "execution_count": 23,
   "metadata": {},
   "outputs": [
    {
     "name": "stdout",
     "output_type": "stream",
     "text": [
      "(S (NP Mary) (VP (V saw) (NP Bob)))\n"
     ]
    }
   ],
   "source": [
    "parse(sent, ch_parser)"
   ]
  },
  {
   "cell_type": "markdown",
   "metadata": {
    "id": "W3QTESoAJF33"
   },
   "source": [
    "## Zadanie 2\n",
    " Przeanalizuj i opisz co robi poniższy kod\n",
    " \n",
    "<font color='orange'>(spróbuj zrobić to zanim go naprawisz :)  </font>\n"
   ]
  },
  {
   "cell_type": "code",
   "execution_count": 25,
   "metadata": {
    "colab": {
     "base_uri": "https://localhost:8080/"
    },
    "id": "ZH92nwobJF37",
    "outputId": "a1c7ecbc-6b88-4154-ba26-761e50b03635"
   },
   "outputs": [
    {
     "name": "stdout",
     "output_type": "stream",
     "text": [
      "(S\n",
      "  (NP Mary)\n",
      "  (VP\n",
      "    (V saw)\n",
      "    (NP (Det my) (N cat) (PP (P in) (NP (Det the) (N park))))))\n",
      "(S\n",
      "  (NP Mary)\n",
      "  (VP\n",
      "    (V saw)\n",
      "    (NP (Det my) (N cat))\n",
      "    (PP (P in) (NP (Det the) (N park)))))\n",
      "--\n",
      "(S\n",
      "  (NP Mary)\n",
      "  (VP\n",
      "    (V saw)\n",
      "    (NP (Det my) (N cat))\n",
      "    (PP (P in) (NP (Det the) (N park)))))\n",
      "(S\n",
      "  (NP Mary)\n",
      "  (VP\n",
      "    (V saw)\n",
      "    (NP (Det my) (N cat) (PP (P in) (NP (Det the) (N park))))))\n"
     ]
    }
   ],
   "source": [
    "#zadanie 2\n",
    "sent1 = \"Mary saw my cat in the park\".split()\n",
    "\n",
    "def pr1(sent, parser):\n",
    "    for tree in parser.parse(sent):\n",
    "        print(tree)\n",
    "\n",
    "pr1(sent1, rd_parser)\n",
    "print(\"--\")\n",
    "pr1(sent1, ch_parser)"
   ]
  },
  {
   "cell_type": "markdown",
   "metadata": {
    "id": "gLCIWRJHjbJS"
   },
   "source": [
    "Zmodyfikuj kod tak aby działał"
   ]
  },
  {
   "cell_type": "markdown",
   "metadata": {
    "id": "7CTRMpe9JF38"
   },
   "source": [
    "## Zadanie 3\n",
    "Wczytajmy teraz polskie zdanie:\n",
    "\n",
    "<font color='pink'>Kolega z Krakowa przyjechał. </font>\n",
    "\n",
    "Przeanalizuj zdanie używając zdefiniowanej poniżej gramatyki"
   ]
  },
  {
   "cell_type": "code",
   "execution_count": 26,
   "metadata": {
    "id": "zeX_2kTvJF38"
   },
   "outputs": [],
   "source": [
    "grammar2 = nltk.CFG.fromstring(\"\"\"\n",
    "S -> NP VP\n",
    "VP -> VP PP | V | PP VP\n",
    "PP -> P NP\n",
    "N -> \"Krakowa\" | \"Kolega\"\n",
    "NP -> N | NP PP | PP NP\n",
    "V -> \"przyjechał\"\n",
    "P -> \"z\"\n",
    "\"\"\")"
   ]
  },
  {
   "cell_type": "code",
   "execution_count": 29,
   "metadata": {
    "colab": {
     "base_uri": "https://localhost:8080/"
    },
    "id": "EF_15uVlJF38",
    "outputId": "c403cc55-380e-474f-8df3-26210e6c7aa6"
   },
   "outputs": [],
   "source": [
    "#kod do zadania 3\n",
    "rd_parser = nltk.RecursiveDescentParser(grammar=grammar2)\n",
    "sr_parser = nltk.ShiftReduceParser(grammar=grammar2)\n",
    "ch_parser = nltk.ChartParser(grammar=grammar2)\n",
    "\n",
    "sent = \"Kolega z Krakowa przyjechał\".split()"
   ]
  },
  {
   "cell_type": "code",
   "execution_count": 30,
   "metadata": {},
   "outputs": [
    {
     "ename": "RecursionError",
     "evalue": "maximum recursion depth exceeded",
     "output_type": "error",
     "traceback": [
      "\u001b[0;31m---------------------------------------------------------------------------\u001b[0m",
      "\u001b[0;31mRecursionError\u001b[0m                            Traceback (most recent call last)",
      "Cell \u001b[0;32mIn[30], line 1\u001b[0m\n\u001b[0;32m----> 1\u001b[0m \u001b[43mparse\u001b[49m\u001b[43m(\u001b[49m\u001b[43msent\u001b[49m\u001b[43m,\u001b[49m\u001b[43m \u001b[49m\u001b[43mrd_parser\u001b[49m\u001b[43m)\u001b[49m\n",
      "Cell \u001b[0;32mIn[20], line 2\u001b[0m, in \u001b[0;36mparse\u001b[0;34m(sent, parser)\u001b[0m\n\u001b[1;32m      1\u001b[0m \u001b[38;5;28;01mdef\u001b[39;00m\u001b[38;5;250m \u001b[39m\u001b[38;5;21mparse\u001b[39m(sent, parser):\n\u001b[0;32m----> 2\u001b[0m     \u001b[38;5;28;01mfor\u001b[39;00m tree \u001b[38;5;129;01min\u001b[39;00m parser\u001b[38;5;241m.\u001b[39mparse(sent):\n\u001b[1;32m      3\u001b[0m         \u001b[38;5;28mprint\u001b[39m(tree)\n",
      "File \u001b[0;32m~/Documents/Repozytoria/INL/.venv/lib/python3.9/site-packages/nltk/parse/recursivedescent.py:126\u001b[0m, in \u001b[0;36mRecursiveDescentParser._parse\u001b[0;34m(self, remaining_text, tree, frontier)\u001b[0m\n\u001b[1;32m    124\u001b[0m \u001b[38;5;66;03m# If the next element on the frontier is a tree, expand it.\u001b[39;00m\n\u001b[1;32m    125\u001b[0m \u001b[38;5;28;01melif\u001b[39;00m \u001b[38;5;28misinstance\u001b[39m(tree[frontier[\u001b[38;5;241m0\u001b[39m]], Tree):\n\u001b[0;32m--> 126\u001b[0m     \u001b[38;5;28;01myield from\u001b[39;00m \u001b[38;5;28mself\u001b[39m\u001b[38;5;241m.\u001b[39m_expand(remaining_text, tree, frontier)\n\u001b[1;32m    128\u001b[0m \u001b[38;5;66;03m# If the next element on the frontier is a token, match it.\u001b[39;00m\n\u001b[1;32m    129\u001b[0m \u001b[38;5;28;01melse\u001b[39;00m:\n\u001b[1;32m    130\u001b[0m     \u001b[38;5;28;01myield from\u001b[39;00m \u001b[38;5;28mself\u001b[39m\u001b[38;5;241m.\u001b[39m_match(remaining_text, tree, frontier)\n",
      "File \u001b[0;32m~/Documents/Repozytoria/INL/.venv/lib/python3.9/site-packages/nltk/parse/recursivedescent.py:225\u001b[0m, in \u001b[0;36mRecursiveDescentParser._expand\u001b[0;34m(self, remaining_text, tree, frontier, production)\u001b[0m\n\u001b[1;32m    223\u001b[0m \u001b[38;5;28;01mif\u001b[39;00m \u001b[38;5;28mself\u001b[39m\u001b[38;5;241m.\u001b[39m_trace:\n\u001b[1;32m    224\u001b[0m     \u001b[38;5;28mself\u001b[39m\u001b[38;5;241m.\u001b[39m_trace_expand(newtree, new_frontier, production)\n\u001b[0;32m--> 225\u001b[0m \u001b[38;5;28;01myield from\u001b[39;00m \u001b[38;5;28mself\u001b[39m\u001b[38;5;241m.\u001b[39m_parse(\n\u001b[1;32m    226\u001b[0m     remaining_text, newtree, new_frontier \u001b[38;5;241m+\u001b[39m frontier[\u001b[38;5;241m1\u001b[39m:]\n\u001b[1;32m    227\u001b[0m )\n",
      "File \u001b[0;32m~/Documents/Repozytoria/INL/.venv/lib/python3.9/site-packages/nltk/parse/recursivedescent.py:126\u001b[0m, in \u001b[0;36mRecursiveDescentParser._parse\u001b[0;34m(self, remaining_text, tree, frontier)\u001b[0m\n\u001b[1;32m    124\u001b[0m \u001b[38;5;66;03m# If the next element on the frontier is a tree, expand it.\u001b[39;00m\n\u001b[1;32m    125\u001b[0m \u001b[38;5;28;01melif\u001b[39;00m \u001b[38;5;28misinstance\u001b[39m(tree[frontier[\u001b[38;5;241m0\u001b[39m]], Tree):\n\u001b[0;32m--> 126\u001b[0m     \u001b[38;5;28;01myield from\u001b[39;00m \u001b[38;5;28mself\u001b[39m\u001b[38;5;241m.\u001b[39m_expand(remaining_text, tree, frontier)\n\u001b[1;32m    128\u001b[0m \u001b[38;5;66;03m# If the next element on the frontier is a token, match it.\u001b[39;00m\n\u001b[1;32m    129\u001b[0m \u001b[38;5;28;01melse\u001b[39;00m:\n\u001b[1;32m    130\u001b[0m     \u001b[38;5;28;01myield from\u001b[39;00m \u001b[38;5;28mself\u001b[39m\u001b[38;5;241m.\u001b[39m_match(remaining_text, tree, frontier)\n",
      "File \u001b[0;32m~/Documents/Repozytoria/INL/.venv/lib/python3.9/site-packages/nltk/parse/recursivedescent.py:225\u001b[0m, in \u001b[0;36mRecursiveDescentParser._expand\u001b[0;34m(self, remaining_text, tree, frontier, production)\u001b[0m\n\u001b[1;32m    223\u001b[0m \u001b[38;5;28;01mif\u001b[39;00m \u001b[38;5;28mself\u001b[39m\u001b[38;5;241m.\u001b[39m_trace:\n\u001b[1;32m    224\u001b[0m     \u001b[38;5;28mself\u001b[39m\u001b[38;5;241m.\u001b[39m_trace_expand(newtree, new_frontier, production)\n\u001b[0;32m--> 225\u001b[0m \u001b[38;5;28;01myield from\u001b[39;00m \u001b[38;5;28mself\u001b[39m\u001b[38;5;241m.\u001b[39m_parse(\n\u001b[1;32m    226\u001b[0m     remaining_text, newtree, new_frontier \u001b[38;5;241m+\u001b[39m frontier[\u001b[38;5;241m1\u001b[39m:]\n\u001b[1;32m    227\u001b[0m )\n",
      "File \u001b[0;32m~/Documents/Repozytoria/INL/.venv/lib/python3.9/site-packages/nltk/parse/recursivedescent.py:126\u001b[0m, in \u001b[0;36mRecursiveDescentParser._parse\u001b[0;34m(self, remaining_text, tree, frontier)\u001b[0m\n\u001b[1;32m    124\u001b[0m \u001b[38;5;66;03m# If the next element on the frontier is a tree, expand it.\u001b[39;00m\n\u001b[1;32m    125\u001b[0m \u001b[38;5;28;01melif\u001b[39;00m \u001b[38;5;28misinstance\u001b[39m(tree[frontier[\u001b[38;5;241m0\u001b[39m]], Tree):\n\u001b[0;32m--> 126\u001b[0m     \u001b[38;5;28;01myield from\u001b[39;00m \u001b[38;5;28mself\u001b[39m\u001b[38;5;241m.\u001b[39m_expand(remaining_text, tree, frontier)\n\u001b[1;32m    128\u001b[0m \u001b[38;5;66;03m# If the next element on the frontier is a token, match it.\u001b[39;00m\n\u001b[1;32m    129\u001b[0m \u001b[38;5;28;01melse\u001b[39;00m:\n\u001b[1;32m    130\u001b[0m     \u001b[38;5;28;01myield from\u001b[39;00m \u001b[38;5;28mself\u001b[39m\u001b[38;5;241m.\u001b[39m_match(remaining_text, tree, frontier)\n",
      "File \u001b[0;32m~/Documents/Repozytoria/INL/.venv/lib/python3.9/site-packages/nltk/parse/recursivedescent.py:225\u001b[0m, in \u001b[0;36mRecursiveDescentParser._expand\u001b[0;34m(self, remaining_text, tree, frontier, production)\u001b[0m\n\u001b[1;32m    223\u001b[0m \u001b[38;5;28;01mif\u001b[39;00m \u001b[38;5;28mself\u001b[39m\u001b[38;5;241m.\u001b[39m_trace:\n\u001b[1;32m    224\u001b[0m     \u001b[38;5;28mself\u001b[39m\u001b[38;5;241m.\u001b[39m_trace_expand(newtree, new_frontier, production)\n\u001b[0;32m--> 225\u001b[0m \u001b[38;5;28;01myield from\u001b[39;00m \u001b[38;5;28mself\u001b[39m\u001b[38;5;241m.\u001b[39m_parse(\n\u001b[1;32m    226\u001b[0m     remaining_text, newtree, new_frontier \u001b[38;5;241m+\u001b[39m frontier[\u001b[38;5;241m1\u001b[39m:]\n\u001b[1;32m    227\u001b[0m )\n",
      "File \u001b[0;32m~/Documents/Repozytoria/INL/.venv/lib/python3.9/site-packages/nltk/parse/recursivedescent.py:130\u001b[0m, in \u001b[0;36mRecursiveDescentParser._parse\u001b[0;34m(self, remaining_text, tree, frontier)\u001b[0m\n\u001b[1;32m    126\u001b[0m     \u001b[38;5;28;01myield from\u001b[39;00m \u001b[38;5;28mself\u001b[39m\u001b[38;5;241m.\u001b[39m_expand(remaining_text, tree, frontier)\n\u001b[1;32m    128\u001b[0m \u001b[38;5;66;03m# If the next element on the frontier is a token, match it.\u001b[39;00m\n\u001b[1;32m    129\u001b[0m \u001b[38;5;28;01melse\u001b[39;00m:\n\u001b[0;32m--> 130\u001b[0m     \u001b[38;5;28;01myield from\u001b[39;00m \u001b[38;5;28mself\u001b[39m\u001b[38;5;241m.\u001b[39m_match(remaining_text, tree, frontier)\n",
      "File \u001b[0;32m~/Documents/Repozytoria/INL/.venv/lib/python3.9/site-packages/nltk/parse/recursivedescent.py:168\u001b[0m, in \u001b[0;36mRecursiveDescentParser._match\u001b[0;34m(self, rtext, tree, frontier)\u001b[0m\n\u001b[1;32m    166\u001b[0m     \u001b[38;5;28;01mif\u001b[39;00m \u001b[38;5;28mself\u001b[39m\u001b[38;5;241m.\u001b[39m_trace:\n\u001b[1;32m    167\u001b[0m         \u001b[38;5;28mself\u001b[39m\u001b[38;5;241m.\u001b[39m_trace_match(newtree, frontier[\u001b[38;5;241m1\u001b[39m:], rtext[\u001b[38;5;241m0\u001b[39m])\n\u001b[0;32m--> 168\u001b[0m     \u001b[38;5;28;01myield from\u001b[39;00m \u001b[38;5;28mself\u001b[39m\u001b[38;5;241m.\u001b[39m_parse(rtext[\u001b[38;5;241m1\u001b[39m:], newtree, frontier[\u001b[38;5;241m1\u001b[39m:])\n\u001b[1;32m    169\u001b[0m \u001b[38;5;28;01melse\u001b[39;00m:\n\u001b[1;32m    170\u001b[0m     \u001b[38;5;66;03m# If it's a non-matching terminal, fail.\u001b[39;00m\n\u001b[1;32m    171\u001b[0m     \u001b[38;5;28;01mif\u001b[39;00m \u001b[38;5;28mself\u001b[39m\u001b[38;5;241m.\u001b[39m_trace:\n",
      "File \u001b[0;32m~/Documents/Repozytoria/INL/.venv/lib/python3.9/site-packages/nltk/parse/recursivedescent.py:126\u001b[0m, in \u001b[0;36mRecursiveDescentParser._parse\u001b[0;34m(self, remaining_text, tree, frontier)\u001b[0m\n\u001b[1;32m    124\u001b[0m \u001b[38;5;66;03m# If the next element on the frontier is a tree, expand it.\u001b[39;00m\n\u001b[1;32m    125\u001b[0m \u001b[38;5;28;01melif\u001b[39;00m \u001b[38;5;28misinstance\u001b[39m(tree[frontier[\u001b[38;5;241m0\u001b[39m]], Tree):\n\u001b[0;32m--> 126\u001b[0m     \u001b[38;5;28;01myield from\u001b[39;00m \u001b[38;5;28mself\u001b[39m\u001b[38;5;241m.\u001b[39m_expand(remaining_text, tree, frontier)\n\u001b[1;32m    128\u001b[0m \u001b[38;5;66;03m# If the next element on the frontier is a token, match it.\u001b[39;00m\n\u001b[1;32m    129\u001b[0m \u001b[38;5;28;01melse\u001b[39;00m:\n\u001b[1;32m    130\u001b[0m     \u001b[38;5;28;01myield from\u001b[39;00m \u001b[38;5;28mself\u001b[39m\u001b[38;5;241m.\u001b[39m_match(remaining_text, tree, frontier)\n",
      "File \u001b[0;32m~/Documents/Repozytoria/INL/.venv/lib/python3.9/site-packages/nltk/parse/recursivedescent.py:225\u001b[0m, in \u001b[0;36mRecursiveDescentParser._expand\u001b[0;34m(self, remaining_text, tree, frontier, production)\u001b[0m\n\u001b[1;32m    223\u001b[0m \u001b[38;5;28;01mif\u001b[39;00m \u001b[38;5;28mself\u001b[39m\u001b[38;5;241m.\u001b[39m_trace:\n\u001b[1;32m    224\u001b[0m     \u001b[38;5;28mself\u001b[39m\u001b[38;5;241m.\u001b[39m_trace_expand(newtree, new_frontier, production)\n\u001b[0;32m--> 225\u001b[0m \u001b[38;5;28;01myield from\u001b[39;00m \u001b[38;5;28mself\u001b[39m\u001b[38;5;241m.\u001b[39m_parse(\n\u001b[1;32m    226\u001b[0m     remaining_text, newtree, new_frontier \u001b[38;5;241m+\u001b[39m frontier[\u001b[38;5;241m1\u001b[39m:]\n\u001b[1;32m    227\u001b[0m )\n",
      "File \u001b[0;32m~/Documents/Repozytoria/INL/.venv/lib/python3.9/site-packages/nltk/parse/recursivedescent.py:126\u001b[0m, in \u001b[0;36mRecursiveDescentParser._parse\u001b[0;34m(self, remaining_text, tree, frontier)\u001b[0m\n\u001b[1;32m    124\u001b[0m \u001b[38;5;66;03m# If the next element on the frontier is a tree, expand it.\u001b[39;00m\n\u001b[1;32m    125\u001b[0m \u001b[38;5;28;01melif\u001b[39;00m \u001b[38;5;28misinstance\u001b[39m(tree[frontier[\u001b[38;5;241m0\u001b[39m]], Tree):\n\u001b[0;32m--> 126\u001b[0m     \u001b[38;5;28;01myield from\u001b[39;00m \u001b[38;5;28mself\u001b[39m\u001b[38;5;241m.\u001b[39m_expand(remaining_text, tree, frontier)\n\u001b[1;32m    128\u001b[0m \u001b[38;5;66;03m# If the next element on the frontier is a token, match it.\u001b[39;00m\n\u001b[1;32m    129\u001b[0m \u001b[38;5;28;01melse\u001b[39;00m:\n\u001b[1;32m    130\u001b[0m     \u001b[38;5;28;01myield from\u001b[39;00m \u001b[38;5;28mself\u001b[39m\u001b[38;5;241m.\u001b[39m_match(remaining_text, tree, frontier)\n",
      "File \u001b[0;32m~/Documents/Repozytoria/INL/.venv/lib/python3.9/site-packages/nltk/parse/recursivedescent.py:225\u001b[0m, in \u001b[0;36mRecursiveDescentParser._expand\u001b[0;34m(self, remaining_text, tree, frontier, production)\u001b[0m\n\u001b[1;32m    223\u001b[0m \u001b[38;5;28;01mif\u001b[39;00m \u001b[38;5;28mself\u001b[39m\u001b[38;5;241m.\u001b[39m_trace:\n\u001b[1;32m    224\u001b[0m     \u001b[38;5;28mself\u001b[39m\u001b[38;5;241m.\u001b[39m_trace_expand(newtree, new_frontier, production)\n\u001b[0;32m--> 225\u001b[0m \u001b[38;5;28;01myield from\u001b[39;00m \u001b[38;5;28mself\u001b[39m\u001b[38;5;241m.\u001b[39m_parse(\n\u001b[1;32m    226\u001b[0m     remaining_text, newtree, new_frontier \u001b[38;5;241m+\u001b[39m frontier[\u001b[38;5;241m1\u001b[39m:]\n\u001b[1;32m    227\u001b[0m )\n",
      "    \u001b[0;31m[... skipping similar frames: RecursiveDescentParser._parse at line 126 (737 times), RecursiveDescentParser._expand at line 225 (736 times)]\u001b[0m\n",
      "File \u001b[0;32m~/Documents/Repozytoria/INL/.venv/lib/python3.9/site-packages/nltk/parse/recursivedescent.py:225\u001b[0m, in \u001b[0;36mRecursiveDescentParser._expand\u001b[0;34m(self, remaining_text, tree, frontier, production)\u001b[0m\n\u001b[1;32m    223\u001b[0m \u001b[38;5;28;01mif\u001b[39;00m \u001b[38;5;28mself\u001b[39m\u001b[38;5;241m.\u001b[39m_trace:\n\u001b[1;32m    224\u001b[0m     \u001b[38;5;28mself\u001b[39m\u001b[38;5;241m.\u001b[39m_trace_expand(newtree, new_frontier, production)\n\u001b[0;32m--> 225\u001b[0m \u001b[38;5;28;01myield from\u001b[39;00m \u001b[38;5;28mself\u001b[39m\u001b[38;5;241m.\u001b[39m_parse(\n\u001b[1;32m    226\u001b[0m     remaining_text, newtree, new_frontier \u001b[38;5;241m+\u001b[39m frontier[\u001b[38;5;241m1\u001b[39m:]\n\u001b[1;32m    227\u001b[0m )\n",
      "File \u001b[0;32m~/Documents/Repozytoria/INL/.venv/lib/python3.9/site-packages/nltk/parse/recursivedescent.py:126\u001b[0m, in \u001b[0;36mRecursiveDescentParser._parse\u001b[0;34m(self, remaining_text, tree, frontier)\u001b[0m\n\u001b[1;32m    124\u001b[0m \u001b[38;5;66;03m# If the next element on the frontier is a tree, expand it.\u001b[39;00m\n\u001b[1;32m    125\u001b[0m \u001b[38;5;28;01melif\u001b[39;00m \u001b[38;5;28misinstance\u001b[39m(tree[frontier[\u001b[38;5;241m0\u001b[39m]], Tree):\n\u001b[0;32m--> 126\u001b[0m     \u001b[38;5;28;01myield from\u001b[39;00m \u001b[38;5;28mself\u001b[39m\u001b[38;5;241m.\u001b[39m_expand(remaining_text, tree, frontier)\n\u001b[1;32m    128\u001b[0m \u001b[38;5;66;03m# If the next element on the frontier is a token, match it.\u001b[39;00m\n\u001b[1;32m    129\u001b[0m \u001b[38;5;28;01melse\u001b[39;00m:\n\u001b[1;32m    130\u001b[0m     \u001b[38;5;28;01myield from\u001b[39;00m \u001b[38;5;28mself\u001b[39m\u001b[38;5;241m.\u001b[39m_match(remaining_text, tree, frontier)\n",
      "File \u001b[0;32m~/Documents/Repozytoria/INL/.venv/lib/python3.9/site-packages/nltk/parse/recursivedescent.py:218\u001b[0m, in \u001b[0;36mRecursiveDescentParser._expand\u001b[0;34m(self, remaining_text, tree, frontier, production)\u001b[0m\n\u001b[1;32m    216\u001b[0m     newtree \u001b[38;5;241m=\u001b[39m subtree\n\u001b[1;32m    217\u001b[0m \u001b[38;5;28;01melse\u001b[39;00m:\n\u001b[0;32m--> 218\u001b[0m     newtree \u001b[38;5;241m=\u001b[39m \u001b[43mtree\u001b[49m\u001b[38;5;241;43m.\u001b[39;49m\u001b[43mcopy\u001b[49m\u001b[43m(\u001b[49m\u001b[43mdeep\u001b[49m\u001b[38;5;241;43m=\u001b[39;49m\u001b[38;5;28;43;01mTrue\u001b[39;49;00m\u001b[43m)\u001b[49m\n\u001b[1;32m    219\u001b[0m     newtree[frontier[\u001b[38;5;241m0\u001b[39m]] \u001b[38;5;241m=\u001b[39m subtree\n\u001b[1;32m    220\u001b[0m new_frontier \u001b[38;5;241m=\u001b[39m [\n\u001b[1;32m    221\u001b[0m     frontier[\u001b[38;5;241m0\u001b[39m] \u001b[38;5;241m+\u001b[39m (i,) \u001b[38;5;28;01mfor\u001b[39;00m i \u001b[38;5;129;01min\u001b[39;00m \u001b[38;5;28mrange\u001b[39m(\u001b[38;5;28mlen\u001b[39m(production\u001b[38;5;241m.\u001b[39mrhs()))\n\u001b[1;32m    222\u001b[0m ]\n",
      "File \u001b[0;32m~/Documents/Repozytoria/INL/.venv/lib/python3.9/site-packages/nltk/tree/tree.py:558\u001b[0m, in \u001b[0;36mTree.copy\u001b[0;34m(self, deep)\u001b[0m\n\u001b[1;32m    556\u001b[0m     \u001b[38;5;28;01mreturn\u001b[39;00m \u001b[38;5;28mtype\u001b[39m(\u001b[38;5;28mself\u001b[39m)(\u001b[38;5;28mself\u001b[39m\u001b[38;5;241m.\u001b[39m_label, \u001b[38;5;28mself\u001b[39m)\n\u001b[1;32m    557\u001b[0m \u001b[38;5;28;01melse\u001b[39;00m:\n\u001b[0;32m--> 558\u001b[0m     \u001b[38;5;28;01mreturn\u001b[39;00m \u001b[38;5;28;43mtype\u001b[39;49m\u001b[43m(\u001b[49m\u001b[38;5;28;43mself\u001b[39;49m\u001b[43m)\u001b[49m\u001b[38;5;241;43m.\u001b[39;49m\u001b[43mconvert\u001b[49m\u001b[43m(\u001b[49m\u001b[38;5;28;43mself\u001b[39;49m\u001b[43m)\u001b[49m\n",
      "File \u001b[0;32m~/Documents/Repozytoria/INL/.venv/lib/python3.9/site-packages/nltk/tree/tree.py:543\u001b[0m, in \u001b[0;36mTree.convert\u001b[0;34m(cls, tree)\u001b[0m\n\u001b[1;32m    534\u001b[0m \u001b[38;5;250m\u001b[39m\u001b[38;5;124;03m\"\"\"\u001b[39;00m\n\u001b[1;32m    535\u001b[0m \u001b[38;5;124;03mConvert a tree between different subtypes of Tree.  ``cls`` determines\u001b[39;00m\n\u001b[1;32m    536\u001b[0m \u001b[38;5;124;03mwhich class will be used to encode the new tree.\u001b[39;00m\n\u001b[0;32m   (...)\u001b[0m\n\u001b[1;32m    540\u001b[0m \u001b[38;5;124;03m:return: The new Tree.\u001b[39;00m\n\u001b[1;32m    541\u001b[0m \u001b[38;5;124;03m\"\"\"\u001b[39;00m\n\u001b[1;32m    542\u001b[0m \u001b[38;5;28;01mif\u001b[39;00m \u001b[38;5;28misinstance\u001b[39m(tree, Tree):\n\u001b[0;32m--> 543\u001b[0m     children \u001b[38;5;241m=\u001b[39m [\u001b[38;5;28mcls\u001b[39m\u001b[38;5;241m.\u001b[39mconvert(child) \u001b[38;5;28;01mfor\u001b[39;00m child \u001b[38;5;129;01min\u001b[39;00m tree]\n\u001b[1;32m    544\u001b[0m     \u001b[38;5;28;01mreturn\u001b[39;00m \u001b[38;5;28mcls\u001b[39m(tree\u001b[38;5;241m.\u001b[39m_label, children)\n\u001b[1;32m    545\u001b[0m \u001b[38;5;28;01melse\u001b[39;00m:\n",
      "File \u001b[0;32m~/Documents/Repozytoria/INL/.venv/lib/python3.9/site-packages/nltk/tree/tree.py:543\u001b[0m, in \u001b[0;36m<listcomp>\u001b[0;34m(.0)\u001b[0m\n\u001b[1;32m    534\u001b[0m \u001b[38;5;250m\u001b[39m\u001b[38;5;124;03m\"\"\"\u001b[39;00m\n\u001b[1;32m    535\u001b[0m \u001b[38;5;124;03mConvert a tree between different subtypes of Tree.  ``cls`` determines\u001b[39;00m\n\u001b[1;32m    536\u001b[0m \u001b[38;5;124;03mwhich class will be used to encode the new tree.\u001b[39;00m\n\u001b[0;32m   (...)\u001b[0m\n\u001b[1;32m    540\u001b[0m \u001b[38;5;124;03m:return: The new Tree.\u001b[39;00m\n\u001b[1;32m    541\u001b[0m \u001b[38;5;124;03m\"\"\"\u001b[39;00m\n\u001b[1;32m    542\u001b[0m \u001b[38;5;28;01mif\u001b[39;00m \u001b[38;5;28misinstance\u001b[39m(tree, Tree):\n\u001b[0;32m--> 543\u001b[0m     children \u001b[38;5;241m=\u001b[39m [\u001b[38;5;28;43mcls\u001b[39;49m\u001b[38;5;241;43m.\u001b[39;49m\u001b[43mconvert\u001b[49m\u001b[43m(\u001b[49m\u001b[43mchild\u001b[49m\u001b[43m)\u001b[49m \u001b[38;5;28;01mfor\u001b[39;00m child \u001b[38;5;129;01min\u001b[39;00m tree]\n\u001b[1;32m    544\u001b[0m     \u001b[38;5;28;01mreturn\u001b[39;00m \u001b[38;5;28mcls\u001b[39m(tree\u001b[38;5;241m.\u001b[39m_label, children)\n\u001b[1;32m    545\u001b[0m \u001b[38;5;28;01melse\u001b[39;00m:\n",
      "File \u001b[0;32m~/Documents/Repozytoria/INL/.venv/lib/python3.9/site-packages/nltk/tree/tree.py:543\u001b[0m, in \u001b[0;36mTree.convert\u001b[0;34m(cls, tree)\u001b[0m\n\u001b[1;32m    534\u001b[0m \u001b[38;5;250m\u001b[39m\u001b[38;5;124;03m\"\"\"\u001b[39;00m\n\u001b[1;32m    535\u001b[0m \u001b[38;5;124;03mConvert a tree between different subtypes of Tree.  ``cls`` determines\u001b[39;00m\n\u001b[1;32m    536\u001b[0m \u001b[38;5;124;03mwhich class will be used to encode the new tree.\u001b[39;00m\n\u001b[0;32m   (...)\u001b[0m\n\u001b[1;32m    540\u001b[0m \u001b[38;5;124;03m:return: The new Tree.\u001b[39;00m\n\u001b[1;32m    541\u001b[0m \u001b[38;5;124;03m\"\"\"\u001b[39;00m\n\u001b[1;32m    542\u001b[0m \u001b[38;5;28;01mif\u001b[39;00m \u001b[38;5;28misinstance\u001b[39m(tree, Tree):\n\u001b[0;32m--> 543\u001b[0m     children \u001b[38;5;241m=\u001b[39m [\u001b[38;5;28mcls\u001b[39m\u001b[38;5;241m.\u001b[39mconvert(child) \u001b[38;5;28;01mfor\u001b[39;00m child \u001b[38;5;129;01min\u001b[39;00m tree]\n\u001b[1;32m    544\u001b[0m     \u001b[38;5;28;01mreturn\u001b[39;00m \u001b[38;5;28mcls\u001b[39m(tree\u001b[38;5;241m.\u001b[39m_label, children)\n\u001b[1;32m    545\u001b[0m \u001b[38;5;28;01melse\u001b[39;00m:\n",
      "File \u001b[0;32m~/Documents/Repozytoria/INL/.venv/lib/python3.9/site-packages/nltk/tree/tree.py:543\u001b[0m, in \u001b[0;36m<listcomp>\u001b[0;34m(.0)\u001b[0m\n\u001b[1;32m    534\u001b[0m \u001b[38;5;250m\u001b[39m\u001b[38;5;124;03m\"\"\"\u001b[39;00m\n\u001b[1;32m    535\u001b[0m \u001b[38;5;124;03mConvert a tree between different subtypes of Tree.  ``cls`` determines\u001b[39;00m\n\u001b[1;32m    536\u001b[0m \u001b[38;5;124;03mwhich class will be used to encode the new tree.\u001b[39;00m\n\u001b[0;32m   (...)\u001b[0m\n\u001b[1;32m    540\u001b[0m \u001b[38;5;124;03m:return: The new Tree.\u001b[39;00m\n\u001b[1;32m    541\u001b[0m \u001b[38;5;124;03m\"\"\"\u001b[39;00m\n\u001b[1;32m    542\u001b[0m \u001b[38;5;28;01mif\u001b[39;00m \u001b[38;5;28misinstance\u001b[39m(tree, Tree):\n\u001b[0;32m--> 543\u001b[0m     children \u001b[38;5;241m=\u001b[39m [\u001b[38;5;28;43mcls\u001b[39;49m\u001b[38;5;241;43m.\u001b[39;49m\u001b[43mconvert\u001b[49m\u001b[43m(\u001b[49m\u001b[43mchild\u001b[49m\u001b[43m)\u001b[49m \u001b[38;5;28;01mfor\u001b[39;00m child \u001b[38;5;129;01min\u001b[39;00m tree]\n\u001b[1;32m    544\u001b[0m     \u001b[38;5;28;01mreturn\u001b[39;00m \u001b[38;5;28mcls\u001b[39m(tree\u001b[38;5;241m.\u001b[39m_label, children)\n\u001b[1;32m    545\u001b[0m \u001b[38;5;28;01melse\u001b[39;00m:\n",
      "    \u001b[0;31m[... skipping similar frames: <listcomp> at line 543 (737 times), Tree.convert at line 543 (737 times)]\u001b[0m\n",
      "File \u001b[0;32m~/Documents/Repozytoria/INL/.venv/lib/python3.9/site-packages/nltk/tree/tree.py:543\u001b[0m, in \u001b[0;36mTree.convert\u001b[0;34m(cls, tree)\u001b[0m\n\u001b[1;32m    534\u001b[0m \u001b[38;5;250m\u001b[39m\u001b[38;5;124;03m\"\"\"\u001b[39;00m\n\u001b[1;32m    535\u001b[0m \u001b[38;5;124;03mConvert a tree between different subtypes of Tree.  ``cls`` determines\u001b[39;00m\n\u001b[1;32m    536\u001b[0m \u001b[38;5;124;03mwhich class will be used to encode the new tree.\u001b[39;00m\n\u001b[0;32m   (...)\u001b[0m\n\u001b[1;32m    540\u001b[0m \u001b[38;5;124;03m:return: The new Tree.\u001b[39;00m\n\u001b[1;32m    541\u001b[0m \u001b[38;5;124;03m\"\"\"\u001b[39;00m\n\u001b[1;32m    542\u001b[0m \u001b[38;5;28;01mif\u001b[39;00m \u001b[38;5;28misinstance\u001b[39m(tree, Tree):\n\u001b[0;32m--> 543\u001b[0m     children \u001b[38;5;241m=\u001b[39m [\u001b[38;5;28mcls\u001b[39m\u001b[38;5;241m.\u001b[39mconvert(child) \u001b[38;5;28;01mfor\u001b[39;00m child \u001b[38;5;129;01min\u001b[39;00m tree]\n\u001b[1;32m    544\u001b[0m     \u001b[38;5;28;01mreturn\u001b[39;00m \u001b[38;5;28mcls\u001b[39m(tree\u001b[38;5;241m.\u001b[39m_label, children)\n\u001b[1;32m    545\u001b[0m \u001b[38;5;28;01melse\u001b[39;00m:\n",
      "File \u001b[0;32m~/Documents/Repozytoria/INL/.venv/lib/python3.9/site-packages/nltk/tree/tree.py:543\u001b[0m, in \u001b[0;36m<listcomp>\u001b[0;34m(.0)\u001b[0m\n\u001b[1;32m    534\u001b[0m \u001b[38;5;250m\u001b[39m\u001b[38;5;124;03m\"\"\"\u001b[39;00m\n\u001b[1;32m    535\u001b[0m \u001b[38;5;124;03mConvert a tree between different subtypes of Tree.  ``cls`` determines\u001b[39;00m\n\u001b[1;32m    536\u001b[0m \u001b[38;5;124;03mwhich class will be used to encode the new tree.\u001b[39;00m\n\u001b[0;32m   (...)\u001b[0m\n\u001b[1;32m    540\u001b[0m \u001b[38;5;124;03m:return: The new Tree.\u001b[39;00m\n\u001b[1;32m    541\u001b[0m \u001b[38;5;124;03m\"\"\"\u001b[39;00m\n\u001b[1;32m    542\u001b[0m \u001b[38;5;28;01mif\u001b[39;00m \u001b[38;5;28misinstance\u001b[39m(tree, Tree):\n\u001b[0;32m--> 543\u001b[0m     children \u001b[38;5;241m=\u001b[39m [\u001b[38;5;28;43mcls\u001b[39;49m\u001b[38;5;241;43m.\u001b[39;49m\u001b[43mconvert\u001b[49m\u001b[43m(\u001b[49m\u001b[43mchild\u001b[49m\u001b[43m)\u001b[49m \u001b[38;5;28;01mfor\u001b[39;00m child \u001b[38;5;129;01min\u001b[39;00m tree]\n\u001b[1;32m    544\u001b[0m     \u001b[38;5;28;01mreturn\u001b[39;00m \u001b[38;5;28mcls\u001b[39m(tree\u001b[38;5;241m.\u001b[39m_label, children)\n\u001b[1;32m    545\u001b[0m \u001b[38;5;28;01melse\u001b[39;00m:\n",
      "File \u001b[0;32m~/Documents/Repozytoria/INL/.venv/lib/python3.9/site-packages/nltk/tree/tree.py:544\u001b[0m, in \u001b[0;36mTree.convert\u001b[0;34m(cls, tree)\u001b[0m\n\u001b[1;32m    542\u001b[0m \u001b[38;5;28;01mif\u001b[39;00m \u001b[38;5;28misinstance\u001b[39m(tree, Tree):\n\u001b[1;32m    543\u001b[0m     children \u001b[38;5;241m=\u001b[39m [\u001b[38;5;28mcls\u001b[39m\u001b[38;5;241m.\u001b[39mconvert(child) \u001b[38;5;28;01mfor\u001b[39;00m child \u001b[38;5;129;01min\u001b[39;00m tree]\n\u001b[0;32m--> 544\u001b[0m     \u001b[38;5;28;01mreturn\u001b[39;00m \u001b[38;5;28;43mcls\u001b[39;49m\u001b[43m(\u001b[49m\u001b[43mtree\u001b[49m\u001b[38;5;241;43m.\u001b[39;49m\u001b[43m_label\u001b[49m\u001b[43m,\u001b[49m\u001b[43m \u001b[49m\u001b[43mchildren\u001b[49m\u001b[43m)\u001b[49m\n\u001b[1;32m    545\u001b[0m \u001b[38;5;28;01melse\u001b[39;00m:\n\u001b[1;32m    546\u001b[0m     \u001b[38;5;28;01mreturn\u001b[39;00m tree\n",
      "\u001b[0;31mRecursionError\u001b[0m: maximum recursion depth exceeded"
     ]
    }
   ],
   "source": [
    "parse(sent, rd_parser)"
   ]
  },
  {
   "cell_type": "code",
   "execution_count": 31,
   "metadata": {},
   "outputs": [
    {
     "name": "stdout",
     "output_type": "stream",
     "text": [
      "(S\n",
      "  (NP (NP (N Kolega)) (PP (P z) (NP (N Krakowa))))\n",
      "  (VP (V przyjechał)))\n"
     ]
    }
   ],
   "source": [
    "parse(sent, sr_parser)"
   ]
  },
  {
   "cell_type": "code",
   "execution_count": 32,
   "metadata": {},
   "outputs": [
    {
     "name": "stdout",
     "output_type": "stream",
     "text": [
      "(S\n",
      "  (NP (NP (N Kolega)) (PP (P z) (NP (N Krakowa))))\n",
      "  (VP (V przyjechał)))\n",
      "(S\n",
      "  (NP (N Kolega))\n",
      "  (VP (PP (P z) (NP (N Krakowa))) (VP (V przyjechał))))\n"
     ]
    }
   ],
   "source": [
    "parse(sent, ch_parser)"
   ]
  },
  {
   "cell_type": "markdown",
   "metadata": {},
   "source": [
    "## Zadanie 4\n",
    "\n",
    "Narysuj drzewo składnikowe tego zdania. \n",
    "\n",
    "Porównaj wyniki analizy z dowolnym polskim parserem ( koniecznie składnikowym nie zależnościowym)"
   ]
  },
  {
   "cell_type": "code",
   "execution_count": null,
   "metadata": {
    "colab": {
     "base_uri": "https://localhost:8080/"
    },
    "id": "6PmaBk9TJF38",
    "outputId": "e1520606-befd-409d-87b9-35fa4f9ad85d"
   },
   "outputs": [],
   "source": [
    "#kod do zadania 4"
   ]
  },
  {
   "cell_type": "markdown",
   "metadata": {
    "id": "eRpqlDbAJF38"
   },
   "source": [
    "Czy zdanie po polsku zostało przeanalizowane poprawnie?"
   ]
  },
  {
   "cell_type": "markdown",
   "metadata": {
    "id": "nbPUvx_VJF38"
   },
   "source": [
    "## Zadanie 5\n",
    "Spróbuj rozszerzyć definicję gramatyki grammar2 tak by była w stanie przeanalizowac zdanie: #blue\n",
    "\n",
    "\n",
    "<font color='pink'>Tomka kolega z Krakowa przyjechał wczoraj. </font>\n"
   ]
  },
  {
   "cell_type": "code",
   "execution_count": 33,
   "metadata": {
    "colab": {
     "base_uri": "https://localhost:8080/"
    },
    "id": "nKPVGQWNJF38",
    "outputId": "4371bcc7-b770-41b2-997c-4919ac9f406c"
   },
   "outputs": [],
   "source": [
    "# kod do zadania 5\n",
    "grammar3 = nltk.CFG.fromstring(\"\"\"\n",
    "S -> NP VP\n",
    "VP -> VP NP | V\n",
    "PP -> P NP\n",
    "N -> \"Kolega\" | \"Krakowa\" | \"Tomka\" | \"wczoraj\" | \"kolega\"\n",
    "NP -> N | NP NP | NP PP\n",
    "V -> \"przyjechał\"\n",
    "P -> \"z\"\n",
    "\"\"\")"
   ]
  },
  {
   "cell_type": "code",
   "execution_count": 34,
   "metadata": {},
   "outputs": [],
   "source": [
    "sent = \"Tomka kolega z Krakowa przyjechał wczoraj\".split()\n",
    "\n",
    "rd_parser = nltk.RecursiveDescentParser(grammar3)\n",
    "sr_parser = nltk.ShiftReduceParser(grammar3)\n",
    "ch_parser = nltk.ChartParser(grammar3)"
   ]
  },
  {
   "cell_type": "code",
   "execution_count": 36,
   "metadata": {},
   "outputs": [
    {
     "ename": "RecursionError",
     "evalue": "maximum recursion depth exceeded",
     "output_type": "error",
     "traceback": [
      "\u001b[0;31m---------------------------------------------------------------------------\u001b[0m",
      "\u001b[0;31mRecursionError\u001b[0m                            Traceback (most recent call last)",
      "Cell \u001b[0;32mIn[36], line 1\u001b[0m\n\u001b[0;32m----> 1\u001b[0m \u001b[43mparse\u001b[49m\u001b[43m(\u001b[49m\u001b[43msent\u001b[49m\u001b[43m,\u001b[49m\u001b[43m \u001b[49m\u001b[43mrd_parser\u001b[49m\u001b[43m)\u001b[49m\n",
      "Cell \u001b[0;32mIn[20], line 2\u001b[0m, in \u001b[0;36mparse\u001b[0;34m(sent, parser)\u001b[0m\n\u001b[1;32m      1\u001b[0m \u001b[38;5;28;01mdef\u001b[39;00m\u001b[38;5;250m \u001b[39m\u001b[38;5;21mparse\u001b[39m(sent, parser):\n\u001b[0;32m----> 2\u001b[0m     \u001b[38;5;28;01mfor\u001b[39;00m tree \u001b[38;5;129;01min\u001b[39;00m parser\u001b[38;5;241m.\u001b[39mparse(sent):\n\u001b[1;32m      3\u001b[0m         \u001b[38;5;28mprint\u001b[39m(tree)\n",
      "File \u001b[0;32m~/Documents/Repozytoria/INL/.venv/lib/python3.9/site-packages/nltk/parse/recursivedescent.py:126\u001b[0m, in \u001b[0;36mRecursiveDescentParser._parse\u001b[0;34m(self, remaining_text, tree, frontier)\u001b[0m\n\u001b[1;32m    124\u001b[0m \u001b[38;5;66;03m# If the next element on the frontier is a tree, expand it.\u001b[39;00m\n\u001b[1;32m    125\u001b[0m \u001b[38;5;28;01melif\u001b[39;00m \u001b[38;5;28misinstance\u001b[39m(tree[frontier[\u001b[38;5;241m0\u001b[39m]], Tree):\n\u001b[0;32m--> 126\u001b[0m     \u001b[38;5;28;01myield from\u001b[39;00m \u001b[38;5;28mself\u001b[39m\u001b[38;5;241m.\u001b[39m_expand(remaining_text, tree, frontier)\n\u001b[1;32m    128\u001b[0m \u001b[38;5;66;03m# If the next element on the frontier is a token, match it.\u001b[39;00m\n\u001b[1;32m    129\u001b[0m \u001b[38;5;28;01melse\u001b[39;00m:\n\u001b[1;32m    130\u001b[0m     \u001b[38;5;28;01myield from\u001b[39;00m \u001b[38;5;28mself\u001b[39m\u001b[38;5;241m.\u001b[39m_match(remaining_text, tree, frontier)\n",
      "File \u001b[0;32m~/Documents/Repozytoria/INL/.venv/lib/python3.9/site-packages/nltk/parse/recursivedescent.py:225\u001b[0m, in \u001b[0;36mRecursiveDescentParser._expand\u001b[0;34m(self, remaining_text, tree, frontier, production)\u001b[0m\n\u001b[1;32m    223\u001b[0m \u001b[38;5;28;01mif\u001b[39;00m \u001b[38;5;28mself\u001b[39m\u001b[38;5;241m.\u001b[39m_trace:\n\u001b[1;32m    224\u001b[0m     \u001b[38;5;28mself\u001b[39m\u001b[38;5;241m.\u001b[39m_trace_expand(newtree, new_frontier, production)\n\u001b[0;32m--> 225\u001b[0m \u001b[38;5;28;01myield from\u001b[39;00m \u001b[38;5;28mself\u001b[39m\u001b[38;5;241m.\u001b[39m_parse(\n\u001b[1;32m    226\u001b[0m     remaining_text, newtree, new_frontier \u001b[38;5;241m+\u001b[39m frontier[\u001b[38;5;241m1\u001b[39m:]\n\u001b[1;32m    227\u001b[0m )\n",
      "File \u001b[0;32m~/Documents/Repozytoria/INL/.venv/lib/python3.9/site-packages/nltk/parse/recursivedescent.py:126\u001b[0m, in \u001b[0;36mRecursiveDescentParser._parse\u001b[0;34m(self, remaining_text, tree, frontier)\u001b[0m\n\u001b[1;32m    124\u001b[0m \u001b[38;5;66;03m# If the next element on the frontier is a tree, expand it.\u001b[39;00m\n\u001b[1;32m    125\u001b[0m \u001b[38;5;28;01melif\u001b[39;00m \u001b[38;5;28misinstance\u001b[39m(tree[frontier[\u001b[38;5;241m0\u001b[39m]], Tree):\n\u001b[0;32m--> 126\u001b[0m     \u001b[38;5;28;01myield from\u001b[39;00m \u001b[38;5;28mself\u001b[39m\u001b[38;5;241m.\u001b[39m_expand(remaining_text, tree, frontier)\n\u001b[1;32m    128\u001b[0m \u001b[38;5;66;03m# If the next element on the frontier is a token, match it.\u001b[39;00m\n\u001b[1;32m    129\u001b[0m \u001b[38;5;28;01melse\u001b[39;00m:\n\u001b[1;32m    130\u001b[0m     \u001b[38;5;28;01myield from\u001b[39;00m \u001b[38;5;28mself\u001b[39m\u001b[38;5;241m.\u001b[39m_match(remaining_text, tree, frontier)\n",
      "File \u001b[0;32m~/Documents/Repozytoria/INL/.venv/lib/python3.9/site-packages/nltk/parse/recursivedescent.py:225\u001b[0m, in \u001b[0;36mRecursiveDescentParser._expand\u001b[0;34m(self, remaining_text, tree, frontier, production)\u001b[0m\n\u001b[1;32m    223\u001b[0m \u001b[38;5;28;01mif\u001b[39;00m \u001b[38;5;28mself\u001b[39m\u001b[38;5;241m.\u001b[39m_trace:\n\u001b[1;32m    224\u001b[0m     \u001b[38;5;28mself\u001b[39m\u001b[38;5;241m.\u001b[39m_trace_expand(newtree, new_frontier, production)\n\u001b[0;32m--> 225\u001b[0m \u001b[38;5;28;01myield from\u001b[39;00m \u001b[38;5;28mself\u001b[39m\u001b[38;5;241m.\u001b[39m_parse(\n\u001b[1;32m    226\u001b[0m     remaining_text, newtree, new_frontier \u001b[38;5;241m+\u001b[39m frontier[\u001b[38;5;241m1\u001b[39m:]\n\u001b[1;32m    227\u001b[0m )\n",
      "File \u001b[0;32m~/Documents/Repozytoria/INL/.venv/lib/python3.9/site-packages/nltk/parse/recursivedescent.py:126\u001b[0m, in \u001b[0;36mRecursiveDescentParser._parse\u001b[0;34m(self, remaining_text, tree, frontier)\u001b[0m\n\u001b[1;32m    124\u001b[0m \u001b[38;5;66;03m# If the next element on the frontier is a tree, expand it.\u001b[39;00m\n\u001b[1;32m    125\u001b[0m \u001b[38;5;28;01melif\u001b[39;00m \u001b[38;5;28misinstance\u001b[39m(tree[frontier[\u001b[38;5;241m0\u001b[39m]], Tree):\n\u001b[0;32m--> 126\u001b[0m     \u001b[38;5;28;01myield from\u001b[39;00m \u001b[38;5;28mself\u001b[39m\u001b[38;5;241m.\u001b[39m_expand(remaining_text, tree, frontier)\n\u001b[1;32m    128\u001b[0m \u001b[38;5;66;03m# If the next element on the frontier is a token, match it.\u001b[39;00m\n\u001b[1;32m    129\u001b[0m \u001b[38;5;28;01melse\u001b[39;00m:\n\u001b[1;32m    130\u001b[0m     \u001b[38;5;28;01myield from\u001b[39;00m \u001b[38;5;28mself\u001b[39m\u001b[38;5;241m.\u001b[39m_match(remaining_text, tree, frontier)\n",
      "File \u001b[0;32m~/Documents/Repozytoria/INL/.venv/lib/python3.9/site-packages/nltk/parse/recursivedescent.py:225\u001b[0m, in \u001b[0;36mRecursiveDescentParser._expand\u001b[0;34m(self, remaining_text, tree, frontier, production)\u001b[0m\n\u001b[1;32m    223\u001b[0m \u001b[38;5;28;01mif\u001b[39;00m \u001b[38;5;28mself\u001b[39m\u001b[38;5;241m.\u001b[39m_trace:\n\u001b[1;32m    224\u001b[0m     \u001b[38;5;28mself\u001b[39m\u001b[38;5;241m.\u001b[39m_trace_expand(newtree, new_frontier, production)\n\u001b[0;32m--> 225\u001b[0m \u001b[38;5;28;01myield from\u001b[39;00m \u001b[38;5;28mself\u001b[39m\u001b[38;5;241m.\u001b[39m_parse(\n\u001b[1;32m    226\u001b[0m     remaining_text, newtree, new_frontier \u001b[38;5;241m+\u001b[39m frontier[\u001b[38;5;241m1\u001b[39m:]\n\u001b[1;32m    227\u001b[0m )\n",
      "File \u001b[0;32m~/Documents/Repozytoria/INL/.venv/lib/python3.9/site-packages/nltk/parse/recursivedescent.py:130\u001b[0m, in \u001b[0;36mRecursiveDescentParser._parse\u001b[0;34m(self, remaining_text, tree, frontier)\u001b[0m\n\u001b[1;32m    126\u001b[0m     \u001b[38;5;28;01myield from\u001b[39;00m \u001b[38;5;28mself\u001b[39m\u001b[38;5;241m.\u001b[39m_expand(remaining_text, tree, frontier)\n\u001b[1;32m    128\u001b[0m \u001b[38;5;66;03m# If the next element on the frontier is a token, match it.\u001b[39;00m\n\u001b[1;32m    129\u001b[0m \u001b[38;5;28;01melse\u001b[39;00m:\n\u001b[0;32m--> 130\u001b[0m     \u001b[38;5;28;01myield from\u001b[39;00m \u001b[38;5;28mself\u001b[39m\u001b[38;5;241m.\u001b[39m_match(remaining_text, tree, frontier)\n",
      "File \u001b[0;32m~/Documents/Repozytoria/INL/.venv/lib/python3.9/site-packages/nltk/parse/recursivedescent.py:168\u001b[0m, in \u001b[0;36mRecursiveDescentParser._match\u001b[0;34m(self, rtext, tree, frontier)\u001b[0m\n\u001b[1;32m    166\u001b[0m     \u001b[38;5;28;01mif\u001b[39;00m \u001b[38;5;28mself\u001b[39m\u001b[38;5;241m.\u001b[39m_trace:\n\u001b[1;32m    167\u001b[0m         \u001b[38;5;28mself\u001b[39m\u001b[38;5;241m.\u001b[39m_trace_match(newtree, frontier[\u001b[38;5;241m1\u001b[39m:], rtext[\u001b[38;5;241m0\u001b[39m])\n\u001b[0;32m--> 168\u001b[0m     \u001b[38;5;28;01myield from\u001b[39;00m \u001b[38;5;28mself\u001b[39m\u001b[38;5;241m.\u001b[39m_parse(rtext[\u001b[38;5;241m1\u001b[39m:], newtree, frontier[\u001b[38;5;241m1\u001b[39m:])\n\u001b[1;32m    169\u001b[0m \u001b[38;5;28;01melse\u001b[39;00m:\n\u001b[1;32m    170\u001b[0m     \u001b[38;5;66;03m# If it's a non-matching terminal, fail.\u001b[39;00m\n\u001b[1;32m    171\u001b[0m     \u001b[38;5;28;01mif\u001b[39;00m \u001b[38;5;28mself\u001b[39m\u001b[38;5;241m.\u001b[39m_trace:\n",
      "File \u001b[0;32m~/Documents/Repozytoria/INL/.venv/lib/python3.9/site-packages/nltk/parse/recursivedescent.py:126\u001b[0m, in \u001b[0;36mRecursiveDescentParser._parse\u001b[0;34m(self, remaining_text, tree, frontier)\u001b[0m\n\u001b[1;32m    124\u001b[0m \u001b[38;5;66;03m# If the next element on the frontier is a tree, expand it.\u001b[39;00m\n\u001b[1;32m    125\u001b[0m \u001b[38;5;28;01melif\u001b[39;00m \u001b[38;5;28misinstance\u001b[39m(tree[frontier[\u001b[38;5;241m0\u001b[39m]], Tree):\n\u001b[0;32m--> 126\u001b[0m     \u001b[38;5;28;01myield from\u001b[39;00m \u001b[38;5;28mself\u001b[39m\u001b[38;5;241m.\u001b[39m_expand(remaining_text, tree, frontier)\n\u001b[1;32m    128\u001b[0m \u001b[38;5;66;03m# If the next element on the frontier is a token, match it.\u001b[39;00m\n\u001b[1;32m    129\u001b[0m \u001b[38;5;28;01melse\u001b[39;00m:\n\u001b[1;32m    130\u001b[0m     \u001b[38;5;28;01myield from\u001b[39;00m \u001b[38;5;28mself\u001b[39m\u001b[38;5;241m.\u001b[39m_match(remaining_text, tree, frontier)\n",
      "File \u001b[0;32m~/Documents/Repozytoria/INL/.venv/lib/python3.9/site-packages/nltk/parse/recursivedescent.py:225\u001b[0m, in \u001b[0;36mRecursiveDescentParser._expand\u001b[0;34m(self, remaining_text, tree, frontier, production)\u001b[0m\n\u001b[1;32m    223\u001b[0m \u001b[38;5;28;01mif\u001b[39;00m \u001b[38;5;28mself\u001b[39m\u001b[38;5;241m.\u001b[39m_trace:\n\u001b[1;32m    224\u001b[0m     \u001b[38;5;28mself\u001b[39m\u001b[38;5;241m.\u001b[39m_trace_expand(newtree, new_frontier, production)\n\u001b[0;32m--> 225\u001b[0m \u001b[38;5;28;01myield from\u001b[39;00m \u001b[38;5;28mself\u001b[39m\u001b[38;5;241m.\u001b[39m_parse(\n\u001b[1;32m    226\u001b[0m     remaining_text, newtree, new_frontier \u001b[38;5;241m+\u001b[39m frontier[\u001b[38;5;241m1\u001b[39m:]\n\u001b[1;32m    227\u001b[0m )\n",
      "File \u001b[0;32m~/Documents/Repozytoria/INL/.venv/lib/python3.9/site-packages/nltk/parse/recursivedescent.py:126\u001b[0m, in \u001b[0;36mRecursiveDescentParser._parse\u001b[0;34m(self, remaining_text, tree, frontier)\u001b[0m\n\u001b[1;32m    124\u001b[0m \u001b[38;5;66;03m# If the next element on the frontier is a tree, expand it.\u001b[39;00m\n\u001b[1;32m    125\u001b[0m \u001b[38;5;28;01melif\u001b[39;00m \u001b[38;5;28misinstance\u001b[39m(tree[frontier[\u001b[38;5;241m0\u001b[39m]], Tree):\n\u001b[0;32m--> 126\u001b[0m     \u001b[38;5;28;01myield from\u001b[39;00m \u001b[38;5;28mself\u001b[39m\u001b[38;5;241m.\u001b[39m_expand(remaining_text, tree, frontier)\n\u001b[1;32m    128\u001b[0m \u001b[38;5;66;03m# If the next element on the frontier is a token, match it.\u001b[39;00m\n\u001b[1;32m    129\u001b[0m \u001b[38;5;28;01melse\u001b[39;00m:\n\u001b[1;32m    130\u001b[0m     \u001b[38;5;28;01myield from\u001b[39;00m \u001b[38;5;28mself\u001b[39m\u001b[38;5;241m.\u001b[39m_match(remaining_text, tree, frontier)\n",
      "File \u001b[0;32m~/Documents/Repozytoria/INL/.venv/lib/python3.9/site-packages/nltk/parse/recursivedescent.py:225\u001b[0m, in \u001b[0;36mRecursiveDescentParser._expand\u001b[0;34m(self, remaining_text, tree, frontier, production)\u001b[0m\n\u001b[1;32m    223\u001b[0m \u001b[38;5;28;01mif\u001b[39;00m \u001b[38;5;28mself\u001b[39m\u001b[38;5;241m.\u001b[39m_trace:\n\u001b[1;32m    224\u001b[0m     \u001b[38;5;28mself\u001b[39m\u001b[38;5;241m.\u001b[39m_trace_expand(newtree, new_frontier, production)\n\u001b[0;32m--> 225\u001b[0m \u001b[38;5;28;01myield from\u001b[39;00m \u001b[38;5;28mself\u001b[39m\u001b[38;5;241m.\u001b[39m_parse(\n\u001b[1;32m    226\u001b[0m     remaining_text, newtree, new_frontier \u001b[38;5;241m+\u001b[39m frontier[\u001b[38;5;241m1\u001b[39m:]\n\u001b[1;32m    227\u001b[0m )\n",
      "    \u001b[0;31m[... skipping similar frames: RecursiveDescentParser._parse at line 126 (737 times), RecursiveDescentParser._expand at line 225 (736 times)]\u001b[0m\n",
      "File \u001b[0;32m~/Documents/Repozytoria/INL/.venv/lib/python3.9/site-packages/nltk/parse/recursivedescent.py:225\u001b[0m, in \u001b[0;36mRecursiveDescentParser._expand\u001b[0;34m(self, remaining_text, tree, frontier, production)\u001b[0m\n\u001b[1;32m    223\u001b[0m \u001b[38;5;28;01mif\u001b[39;00m \u001b[38;5;28mself\u001b[39m\u001b[38;5;241m.\u001b[39m_trace:\n\u001b[1;32m    224\u001b[0m     \u001b[38;5;28mself\u001b[39m\u001b[38;5;241m.\u001b[39m_trace_expand(newtree, new_frontier, production)\n\u001b[0;32m--> 225\u001b[0m \u001b[38;5;28;01myield from\u001b[39;00m \u001b[38;5;28mself\u001b[39m\u001b[38;5;241m.\u001b[39m_parse(\n\u001b[1;32m    226\u001b[0m     remaining_text, newtree, new_frontier \u001b[38;5;241m+\u001b[39m frontier[\u001b[38;5;241m1\u001b[39m:]\n\u001b[1;32m    227\u001b[0m )\n",
      "File \u001b[0;32m~/Documents/Repozytoria/INL/.venv/lib/python3.9/site-packages/nltk/parse/recursivedescent.py:126\u001b[0m, in \u001b[0;36mRecursiveDescentParser._parse\u001b[0;34m(self, remaining_text, tree, frontier)\u001b[0m\n\u001b[1;32m    124\u001b[0m \u001b[38;5;66;03m# If the next element on the frontier is a tree, expand it.\u001b[39;00m\n\u001b[1;32m    125\u001b[0m \u001b[38;5;28;01melif\u001b[39;00m \u001b[38;5;28misinstance\u001b[39m(tree[frontier[\u001b[38;5;241m0\u001b[39m]], Tree):\n\u001b[0;32m--> 126\u001b[0m     \u001b[38;5;28;01myield from\u001b[39;00m \u001b[38;5;28mself\u001b[39m\u001b[38;5;241m.\u001b[39m_expand(remaining_text, tree, frontier)\n\u001b[1;32m    128\u001b[0m \u001b[38;5;66;03m# If the next element on the frontier is a token, match it.\u001b[39;00m\n\u001b[1;32m    129\u001b[0m \u001b[38;5;28;01melse\u001b[39;00m:\n\u001b[1;32m    130\u001b[0m     \u001b[38;5;28;01myield from\u001b[39;00m \u001b[38;5;28mself\u001b[39m\u001b[38;5;241m.\u001b[39m_match(remaining_text, tree, frontier)\n",
      "File \u001b[0;32m~/Documents/Repozytoria/INL/.venv/lib/python3.9/site-packages/nltk/parse/recursivedescent.py:218\u001b[0m, in \u001b[0;36mRecursiveDescentParser._expand\u001b[0;34m(self, remaining_text, tree, frontier, production)\u001b[0m\n\u001b[1;32m    216\u001b[0m     newtree \u001b[38;5;241m=\u001b[39m subtree\n\u001b[1;32m    217\u001b[0m \u001b[38;5;28;01melse\u001b[39;00m:\n\u001b[0;32m--> 218\u001b[0m     newtree \u001b[38;5;241m=\u001b[39m \u001b[43mtree\u001b[49m\u001b[38;5;241;43m.\u001b[39;49m\u001b[43mcopy\u001b[49m\u001b[43m(\u001b[49m\u001b[43mdeep\u001b[49m\u001b[38;5;241;43m=\u001b[39;49m\u001b[38;5;28;43;01mTrue\u001b[39;49;00m\u001b[43m)\u001b[49m\n\u001b[1;32m    219\u001b[0m     newtree[frontier[\u001b[38;5;241m0\u001b[39m]] \u001b[38;5;241m=\u001b[39m subtree\n\u001b[1;32m    220\u001b[0m new_frontier \u001b[38;5;241m=\u001b[39m [\n\u001b[1;32m    221\u001b[0m     frontier[\u001b[38;5;241m0\u001b[39m] \u001b[38;5;241m+\u001b[39m (i,) \u001b[38;5;28;01mfor\u001b[39;00m i \u001b[38;5;129;01min\u001b[39;00m \u001b[38;5;28mrange\u001b[39m(\u001b[38;5;28mlen\u001b[39m(production\u001b[38;5;241m.\u001b[39mrhs()))\n\u001b[1;32m    222\u001b[0m ]\n",
      "File \u001b[0;32m~/Documents/Repozytoria/INL/.venv/lib/python3.9/site-packages/nltk/tree/tree.py:558\u001b[0m, in \u001b[0;36mTree.copy\u001b[0;34m(self, deep)\u001b[0m\n\u001b[1;32m    556\u001b[0m     \u001b[38;5;28;01mreturn\u001b[39;00m \u001b[38;5;28mtype\u001b[39m(\u001b[38;5;28mself\u001b[39m)(\u001b[38;5;28mself\u001b[39m\u001b[38;5;241m.\u001b[39m_label, \u001b[38;5;28mself\u001b[39m)\n\u001b[1;32m    557\u001b[0m \u001b[38;5;28;01melse\u001b[39;00m:\n\u001b[0;32m--> 558\u001b[0m     \u001b[38;5;28;01mreturn\u001b[39;00m \u001b[38;5;28;43mtype\u001b[39;49m\u001b[43m(\u001b[49m\u001b[38;5;28;43mself\u001b[39;49m\u001b[43m)\u001b[49m\u001b[38;5;241;43m.\u001b[39;49m\u001b[43mconvert\u001b[49m\u001b[43m(\u001b[49m\u001b[38;5;28;43mself\u001b[39;49m\u001b[43m)\u001b[49m\n",
      "File \u001b[0;32m~/Documents/Repozytoria/INL/.venv/lib/python3.9/site-packages/nltk/tree/tree.py:543\u001b[0m, in \u001b[0;36mTree.convert\u001b[0;34m(cls, tree)\u001b[0m\n\u001b[1;32m    534\u001b[0m \u001b[38;5;250m\u001b[39m\u001b[38;5;124;03m\"\"\"\u001b[39;00m\n\u001b[1;32m    535\u001b[0m \u001b[38;5;124;03mConvert a tree between different subtypes of Tree.  ``cls`` determines\u001b[39;00m\n\u001b[1;32m    536\u001b[0m \u001b[38;5;124;03mwhich class will be used to encode the new tree.\u001b[39;00m\n\u001b[0;32m   (...)\u001b[0m\n\u001b[1;32m    540\u001b[0m \u001b[38;5;124;03m:return: The new Tree.\u001b[39;00m\n\u001b[1;32m    541\u001b[0m \u001b[38;5;124;03m\"\"\"\u001b[39;00m\n\u001b[1;32m    542\u001b[0m \u001b[38;5;28;01mif\u001b[39;00m \u001b[38;5;28misinstance\u001b[39m(tree, Tree):\n\u001b[0;32m--> 543\u001b[0m     children \u001b[38;5;241m=\u001b[39m [\u001b[38;5;28mcls\u001b[39m\u001b[38;5;241m.\u001b[39mconvert(child) \u001b[38;5;28;01mfor\u001b[39;00m child \u001b[38;5;129;01min\u001b[39;00m tree]\n\u001b[1;32m    544\u001b[0m     \u001b[38;5;28;01mreturn\u001b[39;00m \u001b[38;5;28mcls\u001b[39m(tree\u001b[38;5;241m.\u001b[39m_label, children)\n\u001b[1;32m    545\u001b[0m \u001b[38;5;28;01melse\u001b[39;00m:\n",
      "File \u001b[0;32m~/Documents/Repozytoria/INL/.venv/lib/python3.9/site-packages/nltk/tree/tree.py:543\u001b[0m, in \u001b[0;36m<listcomp>\u001b[0;34m(.0)\u001b[0m\n\u001b[1;32m    534\u001b[0m \u001b[38;5;250m\u001b[39m\u001b[38;5;124;03m\"\"\"\u001b[39;00m\n\u001b[1;32m    535\u001b[0m \u001b[38;5;124;03mConvert a tree between different subtypes of Tree.  ``cls`` determines\u001b[39;00m\n\u001b[1;32m    536\u001b[0m \u001b[38;5;124;03mwhich class will be used to encode the new tree.\u001b[39;00m\n\u001b[0;32m   (...)\u001b[0m\n\u001b[1;32m    540\u001b[0m \u001b[38;5;124;03m:return: The new Tree.\u001b[39;00m\n\u001b[1;32m    541\u001b[0m \u001b[38;5;124;03m\"\"\"\u001b[39;00m\n\u001b[1;32m    542\u001b[0m \u001b[38;5;28;01mif\u001b[39;00m \u001b[38;5;28misinstance\u001b[39m(tree, Tree):\n\u001b[0;32m--> 543\u001b[0m     children \u001b[38;5;241m=\u001b[39m [\u001b[38;5;28;43mcls\u001b[39;49m\u001b[38;5;241;43m.\u001b[39;49m\u001b[43mconvert\u001b[49m\u001b[43m(\u001b[49m\u001b[43mchild\u001b[49m\u001b[43m)\u001b[49m \u001b[38;5;28;01mfor\u001b[39;00m child \u001b[38;5;129;01min\u001b[39;00m tree]\n\u001b[1;32m    544\u001b[0m     \u001b[38;5;28;01mreturn\u001b[39;00m \u001b[38;5;28mcls\u001b[39m(tree\u001b[38;5;241m.\u001b[39m_label, children)\n\u001b[1;32m    545\u001b[0m \u001b[38;5;28;01melse\u001b[39;00m:\n",
      "File \u001b[0;32m~/Documents/Repozytoria/INL/.venv/lib/python3.9/site-packages/nltk/tree/tree.py:543\u001b[0m, in \u001b[0;36mTree.convert\u001b[0;34m(cls, tree)\u001b[0m\n\u001b[1;32m    534\u001b[0m \u001b[38;5;250m\u001b[39m\u001b[38;5;124;03m\"\"\"\u001b[39;00m\n\u001b[1;32m    535\u001b[0m \u001b[38;5;124;03mConvert a tree between different subtypes of Tree.  ``cls`` determines\u001b[39;00m\n\u001b[1;32m    536\u001b[0m \u001b[38;5;124;03mwhich class will be used to encode the new tree.\u001b[39;00m\n\u001b[0;32m   (...)\u001b[0m\n\u001b[1;32m    540\u001b[0m \u001b[38;5;124;03m:return: The new Tree.\u001b[39;00m\n\u001b[1;32m    541\u001b[0m \u001b[38;5;124;03m\"\"\"\u001b[39;00m\n\u001b[1;32m    542\u001b[0m \u001b[38;5;28;01mif\u001b[39;00m \u001b[38;5;28misinstance\u001b[39m(tree, Tree):\n\u001b[0;32m--> 543\u001b[0m     children \u001b[38;5;241m=\u001b[39m [\u001b[38;5;28mcls\u001b[39m\u001b[38;5;241m.\u001b[39mconvert(child) \u001b[38;5;28;01mfor\u001b[39;00m child \u001b[38;5;129;01min\u001b[39;00m tree]\n\u001b[1;32m    544\u001b[0m     \u001b[38;5;28;01mreturn\u001b[39;00m \u001b[38;5;28mcls\u001b[39m(tree\u001b[38;5;241m.\u001b[39m_label, children)\n\u001b[1;32m    545\u001b[0m \u001b[38;5;28;01melse\u001b[39;00m:\n",
      "File \u001b[0;32m~/Documents/Repozytoria/INL/.venv/lib/python3.9/site-packages/nltk/tree/tree.py:543\u001b[0m, in \u001b[0;36m<listcomp>\u001b[0;34m(.0)\u001b[0m\n\u001b[1;32m    534\u001b[0m \u001b[38;5;250m\u001b[39m\u001b[38;5;124;03m\"\"\"\u001b[39;00m\n\u001b[1;32m    535\u001b[0m \u001b[38;5;124;03mConvert a tree between different subtypes of Tree.  ``cls`` determines\u001b[39;00m\n\u001b[1;32m    536\u001b[0m \u001b[38;5;124;03mwhich class will be used to encode the new tree.\u001b[39;00m\n\u001b[0;32m   (...)\u001b[0m\n\u001b[1;32m    540\u001b[0m \u001b[38;5;124;03m:return: The new Tree.\u001b[39;00m\n\u001b[1;32m    541\u001b[0m \u001b[38;5;124;03m\"\"\"\u001b[39;00m\n\u001b[1;32m    542\u001b[0m \u001b[38;5;28;01mif\u001b[39;00m \u001b[38;5;28misinstance\u001b[39m(tree, Tree):\n\u001b[0;32m--> 543\u001b[0m     children \u001b[38;5;241m=\u001b[39m [\u001b[38;5;28;43mcls\u001b[39;49m\u001b[38;5;241;43m.\u001b[39;49m\u001b[43mconvert\u001b[49m\u001b[43m(\u001b[49m\u001b[43mchild\u001b[49m\u001b[43m)\u001b[49m \u001b[38;5;28;01mfor\u001b[39;00m child \u001b[38;5;129;01min\u001b[39;00m tree]\n\u001b[1;32m    544\u001b[0m     \u001b[38;5;28;01mreturn\u001b[39;00m \u001b[38;5;28mcls\u001b[39m(tree\u001b[38;5;241m.\u001b[39m_label, children)\n\u001b[1;32m    545\u001b[0m \u001b[38;5;28;01melse\u001b[39;00m:\n",
      "    \u001b[0;31m[... skipping similar frames: <listcomp> at line 543 (737 times), Tree.convert at line 543 (737 times)]\u001b[0m\n",
      "File \u001b[0;32m~/Documents/Repozytoria/INL/.venv/lib/python3.9/site-packages/nltk/tree/tree.py:543\u001b[0m, in \u001b[0;36mTree.convert\u001b[0;34m(cls, tree)\u001b[0m\n\u001b[1;32m    534\u001b[0m \u001b[38;5;250m\u001b[39m\u001b[38;5;124;03m\"\"\"\u001b[39;00m\n\u001b[1;32m    535\u001b[0m \u001b[38;5;124;03mConvert a tree between different subtypes of Tree.  ``cls`` determines\u001b[39;00m\n\u001b[1;32m    536\u001b[0m \u001b[38;5;124;03mwhich class will be used to encode the new tree.\u001b[39;00m\n\u001b[0;32m   (...)\u001b[0m\n\u001b[1;32m    540\u001b[0m \u001b[38;5;124;03m:return: The new Tree.\u001b[39;00m\n\u001b[1;32m    541\u001b[0m \u001b[38;5;124;03m\"\"\"\u001b[39;00m\n\u001b[1;32m    542\u001b[0m \u001b[38;5;28;01mif\u001b[39;00m \u001b[38;5;28misinstance\u001b[39m(tree, Tree):\n\u001b[0;32m--> 543\u001b[0m     children \u001b[38;5;241m=\u001b[39m [\u001b[38;5;28mcls\u001b[39m\u001b[38;5;241m.\u001b[39mconvert(child) \u001b[38;5;28;01mfor\u001b[39;00m child \u001b[38;5;129;01min\u001b[39;00m tree]\n\u001b[1;32m    544\u001b[0m     \u001b[38;5;28;01mreturn\u001b[39;00m \u001b[38;5;28mcls\u001b[39m(tree\u001b[38;5;241m.\u001b[39m_label, children)\n\u001b[1;32m    545\u001b[0m \u001b[38;5;28;01melse\u001b[39;00m:\n",
      "File \u001b[0;32m~/Documents/Repozytoria/INL/.venv/lib/python3.9/site-packages/nltk/tree/tree.py:543\u001b[0m, in \u001b[0;36m<listcomp>\u001b[0;34m(.0)\u001b[0m\n\u001b[1;32m    534\u001b[0m \u001b[38;5;250m\u001b[39m\u001b[38;5;124;03m\"\"\"\u001b[39;00m\n\u001b[1;32m    535\u001b[0m \u001b[38;5;124;03mConvert a tree between different subtypes of Tree.  ``cls`` determines\u001b[39;00m\n\u001b[1;32m    536\u001b[0m \u001b[38;5;124;03mwhich class will be used to encode the new tree.\u001b[39;00m\n\u001b[0;32m   (...)\u001b[0m\n\u001b[1;32m    540\u001b[0m \u001b[38;5;124;03m:return: The new Tree.\u001b[39;00m\n\u001b[1;32m    541\u001b[0m \u001b[38;5;124;03m\"\"\"\u001b[39;00m\n\u001b[1;32m    542\u001b[0m \u001b[38;5;28;01mif\u001b[39;00m \u001b[38;5;28misinstance\u001b[39m(tree, Tree):\n\u001b[0;32m--> 543\u001b[0m     children \u001b[38;5;241m=\u001b[39m [\u001b[38;5;28;43mcls\u001b[39;49m\u001b[38;5;241;43m.\u001b[39;49m\u001b[43mconvert\u001b[49m\u001b[43m(\u001b[49m\u001b[43mchild\u001b[49m\u001b[43m)\u001b[49m \u001b[38;5;28;01mfor\u001b[39;00m child \u001b[38;5;129;01min\u001b[39;00m tree]\n\u001b[1;32m    544\u001b[0m     \u001b[38;5;28;01mreturn\u001b[39;00m \u001b[38;5;28mcls\u001b[39m(tree\u001b[38;5;241m.\u001b[39m_label, children)\n\u001b[1;32m    545\u001b[0m \u001b[38;5;28;01melse\u001b[39;00m:\n",
      "File \u001b[0;32m~/Documents/Repozytoria/INL/.venv/lib/python3.9/site-packages/nltk/tree/tree.py:544\u001b[0m, in \u001b[0;36mTree.convert\u001b[0;34m(cls, tree)\u001b[0m\n\u001b[1;32m    542\u001b[0m \u001b[38;5;28;01mif\u001b[39;00m \u001b[38;5;28misinstance\u001b[39m(tree, Tree):\n\u001b[1;32m    543\u001b[0m     children \u001b[38;5;241m=\u001b[39m [\u001b[38;5;28mcls\u001b[39m\u001b[38;5;241m.\u001b[39mconvert(child) \u001b[38;5;28;01mfor\u001b[39;00m child \u001b[38;5;129;01min\u001b[39;00m tree]\n\u001b[0;32m--> 544\u001b[0m     \u001b[38;5;28;01mreturn\u001b[39;00m \u001b[38;5;28;43mcls\u001b[39;49m\u001b[43m(\u001b[49m\u001b[43mtree\u001b[49m\u001b[38;5;241;43m.\u001b[39;49m\u001b[43m_label\u001b[49m\u001b[43m,\u001b[49m\u001b[43m \u001b[49m\u001b[43mchildren\u001b[49m\u001b[43m)\u001b[49m\n\u001b[1;32m    545\u001b[0m \u001b[38;5;28;01melse\u001b[39;00m:\n\u001b[1;32m    546\u001b[0m     \u001b[38;5;28;01mreturn\u001b[39;00m tree\n",
      "\u001b[0;31mRecursionError\u001b[0m: maximum recursion depth exceeded"
     ]
    }
   ],
   "source": [
    "parse(sent, rd_parser)"
   ]
  },
  {
   "cell_type": "code",
   "execution_count": 37,
   "metadata": {},
   "outputs": [],
   "source": [
    "parse(sent, sr_parser)"
   ]
  },
  {
   "cell_type": "code",
   "execution_count": 38,
   "metadata": {},
   "outputs": [
    {
     "name": "stdout",
     "output_type": "stream",
     "text": [
      "(S\n",
      "  (NP\n",
      "    (NP (NP (N Tomka)) (NP (N kolega)))\n",
      "    (PP (P z) (NP (N Krakowa))))\n",
      "  (VP (VP (V przyjechał)) (NP (N wczoraj))))\n",
      "(S\n",
      "  (NP\n",
      "    (NP (N Tomka))\n",
      "    (NP (NP (N kolega)) (PP (P z) (NP (N Krakowa)))))\n",
      "  (VP (VP (V przyjechał)) (NP (N wczoraj))))\n"
     ]
    }
   ],
   "source": [
    "parse(sent, ch_parser)"
   ]
  },
  {
   "cell_type": "markdown",
   "metadata": {
    "id": "TYOsP_tfJF38"
   },
   "source": [
    "## Zadanie dodatkowe\n",
    "### <font color='red'>Bonusowy punkt </font>\n",
    "Uwzględnij w gramatyce przypadek rzeczownika"
   ]
  },
  {
   "cell_type": "code",
   "execution_count": 39,
   "metadata": {
    "colab": {
     "base_uri": "https://localhost:8080/"
    },
    "id": "_4uhATgWJF38",
    "outputId": "1d074402-f3fe-4af2-cc52-af3a60ba6b41"
   },
   "outputs": [],
   "source": [
    "#zadanie dodatkowe\n",
    "\n",
    "grammar4 = nltk.CFG.fromstring(\"\"\"\n",
    "S -> NP_NOM VP\n",
    "VP -> VP NP_ACC | V\n",
    "PP -> P NP_LOC\n",
    "NP_NOM -> N_NOM | NP_NOM NP_GEN | NP_NOM PP\n",
    "NP_ACC -> N_ACC | NP_ACC NP_GEN | NP_ACC PP\n",
    "NP_LOC -> N_LOC | NP_LOC NP_GEN | NP_LOC PP\n",
    "NP_GEN -> N_GEN\n",
    "N_NOM -> \"Kolega\" | \"Krakowa\" | \"Tomek\" | \"wczoraj\"\n",
    "N_ACC -> \"kolegę\" | \"Kraków\" | \"Tomka\" | \"wczoraj\"\n",
    "N_LOC -> \"Krakowie\" | \"Tomku\"\n",
    "N_GEN -> \"Tomka\" | \"Krakowa\"\n",
    "V -> \"przyjechał\"\n",
    "P -> \"z\"\n",
    "\"\"\")"
   ]
  },
  {
   "cell_type": "code",
   "execution_count": 40,
   "metadata": {},
   "outputs": [],
   "source": [
    "def print_tree(sent):\n",
    "  sent = sent.split()\n",
    "\n",
    "  rd_parser = nltk.RecursiveDescentParser(grammar3)\n",
    "  sr_parser = nltk.ShiftReduceParser(grammar3)\n",
    "  ch_parser = nltk.ChartParser(grammar3)\n",
    "\n",
    "  # parse(sent, rd_parser)\n",
    "  # print(\"--\")\n",
    "  parse(sent, sr_parser)\n",
    "  print(\"--\")\n",
    "  parse(sent, ch_parser)"
   ]
  },
  {
   "cell_type": "code",
   "execution_count": 41,
   "metadata": {},
   "outputs": [
    {
     "name": "stdout",
     "output_type": "stream",
     "text": [
      "(S (NP (N Kolega)) (VP (V przyjechał)))\n",
      "--\n",
      "(S (NP (N Kolega)) (VP (V przyjechał)))\n"
     ]
    }
   ],
   "source": [
    "print_tree(\"Kolega przyjechał\")"
   ]
  },
  {
   "cell_type": "code",
   "execution_count": 43,
   "metadata": {},
   "outputs": [
    {
     "name": "stdout",
     "output_type": "stream",
     "text": [
      "(S\n",
      "  (NP (NP (N Kolega)) (PP (P z) (NP (N Krakowa))))\n",
      "  (VP (V przyjechał)))\n",
      "--\n",
      "(S\n",
      "  (NP (NP (N Kolega)) (PP (P z) (NP (N Krakowa))))\n",
      "  (VP (V przyjechał)))\n"
     ]
    }
   ],
   "source": [
    "print_tree(\"Kolega z Krakowa przyjechał\")"
   ]
  },
  {
   "cell_type": "code",
   "execution_count": 42,
   "metadata": {},
   "outputs": [
    {
     "name": "stdout",
     "output_type": "stream",
     "text": [
      "--\n",
      "(S\n",
      "  (NP (NP (N Kolega)) (NP (N Tomka)))\n",
      "  (VP (VP (V przyjechał)) (NP (N wczoraj))))\n"
     ]
    }
   ],
   "source": [
    "print_tree(\"Kolega Tomka przyjechał wczoraj\")"
   ]
  }
 ],
 "metadata": {
  "colab": {
   "provenance": [],
   "toc_visible": true
  },
  "kernelspec": {
   "display_name": ".venv",
   "language": "python",
   "name": "python3"
  },
  "language_info": {
   "codemirror_mode": {
    "name": "ipython",
    "version": 3
   },
   "file_extension": ".py",
   "mimetype": "text/x-python",
   "name": "python",
   "nbconvert_exporter": "python",
   "pygments_lexer": "ipython3",
   "version": "3.9.21"
  },
  "nteract": {
   "version": "nteract-front-end@1.0.0"
  }
 },
 "nbformat": 4,
 "nbformat_minor": 0
}
